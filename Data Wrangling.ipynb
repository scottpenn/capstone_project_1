{
 "cells": [
  {
   "cell_type": "code",
   "execution_count": 1,
   "metadata": {},
   "outputs": [],
   "source": [
    "import glob\n",
    "import numpy as np\n",
    "import pandas as pd\n",
    "import matplotlib.pyplot as plt"
   ]
  },
  {
   "cell_type": "code",
   "execution_count": 2,
   "metadata": {},
   "outputs": [
    {
     "name": "stdout",
     "output_type": "stream",
     "text": [
      "<class 'pandas.core.frame.DataFrame'>\n",
      "Int64Index: 54405 entries, 100001 to 209370\n",
      "Data columns (total 5 columns):\n",
      "name_first    54228 non-null object\n",
      "name_last     54363 non-null object\n",
      "hand          48627 non-null object\n",
      "birthdate     43153 non-null datetime64[ns]\n",
      "country       54405 non-null object\n",
      "dtypes: datetime64[ns](1), object(4)\n",
      "memory usage: 2.5+ MB\n"
     ]
    },
    {
     "data": {
      "text/html": [
       "<div>\n",
       "<style scoped>\n",
       "    .dataframe tbody tr th:only-of-type {\n",
       "        vertical-align: middle;\n",
       "    }\n",
       "\n",
       "    .dataframe tbody tr th {\n",
       "        vertical-align: top;\n",
       "    }\n",
       "\n",
       "    .dataframe thead th {\n",
       "        text-align: right;\n",
       "    }\n",
       "</style>\n",
       "<table border=\"1\" class=\"dataframe\">\n",
       "  <thead>\n",
       "    <tr style=\"text-align: right;\">\n",
       "      <th></th>\n",
       "      <th>name_first</th>\n",
       "      <th>name_last</th>\n",
       "      <th>hand</th>\n",
       "      <th>birthdate</th>\n",
       "      <th>country</th>\n",
       "    </tr>\n",
       "    <tr>\n",
       "      <th>player_id</th>\n",
       "      <th></th>\n",
       "      <th></th>\n",
       "      <th></th>\n",
       "      <th></th>\n",
       "      <th></th>\n",
       "    </tr>\n",
       "  </thead>\n",
       "  <tbody>\n",
       "    <tr>\n",
       "      <th>100001</th>\n",
       "      <td>Gardnar</td>\n",
       "      <td>Mulloy</td>\n",
       "      <td>R</td>\n",
       "      <td>1913-11-22</td>\n",
       "      <td>USA</td>\n",
       "    </tr>\n",
       "    <tr>\n",
       "      <th>100002</th>\n",
       "      <td>Pancho</td>\n",
       "      <td>Segura</td>\n",
       "      <td>R</td>\n",
       "      <td>1921-06-20</td>\n",
       "      <td>ECU</td>\n",
       "    </tr>\n",
       "    <tr>\n",
       "      <th>100003</th>\n",
       "      <td>Frank</td>\n",
       "      <td>Sedgman</td>\n",
       "      <td>R</td>\n",
       "      <td>1927-10-02</td>\n",
       "      <td>AUS</td>\n",
       "    </tr>\n",
       "    <tr>\n",
       "      <th>100004</th>\n",
       "      <td>Giuseppe</td>\n",
       "      <td>Merlo</td>\n",
       "      <td>R</td>\n",
       "      <td>1927-10-11</td>\n",
       "      <td>ITA</td>\n",
       "    </tr>\n",
       "    <tr>\n",
       "      <th>100005</th>\n",
       "      <td>Richard Pancho</td>\n",
       "      <td>Gonzales</td>\n",
       "      <td>R</td>\n",
       "      <td>1928-05-09</td>\n",
       "      <td>USA</td>\n",
       "    </tr>\n",
       "  </tbody>\n",
       "</table>\n",
       "</div>"
      ],
      "text/plain": [
       "               name_first name_last hand  birthdate country\n",
       "player_id                                                  \n",
       "100001            Gardnar    Mulloy    R 1913-11-22     USA\n",
       "100002             Pancho    Segura    R 1921-06-20     ECU\n",
       "100003              Frank   Sedgman    R 1927-10-02     AUS\n",
       "100004           Giuseppe     Merlo    R 1927-10-11     ITA\n",
       "100005     Richard Pancho  Gonzales    R 1928-05-09     USA"
      ]
     },
     "execution_count": 2,
     "metadata": {},
     "output_type": "execute_result"
    }
   ],
   "source": [
    "players = pd.read_csv('Resources/tennis_atp-master/atp_players.csv', header=None,\n",
    "                      names=['player_id', 'name_first', 'name_last', 'hand', 'birthdate', 'country'],\n",
    "                      index_col='player_id')\n",
    "players['birthdate'] = pd.to_datetime(players.birthdate, format='%Y%m%d', errors='coerce')\n",
    "players.info()\n",
    "players.head()"
   ]
  },
  {
   "cell_type": "code",
   "execution_count": 3,
   "metadata": {},
   "outputs": [],
   "source": [
    "players.hand.fillna('U', inplace=True)\n",
    "players.hand = players.hand.astype('category')"
   ]
  },
  {
   "cell_type": "code",
   "execution_count": 4,
   "metadata": {},
   "outputs": [],
   "source": [
    "players.country = players.country.astype('category')"
   ]
  },
  {
   "cell_type": "code",
   "execution_count": 5,
   "metadata": {},
   "outputs": [
    {
     "name": "stdout",
     "output_type": "stream",
     "text": [
      "<class 'pandas.core.frame.DataFrame'>\n",
      "Int64Index: 54405 entries, 100001 to 209370\n",
      "Data columns (total 5 columns):\n",
      "name_first    54228 non-null object\n",
      "name_last     54363 non-null object\n",
      "hand          54405 non-null category\n",
      "birthdate     43153 non-null datetime64[ns]\n",
      "country       54405 non-null category\n",
      "dtypes: category(2), datetime64[ns](1), object(2)\n",
      "memory usage: 1.8+ MB\n"
     ]
    },
    {
     "data": {
      "text/html": [
       "<div>\n",
       "<style scoped>\n",
       "    .dataframe tbody tr th:only-of-type {\n",
       "        vertical-align: middle;\n",
       "    }\n",
       "\n",
       "    .dataframe tbody tr th {\n",
       "        vertical-align: top;\n",
       "    }\n",
       "\n",
       "    .dataframe thead th {\n",
       "        text-align: right;\n",
       "    }\n",
       "</style>\n",
       "<table border=\"1\" class=\"dataframe\">\n",
       "  <thead>\n",
       "    <tr style=\"text-align: right;\">\n",
       "      <th></th>\n",
       "      <th>name_first</th>\n",
       "      <th>name_last</th>\n",
       "      <th>hand</th>\n",
       "      <th>birthdate</th>\n",
       "      <th>country</th>\n",
       "    </tr>\n",
       "    <tr>\n",
       "      <th>player_id</th>\n",
       "      <th></th>\n",
       "      <th></th>\n",
       "      <th></th>\n",
       "      <th></th>\n",
       "      <th></th>\n",
       "    </tr>\n",
       "  </thead>\n",
       "  <tbody>\n",
       "    <tr>\n",
       "      <th>100001</th>\n",
       "      <td>Gardnar</td>\n",
       "      <td>Mulloy</td>\n",
       "      <td>R</td>\n",
       "      <td>1913-11-22</td>\n",
       "      <td>USA</td>\n",
       "    </tr>\n",
       "    <tr>\n",
       "      <th>100002</th>\n",
       "      <td>Pancho</td>\n",
       "      <td>Segura</td>\n",
       "      <td>R</td>\n",
       "      <td>1921-06-20</td>\n",
       "      <td>ECU</td>\n",
       "    </tr>\n",
       "    <tr>\n",
       "      <th>100003</th>\n",
       "      <td>Frank</td>\n",
       "      <td>Sedgman</td>\n",
       "      <td>R</td>\n",
       "      <td>1927-10-02</td>\n",
       "      <td>AUS</td>\n",
       "    </tr>\n",
       "    <tr>\n",
       "      <th>100004</th>\n",
       "      <td>Giuseppe</td>\n",
       "      <td>Merlo</td>\n",
       "      <td>R</td>\n",
       "      <td>1927-10-11</td>\n",
       "      <td>ITA</td>\n",
       "    </tr>\n",
       "    <tr>\n",
       "      <th>100005</th>\n",
       "      <td>Richard Pancho</td>\n",
       "      <td>Gonzales</td>\n",
       "      <td>R</td>\n",
       "      <td>1928-05-09</td>\n",
       "      <td>USA</td>\n",
       "    </tr>\n",
       "  </tbody>\n",
       "</table>\n",
       "</div>"
      ],
      "text/plain": [
       "               name_first name_last hand  birthdate country\n",
       "player_id                                                  \n",
       "100001            Gardnar    Mulloy    R 1913-11-22     USA\n",
       "100002             Pancho    Segura    R 1921-06-20     ECU\n",
       "100003              Frank   Sedgman    R 1927-10-02     AUS\n",
       "100004           Giuseppe     Merlo    R 1927-10-11     ITA\n",
       "100005     Richard Pancho  Gonzales    R 1928-05-09     USA"
      ]
     },
     "execution_count": 5,
     "metadata": {},
     "output_type": "execute_result"
    }
   ],
   "source": [
    "players.info()\n",
    "players.head()"
   ]
  },
  {
   "cell_type": "code",
   "execution_count": 6,
   "metadata": {},
   "outputs": [
    {
     "data": {
      "text/plain": [
       "Text(0.5, 1.0, 'Top 10 countries by count of professional tennis players')"
      ]
     },
     "execution_count": 6,
     "metadata": {},
     "output_type": "execute_result"
    },
    {
     "data": {
      "image/png": "[encoded data removed]",
      "text/plain": [
       "<Figure size 432x288 with 1 Axes>"
      ]
     },
     "metadata": {
      "needs_background": "light"
     },
     "output_type": "display_data"
    }
   ],
   "source": [
    "players.country.value_counts().head(10).plot(kind='bar')\n",
    "plt.title('Top 10 countries by count of professional tennis players')"
   ]
  },
  {
   "cell_type": "code",
   "execution_count": 7,
   "metadata": {},
   "outputs": [
    {
     "data": {
      "text/plain": [
       "1657"
      ]
     },
     "execution_count": 7,
     "metadata": {},
     "output_type": "execute_result"
    }
   ],
   "source": [
    "players[players.birthdate < '1950'].birthdate.count()"
   ]
  },
  {
   "cell_type": "code",
   "execution_count": 8,
   "metadata": {
    "scrolled": true
   },
   "outputs": [
    {
     "data": {
      "text/plain": [
       "Text(0.5, 1.0, 'Top 10 countries by count of professional tennis players born after 1990')"
      ]
     },
     "execution_count": 8,
     "metadata": {},
     "output_type": "execute_result"
    },
    {
     "data": {
      "image/png": "[encoded data removed]",
      "text/plain": [
       "<Figure size 432x288 with 1 Axes>"
      ]
     },
     "metadata": {
      "needs_background": "light"
     },
     "output_type": "display_data"
    }
   ],
   "source": [
    "players[players.birthdate > '1990'].country.value_counts().head(10).plot(kind='bar')\n",
    "plt.title('Top 10 countries by count of professional tennis players born after 1990')"
   ]
  },
  {
   "cell_type": "code",
   "execution_count": 9,
   "metadata": {},
   "outputs": [],
   "source": [
    "players.to_csv('Resources/tennis_clean/atp_players.csv')"
   ]
  },
  {
   "cell_type": "code",
   "execution_count": 10,
   "metadata": {},
   "outputs": [],
   "source": [
    "ranking_files = glob.glob('Resources/tennis_atp-master/atp_rankings_[0-9]*')"
   ]
  },
  {
   "cell_type": "code",
   "execution_count": 11,
   "metadata": {},
   "outputs": [],
   "source": [
    "rankings_list = [pd.read_csv(ranking_file, parse_dates=['ranking_date']) for ranking_file in ranking_files]\n",
    "rankings_current = pd.read_csv('Resources/tennis_atp-master/atp_rankings_current.csv',\n",
    "                               names=['ranking_date', 'rank', 'player', 'points'], parse_dates=['ranking_date'])\n",
    "rankings_list.append(rankings_current)"
   ]
  },
  {
   "cell_type": "code",
   "execution_count": 12,
   "metadata": {
    "scrolled": false
   },
   "outputs": [
    {
     "name": "stdout",
     "output_type": "stream",
     "text": [
      "<class 'pandas.core.frame.DataFrame'>\n",
      "Int64Index: 2829498 entries, 101736 to 122609\n",
      "Data columns (total 3 columns):\n",
      "ranking_date    datetime64[ns]\n",
      "player_rank     int64\n",
      "points          float64\n",
      "dtypes: datetime64[ns](1), float64(1), int64(1)\n",
      "memory usage: 86.3 MB\n"
     ]
    },
    {
     "data": {
      "text/html": [
       "<div>\n",
       "<style scoped>\n",
       "    .dataframe tbody tr th:only-of-type {\n",
       "        vertical-align: middle;\n",
       "    }\n",
       "\n",
       "    .dataframe tbody tr th {\n",
       "        vertical-align: top;\n",
       "    }\n",
       "\n",
       "    .dataframe thead th {\n",
       "        text-align: right;\n",
       "    }\n",
       "</style>\n",
       "<table border=\"1\" class=\"dataframe\">\n",
       "  <thead>\n",
       "    <tr style=\"text-align: right;\">\n",
       "      <th></th>\n",
       "      <th>ranking_date</th>\n",
       "      <th>player_rank</th>\n",
       "      <th>points</th>\n",
       "    </tr>\n",
       "    <tr>\n",
       "      <th>player_id</th>\n",
       "      <th></th>\n",
       "      <th></th>\n",
       "      <th></th>\n",
       "    </tr>\n",
       "  </thead>\n",
       "  <tbody>\n",
       "    <tr>\n",
       "      <th>101736</th>\n",
       "      <td>2000-01-10</td>\n",
       "      <td>1</td>\n",
       "      <td>4135.0</td>\n",
       "    </tr>\n",
       "    <tr>\n",
       "      <th>102338</th>\n",
       "      <td>2000-01-10</td>\n",
       "      <td>2</td>\n",
       "      <td>2915.0</td>\n",
       "    </tr>\n",
       "    <tr>\n",
       "      <th>101948</th>\n",
       "      <td>2000-01-10</td>\n",
       "      <td>3</td>\n",
       "      <td>2419.0</td>\n",
       "    </tr>\n",
       "    <tr>\n",
       "      <th>103017</th>\n",
       "      <td>2000-01-10</td>\n",
       "      <td>4</td>\n",
       "      <td>2184.0</td>\n",
       "    </tr>\n",
       "    <tr>\n",
       "      <th>102856</th>\n",
       "      <td>2000-01-10</td>\n",
       "      <td>5</td>\n",
       "      <td>2169.0</td>\n",
       "    </tr>\n",
       "  </tbody>\n",
       "</table>\n",
       "</div>"
      ],
      "text/plain": [
       "          ranking_date  player_rank  points\n",
       "player_id                                  \n",
       "101736      2000-01-10            1  4135.0\n",
       "102338      2000-01-10            2  2915.0\n",
       "101948      2000-01-10            3  2419.0\n",
       "103017      2000-01-10            4  2184.0\n",
       "102856      2000-01-10            5  2169.0"
      ]
     },
     "execution_count": 12,
     "metadata": {},
     "output_type": "execute_result"
    }
   ],
   "source": [
    "rankings = pd.concat(rankings_list)\n",
    "rankings.columns = ['ranking_date', 'player_rank', 'player_id', 'points']\n",
    "rankings.player_rank.astype('int', inplace=True)\n",
    "rankings.set_index('player_id', inplace=True)\n",
    "rankings.info()\n",
    "rankings.head()"
   ]
  },
  {
   "cell_type": "code",
   "execution_count": 13,
   "metadata": {},
   "outputs": [
    {
     "name": "stdout",
     "output_type": "stream",
     "text": [
      "<class 'pandas.core.frame.DataFrame'>\n",
      "MultiIndex: 2829498 entries, (100001, 1977-07-04 00:00:00) to (209355, 2019-12-02 00:00:00)\n",
      "Data columns (total 3 columns):\n",
      "player_rank    int64\n",
      "points         float64\n",
      "player_age     timedelta64[ns]\n",
      "dtypes: float64(1), int64(1), timedelta64[ns](1)\n",
      "memory usage: 75.7 MB\n"
     ]
    },
    {
     "data": {
      "text/html": [
       "<div>\n",
       "<style scoped>\n",
       "    .dataframe tbody tr th:only-of-type {\n",
       "        vertical-align: middle;\n",
       "    }\n",
       "\n",
       "    .dataframe tbody tr th {\n",
       "        vertical-align: top;\n",
       "    }\n",
       "\n",
       "    .dataframe thead th {\n",
       "        text-align: right;\n",
       "    }\n",
       "</style>\n",
       "<table border=\"1\" class=\"dataframe\">\n",
       "  <thead>\n",
       "    <tr style=\"text-align: right;\">\n",
       "      <th></th>\n",
       "      <th></th>\n",
       "      <th>player_rank</th>\n",
       "      <th>points</th>\n",
       "      <th>player_age</th>\n",
       "    </tr>\n",
       "    <tr>\n",
       "      <th>player_id</th>\n",
       "      <th>ranking_date</th>\n",
       "      <th></th>\n",
       "      <th></th>\n",
       "      <th></th>\n",
       "    </tr>\n",
       "  </thead>\n",
       "  <tbody>\n",
       "    <tr>\n",
       "      <th rowspan=\"3\" valign=\"top\">100001</th>\n",
       "      <th>1977-07-04</th>\n",
       "      <td>366</td>\n",
       "      <td>NaN</td>\n",
       "      <td>23235 days</td>\n",
       "    </tr>\n",
       "    <tr>\n",
       "      <th>1978-01-02</th>\n",
       "      <td>414</td>\n",
       "      <td>NaN</td>\n",
       "      <td>23417 days</td>\n",
       "    </tr>\n",
       "    <tr>\n",
       "      <th>1978-01-16</th>\n",
       "      <td>397</td>\n",
       "      <td>NaN</td>\n",
       "      <td>23431 days</td>\n",
       "    </tr>\n",
       "    <tr>\n",
       "      <th rowspan=\"2\" valign=\"top\">100002</th>\n",
       "      <th>1975-03-10</th>\n",
       "      <td>355</td>\n",
       "      <td>NaN</td>\n",
       "      <td>19621 days</td>\n",
       "    </tr>\n",
       "    <tr>\n",
       "      <th>1975-04-14</th>\n",
       "      <td>383</td>\n",
       "      <td>NaN</td>\n",
       "      <td>19656 days</td>\n",
       "    </tr>\n",
       "  </tbody>\n",
       "</table>\n",
       "</div>"
      ],
      "text/plain": [
       "                        player_rank  points player_age\n",
       "player_id ranking_date                                \n",
       "100001    1977-07-04            366     NaN 23235 days\n",
       "          1978-01-02            414     NaN 23417 days\n",
       "          1978-01-16            397     NaN 23431 days\n",
       "100002    1975-03-10            355     NaN 19621 days\n",
       "          1975-04-14            383     NaN 19656 days"
      ]
     },
     "execution_count": 13,
     "metadata": {},
     "output_type": "execute_result"
    }
   ],
   "source": [
    "rankings['player_age'] = rankings.ranking_date - players.loc[rankings.index].birthdate\n",
    "rankings.reset_index(inplace=True)\n",
    "rankings.set_index(['player_id', 'ranking_date'], inplace=True)\n",
    "rankings.sort_index(inplace=True)\n",
    "rankings.info()\n",
    "rankings.head()"
   ]
  },
  {
   "cell_type": "code",
   "execution_count": 14,
   "metadata": {},
   "outputs": [],
   "source": [
    "rankings.to_csv('Resources/tennis_clean/atp_rankings.csv')"
   ]
  },
  {
   "cell_type": "code",
   "execution_count": 15,
   "metadata": {},
   "outputs": [
    {
     "data": {
      "text/plain": [
       "player_rank    14756\n",
       "points         12597\n",
       "player_age     12176\n",
       "dtype: int64"
      ]
     },
     "execution_count": 15,
     "metadata": {},
     "output_type": "execute_result"
    }
   ],
   "source": [
    "rankings.groupby('player_id').min().count()"
   ]
  },
  {
   "cell_type": "code",
   "execution_count": 16,
   "metadata": {},
   "outputs": [],
   "source": [
    "rankings = rankings.groupby('player_id').filter(lambda x: x.player_rank.min() <= 100)"
   ]
  },
  {
   "cell_type": "code",
   "execution_count": 17,
   "metadata": {},
   "outputs": [
    {
     "data": {
      "text/plain": [
       "player_rank    1092\n",
       "points          832\n",
       "player_age     1084\n",
       "dtype: int64"
      ]
     },
     "execution_count": 17,
     "metadata": {},
     "output_type": "execute_result"
    }
   ],
   "source": [
    "rankings.groupby('player_id').min().count()"
   ]
  },
  {
   "cell_type": "code",
   "execution_count": 18,
   "metadata": {},
   "outputs": [
    {
     "name": "stdout",
     "output_type": "stream",
     "text": [
      "<class 'pandas.core.frame.DataFrame'>\n",
      "DatetimeIndex: 539460 entries, 1973-08-27 to 2019-12-02\n",
      "Data columns (total 4 columns):\n",
      "player_id      539460 non-null int64\n",
      "player_rank    539460 non-null int64\n",
      "points         441699 non-null float64\n",
      "player_age     538976 non-null timedelta64[ns]\n",
      "dtypes: float64(1), int64(2), timedelta64[ns](1)\n",
      "memory usage: 20.6 MB\n"
     ]
    },
    {
     "data": {
      "text/html": [
       "<div>\n",
       "<style scoped>\n",
       "    .dataframe tbody tr th:only-of-type {\n",
       "        vertical-align: middle;\n",
       "    }\n",
       "\n",
       "    .dataframe tbody tr th {\n",
       "        vertical-align: top;\n",
       "    }\n",
       "\n",
       "    .dataframe thead th {\n",
       "        text-align: right;\n",
       "    }\n",
       "</style>\n",
       "<table border=\"1\" class=\"dataframe\">\n",
       "  <thead>\n",
       "    <tr style=\"text-align: right;\">\n",
       "      <th></th>\n",
       "      <th>player_id</th>\n",
       "      <th>player_rank</th>\n",
       "      <th>points</th>\n",
       "      <th>player_age</th>\n",
       "    </tr>\n",
       "    <tr>\n",
       "      <th>ranking_date</th>\n",
       "      <th></th>\n",
       "      <th></th>\n",
       "      <th></th>\n",
       "      <th></th>\n",
       "    </tr>\n",
       "  </thead>\n",
       "  <tbody>\n",
       "    <tr>\n",
       "      <th>1973-08-27</th>\n",
       "      <td>100011</td>\n",
       "      <td>114</td>\n",
       "      <td>NaN</td>\n",
       "      <td>14937 days</td>\n",
       "    </tr>\n",
       "    <tr>\n",
       "      <th>1973-09-17</th>\n",
       "      <td>100011</td>\n",
       "      <td>114</td>\n",
       "      <td>NaN</td>\n",
       "      <td>14958 days</td>\n",
       "    </tr>\n",
       "    <tr>\n",
       "      <th>1973-10-01</th>\n",
       "      <td>100011</td>\n",
       "      <td>101</td>\n",
       "      <td>NaN</td>\n",
       "      <td>14972 days</td>\n",
       "    </tr>\n",
       "    <tr>\n",
       "      <th>1973-10-15</th>\n",
       "      <td>100011</td>\n",
       "      <td>96</td>\n",
       "      <td>NaN</td>\n",
       "      <td>14986 days</td>\n",
       "    </tr>\n",
       "    <tr>\n",
       "      <th>1973-11-05</th>\n",
       "      <td>100011</td>\n",
       "      <td>102</td>\n",
       "      <td>NaN</td>\n",
       "      <td>15007 days</td>\n",
       "    </tr>\n",
       "  </tbody>\n",
       "</table>\n",
       "</div>"
      ],
      "text/plain": [
       "              player_id  player_rank  points player_age\n",
       "ranking_date                                           \n",
       "1973-08-27       100011          114     NaN 14937 days\n",
       "1973-09-17       100011          114     NaN 14958 days\n",
       "1973-10-01       100011          101     NaN 14972 days\n",
       "1973-10-15       100011           96     NaN 14986 days\n",
       "1973-11-05       100011          102     NaN 15007 days"
      ]
     },
     "execution_count": 18,
     "metadata": {},
     "output_type": "execute_result"
    }
   ],
   "source": [
    "rankings = rankings.reset_index('player_id')\n",
    "rankings.info()\n",
    "rankings.head()"
   ]
  },
  {
   "cell_type": "code",
   "execution_count": 19,
   "metadata": {},
   "outputs": [],
   "source": [
    "top_100 = rankings.player_id.unique()"
   ]
  },
  {
   "cell_type": "code",
   "execution_count": 20,
   "metadata": {
    "scrolled": true
   },
   "outputs": [
    {
     "data": {
      "text/html": [
       "<div>\n",
       "<style scoped>\n",
       "    .dataframe tbody tr th:only-of-type {\n",
       "        vertical-align: middle;\n",
       "    }\n",
       "\n",
       "    .dataframe tbody tr th {\n",
       "        vertical-align: top;\n",
       "    }\n",
       "\n",
       "    .dataframe thead th {\n",
       "        text-align: right;\n",
       "    }\n",
       "</style>\n",
       "<table border=\"1\" class=\"dataframe\">\n",
       "  <thead>\n",
       "    <tr style=\"text-align: right;\">\n",
       "      <th></th>\n",
       "      <th>name_first</th>\n",
       "      <th>name_last</th>\n",
       "      <th>hand</th>\n",
       "      <th>birthdate</th>\n",
       "      <th>country</th>\n",
       "    </tr>\n",
       "    <tr>\n",
       "      <th>player_id</th>\n",
       "      <th></th>\n",
       "      <th></th>\n",
       "      <th></th>\n",
       "      <th></th>\n",
       "      <th></th>\n",
       "    </tr>\n",
       "  </thead>\n",
       "  <tbody>\n",
       "    <tr>\n",
       "      <th>100011</th>\n",
       "      <td>Torben</td>\n",
       "      <td>Ulrich</td>\n",
       "      <td>L</td>\n",
       "      <td>1932-10-04</td>\n",
       "      <td>DEN</td>\n",
       "    </tr>\n",
       "    <tr>\n",
       "      <th>100016</th>\n",
       "      <td>Ken</td>\n",
       "      <td>Rosewall</td>\n",
       "      <td>R</td>\n",
       "      <td>1934-11-02</td>\n",
       "      <td>AUS</td>\n",
       "    </tr>\n",
       "    <tr>\n",
       "      <th>100022</th>\n",
       "      <td>Roy</td>\n",
       "      <td>Emerson</td>\n",
       "      <td>R</td>\n",
       "      <td>1936-11-03</td>\n",
       "      <td>AUS</td>\n",
       "    </tr>\n",
       "    <tr>\n",
       "      <th>100025</th>\n",
       "      <td>Barry</td>\n",
       "      <td>Phillips Moore</td>\n",
       "      <td>R</td>\n",
       "      <td>1937-07-09</td>\n",
       "      <td>AUS</td>\n",
       "    </tr>\n",
       "    <tr>\n",
       "      <th>100026</th>\n",
       "      <td>Andres</td>\n",
       "      <td>Gimeno</td>\n",
       "      <td>R</td>\n",
       "      <td>1937-08-03</td>\n",
       "      <td>ESP</td>\n",
       "    </tr>\n",
       "  </tbody>\n",
       "</table>\n",
       "</div>"
      ],
      "text/plain": [
       "          name_first       name_last hand  birthdate country\n",
       "player_id                                                   \n",
       "100011        Torben          Ulrich    L 1932-10-04     DEN\n",
       "100016           Ken        Rosewall    R 1934-11-02     AUS\n",
       "100022           Roy         Emerson    R 1936-11-03     AUS\n",
       "100025         Barry  Phillips Moore    R 1937-07-09     AUS\n",
       "100026        Andres          Gimeno    R 1937-08-03     ESP"
      ]
     },
     "execution_count": 20,
     "metadata": {},
     "output_type": "execute_result"
    }
   ],
   "source": [
    "top_100_players = players.loc[top_100]\n",
    "top_100_players.head()"
   ]
  },
  {
   "cell_type": "code",
   "execution_count": 21,
   "metadata": {},
   "outputs": [],
   "source": [
    "rankings.to_csv('Resources/tennis_clean/atp_top_100_rankings.csv')"
   ]
  },
  {
   "cell_type": "code",
   "execution_count": 22,
   "metadata": {},
   "outputs": [],
   "source": [
    "top_100_players.to_csv('Resources/tennis_clean/atp_top_100_players.csv')"
   ]
  },
  {
   "cell_type": "code",
   "execution_count": 23,
   "metadata": {},
   "outputs": [
    {
     "data": {
      "image/png": "[encoded data removed]",
      "text/plain": [
       "<Figure size 432x288 with 1 Axes>"
      ]
     },
     "metadata": {
      "needs_background": "light"
     },
     "output_type": "display_data"
    }
   ],
   "source": [
    "top_100_players.country.value_counts().head(10).plot(kind='bar')\n",
    "plt.title('Top 10 countries by count of top 100 professional tennis players')\n",
    "plt.savefig('plot.jpg')"
   ]
  },
  {
   "cell_type": "code",
   "execution_count": 24,
   "metadata": {},
   "outputs": [
    {
     "data": {
      "image/png": "[encoded data removed]",
      "text/plain": [
       "<Figure size 432x288 with 1 Axes>"
      ]
     },
     "metadata": {
      "needs_background": "light"
     },
     "output_type": "display_data"
    }
   ],
   "source": [
    "top_100_players[top_100_players.birthdate > '1990'].country.value_counts().head(10).plot(kind='bar')\n",
    "plt.title('Top 10 countries by count of top 100 professional tennis players born after 1990')\n",
    "plt.savefig('plot.jpg')"
   ]
  },
  {
   "cell_type": "code",
   "execution_count": 25,
   "metadata": {},
   "outputs": [],
   "source": [
    "# I don't want any of the challenger or future match data, which is why I specify the first digit of the year.\n",
    "matches_files = glob.glob('Resources/tennis_atp-master/atp_matches_[12]*')"
   ]
  },
  {
   "cell_type": "code",
   "execution_count": 26,
   "metadata": {},
   "outputs": [],
   "source": [
    "matches_list = [pd.read_csv(matches_file, parse_dates=['tourney_date']) for matches_file in matches_files]"
   ]
  },
  {
   "cell_type": "code",
   "execution_count": 27,
   "metadata": {},
   "outputs": [],
   "source": [
    "matches = pd.concat(matches_list, sort=False)"
   ]
  },
  {
   "cell_type": "code",
   "execution_count": 28,
   "metadata": {},
   "outputs": [
    {
     "data": {
      "text/plain": [
       "Index(['tourney_id', 'tourney_name', 'surface', 'draw_size', 'tourney_level',\n",
       "       'tourney_date', 'match_num', 'winner_id', 'winner_seed', 'winner_entry',\n",
       "       'winner_name', 'winner_hand', 'winner_ht', 'winner_ioc', 'winner_age',\n",
       "       'winner_rank', 'winner_rank_points', 'loser_id', 'loser_seed',\n",
       "       'loser_entry', 'loser_name', 'loser_hand', 'loser_ht', 'loser_ioc',\n",
       "       'loser_age', 'loser_rank', 'loser_rank_points', 'score', 'best_of',\n",
       "       'round', 'minutes', 'w_ace', 'w_df', 'w_svpt', 'w_1stIn', 'w_1stWon',\n",
       "       'w_2ndWon', 'w_SvGms', 'w_bpSaved', 'w_bpFaced', 'l_ace', 'l_df',\n",
       "       'l_svpt', 'l_1stIn', 'l_1stWon', 'l_2ndWon', 'l_SvGms', 'l_bpSaved',\n",
       "       'l_bpFaced'],\n",
       "      dtype='object')"
      ]
     },
     "execution_count": 28,
     "metadata": {},
     "output_type": "execute_result"
    }
   ],
   "source": [
    "matches.columns"
   ]
  },
  {
   "cell_type": "code",
   "execution_count": 29,
   "metadata": {
    "scrolled": true
   },
   "outputs": [],
   "source": [
    "matches_winners = matches[['winner_id', 'tourney_id', 'match_num', 'winner_name', 'tourney_name',\n",
    "                           'surface', 'draw_size', 'tourney_level',\n",
    "       'tourney_date',  'winner_seed', 'winner_entry',\n",
    "       'winner_ht',\n",
    "       'score', 'best_of', 'round',\n",
    "       'minutes', 'w_ace', 'w_df', 'w_svpt', 'w_1stIn', 'w_1stWon', 'w_2ndWon',\n",
    "       'w_SvGms', 'w_bpSaved', 'w_bpFaced',\n",
    "       'winner_rank', 'winner_rank_points', 'loser_id', 'loser_name', 'loser_rank', 'loser_rank_points', 'loser_ht',\n",
    "        'l_1stWon', 'l_2ndWon', 'l_svpt', 'l_1stIn', 'l_bpSaved', 'l_bpFaced']]"
   ]
  },
  {
   "cell_type": "code",
   "execution_count": 30,
   "metadata": {},
   "outputs": [],
   "source": [
    "matches_losers = matches[['loser_id', 'tourney_id', 'match_num', 'loser_name', 'tourney_name',\n",
    "                           'surface', 'draw_size', 'tourney_level',\n",
    "       'tourney_date',  'loser_seed', 'loser_entry',\n",
    "       'loser_ht',\n",
    "       'score', 'best_of', 'round',\n",
    "       'minutes', 'l_ace', 'l_df', 'l_svpt', 'l_1stIn', 'l_1stWon', 'l_2ndWon',\n",
    "       'l_SvGms', 'l_bpSaved', 'l_bpFaced',\n",
    "       'loser_rank', 'loser_rank_points', 'winner_id', 'winner_name', 'winner_rank', 'winner_rank_points', 'winner_ht',\n",
    "        'w_1stWon', 'w_2ndWon', 'w_svpt', 'w_1stIn', 'w_bpSaved', 'w_bpFaced']]"
   ]
  },
  {
   "cell_type": "code",
   "execution_count": 31,
   "metadata": {},
   "outputs": [],
   "source": [
    "matches_winners.columns = ['player_id', 'tournament_id', 'match_id', 'player_name', 'tournament_name', 'surface',\n",
    "       'draw_size', 'tournament_level', 'tournament_date', 'seed',\n",
    "       'entry', 'player_height', 'score', 'best_of', 'round_of',\n",
    "       'minutes', 'aces', 'double_faults', 'service_points', 'first_serves', 'first_serves_won', 'second_serves_won',\n",
    "       'service_games', 'break_points_saved', 'break_points_faced', 'player_rank',\n",
    "       'ranking_points', 'opponent_id', 'opponent_name', 'opponent_rank', 'opponent_ranking_points', 'opponent_height',\n",
    "        'opponent_first_serves_won', 'opponent_second_serves_won', 'opponent_service_points', 'opponent_first_serves', 'opponent_break_points_saved', 'opponent_break_points_faced']\n",
    "matches_losers.columns = ['player_id', 'tournament_id', 'match_id', 'player_name', 'tournament_name', 'surface',\n",
    "       'draw_size', 'tournament_level', 'tournament_date', 'seed',\n",
    "       'entry', 'player_height', 'score', 'best_of', 'round_of',\n",
    "       'minutes', 'aces', 'double_faults', 'service_points', 'first_serves', 'first_serves_won', 'second_serves_won',\n",
    "       'service_games', 'break_points_saved', 'break_points_faced', 'player_rank',\n",
    "       'ranking_points', 'opponent_id', 'opponent_name', 'opponent_rank', 'opponent_ranking_points', 'opponent_height',\n",
    "        'opponent_first_serves_won', 'opponent_second_serves_won', 'opponent_service_points', 'opponent_first_serves', 'opponent_break_points_saved', 'opponent_break_points_faced']"
   ]
  },
  {
   "cell_type": "code",
   "execution_count": 32,
   "metadata": {},
   "outputs": [
    {
     "name": "stderr",
     "output_type": "stream",
     "text": [
      "/usr/local/anaconda3/lib/python3.7/site-packages/ipykernel_launcher.py:1: SettingWithCopyWarning: \n",
      "A value is trying to be set on a copy of a slice from a DataFrame.\n",
      "Try using .loc[row_indexer,col_indexer] = value instead\n",
      "\n",
      "See the caveats in the documentation: http://pandas.pydata.org/pandas-docs/stable/user_guide/indexing.html#returning-a-view-versus-a-copy\n",
      "  \"\"\"Entry point for launching an IPython kernel.\n",
      "/usr/local/anaconda3/lib/python3.7/site-packages/ipykernel_launcher.py:2: SettingWithCopyWarning: \n",
      "A value is trying to be set on a copy of a slice from a DataFrame.\n",
      "Try using .loc[row_indexer,col_indexer] = value instead\n",
      "\n",
      "See the caveats in the documentation: http://pandas.pydata.org/pandas-docs/stable/user_guide/indexing.html#returning-a-view-versus-a-copy\n",
      "  \n"
     ]
    }
   ],
   "source": [
    "matches_winners['result'] = 'W'\n",
    "matches_losers['result'] = 'L'"
   ]
  },
  {
   "cell_type": "code",
   "execution_count": 33,
   "metadata": {
    "scrolled": true
   },
   "outputs": [
    {
     "name": "stdout",
     "output_type": "stream",
     "text": [
      "<class 'pandas.core.frame.DataFrame'>\n",
      "MultiIndex: 343640 entries, (105453, 2019-M020, 300) to (104755, 2014-D015, 4)\n",
      "Data columns (total 36 columns):\n",
      "player_name                    343640 non-null object\n",
      "tournament_name                343640 non-null object\n",
      "surface                        338562 non-null object\n",
      "draw_size                      8026 non-null float64\n",
      "tournament_level               343640 non-null object\n",
      "tournament_date                343640 non-null datetime64[ns]\n",
      "seed                           99590 non-null object\n",
      "entry                          40806 non-null object\n",
      "player_height                  292236 non-null float64\n",
      "score                          343288 non-null object\n",
      "best_of                        343640 non-null int64\n",
      "round_of                       343640 non-null object\n",
      "minutes                        168300 non-null float64\n",
      "aces                           170894 non-null float64\n",
      "double_faults                  170894 non-null float64\n",
      "service_points                 170894 non-null float64\n",
      "first_serves                   170894 non-null float64\n",
      "first_serves_won               170894 non-null float64\n",
      "second_serves_won              170894 non-null float64\n",
      "service_games                  170894 non-null float64\n",
      "break_points_saved             170894 non-null float64\n",
      "break_points_faced             170894 non-null float64\n",
      "player_rank                    299909 non-null float64\n",
      "ranking_points                 191543 non-null float64\n",
      "opponent_id                    343640 non-null int64\n",
      "opponent_name                  343640 non-null object\n",
      "opponent_rank                  299909 non-null float64\n",
      "opponent_ranking_points        191543 non-null float64\n",
      "opponent_height                292236 non-null float64\n",
      "opponent_first_serves_won      170894 non-null float64\n",
      "opponent_second_serves_won     170894 non-null float64\n",
      "opponent_service_points        170894 non-null float64\n",
      "opponent_first_serves          170894 non-null float64\n",
      "opponent_break_points_saved    170894 non-null float64\n",
      "opponent_break_points_faced    170894 non-null float64\n",
      "result                         343640 non-null object\n",
      "dtypes: datetime64[ns](1), float64(23), int64(2), object(10)\n",
      "memory usage: 96.5+ MB\n"
     ]
    }
   ],
   "source": [
    "matches = pd.concat([matches_winners, matches_losers])\n",
    "matches.set_index(['player_id', 'tournament_id', 'match_id'], inplace=True)\n",
    "matches.info()"
   ]
  },
  {
   "cell_type": "code",
   "execution_count": 34,
   "metadata": {
    "scrolled": false
   },
   "outputs": [
    {
     "name": "stderr",
     "output_type": "stream",
     "text": [
      "/usr/local/anaconda3/lib/python3.7/site-packages/IPython/core/interactiveshell.py:2848: PerformanceWarning: indexing past lexsort depth may impact performance.\n",
      "  raw_cell, store_history, silent, shell_futures)\n",
      "/usr/local/anaconda3/lib/python3.7/site-packages/IPython/core/async_helpers.py:68: PerformanceWarning: indexing past lexsort depth may impact performance.\n",
      "  coro.send(None)\n"
     ]
    }
   ],
   "source": [
    "# Corrections to errant data here\n",
    "# 1. 1991 Tokyo Outdoor tournament has an impossible value for Jim Courier's break point values.\n",
    "#    Fix: An analysis of the score shows that the values are offset by 4. These are corrected.\n",
    "# Courier\n",
    "matches.loc[(101793, '1991-329', 54), 'break_points_faced'] = 4.\n",
    "matches.loc[(101793, '1991-329', 54), 'break_points_saved'] = 0.\n",
    "# Courier\n",
    "matches.loc[(100656, '1991-329', 54), 'opponent_break_points_faced'] = 4.\n",
    "matches.loc[(100656, '1991-329', 54), 'opponent_break_points_saved'] = 0.\n",
    "# 2. 1991 Tokyo Outdoor tournament has an impossible value for Ivan Lendl's break point values.\n",
    "#    Fix: The score has too many possibilities to narrow it down, so I will set the break points to NaN to avoid\n",
    "#    propogating the errors any farther down the pipeline.\n",
    "# Lendl\n",
    "matches.loc[(100656, '1991-329', 55), 'break_points_faced'] = np.nan\n",
    "matches.loc[(100656, '1991-329', 55), 'break_points_saved'] = np.nan\n",
    "# Edberg\n",
    "matches.loc[(101222, '1991-329', 55), 'opponent_break_points_faced'] = np.nan\n",
    "matches.loc[(101222, '1991-329', 55), 'opponent_break_points_saved'] = np.nan\n",
    "\n",
    "# Lendl must have distracted stat taker, as these are the only two individual instances of mistakes in the dataset."
   ]
  },
  {
   "cell_type": "code",
   "execution_count": 35,
   "metadata": {},
   "outputs": [
    {
     "data": {
      "text/html": [
       "<div>\n",
       "<style scoped>\n",
       "    .dataframe tbody tr th:only-of-type {\n",
       "        vertical-align: middle;\n",
       "    }\n",
       "\n",
       "    .dataframe tbody tr th {\n",
       "        vertical-align: top;\n",
       "    }\n",
       "\n",
       "    .dataframe thead th {\n",
       "        text-align: right;\n",
       "    }\n",
       "</style>\n",
       "<table border=\"1\" class=\"dataframe\">\n",
       "  <thead>\n",
       "    <tr style=\"text-align: right;\">\n",
       "      <th></th>\n",
       "      <th>name_first</th>\n",
       "      <th>name_last</th>\n",
       "      <th>hand</th>\n",
       "      <th>birthdate</th>\n",
       "      <th>country</th>\n",
       "    </tr>\n",
       "    <tr>\n",
       "      <th>player_id</th>\n",
       "      <th></th>\n",
       "      <th></th>\n",
       "      <th></th>\n",
       "      <th></th>\n",
       "      <th></th>\n",
       "    </tr>\n",
       "  </thead>\n",
       "  <tbody>\n",
       "    <tr>\n",
       "      <th>101222</th>\n",
       "      <td>Stefan</td>\n",
       "      <td>Edberg</td>\n",
       "      <td>R</td>\n",
       "      <td>1966-01-19</td>\n",
       "      <td>SWE</td>\n",
       "    </tr>\n",
       "  </tbody>\n",
       "</table>\n",
       "</div>"
      ],
      "text/plain": [
       "          name_first name_last hand  birthdate country\n",
       "player_id                                             \n",
       "101222        Stefan    Edberg    R 1966-01-19     SWE"
      ]
     },
     "execution_count": 35,
     "metadata": {},
     "output_type": "execute_result"
    }
   ],
   "source": [
    "players[players.name_last == 'Edberg']"
   ]
  },
  {
   "cell_type": "code",
   "execution_count": 36,
   "metadata": {},
   "outputs": [],
   "source": [
    "# 3. The 2003 Madrid Masters has many instances where the service points won column \n",
    "#    exceeds the total service points played. All instances of service points\n",
    "#    played and won are set to NaN for this tournament.\n",
    "# 'service_points', 'first_serves', 'first_serves_won', 'second_serves_won'\n",
    "\n",
    "madrid_2003_matches = matches.query('tournament_id == \\'2003-1536\\'').index\n",
    "matches.loc[madrid_2003_matches, 'service_points'] = np.nan\n",
    "matches.loc[madrid_2003_matches, 'first_serves'] = np.nan\n",
    "matches.loc[madrid_2003_matches, 'first_serves_won'] = np.nan\n",
    "matches.loc[madrid_2003_matches, 'second_serves_won'] = np.nan\n",
    "matches.loc[madrid_2003_matches, 'opponent_service_points'] = np.nan\n",
    "matches.loc[madrid_2003_matches, 'opponent_first_serves'] = np.nan\n",
    "matches.loc[madrid_2003_matches, 'opponent_first_serves_won'] = np.nan\n",
    "matches.loc[madrid_2003_matches, 'opponent_second_serves_won'] = np.nan"
   ]
  },
  {
   "cell_type": "code",
   "execution_count": 37,
   "metadata": {},
   "outputs": [],
   "source": [
    "long_long_matches = matches.query('tournament_id == \\'2016-M001\\' and match_id == 294 \\\n",
    "                                or tournament_id == \\'2017-0308\\' and match_id == 297').index\n",
    "matches.loc[long_long_matches, 'minutes'] = np.nan"
   ]
  },
  {
   "cell_type": "code",
   "execution_count": 38,
   "metadata": {},
   "outputs": [
    {
     "data": {
      "text/plain": [
       "(0.5984284425203041, 0.0, 1.0)"
      ]
     },
     "execution_count": 38,
     "metadata": {},
     "output_type": "execute_result"
    },
    {
     "data": {
      "image/png": "[encoded data removed]",
      "text/plain": [
       "<Figure size 432x288 with 1 Axes>"
      ]
     },
     "metadata": {
      "needs_background": "light"
     },
     "output_type": "display_data"
    }
   ],
   "source": [
    "matches['first_serve_percentage'] = matches.first_serves / matches.service_points\n",
    "matches.first_serve_percentage.plot(kind='hist', bins=30)\n",
    "# No anomomylous data\n",
    "matches.first_serve_percentage.mean(), matches.first_serve_percentage.min(), matches.first_serve_percentage.max()"
   ]
  },
  {
   "cell_type": "code",
   "execution_count": 39,
   "metadata": {
    "scrolled": false
   },
   "outputs": [
    {
     "name": "stderr",
     "output_type": "stream",
     "text": [
      "/usr/local/anaconda3/lib/python3.7/site-packages/ipykernel_launcher.py:2: SettingWithCopyWarning: \n",
      "A value is trying to be set on a copy of a slice from a DataFrame\n",
      "\n",
      "See the caveats in the documentation: http://pandas.pydata.org/pandas-docs/stable/user_guide/indexing.html#returning-a-view-versus-a-copy\n",
      "  \n"
     ]
    },
    {
     "data": {
      "text/plain": [
       "(0.5774356604303034, 0.0, 1.0)"
      ]
     },
     "execution_count": 39,
     "metadata": {},
     "output_type": "execute_result"
    },
    {
     "data": {
      "image/png": "[encoded data removed]",
      "text/plain": [
       "<Figure size 432x288 with 1 Axes>"
      ]
     },
     "metadata": {
      "needs_background": "light"
     },
     "output_type": "display_data"
    }
   ],
   "source": [
    "matches['break_points_save_percentage'] = (matches.break_points_saved / matches.break_points_faced)\n",
    "matches.break_points_save_percentage[~np.isfinite(matches.break_points_save_percentage)] = np.nan\n",
    "matches.break_points_save_percentage.plot(kind='hist', bins=30)\n",
    "# Initially two data points resulted in a negative percentage, and were corrected. \n",
    "matches.break_points_save_percentage.mean(), matches.break_points_save_percentage.min(), matches.break_points_save_percentage.max()"
   ]
  },
  {
   "cell_type": "code",
   "execution_count": 40,
   "metadata": {},
   "outputs": [
    {
     "data": {
      "text/html": [
       "<div>\n",
       "<style scoped>\n",
       "    .dataframe tbody tr th:only-of-type {\n",
       "        vertical-align: middle;\n",
       "    }\n",
       "\n",
       "    .dataframe tbody tr th {\n",
       "        vertical-align: top;\n",
       "    }\n",
       "\n",
       "    .dataframe thead th {\n",
       "        text-align: right;\n",
       "    }\n",
       "</style>\n",
       "<table border=\"1\" class=\"dataframe\">\n",
       "  <thead>\n",
       "    <tr style=\"text-align: right;\">\n",
       "      <th></th>\n",
       "      <th></th>\n",
       "      <th></th>\n",
       "      <th>player_name</th>\n",
       "      <th>score</th>\n",
       "      <th>break_points_saved</th>\n",
       "      <th>break_points_faced</th>\n",
       "      <th>result</th>\n",
       "    </tr>\n",
       "    <tr>\n",
       "      <th>player_id</th>\n",
       "      <th>tournament_id</th>\n",
       "      <th>match_id</th>\n",
       "      <th></th>\n",
       "      <th></th>\n",
       "      <th></th>\n",
       "      <th></th>\n",
       "      <th></th>\n",
       "    </tr>\n",
       "  </thead>\n",
       "  <tbody>\n",
       "    <tr>\n",
       "      <th>101222</th>\n",
       "      <th>1991-329</th>\n",
       "      <th>55</th>\n",
       "      <td>Stefan Edberg</td>\n",
       "      <td>6-1 7-5 6-0</td>\n",
       "      <td>6.0</td>\n",
       "      <td>8.0</td>\n",
       "      <td>W</td>\n",
       "    </tr>\n",
       "    <tr>\n",
       "      <th>100656</th>\n",
       "      <th>1991-329</th>\n",
       "      <th>55</th>\n",
       "      <td>Ivan Lendl</td>\n",
       "      <td>6-1 7-5 6-0</td>\n",
       "      <td>NaN</td>\n",
       "      <td>NaN</td>\n",
       "      <td>L</td>\n",
       "    </tr>\n",
       "  </tbody>\n",
       "</table>\n",
       "</div>"
      ],
      "text/plain": [
       "                                    player_name        score  \\\n",
       "player_id tournament_id match_id                               \n",
       "101222    1991-329      55        Stefan Edberg  6-1 7-5 6-0   \n",
       "100656    1991-329      55           Ivan Lendl  6-1 7-5 6-0   \n",
       "\n",
       "                                  break_points_saved  break_points_faced  \\\n",
       "player_id tournament_id match_id                                           \n",
       "101222    1991-329      55                       6.0                 8.0   \n",
       "100656    1991-329      55                       NaN                 NaN   \n",
       "\n",
       "                                 result  \n",
       "player_id tournament_id match_id         \n",
       "101222    1991-329      55            W  \n",
       "100656    1991-329      55            L  "
      ]
     },
     "execution_count": 40,
     "metadata": {},
     "output_type": "execute_result"
    }
   ],
   "source": [
    "\n",
    "matches.query('tournament_id == \\'1991-329\\' and match_id == 55')[['player_name', 'score', 'break_points_saved', 'break_points_faced', 'result']]"
   ]
  },
  {
   "cell_type": "code",
   "execution_count": 41,
   "metadata": {},
   "outputs": [
    {
     "data": {
      "text/plain": [
       "(0.6263088532636526, 0.0, 1.0)"
      ]
     },
     "execution_count": 41,
     "metadata": {},
     "output_type": "execute_result"
    },
    {
     "data": {
      "image/png": "[encoded data removed]",
      "text/plain": [
       "<Figure size 432x288 with 1 Axes>"
      ]
     },
     "metadata": {
      "needs_background": "light"
     },
     "output_type": "display_data"
    }
   ],
   "source": [
    "matches['service_points_won'] = matches.first_serves_won + matches.second_serves_won\n",
    "matches['service_points_won_percentage'] = matches.service_points_won / matches.service_points\n",
    "matches.service_points_won_percentage.plot(kind='hist', bins=30)\n",
    "matches.service_points_won_percentage.mean(), matches.service_points_won_percentage.min(), matches.service_points_won_percentage.max()"
   ]
  },
  {
   "cell_type": "code",
   "execution_count": 42,
   "metadata": {},
   "outputs": [
    {
     "data": {
      "text/plain": [
       "(158.7248243559719, 1.0, 980.0)"
      ]
     },
     "execution_count": 42,
     "metadata": {},
     "output_type": "execute_result"
    }
   ],
   "source": [
    "matches['points'] = matches.service_points + matches.opponent_service_points\n",
    "matches.points.mean(), matches.points.min(), matches.points.max() "
   ]
  },
  {
   "cell_type": "code",
   "execution_count": 43,
   "metadata": {},
   "outputs": [
    {
     "data": {
      "text/plain": [
       "(79.36241217798595, 0.0, 491.0)"
      ]
     },
     "execution_count": 43,
     "metadata": {},
     "output_type": "execute_result"
    }
   ],
   "source": [
    "matches['return_points'] = matches.points - matches.service_points\n",
    "matches.return_points.mean(), matches.return_points.min(), matches.return_points.max() "
   ]
  },
  {
   "cell_type": "code",
   "execution_count": 44,
   "metadata": {},
   "outputs": [
    {
     "data": {
      "text/plain": [
       "(0.3736911467366929, 0.0, 1.0)"
      ]
     },
     "execution_count": 44,
     "metadata": {},
     "output_type": "execute_result"
    },
    {
     "data": {
      "image/png": "[encoded data removed]",
      "text/plain": [
       "<Figure size 432x288 with 1 Axes>"
      ]
     },
     "metadata": {
      "needs_background": "light"
     },
     "output_type": "display_data"
    }
   ],
   "source": [
    "matches['return_points_won'] = matches.return_points - (matches.opponent_first_serves_won + matches.opponent_second_serves_won)\n",
    "matches['return_points_won_percentage'] = matches.return_points_won / matches.return_points\n",
    "matches.return_points_won_percentage.plot(kind='hist', bins=30)\n",
    "matches.return_points_won_percentage.mean(), matches.return_points_won_percentage.min(), matches.return_points_won_percentage.max()"
   ]
  },
  {
   "cell_type": "code",
   "execution_count": 45,
   "metadata": {},
   "outputs": [
    {
     "data": {
      "text/plain": [
       "(0.7102635670887585, 0.0, 1.0)"
      ]
     },
     "execution_count": 45,
     "metadata": {},
     "output_type": "execute_result"
    },
    {
     "data": {
      "image/png": "[encoded data removed]",
      "text/plain": [
       "<Figure size 432x288 with 1 Axes>"
      ]
     },
     "metadata": {
      "needs_background": "light"
     },
     "output_type": "display_data"
    }
   ],
   "source": [
    "matches['first_serves_won_percentage'] = matches.first_serves_won / matches.first_serves\n",
    "matches.first_serves_won_percentage.plot(kind='hist', bins=30)\n",
    "matches.first_serves_won_percentage.mean(), matches.first_serves_won_percentage.min(), matches.first_serves_won_percentage.max()"
   ]
  },
  {
   "cell_type": "code",
   "execution_count": 46,
   "metadata": {},
   "outputs": [
    {
     "data": {
      "text/plain": [
       "(0.5050072195261499, 0.0, 1.0)"
      ]
     },
     "execution_count": 46,
     "metadata": {},
     "output_type": "execute_result"
    },
    {
     "data": {
      "image/png": "[encoded data removed]",
      "text/plain": [
       "<Figure size 432x288 with 1 Axes>"
      ]
     },
     "metadata": {
      "needs_background": "light"
     },
     "output_type": "display_data"
    }
   ],
   "source": [
    "matches['second_serves_won_percentage'] = matches.second_serves_won / (matches.service_points - matches.first_serves)\n",
    "matches.second_serves_won_percentage.plot(kind='hist', bins=30)\n",
    "matches.second_serves_won_percentage.mean(), matches.second_serves_won_percentage.min(), matches.second_serves_won_percentage.max()"
   ]
  },
  {
   "cell_type": "code",
   "execution_count": 47,
   "metadata": {},
   "outputs": [
    {
     "data": {
      "text/plain": [
       "(0.2897364329116552, 0.0, 1.0)"
      ]
     },
     "execution_count": 47,
     "metadata": {},
     "output_type": "execute_result"
    },
    {
     "data": {
      "image/png": "[encoded data removed]",
      "text/plain": [
       "<Figure size 432x288 with 1 Axes>"
      ]
     },
     "metadata": {
      "needs_background": "light"
     },
     "output_type": "display_data"
    }
   ],
   "source": [
    "matches['first_serve_return_points_won'] = matches.opponent_first_serves - matches.opponent_first_serves_won\n",
    "matches['first_serve_return_points_won_percentage'] = matches.first_serve_return_points_won / matches.opponent_first_serves\n",
    "matches.first_serve_return_points_won_percentage.plot(kind='hist', bins=30)\n",
    "matches.first_serve_return_points_won_percentage.mean(), matches.first_serve_return_points_won_percentage.min(), matches.first_serve_return_points_won_percentage.max()"
   ]
  },
  {
   "cell_type": "code",
   "execution_count": 48,
   "metadata": {},
   "outputs": [
    {
     "data": {
      "text/plain": [
       "(0.4949927804735401, 0.0, 1.0)"
      ]
     },
     "execution_count": 48,
     "metadata": {},
     "output_type": "execute_result"
    },
    {
     "data": {
      "image/png": "[encoded data removed]",
      "text/plain": [
       "<Figure size 432x288 with 1 Axes>"
      ]
     },
     "metadata": {
      "needs_background": "light"
     },
     "output_type": "display_data"
    }
   ],
   "source": [
    "matches['second_serve_return_points_won'] = matches.opponent_service_points - matches.opponent_first_serves - matches.opponent_second_serves_won\n",
    "matches['second_serve_return_points_won_percentage'] = matches.second_serve_return_points_won / (matches.opponent_service_points - matches.opponent_first_serves)\n",
    "matches.second_serve_return_points_won_percentage.plot(kind='hist', bins=30)\n",
    "matches.second_serve_return_points_won_percentage.mean(), matches.second_serve_return_points_won_percentage.min(), matches.second_serve_return_points_won_percentage.max()"
   ]
  },
  {
   "cell_type": "code",
   "execution_count": 49,
   "metadata": {
    "scrolled": false
   },
   "outputs": [
    {
     "name": "stderr",
     "output_type": "stream",
     "text": [
      "/usr/local/anaconda3/lib/python3.7/site-packages/ipykernel_launcher.py:4: SettingWithCopyWarning: \n",
      "A value is trying to be set on a copy of a slice from a DataFrame\n",
      "\n",
      "See the caveats in the documentation: http://pandas.pydata.org/pandas-docs/stable/user_guide/indexing.html#returning-a-view-versus-a-copy\n",
      "  after removing the cwd from sys.path.\n"
     ]
    },
    {
     "data": {
      "text/plain": [
       "(0.4225643395697413, 0.0, 1.0)"
      ]
     },
     "execution_count": 49,
     "metadata": {},
     "output_type": "execute_result"
    },
    {
     "data": {
      "image/png": "[encoded data removed]",
      "text/plain": [
       "<Figure size 432x288 with 1 Axes>"
      ]
     },
     "metadata": {
      "needs_background": "light"
     },
     "output_type": "display_data"
    }
   ],
   "source": [
    "matches['break_points'] = matches.opponent_break_points_faced\n",
    "matches['break_points_won'] = matches.opponent_break_points_faced - matches.opponent_break_points_saved\n",
    "matches['break_points_won_percentage'] = matches.break_points_won / matches.break_points\n",
    "matches.break_points_won_percentage[~np.isfinite(matches.break_points_won_percentage)] = np.nan\n",
    "matches.break_points_won_percentage.plot(kind='hist', bins=30)\n",
    "matches.break_points_won_percentage.mean(), matches.break_points_won_percentage.min(), matches.break_points_won_percentage.max()"
   ]
  },
  {
   "cell_type": "code",
   "execution_count": 50,
   "metadata": {},
   "outputs": [
    {
     "data": {
      "text/plain": [
       "(0.4999999999998091, 0.0, 1.0)"
      ]
     },
     "execution_count": 50,
     "metadata": {},
     "output_type": "execute_result"
    },
    {
     "data": {
      "image/png": "[encoded data removed]",
      "text/plain": [
       "<Figure size 432x288 with 1 Axes>"
      ]
     },
     "metadata": {
      "needs_background": "light"
     },
     "output_type": "display_data"
    }
   ],
   "source": [
    "matches['points_won'] = matches.service_points_won + matches.return_points_won\n",
    "matches['points_won_percentage'] = matches.points_won / matches.points\n",
    "matches.points_won_percentage.plot(kind='hist', bins=30)\n",
    "# I don't know what I expected.gif\n",
    "matches.points_won_percentage.mean(), matches.points_won_percentage.min(), matches.points_won_percentage.max()"
   ]
  },
  {
   "cell_type": "code",
   "execution_count": 51,
   "metadata": {
    "scrolled": true
   },
   "outputs": [
    {
     "data": {
      "text/plain": [
       "40.11673750071331"
      ]
     },
     "execution_count": 51,
     "metadata": {},
     "output_type": "execute_result"
    },
    {
     "data": {
      "image/png": "[encoded data removed]",
      "text/plain": [
       "<Figure size 432x288 with 1 Axes>"
      ]
     },
     "metadata": {
      "needs_background": "light"
     },
     "output_type": "display_data"
    }
   ],
   "source": [
    "matches.minutes.plot(kind='box', vert=False)\n",
    "matches.minutes.std()"
   ]
  },
  {
   "cell_type": "code",
   "execution_count": 52,
   "metadata": {},
   "outputs": [],
   "source": [
    "matches = matches[['player_name', 'opponent_name', 'tournament_name', 'surface', 'draw_size', 'tournament_level',\n",
    "       'tournament_date', 'seed', 'entry', 'player_height', 'score', 'best_of',\n",
    "       'round_of', 'minutes', 'aces', 'double_faults', 'service_points',\n",
    "       'first_serves', 'first_serves_won', 'second_serves_won',\n",
    "       'service_games', 'break_points_saved', 'break_points_faced',\n",
    "       'player_rank', 'ranking_points', 'opponent_id', 'opponent_rank',\n",
    "       'opponent_ranking_points', 'opponent_height', 'result', 'first_serve_percentage',\n",
    "       'break_points_save_percentage', 'service_points_won',\n",
    "       'service_points_won_percentage', 'points', 'return_points',\n",
    "       'return_points_won', 'return_points_won_percentage',\n",
    "       'first_serves_won_percentage', 'second_serves_won_percentage',\n",
    "       'first_serve_return_points_won',\n",
    "       'first_serve_return_points_won_percentage',\n",
    "       'second_serve_return_points_won',\n",
    "       'second_serve_return_points_won_percentage', 'break_points',\n",
    "       'break_points_won', 'break_points_won_percentage', 'points_won',\n",
    "       'points_won_percentage']]"
   ]
  },
  {
   "cell_type": "code",
   "execution_count": 53,
   "metadata": {
    "scrolled": true
   },
   "outputs": [],
   "source": [
    "matches.result = matches.result.astype('category')\n",
    "matches.surface = matches.surface.astype('category')\n",
    "matches.tournament_level = matches.tournament_level.astype('category')\n",
    "matches.round_of = matches.round_of.astype('category')\n",
    "matches.result = matches.result.astype('category')"
   ]
  },
  {
   "cell_type": "code",
   "execution_count": 54,
   "metadata": {
    "scrolled": true
   },
   "outputs": [
    {
     "name": "stdout",
     "output_type": "stream",
     "text": [
      "<class 'pandas.core.frame.DataFrame'>\n",
      "MultiIndex: 343640 entries, (105453, 2019-M020, 300) to (104755, 2014-D015, 4)\n",
      "Data columns (total 49 columns):\n",
      "player_name                                  343640 non-null object\n",
      "opponent_name                                343640 non-null object\n",
      "tournament_name                              343640 non-null object\n",
      "surface                                      338562 non-null category\n",
      "draw_size                                    8026 non-null float64\n",
      "tournament_level                             343640 non-null category\n",
      "tournament_date                              343640 non-null datetime64[ns]\n",
      "seed                                         99590 non-null object\n",
      "entry                                        40806 non-null object\n",
      "player_height                                292236 non-null float64\n",
      "score                                        343288 non-null object\n",
      "best_of                                      343640 non-null int64\n",
      "round_of                                     343640 non-null category\n",
      "minutes                                      168296 non-null float64\n",
      "aces                                         170894 non-null float64\n",
      "double_faults                                170894 non-null float64\n",
      "service_points                               170800 non-null float64\n",
      "first_serves                                 170800 non-null float64\n",
      "first_serves_won                             170800 non-null float64\n",
      "second_serves_won                            170800 non-null float64\n",
      "service_games                                170894 non-null float64\n",
      "break_points_saved                           170893 non-null float64\n",
      "break_points_faced                           170893 non-null float64\n",
      "player_rank                                  299909 non-null float64\n",
      "ranking_points                               191543 non-null float64\n",
      "opponent_id                                  343640 non-null int64\n",
      "opponent_rank                                299909 non-null float64\n",
      "opponent_ranking_points                      191543 non-null float64\n",
      "opponent_height                              292236 non-null float64\n",
      "result                                       343640 non-null category\n",
      "first_serve_percentage                       170764 non-null float64\n",
      "break_points_save_percentage                 163069 non-null float64\n",
      "service_points_won                           170800 non-null float64\n",
      "service_points_won_percentage                170764 non-null float64\n",
      "points                                       170800 non-null float64\n",
      "return_points                                170800 non-null float64\n",
      "return_points_won                            170800 non-null float64\n",
      "return_points_won_percentage                 170764 non-null float64\n",
      "first_serves_won_percentage                  170762 non-null float64\n",
      "second_serves_won_percentage                 170738 non-null float64\n",
      "first_serve_return_points_won                170800 non-null float64\n",
      "first_serve_return_points_won_percentage     170762 non-null float64\n",
      "second_serve_return_points_won               170800 non-null float64\n",
      "second_serve_return_points_won_percentage    170738 non-null float64\n",
      "break_points                                 170893 non-null float64\n",
      "break_points_won                             170893 non-null float64\n",
      "break_points_won_percentage                  163069 non-null float64\n",
      "points_won                                   170800 non-null float64\n",
      "points_won_percentage                        170800 non-null float64\n",
      "dtypes: category(4), datetime64[ns](1), float64(36), int64(2), object(6)\n",
      "memory usage: 131.9+ MB\n"
     ]
    }
   ],
   "source": [
    "matches.info()"
   ]
  },
  {
   "cell_type": "code",
   "execution_count": 55,
   "metadata": {},
   "outputs": [
    {
     "data": {
      "text/plain": [
       "<matplotlib.axes._subplots.AxesSubplot at 0x13a57c390>"
      ]
     },
     "execution_count": 55,
     "metadata": {},
     "output_type": "execute_result"
    },
    {
     "data": {
      "image/png": "[encoded data removed]",
      "text/plain": [
       "<Figure size 432x288 with 1 Axes>"
      ]
     },
     "metadata": {
      "needs_background": "light"
     },
     "output_type": "display_data"
    }
   ],
   "source": [
    "import seaborn as sns\n",
    "\n",
    "sns.regplot(matches.player_height, matches.service_points_won_percentage)"
   ]
  },
  {
   "cell_type": "code",
   "execution_count": 56,
   "metadata": {},
   "outputs": [],
   "source": [
    "matches['result_value'] = [1 if result == 'W' else 0 for result in matches.result]"
   ]
  },
  {
   "cell_type": "code",
   "execution_count": 57,
   "metadata": {},
   "outputs": [
    {
     "data": {
      "text/plain": [
       "<matplotlib.axes._subplots.AxesSubplot at 0x13f3a64e0>"
      ]
     },
     "execution_count": 57,
     "metadata": {},
     "output_type": "execute_result"
    },
    {
     "data": {
      "image/png": "[encoded data removed]",
      "text/plain": [
       "<Figure size 432x288 with 1 Axes>"
      ]
     },
     "metadata": {
      "needs_background": "light"
     },
     "output_type": "display_data"
    }
   ],
   "source": [
    "sns.regplot(matches.minutes, matches.aces)"
   ]
  },
  {
   "cell_type": "code",
   "execution_count": 58,
   "metadata": {},
   "outputs": [
    {
     "data": {
      "text/html": [
       "<div>\n",
       "<style scoped>\n",
       "    .dataframe tbody tr th:only-of-type {\n",
       "        vertical-align: middle;\n",
       "    }\n",
       "\n",
       "    .dataframe tbody tr th {\n",
       "        vertical-align: top;\n",
       "    }\n",
       "\n",
       "    .dataframe thead th {\n",
       "        text-align: right;\n",
       "    }\n",
       "</style>\n",
       "<table border=\"1\" class=\"dataframe\">\n",
       "  <thead>\n",
       "    <tr style=\"text-align: right;\">\n",
       "      <th></th>\n",
       "      <th>name_first</th>\n",
       "      <th>name_last</th>\n",
       "      <th>hand</th>\n",
       "      <th>birthdate</th>\n",
       "      <th>country</th>\n",
       "    </tr>\n",
       "    <tr>\n",
       "      <th>player_id</th>\n",
       "      <th></th>\n",
       "      <th></th>\n",
       "      <th></th>\n",
       "      <th></th>\n",
       "      <th></th>\n",
       "    </tr>\n",
       "  </thead>\n",
       "  <tbody>\n",
       "    <tr>\n",
       "      <th>100644</th>\n",
       "      <td>Alexander</td>\n",
       "      <td>Zverev</td>\n",
       "      <td>R</td>\n",
       "      <td>1997-04-20</td>\n",
       "      <td>GER</td>\n",
       "    </tr>\n",
       "    <tr>\n",
       "      <th>104999</th>\n",
       "      <td>Mischa</td>\n",
       "      <td>Zverev</td>\n",
       "      <td>L</td>\n",
       "      <td>1987-08-22</td>\n",
       "      <td>GER</td>\n",
       "    </tr>\n",
       "    <tr>\n",
       "      <th>125903</th>\n",
       "      <td>Xxxxxxx</td>\n",
       "      <td>Zverev</td>\n",
       "      <td>U</td>\n",
       "      <td>NaT</td>\n",
       "      <td>GER</td>\n",
       "    </tr>\n",
       "  </tbody>\n",
       "</table>\n",
       "</div>"
      ],
      "text/plain": [
       "          name_first name_last hand  birthdate country\n",
       "player_id                                             \n",
       "100644     Alexander    Zverev    R 1997-04-20     GER\n",
       "104999        Mischa    Zverev    L 1987-08-22     GER\n",
       "125903       Xxxxxxx    Zverev    U        NaT     GER"
      ]
     },
     "execution_count": 58,
     "metadata": {},
     "output_type": "execute_result"
    }
   ],
   "source": [
    "players[players.name_last == 'Zverev']"
   ]
  },
  {
   "cell_type": "code",
   "execution_count": 59,
   "metadata": {},
   "outputs": [],
   "source": [
    "COLUMNS = ['aces', 'double_faults',\n",
    "       'first_serve_percentage', 'break_points_save_percentage', 'service_points_won_percentage', \n",
    "       'return_points_won_percentage',\n",
    "       'first_serves_won_percentage', 'second_serves_won_percentage',\n",
    "       'first_serve_return_points_won_percentage',\n",
    "       'second_serve_return_points_won_percentage', \n",
    "       'break_points_won_percentage',\n",
    "       'points_won_percentage']\n",
    "\n",
    "CAREER_COLUMNS = ['career_aces', 'career_double_faults',\n",
    "       'career_first_serve_percentage', 'career_break_points_save_percentage', 'career_service_points_won_percentage', \n",
    "       'career_return_points_won_percentage',\n",
    "       'career_first_serves_won_percentage', 'career_second_serves_won_percentage',\n",
    "       'career_first_serve_return_points_won_percentage',\n",
    "       'career_second_serve_return_points_won_percentage', \n",
    "       'career_break_points_won_percentage',\n",
    "       'career_points_won_percentage']\n",
    "\n",
    "RECENT_COLUMNS = ['recent_aces', 'recent_double_faults',\n",
    "       'recent_first_serve_percentage', 'recent_break_points_save_percentage', 'recent_service_points_won_percentage', \n",
    "       'recent_return_points_won_percentage',\n",
    "       'recent_first_serves_won_percentage', 'recent_second_serves_won_percentage',\n",
    "       'recent_first_serve_return_points_won_percentage',\n",
    "       'recent_second_serve_return_points_won_percentage', \n",
    "       'recent_break_points_won_percentage',\n",
    "       'recent_points_won_percentage']\n",
    "\n",
    "PAST_YEAR_COLUMNS = ['past_year_aces', 'past_year_double_faults',\n",
    "       'past_year_first_serve_percentage', 'past_year_break_points_save_percentage', 'past_year_service_points_won_percentage', \n",
    "       'past_year_return_points_won_percentage',\n",
    "       'past_year_first_serves_won_percentage', 'past_year_second_serves_won_percentage',\n",
    "       'past_year_first_serve_return_points_won_percentage',\n",
    "       'past_year_second_serve_return_points_won_percentage', \n",
    "       'past_year_break_points_won_percentage',\n",
    "       'past_year_points_won_percentage']"
   ]
  },
  {
   "cell_type": "code",
   "execution_count": 60,
   "metadata": {},
   "outputs": [],
   "source": [
    "matches.reset_index(inplace=True)\n",
    "matches.drop_duplicates(subset=['player_id', 'tournament_date', 'match_id'], inplace=True)\n",
    "matches.drop_duplicates(subset=['player_id', 'tournament_date', 'opponent_id'], inplace=True)\n",
    "matches.set_index(['player_id', 'tournament_date', 'match_id'], inplace=True)\n",
    "matches.sort_index(inplace=True)"
   ]
  },
  {
   "cell_type": "code",
   "execution_count": 61,
   "metadata": {},
   "outputs": [],
   "source": [
    "expanding_mean = matches.reset_index('player_id').groupby('player_id')[COLUMNS].expanding().mean().dropna()"
   ]
  },
  {
   "cell_type": "code",
   "execution_count": 62,
   "metadata": {},
   "outputs": [],
   "source": [
    "past_year_mean = matches.shift().reset_index(['player_id', 'match_id']).groupby('player_id')[COLUMNS].rolling('365D').mean().bfill()"
   ]
  },
  {
   "cell_type": "code",
   "execution_count": 63,
   "metadata": {},
   "outputs": [],
   "source": [
    "rolling_mean = matches.shift().reset_index('player_id').groupby('player_id')[COLUMNS].rolling(10).mean().bfill().dropna()"
   ]
  },
  {
   "cell_type": "code",
   "execution_count": 64,
   "metadata": {},
   "outputs": [],
   "source": [
    "expanding_mean.columns = CAREER_COLUMNS\n",
    "rolling_mean.columns = RECENT_COLUMNS"
   ]
  },
  {
   "cell_type": "code",
   "execution_count": 65,
   "metadata": {},
   "outputs": [],
   "source": [
    "matches = matches.merge(expanding_mean, left_index=True, right_index=True, how='left')\n",
    "matches = matches.merge(rolling_mean, left_index=True, right_index=True, how='left')\n",
    "for i, column in enumerate(past_year_mean.columns):\n",
    "    matches[PAST_YEAR_COLUMNS[i]] = past_year_mean[past_year_mean.columns[i]].values"
   ]
  },
  {
   "cell_type": "code",
   "execution_count": 66,
   "metadata": {},
   "outputs": [],
   "source": [
    "opponent_expanding_mean = matches.reset_index().set_index(['opponent_id', 'tournament_date', 'match_id'])[CAREER_COLUMNS]\n",
    "opponent_rolling_mean = matches.reset_index().set_index(['opponent_id', 'tournament_date', 'match_id'])[RECENT_COLUMNS]\n",
    "opponent_past_year_mean = matches.reset_index().set_index(['opponent_id', 'tournament_date', 'match_id'])[PAST_YEAR_COLUMNS]"
   ]
  },
  {
   "cell_type": "code",
   "execution_count": 67,
   "metadata": {},
   "outputs": [],
   "source": [
    "opponent_expanding_mean.sort_index(inplace=True)\n",
    "opponent_rolling_mean.sort_index(inplace=True)\n",
    "opponent_past_year_mean.sort_index(inplace=True)"
   ]
  },
  {
   "cell_type": "code",
   "execution_count": 68,
   "metadata": {},
   "outputs": [],
   "source": [
    "opponent_expanding_mean.rename_axis(['player_id', 'tournament_date', 'match_id'], inplace=True)\n",
    "opponent_rolling_mean.rename_axis(['player_id', 'tournament_date', 'match_id'], inplace=True)\n",
    "opponent_past_year_mean.rename_axis(['player_id', 'tournament_date', 'match_id'], inplace=True)"
   ]
  },
  {
   "cell_type": "code",
   "execution_count": 69,
   "metadata": {},
   "outputs": [],
   "source": [
    "matches.reset_index(inplace=True)\n",
    "matches.drop_duplicates(subset=['player_id', 'tournament_date', 'match_id'], inplace=True)\n",
    "matches.set_index(['player_id', 'tournament_date', 'match_id'], inplace=True)"
   ]
  },
  {
   "cell_type": "code",
   "execution_count": 70,
   "metadata": {
    "scrolled": true
   },
   "outputs": [],
   "source": [
    "opponent_expanding_mean = opponent_expanding_mean[~opponent_expanding_mean.index.duplicated()]\n",
    "opponent_rolling_mean = opponent_rolling_mean[~opponent_rolling_mean.index.duplicated()]\n",
    "opponent_past_year_mean = opponent_past_year_mean[~opponent_past_year_mean.index.duplicated()]"
   ]
  },
  {
   "cell_type": "code",
   "execution_count": 71,
   "metadata": {},
   "outputs": [],
   "source": [
    "matches[CAREER_COLUMNS] = matches[CAREER_COLUMNS] - opponent_expanding_mean[CAREER_COLUMNS]"
   ]
  },
  {
   "cell_type": "code",
   "execution_count": 72,
   "metadata": {},
   "outputs": [],
   "source": [
    "matches[RECENT_COLUMNS] = matches[RECENT_COLUMNS] - opponent_rolling_mean[RECENT_COLUMNS]"
   ]
  },
  {
   "cell_type": "code",
   "execution_count": 73,
   "metadata": {},
   "outputs": [],
   "source": [
    "matches[PAST_YEAR_COLUMNS] = matches[PAST_YEAR_COLUMNS] - opponent_past_year_mean[PAST_YEAR_COLUMNS]"
   ]
  },
  {
   "cell_type": "code",
   "execution_count": 74,
   "metadata": {},
   "outputs": [],
   "source": [
    "head_to_head = matches.reset_index().set_index(['player_id', 'opponent_id', 'tournament_date']).sort_index()"
   ]
  },
  {
   "cell_type": "code",
   "execution_count": 75,
   "metadata": {},
   "outputs": [],
   "source": [
    "head_to_head['result_value'] = head_to_head.result_value.apply(lambda x: -1 if x == 0 else x)"
   ]
  },
  {
   "cell_type": "code",
   "execution_count": 76,
   "metadata": {},
   "outputs": [],
   "source": [
    "head_to_head = head_to_head.groupby(['player_id', 'opponent_id']).result_value.cumsum()   \\\n",
    "            .groupby(['player_id', 'opponent_id']).shift()                 \\\n",
    "            .reset_index('tournament_date').fillna(0)"
   ]
  },
  {
   "cell_type": "code",
   "execution_count": 77,
   "metadata": {},
   "outputs": [
    {
     "data": {
      "text/html": [
       "<div>\n",
       "<style scoped>\n",
       "    .dataframe tbody tr th:only-of-type {\n",
       "        vertical-align: middle;\n",
       "    }\n",
       "\n",
       "    .dataframe tbody tr th {\n",
       "        vertical-align: top;\n",
       "    }\n",
       "\n",
       "    .dataframe thead th {\n",
       "        text-align: right;\n",
       "    }\n",
       "</style>\n",
       "<table border=\"1\" class=\"dataframe\">\n",
       "  <thead>\n",
       "    <tr style=\"text-align: right;\">\n",
       "      <th></th>\n",
       "      <th>name_first</th>\n",
       "      <th>name_last</th>\n",
       "      <th>hand</th>\n",
       "      <th>birthdate</th>\n",
       "      <th>country</th>\n",
       "    </tr>\n",
       "    <tr>\n",
       "      <th>player_id</th>\n",
       "      <th></th>\n",
       "      <th></th>\n",
       "      <th></th>\n",
       "      <th></th>\n",
       "      <th></th>\n",
       "    </tr>\n",
       "  </thead>\n",
       "  <tbody>\n",
       "    <tr>\n",
       "      <th>103819</th>\n",
       "      <td>Roger</td>\n",
       "      <td>Federer</td>\n",
       "      <td>R</td>\n",
       "      <td>1981-08-08</td>\n",
       "      <td>SUI</td>\n",
       "    </tr>\n",
       "  </tbody>\n",
       "</table>\n",
       "</div>"
      ],
      "text/plain": [
       "          name_first name_last hand  birthdate country\n",
       "player_id                                             \n",
       "103819         Roger   Federer    R 1981-08-08     SUI"
      ]
     },
     "execution_count": 77,
     "metadata": {},
     "output_type": "execute_result"
    }
   ],
   "source": [
    "players[players.name_last == 'Federer']"
   ]
  },
  {
   "cell_type": "code",
   "execution_count": 78,
   "metadata": {},
   "outputs": [],
   "source": [
    "winrate = matches.reset_index().set_index(['player_id', 'tournament_date', 'match_id']).sort_index()"
   ]
  },
  {
   "cell_type": "code",
   "execution_count": 79,
   "metadata": {},
   "outputs": [],
   "source": [
    "num_matches = winrate.groupby(['player_id', 'surface']).result_value.expanding().count()"
   ]
  },
  {
   "cell_type": "code",
   "execution_count": 80,
   "metadata": {},
   "outputs": [],
   "source": [
    "wins = (winrate.groupby(['player_id', 'surface']).result_value.expanding().sum())"
   ]
  },
  {
   "cell_type": "code",
   "execution_count": 81,
   "metadata": {},
   "outputs": [],
   "source": [
    "winrates = (wins / num_matches).groupby(['player_id', 'surface']).shift().reset_index(level=2).result_value"
   ]
  },
  {
   "cell_type": "code",
   "execution_count": 82,
   "metadata": {},
   "outputs": [],
   "source": [
    "matches = matches.reset_index().set_index(['player_id', 'tournament_date', 'match_id'])"
   ]
  },
  {
   "cell_type": "code",
   "execution_count": 83,
   "metadata": {},
   "outputs": [],
   "source": [
    "matches['winrate'] = winrates.reset_index().set_index(['player_id', 'tournament_date', 'match_id']).result_value"
   ]
  },
  {
   "cell_type": "code",
   "execution_count": 84,
   "metadata": {},
   "outputs": [],
   "source": [
    "opponent_winrates = winrates.reset_index() \\\n",
    "                            .set_index(['player_id', 'tournament_date', 'match_id']) \\\n",
    "                            .rename_axis(index={'player_id': 'opponent_id'})"
   ]
  },
  {
   "cell_type": "code",
   "execution_count": 85,
   "metadata": {},
   "outputs": [],
   "source": [
    "matches.reset_index(inplace=True)\n",
    "matches.set_index(['opponent_id', 'tournament_date', 'match_id'], inplace=True)\n",
    "matches = matches[~matches.index.duplicated()]\n",
    "matches['winrate'] = (matches.winrate - opponent_winrates.result_value).fillna(0)"
   ]
  },
  {
   "cell_type": "code",
   "execution_count": 86,
   "metadata": {
    "scrolled": true
   },
   "outputs": [
    {
     "name": "stderr",
     "output_type": "stream",
     "text": [
      "/usr/local/anaconda3/lib/python3.7/site-packages/ipykernel_launcher.py:3: FutureWarning: \n",
      "Passing list-likes to .loc or [] with any missing label will raise\n",
      "KeyError in the future, you can use .reindex() as an alternative.\n",
      "\n",
      "See the documentation here:\n",
      "https://pandas.pydata.org/pandas-docs/stable/user_guide/indexing.html#deprecate-loc-reindex-listlike\n",
      "  This is separate from the ipykernel package so we can avoid doing imports until\n"
     ]
    },
    {
     "data": {
      "text/html": [
       "<div>\n",
       "<style scoped>\n",
       "    .dataframe tbody tr th:only-of-type {\n",
       "        vertical-align: middle;\n",
       "    }\n",
       "\n",
       "    .dataframe tbody tr th {\n",
       "        vertical-align: top;\n",
       "    }\n",
       "\n",
       "    .dataframe thead th {\n",
       "        text-align: right;\n",
       "    }\n",
       "</style>\n",
       "<table border=\"1\" class=\"dataframe\">\n",
       "  <thead>\n",
       "    <tr style=\"text-align: right;\">\n",
       "      <th></th>\n",
       "      <th></th>\n",
       "      <th></th>\n",
       "      <th>opponent_id</th>\n",
       "      <th>tournament_id</th>\n",
       "      <th>player_name</th>\n",
       "      <th>opponent_name</th>\n",
       "      <th>tournament_name</th>\n",
       "      <th>surface</th>\n",
       "      <th>draw_size</th>\n",
       "      <th>tournament_level</th>\n",
       "      <th>seed</th>\n",
       "      <th>entry</th>\n",
       "      <th>...</th>\n",
       "      <th>past_year_break_points_save_percentage</th>\n",
       "      <th>past_year_service_points_won_percentage</th>\n",
       "      <th>past_year_return_points_won_percentage</th>\n",
       "      <th>past_year_first_serves_won_percentage</th>\n",
       "      <th>past_year_second_serves_won_percentage</th>\n",
       "      <th>past_year_first_serve_return_points_won_percentage</th>\n",
       "      <th>past_year_second_serve_return_points_won_percentage</th>\n",
       "      <th>past_year_break_points_won_percentage</th>\n",
       "      <th>past_year_points_won_percentage</th>\n",
       "      <th>winrate</th>\n",
       "    </tr>\n",
       "    <tr>\n",
       "      <th>player_id</th>\n",
       "      <th>tournament_date</th>\n",
       "      <th>match_id</th>\n",
       "      <th></th>\n",
       "      <th></th>\n",
       "      <th></th>\n",
       "      <th></th>\n",
       "      <th></th>\n",
       "      <th></th>\n",
       "      <th></th>\n",
       "      <th></th>\n",
       "      <th></th>\n",
       "      <th></th>\n",
       "      <th></th>\n",
       "      <th></th>\n",
       "      <th></th>\n",
       "      <th></th>\n",
       "      <th></th>\n",
       "      <th></th>\n",
       "      <th></th>\n",
       "      <th></th>\n",
       "      <th></th>\n",
       "      <th></th>\n",
       "      <th></th>\n",
       "    </tr>\n",
       "  </thead>\n",
       "  <tbody>\n",
       "    <tr>\n",
       "      <th rowspan=\"5\" valign=\"top\">100011</th>\n",
       "      <th rowspan=\"2\" valign=\"top\">1968-02-08</th>\n",
       "      <th>4.0</th>\n",
       "      <td>100186.0</td>\n",
       "      <td>1968-401</td>\n",
       "      <td>Torben Ulrich</td>\n",
       "      <td>Jeff Borowiak</td>\n",
       "      <td>Philadelphia WCT</td>\n",
       "      <td>Carpet</td>\n",
       "      <td>16.0</td>\n",
       "      <td>A</td>\n",
       "      <td>NaN</td>\n",
       "      <td>NaN</td>\n",
       "      <td>...</td>\n",
       "      <td>0.000000</td>\n",
       "      <td>0.000000</td>\n",
       "      <td>0.000000</td>\n",
       "      <td>0.000000</td>\n",
       "      <td>0.000000</td>\n",
       "      <td>0.000000</td>\n",
       "      <td>0.000000</td>\n",
       "      <td>0.000000</td>\n",
       "      <td>0.000000</td>\n",
       "      <td>0.000000</td>\n",
       "    </tr>\n",
       "    <tr>\n",
       "      <th>8.0</th>\n",
       "      <td>100028.0</td>\n",
       "      <td>1968-401</td>\n",
       "      <td>Torben Ulrich</td>\n",
       "      <td>Manuel Santana</td>\n",
       "      <td>Philadelphia WCT</td>\n",
       "      <td>Carpet</td>\n",
       "      <td>16.0</td>\n",
       "      <td>A</td>\n",
       "      <td>NaN</td>\n",
       "      <td>NaN</td>\n",
       "      <td>...</td>\n",
       "      <td>0.000000</td>\n",
       "      <td>0.000000</td>\n",
       "      <td>0.000000</td>\n",
       "      <td>0.000000</td>\n",
       "      <td>0.000000</td>\n",
       "      <td>0.000000</td>\n",
       "      <td>0.000000</td>\n",
       "      <td>0.000000</td>\n",
       "      <td>0.000000</td>\n",
       "      <td>0.000000</td>\n",
       "    </tr>\n",
       "    <tr>\n",
       "      <th rowspan=\"2\" valign=\"top\">1968-04-28</th>\n",
       "      <th>1.0</th>\n",
       "      <td>100119.0</td>\n",
       "      <td>1968-D013</td>\n",
       "      <td>Torben Ulrich</td>\n",
       "      <td>Ilie Nastase</td>\n",
       "      <td>Davis Cup EUR R1: ROU vs DEN</td>\n",
       "      <td>Clay</td>\n",
       "      <td>4.0</td>\n",
       "      <td>D</td>\n",
       "      <td>NaN</td>\n",
       "      <td>NaN</td>\n",
       "      <td>...</td>\n",
       "      <td>0.000000</td>\n",
       "      <td>0.000000</td>\n",
       "      <td>0.000000</td>\n",
       "      <td>0.000000</td>\n",
       "      <td>0.000000</td>\n",
       "      <td>0.000000</td>\n",
       "      <td>0.000000</td>\n",
       "      <td>0.000000</td>\n",
       "      <td>0.000000</td>\n",
       "      <td>0.000000</td>\n",
       "    </tr>\n",
       "    <tr>\n",
       "      <th>3.0</th>\n",
       "      <td>100035.0</td>\n",
       "      <td>1968-D013</td>\n",
       "      <td>Torben Ulrich</td>\n",
       "      <td>Ion Tiriac</td>\n",
       "      <td>Davis Cup EUR R1: ROU vs DEN</td>\n",
       "      <td>Clay</td>\n",
       "      <td>4.0</td>\n",
       "      <td>D</td>\n",
       "      <td>NaN</td>\n",
       "      <td>NaN</td>\n",
       "      <td>...</td>\n",
       "      <td>0.000000</td>\n",
       "      <td>0.000000</td>\n",
       "      <td>0.000000</td>\n",
       "      <td>0.000000</td>\n",
       "      <td>0.000000</td>\n",
       "      <td>0.000000</td>\n",
       "      <td>0.000000</td>\n",
       "      <td>0.000000</td>\n",
       "      <td>0.000000</td>\n",
       "      <td>-1.000000</td>\n",
       "    </tr>\n",
       "    <tr>\n",
       "      <th>1968-05-27</th>\n",
       "      <th>69.0</th>\n",
       "      <td>109765.0</td>\n",
       "      <td>1968-520</td>\n",
       "      <td>Torben Ulrich</td>\n",
       "      <td>Marco Gilardelli</td>\n",
       "      <td>Roland Garros</td>\n",
       "      <td>Clay</td>\n",
       "      <td>128.0</td>\n",
       "      <td>G</td>\n",
       "      <td>NaN</td>\n",
       "      <td>NaN</td>\n",
       "      <td>...</td>\n",
       "      <td>-0.083333</td>\n",
       "      <td>0.259503</td>\n",
       "      <td>0.063959</td>\n",
       "      <td>0.285106</td>\n",
       "      <td>0.165775</td>\n",
       "      <td>-0.015607</td>\n",
       "      <td>0.064935</td>\n",
       "      <td>-0.166667</td>\n",
       "      <td>0.154284</td>\n",
       "      <td>0.000000</td>\n",
       "    </tr>\n",
       "    <tr>\n",
       "      <th>...</th>\n",
       "      <th>...</th>\n",
       "      <th>...</th>\n",
       "      <td>...</td>\n",
       "      <td>...</td>\n",
       "      <td>...</td>\n",
       "      <td>...</td>\n",
       "      <td>...</td>\n",
       "      <td>...</td>\n",
       "      <td>...</td>\n",
       "      <td>...</td>\n",
       "      <td>...</td>\n",
       "      <td>...</td>\n",
       "      <td>...</td>\n",
       "      <td>...</td>\n",
       "      <td>...</td>\n",
       "      <td>...</td>\n",
       "      <td>...</td>\n",
       "      <td>...</td>\n",
       "      <td>...</td>\n",
       "      <td>...</td>\n",
       "      <td>...</td>\n",
       "      <td>...</td>\n",
       "      <td>...</td>\n",
       "    </tr>\n",
       "    <tr>\n",
       "      <th rowspan=\"5\" valign=\"top\">206173</th>\n",
       "      <th rowspan=\"3\" valign=\"top\">2019-10-14</th>\n",
       "      <th>293.0</th>\n",
       "      <td>104792.0</td>\n",
       "      <td>2019-7485</td>\n",
       "      <td>Jannik Sinner</td>\n",
       "      <td>Gael Monfils</td>\n",
       "      <td>Antwerp</td>\n",
       "      <td>Hard</td>\n",
       "      <td>32.0</td>\n",
       "      <td>A</td>\n",
       "      <td>NaN</td>\n",
       "      <td>WC</td>\n",
       "      <td>...</td>\n",
       "      <td>-0.323771</td>\n",
       "      <td>-0.100232</td>\n",
       "      <td>-0.049216</td>\n",
       "      <td>-0.130766</td>\n",
       "      <td>-0.032123</td>\n",
       "      <td>-0.041801</td>\n",
       "      <td>-0.043788</td>\n",
       "      <td>-0.043809</td>\n",
       "      <td>-0.078843</td>\n",
       "      <td>-0.320175</td>\n",
       "    </tr>\n",
       "    <tr>\n",
       "      <th>297.0</th>\n",
       "      <td>126207.0</td>\n",
       "      <td>2019-7485</td>\n",
       "      <td>Jannik Sinner</td>\n",
       "      <td>Francis Tiafoe</td>\n",
       "      <td>Antwerp</td>\n",
       "      <td>Hard</td>\n",
       "      <td>32.0</td>\n",
       "      <td>A</td>\n",
       "      <td>NaN</td>\n",
       "      <td>WC</td>\n",
       "      <td>...</td>\n",
       "      <td>-0.164118</td>\n",
       "      <td>-0.075409</td>\n",
       "      <td>0.013677</td>\n",
       "      <td>-0.098499</td>\n",
       "      <td>-0.011884</td>\n",
       "      <td>0.037611</td>\n",
       "      <td>-0.018584</td>\n",
       "      <td>0.000190</td>\n",
       "      <td>-0.034157</td>\n",
       "      <td>0.063830</td>\n",
       "    </tr>\n",
       "    <tr>\n",
       "      <th>299.0</th>\n",
       "      <td>104527.0</td>\n",
       "      <td>2019-7485</td>\n",
       "      <td>Jannik Sinner</td>\n",
       "      <td>Stanislas Wawrinka</td>\n",
       "      <td>Antwerp</td>\n",
       "      <td>Hard</td>\n",
       "      <td>32.0</td>\n",
       "      <td>A</td>\n",
       "      <td>NaN</td>\n",
       "      <td>WC</td>\n",
       "      <td>...</td>\n",
       "      <td>-0.276646</td>\n",
       "      <td>-0.099736</td>\n",
       "      <td>0.010146</td>\n",
       "      <td>-0.137613</td>\n",
       "      <td>-0.048957</td>\n",
       "      <td>0.018236</td>\n",
       "      <td>0.000604</td>\n",
       "      <td>-0.038105</td>\n",
       "      <td>-0.048677</td>\n",
       "      <td>-0.036761</td>\n",
       "    </tr>\n",
       "    <tr>\n",
       "      <th rowspan=\"2\" valign=\"top\">2019-10-21</th>\n",
       "      <th>275.0</th>\n",
       "      <td>104259.0</td>\n",
       "      <td>2019-0337</td>\n",
       "      <td>Jannik Sinner</td>\n",
       "      <td>Philipp Kohlschreiber</td>\n",
       "      <td>Vienna</td>\n",
       "      <td>Hard</td>\n",
       "      <td>32.0</td>\n",
       "      <td>A</td>\n",
       "      <td>NaN</td>\n",
       "      <td>WC</td>\n",
       "      <td>...</td>\n",
       "      <td>-0.161166</td>\n",
       "      <td>-0.078246</td>\n",
       "      <td>-0.004789</td>\n",
       "      <td>-0.086758</td>\n",
       "      <td>-0.057536</td>\n",
       "      <td>0.020202</td>\n",
       "      <td>-0.025118</td>\n",
       "      <td>0.016073</td>\n",
       "      <td>-0.042354</td>\n",
       "      <td>-0.037559</td>\n",
       "    </tr>\n",
       "    <tr>\n",
       "      <th>288.0</th>\n",
       "      <td>104792.0</td>\n",
       "      <td>2019-0337</td>\n",
       "      <td>Jannik Sinner</td>\n",
       "      <td>Gael Monfils</td>\n",
       "      <td>Vienna</td>\n",
       "      <td>Hard</td>\n",
       "      <td>32.0</td>\n",
       "      <td>A</td>\n",
       "      <td>NaN</td>\n",
       "      <td>WC</td>\n",
       "      <td>...</td>\n",
       "      <td>-0.189804</td>\n",
       "      <td>-0.067466</td>\n",
       "      <td>-0.038955</td>\n",
       "      <td>-0.089274</td>\n",
       "      <td>-0.012153</td>\n",
       "      <td>-0.033946</td>\n",
       "      <td>-0.028492</td>\n",
       "      <td>-0.039425</td>\n",
       "      <td>-0.057970</td>\n",
       "      <td>-0.081410</td>\n",
       "    </tr>\n",
       "  </tbody>\n",
       "</table>\n",
       "<p>299761 rows × 87 columns</p>\n",
       "</div>"
      ],
      "text/plain": [
       "                                    opponent_id tournament_id    player_name  \\\n",
       "player_id tournament_date match_id                                             \n",
       "100011    1968-02-08      4.0          100186.0      1968-401  Torben Ulrich   \n",
       "                          8.0          100028.0      1968-401  Torben Ulrich   \n",
       "          1968-04-28      1.0          100119.0     1968-D013  Torben Ulrich   \n",
       "                          3.0          100035.0     1968-D013  Torben Ulrich   \n",
       "          1968-05-27      69.0         109765.0      1968-520  Torben Ulrich   \n",
       "...                                         ...           ...            ...   \n",
       "206173    2019-10-14      293.0        104792.0     2019-7485  Jannik Sinner   \n",
       "                          297.0        126207.0     2019-7485  Jannik Sinner   \n",
       "                          299.0        104527.0     2019-7485  Jannik Sinner   \n",
       "          2019-10-21      275.0        104259.0     2019-0337  Jannik Sinner   \n",
       "                          288.0        104792.0     2019-0337  Jannik Sinner   \n",
       "\n",
       "                                            opponent_name  \\\n",
       "player_id tournament_date match_id                          \n",
       "100011    1968-02-08      4.0               Jeff Borowiak   \n",
       "                          8.0              Manuel Santana   \n",
       "          1968-04-28      1.0                Ilie Nastase   \n",
       "                          3.0                  Ion Tiriac   \n",
       "          1968-05-27      69.0           Marco Gilardelli   \n",
       "...                                                   ...   \n",
       "206173    2019-10-14      293.0              Gael Monfils   \n",
       "                          297.0            Francis Tiafoe   \n",
       "                          299.0        Stanislas Wawrinka   \n",
       "          2019-10-21      275.0     Philipp Kohlschreiber   \n",
       "                          288.0              Gael Monfils   \n",
       "\n",
       "                                                 tournament_name surface  \\\n",
       "player_id tournament_date match_id                                         \n",
       "100011    1968-02-08      4.0                   Philadelphia WCT  Carpet   \n",
       "                          8.0                   Philadelphia WCT  Carpet   \n",
       "          1968-04-28      1.0       Davis Cup EUR R1: ROU vs DEN    Clay   \n",
       "                          3.0       Davis Cup EUR R1: ROU vs DEN    Clay   \n",
       "          1968-05-27      69.0                     Roland Garros    Clay   \n",
       "...                                                          ...     ...   \n",
       "206173    2019-10-14      293.0                          Antwerp    Hard   \n",
       "                          297.0                          Antwerp    Hard   \n",
       "                          299.0                          Antwerp    Hard   \n",
       "          2019-10-21      275.0                           Vienna    Hard   \n",
       "                          288.0                           Vienna    Hard   \n",
       "\n",
       "                                    draw_size tournament_level seed entry  \\\n",
       "player_id tournament_date match_id                                          \n",
       "100011    1968-02-08      4.0            16.0                A  NaN   NaN   \n",
       "                          8.0            16.0                A  NaN   NaN   \n",
       "          1968-04-28      1.0             4.0                D  NaN   NaN   \n",
       "                          3.0             4.0                D  NaN   NaN   \n",
       "          1968-05-27      69.0          128.0                G  NaN   NaN   \n",
       "...                                       ...              ...  ...   ...   \n",
       "206173    2019-10-14      293.0          32.0                A  NaN    WC   \n",
       "                          297.0          32.0                A  NaN    WC   \n",
       "                          299.0          32.0                A  NaN    WC   \n",
       "          2019-10-21      275.0          32.0                A  NaN    WC   \n",
       "                          288.0          32.0                A  NaN    WC   \n",
       "\n",
       "                                    ...  \\\n",
       "player_id tournament_date match_id  ...   \n",
       "100011    1968-02-08      4.0       ...   \n",
       "                          8.0       ...   \n",
       "          1968-04-28      1.0       ...   \n",
       "                          3.0       ...   \n",
       "          1968-05-27      69.0      ...   \n",
       "...                                 ...   \n",
       "206173    2019-10-14      293.0     ...   \n",
       "                          297.0     ...   \n",
       "                          299.0     ...   \n",
       "          2019-10-21      275.0     ...   \n",
       "                          288.0     ...   \n",
       "\n",
       "                                    past_year_break_points_save_percentage  \\\n",
       "player_id tournament_date match_id                                           \n",
       "100011    1968-02-08      4.0                                     0.000000   \n",
       "                          8.0                                     0.000000   \n",
       "          1968-04-28      1.0                                     0.000000   \n",
       "                          3.0                                     0.000000   \n",
       "          1968-05-27      69.0                                   -0.083333   \n",
       "...                                                                    ...   \n",
       "206173    2019-10-14      293.0                                  -0.323771   \n",
       "                          297.0                                  -0.164118   \n",
       "                          299.0                                  -0.276646   \n",
       "          2019-10-21      275.0                                  -0.161166   \n",
       "                          288.0                                  -0.189804   \n",
       "\n",
       "                                   past_year_service_points_won_percentage  \\\n",
       "player_id tournament_date match_id                                           \n",
       "100011    1968-02-08      4.0                                     0.000000   \n",
       "                          8.0                                     0.000000   \n",
       "          1968-04-28      1.0                                     0.000000   \n",
       "                          3.0                                     0.000000   \n",
       "          1968-05-27      69.0                                    0.259503   \n",
       "...                                                                    ...   \n",
       "206173    2019-10-14      293.0                                  -0.100232   \n",
       "                          297.0                                  -0.075409   \n",
       "                          299.0                                  -0.099736   \n",
       "          2019-10-21      275.0                                  -0.078246   \n",
       "                          288.0                                  -0.067466   \n",
       "\n",
       "                                    past_year_return_points_won_percentage  \\\n",
       "player_id tournament_date match_id                                           \n",
       "100011    1968-02-08      4.0                                     0.000000   \n",
       "                          8.0                                     0.000000   \n",
       "          1968-04-28      1.0                                     0.000000   \n",
       "                          3.0                                     0.000000   \n",
       "          1968-05-27      69.0                                    0.063959   \n",
       "...                                                                    ...   \n",
       "206173    2019-10-14      293.0                                  -0.049216   \n",
       "                          297.0                                   0.013677   \n",
       "                          299.0                                   0.010146   \n",
       "          2019-10-21      275.0                                  -0.004789   \n",
       "                          288.0                                  -0.038955   \n",
       "\n",
       "                                   past_year_first_serves_won_percentage  \\\n",
       "player_id tournament_date match_id                                         \n",
       "100011    1968-02-08      4.0                                   0.000000   \n",
       "                          8.0                                   0.000000   \n",
       "          1968-04-28      1.0                                   0.000000   \n",
       "                          3.0                                   0.000000   \n",
       "          1968-05-27      69.0                                  0.285106   \n",
       "...                                                                  ...   \n",
       "206173    2019-10-14      293.0                                -0.130766   \n",
       "                          297.0                                -0.098499   \n",
       "                          299.0                                -0.137613   \n",
       "          2019-10-21      275.0                                -0.086758   \n",
       "                          288.0                                -0.089274   \n",
       "\n",
       "                                    past_year_second_serves_won_percentage  \\\n",
       "player_id tournament_date match_id                                           \n",
       "100011    1968-02-08      4.0                                     0.000000   \n",
       "                          8.0                                     0.000000   \n",
       "          1968-04-28      1.0                                     0.000000   \n",
       "                          3.0                                     0.000000   \n",
       "          1968-05-27      69.0                                    0.165775   \n",
       "...                                                                    ...   \n",
       "206173    2019-10-14      293.0                                  -0.032123   \n",
       "                          297.0                                  -0.011884   \n",
       "                          299.0                                  -0.048957   \n",
       "          2019-10-21      275.0                                  -0.057536   \n",
       "                          288.0                                  -0.012153   \n",
       "\n",
       "                                    past_year_first_serve_return_points_won_percentage  \\\n",
       "player_id tournament_date match_id                                                       \n",
       "100011    1968-02-08      4.0                                                0.000000    \n",
       "                          8.0                                                0.000000    \n",
       "          1968-04-28      1.0                                                0.000000    \n",
       "                          3.0                                                0.000000    \n",
       "          1968-05-27      69.0                                              -0.015607    \n",
       "...                                                                               ...    \n",
       "206173    2019-10-14      293.0                                             -0.041801    \n",
       "                          297.0                                              0.037611    \n",
       "                          299.0                                              0.018236    \n",
       "          2019-10-21      275.0                                              0.020202    \n",
       "                          288.0                                             -0.033946    \n",
       "\n",
       "                                    past_year_second_serve_return_points_won_percentage  \\\n",
       "player_id tournament_date match_id                                                        \n",
       "100011    1968-02-08      4.0                                                0.000000     \n",
       "                          8.0                                                0.000000     \n",
       "          1968-04-28      1.0                                                0.000000     \n",
       "                          3.0                                                0.000000     \n",
       "          1968-05-27      69.0                                               0.064935     \n",
       "...                                                                               ...     \n",
       "206173    2019-10-14      293.0                                             -0.043788     \n",
       "                          297.0                                             -0.018584     \n",
       "                          299.0                                              0.000604     \n",
       "          2019-10-21      275.0                                             -0.025118     \n",
       "                          288.0                                             -0.028492     \n",
       "\n",
       "                                    past_year_break_points_won_percentage  \\\n",
       "player_id tournament_date match_id                                          \n",
       "100011    1968-02-08      4.0                                    0.000000   \n",
       "                          8.0                                    0.000000   \n",
       "          1968-04-28      1.0                                    0.000000   \n",
       "                          3.0                                    0.000000   \n",
       "          1968-05-27      69.0                                  -0.166667   \n",
       "...                                                                   ...   \n",
       "206173    2019-10-14      293.0                                 -0.043809   \n",
       "                          297.0                                  0.000190   \n",
       "                          299.0                                 -0.038105   \n",
       "          2019-10-21      275.0                                  0.016073   \n",
       "                          288.0                                 -0.039425   \n",
       "\n",
       "                                    past_year_points_won_percentage   winrate  \n",
       "player_id tournament_date match_id                                             \n",
       "100011    1968-02-08      4.0                              0.000000  0.000000  \n",
       "                          8.0                              0.000000  0.000000  \n",
       "          1968-04-28      1.0                              0.000000  0.000000  \n",
       "                          3.0                              0.000000 -1.000000  \n",
       "          1968-05-27      69.0                             0.154284  0.000000  \n",
       "...                                                             ...       ...  \n",
       "206173    2019-10-14      293.0                           -0.078843 -0.320175  \n",
       "                          297.0                           -0.034157  0.063830  \n",
       "                          299.0                           -0.048677 -0.036761  \n",
       "          2019-10-21      275.0                           -0.042354 -0.037559  \n",
       "                          288.0                           -0.057970 -0.081410  \n",
       "\n",
       "[299761 rows x 87 columns]"
      ]
     },
     "execution_count": 86,
     "metadata": {},
     "output_type": "execute_result"
    }
   ],
   "source": [
    "matches.reset_index(inplace=True)\n",
    "matches.set_index('player_id', inplace=True)\n",
    "top_100_matches = matches.loc[top_100]\n",
    "top_100_matches.reset_index(inplace=True)\n",
    "top_100_matches.set_index(['player_id', 'tournament_date', 'match_id'], inplace=True)\n",
    "top_100_matches.sort_index()"
   ]
  },
  {
   "cell_type": "code",
   "execution_count": 87,
   "metadata": {},
   "outputs": [],
   "source": [
    "top_100_matches.reset_index(inplace=True)\n",
    "top_100_matches.set_index(['player_id', 'opponent_id', 'tournament_date'], inplace=True)\n",
    "head_to_head.reset_index(inplace=True)\n",
    "head_to_head.set_index(['player_id', 'opponent_id', 'tournament_date'], inplace=True)"
   ]
  },
  {
   "cell_type": "code",
   "execution_count": 88,
   "metadata": {},
   "outputs": [],
   "source": [
    "top_100_matches['h2h'] = head_to_head"
   ]
  },
  {
   "cell_type": "code",
   "execution_count": 89,
   "metadata": {},
   "outputs": [],
   "source": [
    "top_100_matches.reset_index(inplace=True)\n",
    "top_100_matches.set_index(['player_id', 'tournament_date', 'match_id'], inplace=True)"
   ]
  },
  {
   "cell_type": "code",
   "execution_count": 90,
   "metadata": {},
   "outputs": [],
   "source": [
    "top_100_matches = top_100_matches.dropna(subset=['opponent_id'])"
   ]
  },
  {
   "cell_type": "code",
   "execution_count": 91,
   "metadata": {},
   "outputs": [],
   "source": [
    "top_100_matches['age_diff'] = (players.loc[top_100_matches.index.get_level_values(0)].birthdate.values - \n",
    " players.loc[top_100_matches.opponent_id].birthdate.values)"
   ]
  },
  {
   "cell_type": "code",
   "execution_count": 92,
   "metadata": {},
   "outputs": [],
   "source": [
    "top_100_matches['age_diff'] = top_100_matches.age_diff.dt.days"
   ]
  },
  {
   "cell_type": "code",
   "execution_count": 93,
   "metadata": {},
   "outputs": [],
   "source": [
    "top_100_matches.to_csv('Resources/tennis_clean/atp_top_100_matches.csv')"
   ]
  },
  {
   "cell_type": "code",
   "execution_count": 94,
   "metadata": {},
   "outputs": [
    {
     "data": {
      "text/html": [
       "<div>\n",
       "<style scoped>\n",
       "    .dataframe tbody tr th:only-of-type {\n",
       "        vertical-align: middle;\n",
       "    }\n",
       "\n",
       "    .dataframe tbody tr th {\n",
       "        vertical-align: top;\n",
       "    }\n",
       "\n",
       "    .dataframe thead th {\n",
       "        text-align: right;\n",
       "    }\n",
       "</style>\n",
       "<table border=\"1\" class=\"dataframe\">\n",
       "  <thead>\n",
       "    <tr style=\"text-align: right;\">\n",
       "      <th></th>\n",
       "      <th>name_first</th>\n",
       "      <th>name_last</th>\n",
       "      <th>hand</th>\n",
       "      <th>birthdate</th>\n",
       "      <th>country</th>\n",
       "    </tr>\n",
       "    <tr>\n",
       "      <th>player_id</th>\n",
       "      <th></th>\n",
       "      <th></th>\n",
       "      <th></th>\n",
       "      <th></th>\n",
       "      <th></th>\n",
       "    </tr>\n",
       "  </thead>\n",
       "  <tbody>\n",
       "    <tr>\n",
       "      <th>105379</th>\n",
       "      <td>Aljaz</td>\n",
       "      <td>Bedene</td>\n",
       "      <td>R</td>\n",
       "      <td>1989-07-18</td>\n",
       "      <td>SLO</td>\n",
       "    </tr>\n",
       "  </tbody>\n",
       "</table>\n",
       "</div>"
      ],
      "text/plain": [
       "          name_first name_last hand  birthdate country\n",
       "player_id                                             \n",
       "105379         Aljaz    Bedene    R 1989-07-18     SLO"
      ]
     },
     "execution_count": 94,
     "metadata": {},
     "output_type": "execute_result"
    }
   ],
   "source": [
    "players.query(\"player_id == 105379\")"
   ]
  },
  {
   "cell_type": "code",
   "execution_count": 95,
   "metadata": {},
   "outputs": [
    {
     "data": {
      "text/html": [
       "<div>\n",
       "<style scoped>\n",
       "    .dataframe tbody tr th:only-of-type {\n",
       "        vertical-align: middle;\n",
       "    }\n",
       "\n",
       "    .dataframe tbody tr th {\n",
       "        vertical-align: top;\n",
       "    }\n",
       "\n",
       "    .dataframe thead th {\n",
       "        text-align: right;\n",
       "    }\n",
       "</style>\n",
       "<table border=\"1\" class=\"dataframe\">\n",
       "  <thead>\n",
       "    <tr style=\"text-align: right;\">\n",
       "      <th></th>\n",
       "      <th></th>\n",
       "      <th></th>\n",
       "      <th>opponent_id</th>\n",
       "      <th>tournament_id</th>\n",
       "      <th>player_name</th>\n",
       "      <th>opponent_name</th>\n",
       "      <th>tournament_name</th>\n",
       "      <th>surface</th>\n",
       "      <th>draw_size</th>\n",
       "      <th>tournament_level</th>\n",
       "      <th>seed</th>\n",
       "      <th>entry</th>\n",
       "      <th>...</th>\n",
       "      <th>past_year_return_points_won_percentage</th>\n",
       "      <th>past_year_first_serves_won_percentage</th>\n",
       "      <th>past_year_second_serves_won_percentage</th>\n",
       "      <th>past_year_first_serve_return_points_won_percentage</th>\n",
       "      <th>past_year_second_serve_return_points_won_percentage</th>\n",
       "      <th>past_year_break_points_won_percentage</th>\n",
       "      <th>past_year_points_won_percentage</th>\n",
       "      <th>winrate</th>\n",
       "      <th>h2h</th>\n",
       "      <th>age_diff</th>\n",
       "    </tr>\n",
       "    <tr>\n",
       "      <th>player_id</th>\n",
       "      <th>tournament_date</th>\n",
       "      <th>match_id</th>\n",
       "      <th></th>\n",
       "      <th></th>\n",
       "      <th></th>\n",
       "      <th></th>\n",
       "      <th></th>\n",
       "      <th></th>\n",
       "      <th></th>\n",
       "      <th></th>\n",
       "      <th></th>\n",
       "      <th></th>\n",
       "      <th></th>\n",
       "      <th></th>\n",
       "      <th></th>\n",
       "      <th></th>\n",
       "      <th></th>\n",
       "      <th></th>\n",
       "      <th></th>\n",
       "      <th></th>\n",
       "      <th></th>\n",
       "      <th></th>\n",
       "      <th></th>\n",
       "    </tr>\n",
       "  </thead>\n",
       "  <tbody>\n",
       "    <tr>\n",
       "      <th>105777</th>\n",
       "      <th>2019-08-26</th>\n",
       "      <th>215.0</th>\n",
       "      <td>200282.0</td>\n",
       "      <td>2019-560</td>\n",
       "      <td>Grigor Dimitrov</td>\n",
       "      <td>Alex De Minaur</td>\n",
       "      <td>Us Open</td>\n",
       "      <td>Hard</td>\n",
       "      <td>128.0</td>\n",
       "      <td>G</td>\n",
       "      <td>NaN</td>\n",
       "      <td>NaN</td>\n",
       "      <td>...</td>\n",
       "      <td>-0.012489</td>\n",
       "      <td>-0.002875</td>\n",
       "      <td>-0.059732</td>\n",
       "      <td>0.006842</td>\n",
       "      <td>-0.041707</td>\n",
       "      <td>0.034531</td>\n",
       "      <td>-0.018062</td>\n",
       "      <td>-0.028864</td>\n",
       "      <td>0.0</td>\n",
       "      <td>-2834.0</td>\n",
       "    </tr>\n",
       "  </tbody>\n",
       "</table>\n",
       "<p>1 rows × 89 columns</p>\n",
       "</div>"
      ],
      "text/plain": [
       "                                    opponent_id tournament_id  \\\n",
       "player_id tournament_date match_id                              \n",
       "105777    2019-08-26      215.0        200282.0      2019-560   \n",
       "\n",
       "                                        player_name   opponent_name  \\\n",
       "player_id tournament_date match_id                                    \n",
       "105777    2019-08-26      215.0     Grigor Dimitrov  Alex De Minaur   \n",
       "\n",
       "                                   tournament_name surface  draw_size  \\\n",
       "player_id tournament_date match_id                                      \n",
       "105777    2019-08-26      215.0            Us Open    Hard      128.0   \n",
       "\n",
       "                                   tournament_level seed entry  ...  \\\n",
       "player_id tournament_date match_id                              ...   \n",
       "105777    2019-08-26      215.0                   G  NaN   NaN  ...   \n",
       "\n",
       "                                    past_year_return_points_won_percentage  \\\n",
       "player_id tournament_date match_id                                           \n",
       "105777    2019-08-26      215.0                                  -0.012489   \n",
       "\n",
       "                                   past_year_first_serves_won_percentage  \\\n",
       "player_id tournament_date match_id                                         \n",
       "105777    2019-08-26      215.0                                -0.002875   \n",
       "\n",
       "                                    past_year_second_serves_won_percentage  \\\n",
       "player_id tournament_date match_id                                           \n",
       "105777    2019-08-26      215.0                                  -0.059732   \n",
       "\n",
       "                                   past_year_first_serve_return_points_won_percentage  \\\n",
       "player_id tournament_date match_id                                                      \n",
       "105777    2019-08-26      215.0                                              0.006842   \n",
       "\n",
       "                                    past_year_second_serve_return_points_won_percentage  \\\n",
       "player_id tournament_date match_id                                                        \n",
       "105777    2019-08-26      215.0                                             -0.041707     \n",
       "\n",
       "                                    past_year_break_points_won_percentage  \\\n",
       "player_id tournament_date match_id                                          \n",
       "105777    2019-08-26      215.0                                  0.034531   \n",
       "\n",
       "                                    past_year_points_won_percentage   winrate  \\\n",
       "player_id tournament_date match_id                                              \n",
       "105777    2019-08-26      215.0                           -0.018062 -0.028864   \n",
       "\n",
       "                                    h2h  age_diff  \n",
       "player_id tournament_date match_id                 \n",
       "105777    2019-08-26      215.0     0.0   -2834.0  \n",
       "\n",
       "[1 rows x 89 columns]"
      ]
     },
     "execution_count": 95,
     "metadata": {},
     "output_type": "execute_result"
    }
   ],
   "source": [
    "top_100_matches.query('player_name == \\'Grigor Dimitrov\\' and opponent_id == 200282')"
   ]
  }
 ],
 "metadata": {
  "kernelspec": {
   "display_name": "Python 3",
   "language": "python",
   "name": "python3"
  },
  "language_info": {
   "codemirror_mode": {
    "name": "ipython",
    "version": 3
   },
   "file_extension": ".py",
   "mimetype": "text/x-python",
   "name": "python",
   "nbconvert_exporter": "python",
   "pygments_lexer": "ipython3",
   "version": "3.7.3"
  }
 },
 "nbformat": 4,
 "nbformat_minor": 2
}
