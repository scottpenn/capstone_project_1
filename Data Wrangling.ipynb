{
 "cells": [
  {
   "cell_type": "code",
   "execution_count": 1,
   "metadata": {},
   "outputs": [],
   "source": [
    "import glob\n",
    "import numpy as np\n",
    "import pandas as pd\n",
    "import matplotlib.pyplot as plt"
   ]
  },
  {
   "cell_type": "code",
   "execution_count": 2,
   "metadata": {},
   "outputs": [
    {
     "name": "stdout",
     "output_type": "stream",
     "text": [
      "<class 'pandas.core.frame.DataFrame'>\n",
      "Int64Index: 54067 entries, 100001 to 209032\n",
      "Data columns (total 5 columns):\n",
      "name_first    53890 non-null object\n",
      "name_list     54025 non-null object\n",
      "hand          48289 non-null object\n",
      "birthdate     43099 non-null datetime64[ns]\n",
      "country       54067 non-null object\n",
      "dtypes: datetime64[ns](1), object(4)\n",
      "memory usage: 2.5+ MB\n"
     ]
    },
    {
     "data": {
      "text/html": [
       "<div>\n",
       "<style scoped>\n",
       "    .dataframe tbody tr th:only-of-type {\n",
       "        vertical-align: middle;\n",
       "    }\n",
       "\n",
       "    .dataframe tbody tr th {\n",
       "        vertical-align: top;\n",
       "    }\n",
       "\n",
       "    .dataframe thead th {\n",
       "        text-align: right;\n",
       "    }\n",
       "</style>\n",
       "<table border=\"1\" class=\"dataframe\">\n",
       "  <thead>\n",
       "    <tr style=\"text-align: right;\">\n",
       "      <th></th>\n",
       "      <th>name_first</th>\n",
       "      <th>name_list</th>\n",
       "      <th>hand</th>\n",
       "      <th>birthdate</th>\n",
       "      <th>country</th>\n",
       "    </tr>\n",
       "    <tr>\n",
       "      <th>player_id</th>\n",
       "      <th></th>\n",
       "      <th></th>\n",
       "      <th></th>\n",
       "      <th></th>\n",
       "      <th></th>\n",
       "    </tr>\n",
       "  </thead>\n",
       "  <tbody>\n",
       "    <tr>\n",
       "      <th>100001</th>\n",
       "      <td>Gardnar</td>\n",
       "      <td>Mulloy</td>\n",
       "      <td>R</td>\n",
       "      <td>1913-11-22</td>\n",
       "      <td>USA</td>\n",
       "    </tr>\n",
       "    <tr>\n",
       "      <th>100002</th>\n",
       "      <td>Pancho</td>\n",
       "      <td>Segura</td>\n",
       "      <td>R</td>\n",
       "      <td>1921-06-20</td>\n",
       "      <td>ECU</td>\n",
       "    </tr>\n",
       "    <tr>\n",
       "      <th>100003</th>\n",
       "      <td>Frank</td>\n",
       "      <td>Sedgman</td>\n",
       "      <td>R</td>\n",
       "      <td>1927-10-02</td>\n",
       "      <td>AUS</td>\n",
       "    </tr>\n",
       "    <tr>\n",
       "      <th>100004</th>\n",
       "      <td>Giuseppe</td>\n",
       "      <td>Merlo</td>\n",
       "      <td>R</td>\n",
       "      <td>1927-10-11</td>\n",
       "      <td>ITA</td>\n",
       "    </tr>\n",
       "    <tr>\n",
       "      <th>100005</th>\n",
       "      <td>Richard Pancho</td>\n",
       "      <td>Gonzales</td>\n",
       "      <td>R</td>\n",
       "      <td>1928-05-09</td>\n",
       "      <td>USA</td>\n",
       "    </tr>\n",
       "  </tbody>\n",
       "</table>\n",
       "</div>"
      ],
      "text/plain": [
       "               name_first name_list hand  birthdate country\n",
       "player_id                                                  \n",
       "100001            Gardnar    Mulloy    R 1913-11-22     USA\n",
       "100002             Pancho    Segura    R 1921-06-20     ECU\n",
       "100003              Frank   Sedgman    R 1927-10-02     AUS\n",
       "100004           Giuseppe     Merlo    R 1927-10-11     ITA\n",
       "100005     Richard Pancho  Gonzales    R 1928-05-09     USA"
      ]
     },
     "execution_count": 2,
     "metadata": {},
     "output_type": "execute_result"
    }
   ],
   "source": [
    "players = pd.read_csv('Resources/tennis_atp-master/atp_players.csv', index_col='player_id', parse_dates=['birthdate'])\n",
    "players.info()\n",
    "players.head()"
   ]
  },
  {
   "cell_type": "code",
   "execution_count": 3,
   "metadata": {},
   "outputs": [],
   "source": [
    "players.columns = ['name_first', 'name_last', 'hand', 'birthdate', 'country']"
   ]
  },
  {
   "cell_type": "code",
   "execution_count": 4,
   "metadata": {},
   "outputs": [],
   "source": [
    "players.hand.fillna('U', inplace=True)\n",
    "players.hand = players.hand.astype('category')"
   ]
  },
  {
   "cell_type": "code",
   "execution_count": 5,
   "metadata": {},
   "outputs": [],
   "source": [
    "players.country = players.country.astype('category')"
   ]
  },
  {
   "cell_type": "code",
   "execution_count": 6,
   "metadata": {},
   "outputs": [
    {
     "name": "stdout",
     "output_type": "stream",
     "text": [
      "<class 'pandas.core.frame.DataFrame'>\n",
      "Int64Index: 54067 entries, 100001 to 209032\n",
      "Data columns (total 5 columns):\n",
      "name_first    53890 non-null object\n",
      "name_last     54025 non-null object\n",
      "hand          54067 non-null category\n",
      "birthdate     43099 non-null datetime64[ns]\n",
      "country       54067 non-null category\n",
      "dtypes: category(2), datetime64[ns](1), object(2)\n",
      "memory usage: 1.8+ MB\n"
     ]
    },
    {
     "data": {
      "text/html": [
       "<div>\n",
       "<style scoped>\n",
       "    .dataframe tbody tr th:only-of-type {\n",
       "        vertical-align: middle;\n",
       "    }\n",
       "\n",
       "    .dataframe tbody tr th {\n",
       "        vertical-align: top;\n",
       "    }\n",
       "\n",
       "    .dataframe thead th {\n",
       "        text-align: right;\n",
       "    }\n",
       "</style>\n",
       "<table border=\"1\" class=\"dataframe\">\n",
       "  <thead>\n",
       "    <tr style=\"text-align: right;\">\n",
       "      <th></th>\n",
       "      <th>name_first</th>\n",
       "      <th>name_last</th>\n",
       "      <th>hand</th>\n",
       "      <th>birthdate</th>\n",
       "      <th>country</th>\n",
       "    </tr>\n",
       "    <tr>\n",
       "      <th>player_id</th>\n",
       "      <th></th>\n",
       "      <th></th>\n",
       "      <th></th>\n",
       "      <th></th>\n",
       "      <th></th>\n",
       "    </tr>\n",
       "  </thead>\n",
       "  <tbody>\n",
       "    <tr>\n",
       "      <th>100001</th>\n",
       "      <td>Gardnar</td>\n",
       "      <td>Mulloy</td>\n",
       "      <td>R</td>\n",
       "      <td>1913-11-22</td>\n",
       "      <td>USA</td>\n",
       "    </tr>\n",
       "    <tr>\n",
       "      <th>100002</th>\n",
       "      <td>Pancho</td>\n",
       "      <td>Segura</td>\n",
       "      <td>R</td>\n",
       "      <td>1921-06-20</td>\n",
       "      <td>ECU</td>\n",
       "    </tr>\n",
       "    <tr>\n",
       "      <th>100003</th>\n",
       "      <td>Frank</td>\n",
       "      <td>Sedgman</td>\n",
       "      <td>R</td>\n",
       "      <td>1927-10-02</td>\n",
       "      <td>AUS</td>\n",
       "    </tr>\n",
       "    <tr>\n",
       "      <th>100004</th>\n",
       "      <td>Giuseppe</td>\n",
       "      <td>Merlo</td>\n",
       "      <td>R</td>\n",
       "      <td>1927-10-11</td>\n",
       "      <td>ITA</td>\n",
       "    </tr>\n",
       "    <tr>\n",
       "      <th>100005</th>\n",
       "      <td>Richard Pancho</td>\n",
       "      <td>Gonzales</td>\n",
       "      <td>R</td>\n",
       "      <td>1928-05-09</td>\n",
       "      <td>USA</td>\n",
       "    </tr>\n",
       "  </tbody>\n",
       "</table>\n",
       "</div>"
      ],
      "text/plain": [
       "               name_first name_last hand  birthdate country\n",
       "player_id                                                  \n",
       "100001            Gardnar    Mulloy    R 1913-11-22     USA\n",
       "100002             Pancho    Segura    R 1921-06-20     ECU\n",
       "100003              Frank   Sedgman    R 1927-10-02     AUS\n",
       "100004           Giuseppe     Merlo    R 1927-10-11     ITA\n",
       "100005     Richard Pancho  Gonzales    R 1928-05-09     USA"
      ]
     },
     "execution_count": 6,
     "metadata": {},
     "output_type": "execute_result"
    }
   ],
   "source": [
    "players.info()\n",
    "players.head()"
   ]
  },
  {
   "cell_type": "code",
   "execution_count": 7,
   "metadata": {},
   "outputs": [
    {
     "data": {
      "text/plain": [
       "Text(0.5, 1.0, 'Top 10 countries by count of professional tennis players')"
      ]
     },
     "execution_count": 7,
     "metadata": {},
     "output_type": "execute_result"
    },
    {
     "data": {
      "image/png": "[encoded data removed]",
      "text/plain": [
       "<Figure size 432x288 with 1 Axes>"
      ]
     },
     "metadata": {
      "needs_background": "light"
     },
     "output_type": "display_data"
    }
   ],
   "source": [
    "players.country.value_counts().head(10).plot(kind='bar')\n",
    "plt.title('Top 10 countries by count of professional tennis players')"
   ]
  },
  {
   "cell_type": "code",
   "execution_count": 8,
   "metadata": {},
   "outputs": [
    {
     "data": {
      "text/plain": [
       "1655"
      ]
     },
     "execution_count": 8,
     "metadata": {},
     "output_type": "execute_result"
    }
   ],
   "source": [
    "players[players.birthdate < '1950'].birthdate.count()"
   ]
  },
  {
   "cell_type": "code",
   "execution_count": 9,
   "metadata": {
    "scrolled": true
   },
   "outputs": [
    {
     "data": {
      "text/plain": [
       "Text(0.5, 1.0, 'Top 10 countries by count of professional tennis players born after 1990')"
      ]
     },
     "execution_count": 9,
     "metadata": {},
     "output_type": "execute_result"
    },
    {
     "data": {
      "image/png": "[encoded data removed]",
      "text/plain": [
       "<Figure size 432x288 with 1 Axes>"
      ]
     },
     "metadata": {
      "needs_background": "light"
     },
     "output_type": "display_data"
    }
   ],
   "source": [
    "players[players.birthdate > '1990'].country.value_counts().head(10).plot(kind='bar')\n",
    "plt.title('Top 10 countries by count of professional tennis players born after 1990')"
   ]
  },
  {
   "cell_type": "code",
   "execution_count": 10,
   "metadata": {},
   "outputs": [],
   "source": [
    "players.to_csv('Resources/tennis_clean/atp_players.csv')"
   ]
  },
  {
   "cell_type": "code",
   "execution_count": 11,
   "metadata": {},
   "outputs": [],
   "source": [
    "ranking_files = glob.glob('Resources/tennis_atp-master/atp_rankings_*')"
   ]
  },
  {
   "cell_type": "code",
   "execution_count": 12,
   "metadata": {},
   "outputs": [],
   "source": [
    "rankings_list = [pd.read_csv(ranking_file, parse_dates=['ranking_date']) for ranking_file in ranking_files]"
   ]
  },
  {
   "cell_type": "code",
   "execution_count": 13,
   "metadata": {
    "scrolled": true
   },
   "outputs": [
    {
     "name": "stdout",
     "output_type": "stream",
     "text": [
      "<class 'pandas.core.frame.DataFrame'>\n",
      "Int64Index: 2782234 entries, 0 to 265732\n",
      "Data columns (total 4 columns):\n",
      "ranking_date    datetime64[ns]\n",
      "player_rank     int64\n",
      "player_id       int64\n",
      "points          float64\n",
      "dtypes: datetime64[ns](1), float64(1), int64(2)\n",
      "memory usage: 106.1 MB\n"
     ]
    },
    {
     "data": {
      "text/html": [
       "<div>\n",
       "<style scoped>\n",
       "    .dataframe tbody tr th:only-of-type {\n",
       "        vertical-align: middle;\n",
       "    }\n",
       "\n",
       "    .dataframe tbody tr th {\n",
       "        vertical-align: top;\n",
       "    }\n",
       "\n",
       "    .dataframe thead th {\n",
       "        text-align: right;\n",
       "    }\n",
       "</style>\n",
       "<table border=\"1\" class=\"dataframe\">\n",
       "  <thead>\n",
       "    <tr style=\"text-align: right;\">\n",
       "      <th></th>\n",
       "      <th>ranking_date</th>\n",
       "      <th>player_rank</th>\n",
       "      <th>player_id</th>\n",
       "      <th>points</th>\n",
       "    </tr>\n",
       "  </thead>\n",
       "  <tbody>\n",
       "    <tr>\n",
       "      <th>0</th>\n",
       "      <td>2000-01-10</td>\n",
       "      <td>1</td>\n",
       "      <td>101736</td>\n",
       "      <td>4135.0</td>\n",
       "    </tr>\n",
       "    <tr>\n",
       "      <th>1</th>\n",
       "      <td>2000-01-10</td>\n",
       "      <td>2</td>\n",
       "      <td>102338</td>\n",
       "      <td>2915.0</td>\n",
       "    </tr>\n",
       "    <tr>\n",
       "      <th>2</th>\n",
       "      <td>2000-01-10</td>\n",
       "      <td>3</td>\n",
       "      <td>101948</td>\n",
       "      <td>2419.0</td>\n",
       "    </tr>\n",
       "    <tr>\n",
       "      <th>3</th>\n",
       "      <td>2000-01-10</td>\n",
       "      <td>4</td>\n",
       "      <td>103017</td>\n",
       "      <td>2184.0</td>\n",
       "    </tr>\n",
       "    <tr>\n",
       "      <th>4</th>\n",
       "      <td>2000-01-10</td>\n",
       "      <td>5</td>\n",
       "      <td>102856</td>\n",
       "      <td>2169.0</td>\n",
       "    </tr>\n",
       "  </tbody>\n",
       "</table>\n",
       "</div>"
      ],
      "text/plain": [
       "  ranking_date  player_rank  player_id  points\n",
       "0   2000-01-10            1     101736  4135.0\n",
       "1   2000-01-10            2     102338  2915.0\n",
       "2   2000-01-10            3     101948  2419.0\n",
       "3   2000-01-10            4     103017  2184.0\n",
       "4   2000-01-10            5     102856  2169.0"
      ]
     },
     "execution_count": 13,
     "metadata": {},
     "output_type": "execute_result"
    }
   ],
   "source": [
    "rankings = pd.concat(rankings_list)\n",
    "rankings.columns = ['ranking_date', 'player_rank', 'player_id', 'points']\n",
    "rankings.player_rank.astype('int', inplace=True)\n",
    "rankings.info()\n",
    "rankings.head()"
   ]
  },
  {
   "cell_type": "code",
   "execution_count": 14,
   "metadata": {},
   "outputs": [],
   "source": [
    "rankings = rankings.set_index(['player_id', 'ranking_date'])\n",
    "rankings.sort_index(inplace=True)\n",
    "rankings.to_csv('Resources/tennis_clean/atp_rankings.csv')"
   ]
  },
  {
   "cell_type": "code",
   "execution_count": 15,
   "metadata": {},
   "outputs": [
    {
     "data": {
      "text/plain": [
       "player_rank    14456\n",
       "points         12297\n",
       "dtype: int64"
      ]
     },
     "execution_count": 15,
     "metadata": {},
     "output_type": "execute_result"
    }
   ],
   "source": [
    "rankings.groupby('player_id').min().count()"
   ]
  },
  {
   "cell_type": "code",
   "execution_count": null,
   "metadata": {},
   "outputs": [],
   "source": []
  },
  {
   "cell_type": "code",
   "execution_count": 16,
   "metadata": {},
   "outputs": [],
   "source": [
    "rankings = rankings.groupby('player_id').filter(lambda x: x.player_rank.min() <= 100)"
   ]
  },
  {
   "cell_type": "code",
   "execution_count": 17,
   "metadata": {},
   "outputs": [
    {
     "data": {
      "text/plain": [
       "player_rank    1073\n",
       "points          813\n",
       "dtype: int64"
      ]
     },
     "execution_count": 17,
     "metadata": {},
     "output_type": "execute_result"
    }
   ],
   "source": [
    "rankings.groupby('player_id').min().count()"
   ]
  },
  {
   "cell_type": "code",
   "execution_count": 18,
   "metadata": {},
   "outputs": [
    {
     "name": "stdout",
     "output_type": "stream",
     "text": [
      "<class 'pandas.core.frame.DataFrame'>\n",
      "MultiIndex: 526878 entries, (100011, 1973-08-27 00:00:00) to (200282, 2019-02-25 00:00:00)\n",
      "Data columns (total 2 columns):\n",
      "player_rank    526878 non-null int64\n",
      "points         429117 non-null float64\n",
      "dtypes: float64(1), int64(1)\n",
      "memory usage: 10.2 MB\n"
     ]
    },
    {
     "data": {
      "text/html": [
       "<div>\n",
       "<style scoped>\n",
       "    .dataframe tbody tr th:only-of-type {\n",
       "        vertical-align: middle;\n",
       "    }\n",
       "\n",
       "    .dataframe tbody tr th {\n",
       "        vertical-align: top;\n",
       "    }\n",
       "\n",
       "    .dataframe thead th {\n",
       "        text-align: right;\n",
       "    }\n",
       "</style>\n",
       "<table border=\"1\" class=\"dataframe\">\n",
       "  <thead>\n",
       "    <tr style=\"text-align: right;\">\n",
       "      <th></th>\n",
       "      <th></th>\n",
       "      <th>player_rank</th>\n",
       "      <th>points</th>\n",
       "    </tr>\n",
       "    <tr>\n",
       "      <th>player_id</th>\n",
       "      <th>ranking_date</th>\n",
       "      <th></th>\n",
       "      <th></th>\n",
       "    </tr>\n",
       "  </thead>\n",
       "  <tbody>\n",
       "    <tr>\n",
       "      <th rowspan=\"5\" valign=\"top\">100011</th>\n",
       "      <th>1973-08-27</th>\n",
       "      <td>114</td>\n",
       "      <td>NaN</td>\n",
       "    </tr>\n",
       "    <tr>\n",
       "      <th>1973-09-17</th>\n",
       "      <td>114</td>\n",
       "      <td>NaN</td>\n",
       "    </tr>\n",
       "    <tr>\n",
       "      <th>1973-10-01</th>\n",
       "      <td>101</td>\n",
       "      <td>NaN</td>\n",
       "    </tr>\n",
       "    <tr>\n",
       "      <th>1973-10-15</th>\n",
       "      <td>96</td>\n",
       "      <td>NaN</td>\n",
       "    </tr>\n",
       "    <tr>\n",
       "      <th>1973-11-05</th>\n",
       "      <td>102</td>\n",
       "      <td>NaN</td>\n",
       "    </tr>\n",
       "  </tbody>\n",
       "</table>\n",
       "</div>"
      ],
      "text/plain": [
       "                        player_rank  points\n",
       "player_id ranking_date                     \n",
       "100011    1973-08-27            114     NaN\n",
       "          1973-09-17            114     NaN\n",
       "          1973-10-01            101     NaN\n",
       "          1973-10-15             96     NaN\n",
       "          1973-11-05            102     NaN"
      ]
     },
     "execution_count": 18,
     "metadata": {},
     "output_type": "execute_result"
    }
   ],
   "source": [
    "rankings.info()\n",
    "rankings.head()"
   ]
  },
  {
   "cell_type": "code",
   "execution_count": 19,
   "metadata": {},
   "outputs": [
    {
     "name": "stdout",
     "output_type": "stream",
     "text": [
      "<class 'pandas.core.frame.DataFrame'>\n",
      "DatetimeIndex: 526878 entries, 1973-08-27 to 2019-02-25\n",
      "Data columns (total 3 columns):\n",
      "player_id      526878 non-null int64\n",
      "player_rank    526878 non-null int64\n",
      "points         429117 non-null float64\n",
      "dtypes: float64(1), int64(2)\n",
      "memory usage: 16.1 MB\n"
     ]
    },
    {
     "data": {
      "text/html": [
       "<div>\n",
       "<style scoped>\n",
       "    .dataframe tbody tr th:only-of-type {\n",
       "        vertical-align: middle;\n",
       "    }\n",
       "\n",
       "    .dataframe tbody tr th {\n",
       "        vertical-align: top;\n",
       "    }\n",
       "\n",
       "    .dataframe thead th {\n",
       "        text-align: right;\n",
       "    }\n",
       "</style>\n",
       "<table border=\"1\" class=\"dataframe\">\n",
       "  <thead>\n",
       "    <tr style=\"text-align: right;\">\n",
       "      <th></th>\n",
       "      <th>player_id</th>\n",
       "      <th>player_rank</th>\n",
       "      <th>points</th>\n",
       "    </tr>\n",
       "    <tr>\n",
       "      <th>ranking_date</th>\n",
       "      <th></th>\n",
       "      <th></th>\n",
       "      <th></th>\n",
       "    </tr>\n",
       "  </thead>\n",
       "  <tbody>\n",
       "    <tr>\n",
       "      <th>1973-08-27</th>\n",
       "      <td>100011</td>\n",
       "      <td>114</td>\n",
       "      <td>NaN</td>\n",
       "    </tr>\n",
       "    <tr>\n",
       "      <th>1973-09-17</th>\n",
       "      <td>100011</td>\n",
       "      <td>114</td>\n",
       "      <td>NaN</td>\n",
       "    </tr>\n",
       "    <tr>\n",
       "      <th>1973-10-01</th>\n",
       "      <td>100011</td>\n",
       "      <td>101</td>\n",
       "      <td>NaN</td>\n",
       "    </tr>\n",
       "    <tr>\n",
       "      <th>1973-10-15</th>\n",
       "      <td>100011</td>\n",
       "      <td>96</td>\n",
       "      <td>NaN</td>\n",
       "    </tr>\n",
       "    <tr>\n",
       "      <th>1973-11-05</th>\n",
       "      <td>100011</td>\n",
       "      <td>102</td>\n",
       "      <td>NaN</td>\n",
       "    </tr>\n",
       "  </tbody>\n",
       "</table>\n",
       "</div>"
      ],
      "text/plain": [
       "              player_id  player_rank  points\n",
       "ranking_date                                \n",
       "1973-08-27       100011          114     NaN\n",
       "1973-09-17       100011          114     NaN\n",
       "1973-10-01       100011          101     NaN\n",
       "1973-10-15       100011           96     NaN\n",
       "1973-11-05       100011          102     NaN"
      ]
     },
     "execution_count": 19,
     "metadata": {},
     "output_type": "execute_result"
    }
   ],
   "source": [
    "rankings = rankings.reset_index('player_id')\n",
    "rankings.info()\n",
    "rankings.head()"
   ]
  },
  {
   "cell_type": "code",
   "execution_count": 20,
   "metadata": {},
   "outputs": [],
   "source": [
    "top_100 = rankings.player_id.unique()"
   ]
  },
  {
   "cell_type": "code",
   "execution_count": 21,
   "metadata": {
    "scrolled": true
   },
   "outputs": [
    {
     "data": {
      "text/html": [
       "<div>\n",
       "<style scoped>\n",
       "    .dataframe tbody tr th:only-of-type {\n",
       "        vertical-align: middle;\n",
       "    }\n",
       "\n",
       "    .dataframe tbody tr th {\n",
       "        vertical-align: top;\n",
       "    }\n",
       "\n",
       "    .dataframe thead th {\n",
       "        text-align: right;\n",
       "    }\n",
       "</style>\n",
       "<table border=\"1\" class=\"dataframe\">\n",
       "  <thead>\n",
       "    <tr style=\"text-align: right;\">\n",
       "      <th></th>\n",
       "      <th>name_first</th>\n",
       "      <th>name_last</th>\n",
       "      <th>hand</th>\n",
       "      <th>birthdate</th>\n",
       "      <th>country</th>\n",
       "    </tr>\n",
       "    <tr>\n",
       "      <th>player_id</th>\n",
       "      <th></th>\n",
       "      <th></th>\n",
       "      <th></th>\n",
       "      <th></th>\n",
       "      <th></th>\n",
       "    </tr>\n",
       "  </thead>\n",
       "  <tbody>\n",
       "    <tr>\n",
       "      <th>100011</th>\n",
       "      <td>Torben</td>\n",
       "      <td>Ulrich</td>\n",
       "      <td>L</td>\n",
       "      <td>1932-10-04</td>\n",
       "      <td>DEN</td>\n",
       "    </tr>\n",
       "    <tr>\n",
       "      <th>100016</th>\n",
       "      <td>Ken</td>\n",
       "      <td>Rosewall</td>\n",
       "      <td>R</td>\n",
       "      <td>1934-11-02</td>\n",
       "      <td>AUS</td>\n",
       "    </tr>\n",
       "    <tr>\n",
       "      <th>100022</th>\n",
       "      <td>Roy</td>\n",
       "      <td>Emerson</td>\n",
       "      <td>R</td>\n",
       "      <td>1936-11-03</td>\n",
       "      <td>AUS</td>\n",
       "    </tr>\n",
       "    <tr>\n",
       "      <th>100025</th>\n",
       "      <td>Barry</td>\n",
       "      <td>Phillips Moore</td>\n",
       "      <td>R</td>\n",
       "      <td>1937-07-09</td>\n",
       "      <td>AUS</td>\n",
       "    </tr>\n",
       "    <tr>\n",
       "      <th>100026</th>\n",
       "      <td>Andres</td>\n",
       "      <td>Gimeno</td>\n",
       "      <td>R</td>\n",
       "      <td>1937-08-03</td>\n",
       "      <td>ESP</td>\n",
       "    </tr>\n",
       "  </tbody>\n",
       "</table>\n",
       "</div>"
      ],
      "text/plain": [
       "          name_first       name_last hand  birthdate country\n",
       "player_id                                                   \n",
       "100011        Torben          Ulrich    L 1932-10-04     DEN\n",
       "100016           Ken        Rosewall    R 1934-11-02     AUS\n",
       "100022           Roy         Emerson    R 1936-11-03     AUS\n",
       "100025         Barry  Phillips Moore    R 1937-07-09     AUS\n",
       "100026        Andres          Gimeno    R 1937-08-03     ESP"
      ]
     },
     "execution_count": 21,
     "metadata": {},
     "output_type": "execute_result"
    }
   ],
   "source": [
    "top_100_players = players.loc[top_100]\n",
    "top_100_players.head()"
   ]
  },
  {
   "cell_type": "code",
   "execution_count": 22,
   "metadata": {},
   "outputs": [],
   "source": [
    "rankings.to_csv('Resources/tennis_clean/atp_top_100_rankings.csv')"
   ]
  },
  {
   "cell_type": "code",
   "execution_count": 23,
   "metadata": {},
   "outputs": [],
   "source": [
    "top_100_players.to_csv('Resources/tennis_clean/atp_top_100_players.csv')"
   ]
  },
  {
   "cell_type": "code",
   "execution_count": 24,
   "metadata": {},
   "outputs": [
    {
     "data": {
      "image/png": "[encoded data removed]",
      "text/plain": [
       "<Figure size 432x288 with 1 Axes>"
      ]
     },
     "metadata": {
      "needs_background": "light"
     },
     "output_type": "display_data"
    }
   ],
   "source": [
    "top_100_players.country.value_counts().head(10).plot(kind='bar')\n",
    "plt.title('Top 10 countries by count of top 100 professional tennis players')\n",
    "plt.savefig('plot.jpg')"
   ]
  },
  {
   "cell_type": "code",
   "execution_count": 25,
   "metadata": {},
   "outputs": [
    {
     "data": {
      "image/png": "[encoded data removed]",
      "text/plain": [
       "<Figure size 432x288 with 1 Axes>"
      ]
     },
     "metadata": {
      "needs_background": "light"
     },
     "output_type": "display_data"
    }
   ],
   "source": [
    "top_100_players[top_100_players.birthdate > '1990'].country.value_counts().head(10).plot(kind='bar')\n",
    "plt.title('Top 10 countries by count of top 100 professional tennis players born after 1990')\n",
    "plt.savefig('plot.jpg')"
   ]
  },
  {
   "cell_type": "code",
   "execution_count": 26,
   "metadata": {},
   "outputs": [],
   "source": [
    "# I don't want any of the challenger or future match data, which is why I specify the first digit of the year.\n",
    "matches_files = glob.glob('Resources/tennis_atp-master/atp_matches_[12]*')"
   ]
  },
  {
   "cell_type": "code",
   "execution_count": 27,
   "metadata": {},
   "outputs": [],
   "source": [
    "matches_list = [pd.read_csv(matches_file, parse_dates=['tourney_date']) for matches_file in matches_files]"
   ]
  },
  {
   "cell_type": "code",
   "execution_count": 28,
   "metadata": {},
   "outputs": [],
   "source": [
    "matches = pd.concat(matches_list, sort=False)"
   ]
  },
  {
   "cell_type": "code",
   "execution_count": 29,
   "metadata": {},
   "outputs": [
    {
     "data": {
      "text/plain": [
       "Index(['tourney_id', 'tourney_name', 'surface', 'draw_size', 'tourney_level',\n",
       "       'tourney_date', 'match_num', 'winner_id', 'winner_seed', 'winner_entry',\n",
       "       'winner_name', 'winner_hand', 'winner_ht', 'winner_ioc', 'winner_age',\n",
       "       'loser_id', 'loser_seed', 'loser_entry', 'loser_name', 'loser_hand',\n",
       "       'loser_ht', 'loser_ioc', 'loser_age', 'score', 'best_of', 'round',\n",
       "       'minutes', 'w_ace', 'w_df', 'w_svpt', 'w_1stIn', 'w_1stWon', 'w_2ndWon',\n",
       "       'w_SvGms', 'w_bpSaved', 'w_bpFaced', 'l_ace', 'l_df', 'l_svpt',\n",
       "       'l_1stIn', 'l_1stWon', 'l_2ndWon', 'l_SvGms', 'l_bpSaved', 'l_bpFaced',\n",
       "       'winner_rank', 'winner_rank_points', 'loser_rank', 'loser_rank_points'],\n",
       "      dtype='object')"
      ]
     },
     "execution_count": 29,
     "metadata": {},
     "output_type": "execute_result"
    }
   ],
   "source": [
    "matches.columns"
   ]
  },
  {
   "cell_type": "code",
   "execution_count": 30,
   "metadata": {
    "scrolled": true
   },
   "outputs": [],
   "source": [
    "matches_winners = matches[['winner_id', 'tourney_id', 'match_num', 'winner_name', 'tourney_name',\n",
    "                           'surface', 'draw_size', 'tourney_level',\n",
    "       'tourney_date',  'winner_seed', 'winner_entry',\n",
    "       'winner_ht',\n",
    "       'score', 'best_of', 'round',\n",
    "       'minutes', 'w_ace', 'w_df', 'w_svpt', 'w_1stIn', 'w_1stWon', 'w_2ndWon',\n",
    "       'w_SvGms', 'w_bpSaved', 'w_bpFaced',\n",
    "       'winner_rank', 'winner_rank_points', 'loser_id', 'loser_rank', 'loser_rank_points',\n",
    "        'l_1stWon', 'l_2ndWon', 'l_svpt', 'l_1stIn', 'l_bpSaved', 'l_bpFaced']]"
   ]
  },
  {
   "cell_type": "code",
   "execution_count": 31,
   "metadata": {},
   "outputs": [],
   "source": [
    "matches_losers = matches[['loser_id', 'tourney_id', 'match_num', 'loser_name', 'tourney_name',\n",
    "                           'surface', 'draw_size', 'tourney_level',\n",
    "       'tourney_date',  'loser_seed', 'loser_entry',\n",
    "       'loser_ht',\n",
    "       'score', 'best_of', 'round',\n",
    "       'minutes', 'l_ace', 'l_df', 'l_svpt', 'l_1stIn', 'l_1stWon', 'l_2ndWon',\n",
    "       'l_SvGms', 'l_bpSaved', 'l_bpFaced',\n",
    "       'loser_rank', 'loser_rank_points', 'winner_id', 'winner_rank', 'winner_rank_points',\n",
    "        'w_1stWon', 'w_2ndWon', 'w_svpt', 'w_1stIn', 'w_bpSaved', 'w_bpFaced']]"
   ]
  },
  {
   "cell_type": "code",
   "execution_count": 32,
   "metadata": {},
   "outputs": [],
   "source": [
    "matches_winners.columns = ['player_id', 'tournament_id', 'match_id', 'player_name', 'tournament_name', 'surface',\n",
    "       'draw_size', 'tournament_level', 'tournament_date', 'seed',\n",
    "       'entry', 'player_height', 'score', 'best_of', 'round_of',\n",
    "       'minutes', 'aces', 'double_faults', 'service_points', 'first_serves', 'first_serves_won', 'second_serves_won',\n",
    "       'service_games', 'break_points_saved', 'break_points_faced', 'player_rank',\n",
    "       'ranking_points', 'opponent_id', 'opponent_rank', 'opponent_ranking_points',\n",
    "        'opponent_first_serves_won', 'opponent_second_serves_won', 'opponent_service_points', 'opponent_first_serves', 'opponent_break_points_saved', 'opponent_break_points_faced']\n",
    "matches_losers.columns = ['player_id', 'tournament_id', 'match_id', 'player_name', 'tournament_name', 'surface',\n",
    "       'draw_size', 'tournament_level', 'tournament_date', 'seed',\n",
    "       'entry', 'player_height', 'score', 'best_of', 'round_of',\n",
    "       'minutes', 'aces', 'double_faults', 'service_points', 'first_serves', 'first_serves_won', 'second_serves_won',\n",
    "       'service_games', 'break_points_saved', 'break_points_faced', 'player_rank',\n",
    "       'ranking_points', 'opponent_id', 'opponent_rank', 'opponent_ranking_points',\n",
    "        'opponent_first_serves_won', 'opponent_second_serves_won', 'opponent_service_points', 'opponent_first_serves', 'opponent_break_points_saved', 'opponent_break_points_faced']"
   ]
  },
  {
   "cell_type": "code",
   "execution_count": 33,
   "metadata": {},
   "outputs": [
    {
     "name": "stderr",
     "output_type": "stream",
     "text": [
      "/usr/local/anaconda3/lib/python3.7/site-packages/ipykernel_launcher.py:1: SettingWithCopyWarning: \n",
      "A value is trying to be set on a copy of a slice from a DataFrame.\n",
      "Try using .loc[row_indexer,col_indexer] = value instead\n",
      "\n",
      "See the caveats in the documentation: http://pandas.pydata.org/pandas-docs/stable/user_guide/indexing.html#returning-a-view-versus-a-copy\n",
      "  \"\"\"Entry point for launching an IPython kernel.\n",
      "/usr/local/anaconda3/lib/python3.7/site-packages/ipykernel_launcher.py:2: SettingWithCopyWarning: \n",
      "A value is trying to be set on a copy of a slice from a DataFrame.\n",
      "Try using .loc[row_indexer,col_indexer] = value instead\n",
      "\n",
      "See the caveats in the documentation: http://pandas.pydata.org/pandas-docs/stable/user_guide/indexing.html#returning-a-view-versus-a-copy\n",
      "  \n"
     ]
    }
   ],
   "source": [
    "matches_winners['result'] = 'W'\n",
    "matches_losers['result'] = 'L'"
   ]
  },
  {
   "cell_type": "code",
   "execution_count": 34,
   "metadata": {
    "scrolled": true
   },
   "outputs": [
    {
     "name": "stdout",
     "output_type": "stream",
     "text": [
      "<class 'pandas.core.frame.DataFrame'>\n",
      "MultiIndex: 339380 entries, (106045, 2019-M020, 271) to (104755, 2014-D015, 4)\n",
      "Data columns (total 34 columns):\n",
      "player_name                    339380 non-null object\n",
      "tournament_name                339380 non-null object\n",
      "surface                        334302 non-null object\n",
      "draw_size                      2464 non-null float64\n",
      "tournament_level               339380 non-null object\n",
      "tournament_date                339380 non-null datetime64[ns]\n",
      "seed                           98148 non-null float64\n",
      "entry                          40087 non-null object\n",
      "player_height                  289936 non-null float64\n",
      "score                          339028 non-null object\n",
      "best_of                        339380 non-null int64\n",
      "round_of                       339380 non-null object\n",
      "minutes                        164206 non-null float64\n",
      "aces                           166830 non-null float64\n",
      "double_faults                  166830 non-null float64\n",
      "service_points                 166830 non-null float64\n",
      "first_serves                   166830 non-null float64\n",
      "first_serves_won               166830 non-null float64\n",
      "second_serves_won              166830 non-null float64\n",
      "service_games                  166830 non-null float64\n",
      "break_points_saved             166830 non-null float64\n",
      "break_points_faced             166830 non-null float64\n",
      "player_rank                    295682 non-null float64\n",
      "ranking_points                 187316 non-null float64\n",
      "opponent_id                    339380 non-null int64\n",
      "opponent_rank                  295682 non-null float64\n",
      "opponent_ranking_points        187316 non-null float64\n",
      "opponent_first_serves_won      166830 non-null float64\n",
      "opponent_second_serves_won     166830 non-null float64\n",
      "opponent_service_points        166830 non-null float64\n",
      "opponent_first_serves          166830 non-null float64\n",
      "opponent_break_points_saved    166830 non-null float64\n",
      "opponent_break_points_faced    166830 non-null float64\n",
      "result                         339380 non-null object\n",
      "dtypes: datetime64[ns](1), float64(23), int64(2), object(8)\n",
      "memory usage: 90.1+ MB\n"
     ]
    }
   ],
   "source": [
    "matches = pd.concat([matches_winners, matches_losers])\n",
    "matches.set_index(['player_id', 'tournament_id', 'match_id'], inplace=True)\n",
    "matches.info()"
   ]
  },
  {
   "cell_type": "code",
   "execution_count": 35,
   "metadata": {
    "scrolled": false
   },
   "outputs": [
    {
     "name": "stderr",
     "output_type": "stream",
     "text": [
      "/usr/local/anaconda3/lib/python3.7/site-packages/IPython/core/interactiveshell.py:2848: PerformanceWarning: indexing past lexsort depth may impact performance.\n",
      "  raw_cell, store_history, silent, shell_futures)\n",
      "/usr/local/anaconda3/lib/python3.7/site-packages/IPython/core/async_helpers.py:68: PerformanceWarning: indexing past lexsort depth may impact performance.\n",
      "  coro.send(None)\n"
     ]
    }
   ],
   "source": [
    "# Corrections to errant data here\n",
    "# 1. 1991 Tokyo Outdoor tournament has an impossible value for Jim Courier's break point values.\n",
    "#    Fix: An analysis of the score shows that the values are offset by 4. These are corrected.\n",
    "# Courier\n",
    "matches.loc[(101793, '1991-329', 54), 'break_points_faced'] = 4.\n",
    "matches.loc[(101793, '1991-329', 54), 'break_points_saved'] = 0.\n",
    "# Courier\n",
    "matches.loc[(100656, '1991-329', 54), 'opponent_break_points_faced'] = 4.\n",
    "matches.loc[(100656, '1991-329', 54), 'opponent_break_points_saved'] = 0.\n",
    "# 2. 1991 Tokyo Outdoor tournament has an impossible value for Ivan Lendl's break point values.\n",
    "#    Fix: The score has too many possibilities to narrow it down, so I will set the break points to NaN to avoid\n",
    "#    propogating the errors any farther down the pipeline.\n",
    "# Lendl\n",
    "matches.loc[(100656, '1991-329', 55), 'break_points_faced'] = np.nan\n",
    "matches.loc[(100656, '1991-329', 55), 'break_points_saved'] = np.nan\n",
    "# Edberg\n",
    "matches.loc[(101222, '1991-329', 55), 'opponent_break_points_faced'] = np.nan\n",
    "matches.loc[(101222, '1991-329', 55), 'opponent_break_points_saved'] = np.nan\n",
    "\n",
    "# Lendl must have distracted stat taker, as these are the only two individual instances of mistakes in the dataset."
   ]
  },
  {
   "cell_type": "code",
   "execution_count": 36,
   "metadata": {},
   "outputs": [
    {
     "data": {
      "text/html": [
       "<div>\n",
       "<style scoped>\n",
       "    .dataframe tbody tr th:only-of-type {\n",
       "        vertical-align: middle;\n",
       "    }\n",
       "\n",
       "    .dataframe tbody tr th {\n",
       "        vertical-align: top;\n",
       "    }\n",
       "\n",
       "    .dataframe thead th {\n",
       "        text-align: right;\n",
       "    }\n",
       "</style>\n",
       "<table border=\"1\" class=\"dataframe\">\n",
       "  <thead>\n",
       "    <tr style=\"text-align: right;\">\n",
       "      <th></th>\n",
       "      <th>name_first</th>\n",
       "      <th>name_last</th>\n",
       "      <th>hand</th>\n",
       "      <th>birthdate</th>\n",
       "      <th>country</th>\n",
       "    </tr>\n",
       "    <tr>\n",
       "      <th>player_id</th>\n",
       "      <th></th>\n",
       "      <th></th>\n",
       "      <th></th>\n",
       "      <th></th>\n",
       "      <th></th>\n",
       "    </tr>\n",
       "  </thead>\n",
       "  <tbody>\n",
       "    <tr>\n",
       "      <th>101222</th>\n",
       "      <td>Stefan</td>\n",
       "      <td>Edberg</td>\n",
       "      <td>R</td>\n",
       "      <td>1966-01-19</td>\n",
       "      <td>SWE</td>\n",
       "    </tr>\n",
       "  </tbody>\n",
       "</table>\n",
       "</div>"
      ],
      "text/plain": [
       "          name_first name_last hand  birthdate country\n",
       "player_id                                             \n",
       "101222        Stefan    Edberg    R 1966-01-19     SWE"
      ]
     },
     "execution_count": 36,
     "metadata": {},
     "output_type": "execute_result"
    }
   ],
   "source": [
    "players[players.name_last == 'Edberg']"
   ]
  },
  {
   "cell_type": "code",
   "execution_count": 37,
   "metadata": {},
   "outputs": [],
   "source": [
    "# 3. The 2003 Madrid Masters has many instances where the service points won column \n",
    "#    exceeds the total service points played. All instances of service points\n",
    "#    played and won are set to NaN for this tournament.\n",
    "# 'service_points', 'first_serves', 'first_serves_won', 'second_serves_won'\n",
    "\n",
    "madrid_2003_matches = matches.query('tournament_id == \\'2003-1536\\'').index\n",
    "matches.loc[madrid_2003_matches, 'service_points'] = np.nan\n",
    "matches.loc[madrid_2003_matches, 'first_serves'] = np.nan\n",
    "matches.loc[madrid_2003_matches, 'first_serves_won'] = np.nan\n",
    "matches.loc[madrid_2003_matches, 'second_serves_won'] = np.nan\n",
    "matches.loc[madrid_2003_matches, 'opponent_service_points'] = np.nan\n",
    "matches.loc[madrid_2003_matches, 'opponent_first_serves'] = np.nan\n",
    "matches.loc[madrid_2003_matches, 'opponent_first_serves_won'] = np.nan\n",
    "matches.loc[madrid_2003_matches, 'opponent_second_serves_won'] = np.nan"
   ]
  },
  {
   "cell_type": "code",
   "execution_count": 38,
   "metadata": {},
   "outputs": [],
   "source": [
    "long_long_matches = matches.query('tournament_id == \\'2016-M001\\' and match_id == 294 \\\n",
    "                                or tournament_id == \\'2017-0308\\' and match_id == 297').index\n",
    "matches.loc[long_long_matches, 'minutes'] = np.nan"
   ]
  },
  {
   "cell_type": "code",
   "execution_count": 39,
   "metadata": {},
   "outputs": [
    {
     "data": {
      "text/plain": [
       "(0.5979379693938744, 0.0, 1.0)"
      ]
     },
     "execution_count": 39,
     "metadata": {},
     "output_type": "execute_result"
    },
    {
     "data": {
      "image/png": "[encoded data removed]",
      "text/plain": [
       "<Figure size 432x288 with 1 Axes>"
      ]
     },
     "metadata": {
      "needs_background": "light"
     },
     "output_type": "display_data"
    }
   ],
   "source": [
    "matches['first_serve_percentage'] = matches.first_serves / matches.service_points\n",
    "matches.first_serve_percentage.plot(kind='hist', bins=30)\n",
    "# No anomomylous data\n",
    "matches.first_serve_percentage.mean(), matches.first_serve_percentage.min(), matches.first_serve_percentage.max()"
   ]
  },
  {
   "cell_type": "code",
   "execution_count": 40,
   "metadata": {
    "scrolled": false
   },
   "outputs": [
    {
     "name": "stderr",
     "output_type": "stream",
     "text": [
      "/usr/local/anaconda3/lib/python3.7/site-packages/ipykernel_launcher.py:2: SettingWithCopyWarning: \n",
      "A value is trying to be set on a copy of a slice from a DataFrame\n",
      "\n",
      "See the caveats in the documentation: http://pandas.pydata.org/pandas-docs/stable/user_guide/indexing.html#returning-a-view-versus-a-copy\n",
      "  \n"
     ]
    },
    {
     "data": {
      "text/plain": [
       "(0.5772107208974743, 0.0, 1.0)"
      ]
     },
     "execution_count": 40,
     "metadata": {},
     "output_type": "execute_result"
    },
    {
     "data": {
      "image/png": "[encoded data removed]",
      "text/plain": [
       "<Figure size 432x288 with 1 Axes>"
      ]
     },
     "metadata": {
      "needs_background": "light"
     },
     "output_type": "display_data"
    }
   ],
   "source": [
    "matches['break_points_save_percentage'] = (matches.break_points_saved / matches.break_points_faced)\n",
    "matches.break_points_save_percentage[~np.isfinite(matches.break_points_save_percentage)] = np.nan\n",
    "matches.break_points_save_percentage.plot(kind='hist', bins=30)\n",
    "# Initially two data points resulted in a negative percentage, and were corrected. \n",
    "matches.break_points_save_percentage.mean(), matches.break_points_save_percentage.min(), matches.break_points_save_percentage.max()"
   ]
  },
  {
   "cell_type": "code",
   "execution_count": 41,
   "metadata": {},
   "outputs": [
    {
     "data": {
      "text/html": [
       "<div>\n",
       "<style scoped>\n",
       "    .dataframe tbody tr th:only-of-type {\n",
       "        vertical-align: middle;\n",
       "    }\n",
       "\n",
       "    .dataframe tbody tr th {\n",
       "        vertical-align: top;\n",
       "    }\n",
       "\n",
       "    .dataframe thead th {\n",
       "        text-align: right;\n",
       "    }\n",
       "</style>\n",
       "<table border=\"1\" class=\"dataframe\">\n",
       "  <thead>\n",
       "    <tr style=\"text-align: right;\">\n",
       "      <th></th>\n",
       "      <th></th>\n",
       "      <th></th>\n",
       "      <th>player_name</th>\n",
       "      <th>score</th>\n",
       "      <th>break_points_saved</th>\n",
       "      <th>break_points_faced</th>\n",
       "      <th>result</th>\n",
       "    </tr>\n",
       "    <tr>\n",
       "      <th>player_id</th>\n",
       "      <th>tournament_id</th>\n",
       "      <th>match_id</th>\n",
       "      <th></th>\n",
       "      <th></th>\n",
       "      <th></th>\n",
       "      <th></th>\n",
       "      <th></th>\n",
       "    </tr>\n",
       "  </thead>\n",
       "  <tbody>\n",
       "    <tr>\n",
       "      <th>101222</th>\n",
       "      <th>1991-329</th>\n",
       "      <th>55</th>\n",
       "      <td>Stefan Edberg</td>\n",
       "      <td>6-1 7-5 6-0</td>\n",
       "      <td>6.0</td>\n",
       "      <td>8.0</td>\n",
       "      <td>W</td>\n",
       "    </tr>\n",
       "    <tr>\n",
       "      <th>100656</th>\n",
       "      <th>1991-329</th>\n",
       "      <th>55</th>\n",
       "      <td>Ivan Lendl</td>\n",
       "      <td>6-1 7-5 6-0</td>\n",
       "      <td>NaN</td>\n",
       "      <td>NaN</td>\n",
       "      <td>L</td>\n",
       "    </tr>\n",
       "  </tbody>\n",
       "</table>\n",
       "</div>"
      ],
      "text/plain": [
       "                                    player_name        score  \\\n",
       "player_id tournament_id match_id                               \n",
       "101222    1991-329      55        Stefan Edberg  6-1 7-5 6-0   \n",
       "100656    1991-329      55           Ivan Lendl  6-1 7-5 6-0   \n",
       "\n",
       "                                  break_points_saved  break_points_faced  \\\n",
       "player_id tournament_id match_id                                           \n",
       "101222    1991-329      55                       6.0                 8.0   \n",
       "100656    1991-329      55                       NaN                 NaN   \n",
       "\n",
       "                                 result  \n",
       "player_id tournament_id match_id         \n",
       "101222    1991-329      55            W  \n",
       "100656    1991-329      55            L  "
      ]
     },
     "execution_count": 41,
     "metadata": {},
     "output_type": "execute_result"
    }
   ],
   "source": [
    "\n",
    "matches.query('tournament_id == \\'1991-329\\' and match_id == 55')[['player_name', 'score', 'break_points_saved', 'break_points_faced', 'result']]"
   ]
  },
  {
   "cell_type": "code",
   "execution_count": 42,
   "metadata": {},
   "outputs": [
    {
     "data": {
      "text/plain": [
       "(0.6259750644648816, 0.0, 1.0)"
      ]
     },
     "execution_count": 42,
     "metadata": {},
     "output_type": "execute_result"
    },
    {
     "data": {
      "image/png": "[encoded data removed]",
      "text/plain": [
       "<Figure size 432x288 with 1 Axes>"
      ]
     },
     "metadata": {
      "needs_background": "light"
     },
     "output_type": "display_data"
    }
   ],
   "source": [
    "matches['service_points_won'] = matches.first_serves_won + matches.second_serves_won\n",
    "matches['service_points_won_percentage'] = matches.service_points_won / matches.service_points\n",
    "matches.service_points_won_percentage.plot(kind='hist', bins=30)\n",
    "matches.service_points_won_percentage.mean(), matches.service_points_won_percentage.min(), matches.service_points_won_percentage.max()"
   ]
  },
  {
   "cell_type": "code",
   "execution_count": 43,
   "metadata": {},
   "outputs": [
    {
     "data": {
      "text/plain": [
       "(158.6581182228193, 1.0, 980.0)"
      ]
     },
     "execution_count": 43,
     "metadata": {},
     "output_type": "execute_result"
    }
   ],
   "source": [
    "matches['points'] = matches.service_points + matches.opponent_service_points\n",
    "matches.points.mean(), matches.points.min(), matches.points.max() "
   ]
  },
  {
   "cell_type": "code",
   "execution_count": 44,
   "metadata": {},
   "outputs": [
    {
     "data": {
      "text/plain": [
       "(79.32905911140965, 0.0, 491.0)"
      ]
     },
     "execution_count": 44,
     "metadata": {},
     "output_type": "execute_result"
    }
   ],
   "source": [
    "matches['return_points'] = matches.points - matches.service_points\n",
    "matches.return_points.mean(), matches.return_points.min(), matches.return_points.max() "
   ]
  },
  {
   "cell_type": "code",
   "execution_count": 45,
   "metadata": {},
   "outputs": [
    {
     "data": {
      "text/plain": [
       "(0.3740249355354508, 0.0, 1.0)"
      ]
     },
     "execution_count": 45,
     "metadata": {},
     "output_type": "execute_result"
    },
    {
     "data": {
      "image/png": "[encoded data removed]",
      "text/plain": [
       "<Figure size 432x288 with 1 Axes>"
      ]
     },
     "metadata": {
      "needs_background": "light"
     },
     "output_type": "display_data"
    }
   ],
   "source": [
    "matches['return_points_won'] = matches.return_points - (matches.opponent_first_serves_won + matches.opponent_second_serves_won)\n",
    "matches['return_points_won_percentage'] = matches.return_points_won / matches.return_points\n",
    "matches.return_points_won_percentage.plot(kind='hist', bins=30)\n",
    "matches.return_points_won_percentage.mean(), matches.return_points_won_percentage.min(), matches.return_points_won_percentage.max()"
   ]
  },
  {
   "cell_type": "code",
   "execution_count": 46,
   "metadata": {},
   "outputs": [
    {
     "data": {
      "text/plain": [
       "(0.7100315681182388, 0.0, 1.0)"
      ]
     },
     "execution_count": 46,
     "metadata": {},
     "output_type": "execute_result"
    },
    {
     "data": {
      "image/png": "[encoded data removed]",
      "text/plain": [
       "<Figure size 432x288 with 1 Axes>"
      ]
     },
     "metadata": {
      "needs_background": "light"
     },
     "output_type": "display_data"
    }
   ],
   "source": [
    "matches['first_serves_won_percentage'] = matches.first_serves_won / matches.first_serves\n",
    "matches.first_serves_won_percentage.plot(kind='hist', bins=30)\n",
    "matches.first_serves_won_percentage.mean(), matches.first_serves_won_percentage.min(), matches.first_serves_won_percentage.max()"
   ]
  },
  {
   "cell_type": "code",
   "execution_count": 47,
   "metadata": {},
   "outputs": [
    {
     "data": {
      "text/plain": [
       "(0.5048184906046367, 0.0, 1.0)"
      ]
     },
     "execution_count": 47,
     "metadata": {},
     "output_type": "execute_result"
    },
    {
     "data": {
      "image/png": "[encoded data removed]",
      "text/plain": [
       "<Figure size 432x288 with 1 Axes>"
      ]
     },
     "metadata": {
      "needs_background": "light"
     },
     "output_type": "display_data"
    }
   ],
   "source": [
    "matches['second_serves_won_percentage'] = matches.second_serves_won / (matches.service_points - matches.first_serves)\n",
    "matches.second_serves_won_percentage.plot(kind='hist', bins=30)\n",
    "matches.second_serves_won_percentage.mean(), matches.second_serves_won_percentage.min(), matches.second_serves_won_percentage.max()"
   ]
  },
  {
   "cell_type": "code",
   "execution_count": 48,
   "metadata": {},
   "outputs": [
    {
     "data": {
      "text/plain": [
       "(0.289968431882156, 0.0, 1.0)"
      ]
     },
     "execution_count": 48,
     "metadata": {},
     "output_type": "execute_result"
    },
    {
     "data": {
      "image/png": "[encoded data removed]",
      "text/plain": [
       "<Figure size 432x288 with 1 Axes>"
      ]
     },
     "metadata": {
      "needs_background": "light"
     },
     "output_type": "display_data"
    }
   ],
   "source": [
    "matches['first_serve_return_points_won'] = matches.opponent_first_serves - matches.opponent_first_serves_won\n",
    "matches['first_serve_return_points_won_percentage'] = matches.first_serve_return_points_won / matches.opponent_first_serves\n",
    "matches.first_serve_return_points_won_percentage.plot(kind='hist', bins=30)\n",
    "matches.first_serve_return_points_won_percentage.mean(), matches.first_serve_return_points_won_percentage.min(), matches.first_serve_return_points_won_percentage.max()"
   ]
  },
  {
   "cell_type": "code",
   "execution_count": 49,
   "metadata": {},
   "outputs": [
    {
     "data": {
      "text/plain": [
       "(0.4951815093950954, 0.0, 1.0)"
      ]
     },
     "execution_count": 49,
     "metadata": {},
     "output_type": "execute_result"
    },
    {
     "data": {
      "image/png": "[encoded data removed]",
      "text/plain": [
       "<Figure size 432x288 with 1 Axes>"
      ]
     },
     "metadata": {
      "needs_background": "light"
     },
     "output_type": "display_data"
    }
   ],
   "source": [
    "matches['second_serve_return_points_won'] = matches.opponent_service_points - matches.opponent_first_serves - matches.opponent_second_serves_won\n",
    "matches['second_serve_return_points_won_percentage'] = matches.second_serve_return_points_won / (matches.opponent_service_points - matches.opponent_first_serves)\n",
    "matches.second_serve_return_points_won_percentage.plot(kind='hist', bins=30)\n",
    "matches.second_serve_return_points_won_percentage.mean(), matches.second_serve_return_points_won_percentage.min(), matches.second_serve_return_points_won_percentage.max()"
   ]
  },
  {
   "cell_type": "code",
   "execution_count": 50,
   "metadata": {
    "scrolled": false
   },
   "outputs": [
    {
     "name": "stderr",
     "output_type": "stream",
     "text": [
      "/usr/local/anaconda3/lib/python3.7/site-packages/ipykernel_launcher.py:4: SettingWithCopyWarning: \n",
      "A value is trying to be set on a copy of a slice from a DataFrame\n",
      "\n",
      "See the caveats in the documentation: http://pandas.pydata.org/pandas-docs/stable/user_guide/indexing.html#returning-a-view-versus-a-copy\n",
      "  after removing the cwd from sys.path.\n"
     ]
    },
    {
     "data": {
      "text/plain": [
       "(0.42278927910259284, 0.0, 1.0)"
      ]
     },
     "execution_count": 50,
     "metadata": {},
     "output_type": "execute_result"
    },
    {
     "data": {
      "image/png": "[encoded data removed]",
      "text/plain": [
       "<Figure size 432x288 with 1 Axes>"
      ]
     },
     "metadata": {
      "needs_background": "light"
     },
     "output_type": "display_data"
    }
   ],
   "source": [
    "matches['break_points'] = matches.opponent_break_points_faced\n",
    "matches['break_points_won'] = matches.opponent_break_points_faced - matches.opponent_break_points_saved\n",
    "matches['break_points_won_percentage'] = matches.break_points_won / matches.break_points\n",
    "matches.break_points_won_percentage[~np.isfinite(matches.break_points_won_percentage)] = np.nan\n",
    "matches.break_points_won_percentage.plot(kind='hist', bins=30)\n",
    "matches.break_points_won_percentage.mean(), matches.break_points_won_percentage.min(), matches.break_points_won_percentage.max()"
   ]
  },
  {
   "cell_type": "code",
   "execution_count": 51,
   "metadata": {},
   "outputs": [
    {
     "data": {
      "text/plain": [
       "(0.49999999999982536, 0.0, 1.0)"
      ]
     },
     "execution_count": 51,
     "metadata": {},
     "output_type": "execute_result"
    },
    {
     "data": {
      "image/png": "[encoded data removed]",
      "text/plain": [
       "<Figure size 432x288 with 1 Axes>"
      ]
     },
     "metadata": {
      "needs_background": "light"
     },
     "output_type": "display_data"
    }
   ],
   "source": [
    "matches['points_won'] = matches.service_points_won + matches.return_points_won\n",
    "matches['points_won_percentage'] = matches.points_won / matches.points\n",
    "matches.points_won_percentage.plot(kind='hist', bins=30)\n",
    "# I don't know what I expected.gif\n",
    "matches.points_won_percentage.mean(), matches.points_won_percentage.min(), matches.points_won_percentage.max()"
   ]
  },
  {
   "cell_type": "code",
   "execution_count": 52,
   "metadata": {
    "scrolled": true
   },
   "outputs": [
    {
     "data": {
      "text/plain": [
       "40.04820200614823"
      ]
     },
     "execution_count": 52,
     "metadata": {},
     "output_type": "execute_result"
    },
    {
     "data": {
      "image/png": "[encoded data removed]",
      "text/plain": [
       "<Figure size 432x288 with 1 Axes>"
      ]
     },
     "metadata": {
      "needs_background": "light"
     },
     "output_type": "display_data"
    }
   ],
   "source": [
    "matches.minutes.plot(kind='box', vert=False)\n",
    "matches.minutes.std()"
   ]
  },
  {
   "cell_type": "code",
   "execution_count": 53,
   "metadata": {},
   "outputs": [],
   "source": [
    "matches = matches[['player_name', 'tournament_name', 'surface', 'draw_size', 'tournament_level',\n",
    "       'tournament_date', 'seed', 'entry', 'player_height', 'score', 'best_of',\n",
    "       'round_of', 'minutes', 'aces', 'double_faults', 'service_points',\n",
    "       'first_serves', 'first_serves_won', 'second_serves_won',\n",
    "       'service_games', 'break_points_saved', 'break_points_faced',\n",
    "       'player_rank', 'ranking_points', 'opponent_id', 'opponent_rank',\n",
    "       'opponent_ranking_points', 'result', 'first_serve_percentage',\n",
    "       'break_points_save_percentage', 'service_points_won',\n",
    "       'service_points_won_percentage', 'points', 'return_points',\n",
    "       'return_points_won', 'return_points_won_percentage',\n",
    "       'first_serves_won_percentage', 'second_serves_won_percentage',\n",
    "       'first_serve_return_points_won',\n",
    "       'first_serve_return_points_won_percentage',\n",
    "       'second_serve_return_points_won',\n",
    "       'second_serve_return_points_won_percentage', 'break_points',\n",
    "       'break_points_won', 'break_points_won_percentage', 'points_won',\n",
    "       'points_won_percentage']]"
   ]
  },
  {
   "cell_type": "code",
   "execution_count": 54,
   "metadata": {
    "scrolled": true
   },
   "outputs": [],
   "source": [
    "matches.result = matches.result.astype('category')\n",
    "matches.surface = matches.surface.astype('category')\n",
    "matches.tournament_level = matches.tournament_level.astype('category')\n",
    "matches.round_of = matches.round_of.astype('category')\n",
    "matches.result = matches.result.astype('category')"
   ]
  },
  {
   "cell_type": "code",
   "execution_count": 55,
   "metadata": {
    "scrolled": true
   },
   "outputs": [
    {
     "name": "stdout",
     "output_type": "stream",
     "text": [
      "<class 'pandas.core.frame.DataFrame'>\n",
      "MultiIndex: 339380 entries, (106045, 2019-M020, 271) to (104755, 2014-D015, 4)\n",
      "Data columns (total 47 columns):\n",
      "player_name                                  339380 non-null object\n",
      "tournament_name                              339380 non-null object\n",
      "surface                                      334302 non-null category\n",
      "draw_size                                    2464 non-null float64\n",
      "tournament_level                             339380 non-null category\n",
      "tournament_date                              339380 non-null datetime64[ns]\n",
      "seed                                         98148 non-null float64\n",
      "entry                                        40087 non-null object\n",
      "player_height                                289936 non-null float64\n",
      "score                                        339028 non-null object\n",
      "best_of                                      339380 non-null int64\n",
      "round_of                                     339380 non-null category\n",
      "minutes                                      164202 non-null float64\n",
      "aces                                         166830 non-null float64\n",
      "double_faults                                166830 non-null float64\n",
      "service_points                               166736 non-null float64\n",
      "first_serves                                 166736 non-null float64\n",
      "first_serves_won                             166736 non-null float64\n",
      "second_serves_won                            166736 non-null float64\n",
      "service_games                                166830 non-null float64\n",
      "break_points_saved                           166829 non-null float64\n",
      "break_points_faced                           166829 non-null float64\n",
      "player_rank                                  295682 non-null float64\n",
      "ranking_points                               187316 non-null float64\n",
      "opponent_id                                  339380 non-null int64\n",
      "opponent_rank                                295682 non-null float64\n",
      "opponent_ranking_points                      187316 non-null float64\n",
      "result                                       339380 non-null category\n",
      "first_serve_percentage                       166700 non-null float64\n",
      "break_points_save_percentage                 159216 non-null float64\n",
      "service_points_won                           166736 non-null float64\n",
      "service_points_won_percentage                166700 non-null float64\n",
      "points                                       166736 non-null float64\n",
      "return_points                                166736 non-null float64\n",
      "return_points_won                            166736 non-null float64\n",
      "return_points_won_percentage                 166700 non-null float64\n",
      "first_serves_won_percentage                  166698 non-null float64\n",
      "second_serves_won_percentage                 166674 non-null float64\n",
      "first_serve_return_points_won                166736 non-null float64\n",
      "first_serve_return_points_won_percentage     166698 non-null float64\n",
      "second_serve_return_points_won               166736 non-null float64\n",
      "second_serve_return_points_won_percentage    166674 non-null float64\n",
      "break_points                                 166829 non-null float64\n",
      "break_points_won                             166829 non-null float64\n",
      "break_points_won_percentage                  159216 non-null float64\n",
      "points_won                                   166736 non-null float64\n",
      "points_won_percentage                        166736 non-null float64\n",
      "dtypes: category(4), datetime64[ns](1), float64(36), int64(2), object(4)\n",
      "memory usage: 125.2+ MB\n"
     ]
    }
   ],
   "source": [
    "matches.info()"
   ]
  },
  {
   "cell_type": "code",
   "execution_count": 56,
   "metadata": {},
   "outputs": [
    {
     "data": {
      "text/plain": [
       "<matplotlib.axes._subplots.AxesSubplot at 0x12e041710>"
      ]
     },
     "execution_count": 56,
     "metadata": {},
     "output_type": "execute_result"
    },
    {
     "data": {
      "image/png": "[encoded data removed]",
      "text/plain": [
       "<Figure size 432x288 with 1 Axes>"
      ]
     },
     "metadata": {
      "needs_background": "light"
     },
     "output_type": "display_data"
    }
   ],
   "source": [
    "import seaborn as sns\n",
    "\n",
    "sns.regplot(matches.player_height, matches.service_points_won_percentage)"
   ]
  },
  {
   "cell_type": "code",
   "execution_count": 57,
   "metadata": {},
   "outputs": [],
   "source": [
    "matches['result_value'] = [1 if result == 'W' else 0 for result in matches.result]"
   ]
  },
  {
   "cell_type": "code",
   "execution_count": 58,
   "metadata": {},
   "outputs": [
    {
     "data": {
      "text/plain": [
       "<matplotlib.axes._subplots.AxesSubplot at 0x12e5df160>"
      ]
     },
     "execution_count": 58,
     "metadata": {},
     "output_type": "execute_result"
    },
    {
     "data": {
      "image/png": "[encoded data removed]",
      "text/plain": [
       "<Figure size 432x288 with 1 Axes>"
      ]
     },
     "metadata": {
      "needs_background": "light"
     },
     "output_type": "display_data"
    }
   ],
   "source": [
    "sns.regplot(matches.minutes, matches.aces)"
   ]
  },
  {
   "cell_type": "code",
   "execution_count": 59,
   "metadata": {},
   "outputs": [],
   "source": [
    "matches.to_csv('Resources/tennis_clean/atp_matches.csv')"
   ]
  },
  {
   "cell_type": "code",
   "execution_count": 61,
   "metadata": {},
   "outputs": [
    {
     "name": "stderr",
     "output_type": "stream",
     "text": [
      "/usr/local/anaconda3/lib/python3.7/site-packages/ipykernel_launcher.py:3: FutureWarning: \n",
      "Passing list-likes to .loc or [] with any missing label will raise\n",
      "KeyError in the future, you can use .reindex() as an alternative.\n",
      "\n",
      "See the documentation here:\n",
      "https://pandas.pydata.org/pandas-docs/stable/user_guide/indexing.html#deprecate-loc-reindex-listlike\n",
      "  This is separate from the ipykernel package so we can avoid doing imports until\n"
     ]
    },
    {
     "data": {
      "text/html": [
       "<div>\n",
       "<style scoped>\n",
       "    .dataframe tbody tr th:only-of-type {\n",
       "        vertical-align: middle;\n",
       "    }\n",
       "\n",
       "    .dataframe tbody tr th {\n",
       "        vertical-align: top;\n",
       "    }\n",
       "\n",
       "    .dataframe thead th {\n",
       "        text-align: right;\n",
       "    }\n",
       "</style>\n",
       "<table border=\"1\" class=\"dataframe\">\n",
       "  <thead>\n",
       "    <tr style=\"text-align: right;\">\n",
       "      <th></th>\n",
       "      <th></th>\n",
       "      <th></th>\n",
       "      <th>player_name</th>\n",
       "      <th>tournament_name</th>\n",
       "      <th>surface</th>\n",
       "      <th>draw_size</th>\n",
       "      <th>tournament_level</th>\n",
       "      <th>tournament_date</th>\n",
       "      <th>seed</th>\n",
       "      <th>entry</th>\n",
       "      <th>player_height</th>\n",
       "      <th>score</th>\n",
       "      <th>...</th>\n",
       "      <th>first_serve_return_points_won</th>\n",
       "      <th>first_serve_return_points_won_percentage</th>\n",
       "      <th>second_serve_return_points_won</th>\n",
       "      <th>second_serve_return_points_won_percentage</th>\n",
       "      <th>break_points</th>\n",
       "      <th>break_points_won</th>\n",
       "      <th>break_points_won_percentage</th>\n",
       "      <th>points_won</th>\n",
       "      <th>points_won_percentage</th>\n",
       "      <th>result_value</th>\n",
       "    </tr>\n",
       "    <tr>\n",
       "      <th>player_id</th>\n",
       "      <th>tournament_id</th>\n",
       "      <th>match_id</th>\n",
       "      <th></th>\n",
       "      <th></th>\n",
       "      <th></th>\n",
       "      <th></th>\n",
       "      <th></th>\n",
       "      <th></th>\n",
       "      <th></th>\n",
       "      <th></th>\n",
       "      <th></th>\n",
       "      <th></th>\n",
       "      <th></th>\n",
       "      <th></th>\n",
       "      <th></th>\n",
       "      <th></th>\n",
       "      <th></th>\n",
       "      <th></th>\n",
       "      <th></th>\n",
       "      <th></th>\n",
       "      <th></th>\n",
       "      <th></th>\n",
       "      <th></th>\n",
       "    </tr>\n",
       "  </thead>\n",
       "  <tbody>\n",
       "    <tr>\n",
       "      <th rowspan=\"5\" valign=\"top\">100011</th>\n",
       "      <th rowspan=\"2\" valign=\"top\">1969-560</th>\n",
       "      <th>174.0</th>\n",
       "      <td>Torben Ulrich</td>\n",
       "      <td>US Open</td>\n",
       "      <td>Grass</td>\n",
       "      <td>NaN</td>\n",
       "      <td>G</td>\n",
       "      <td>1969-08-27</td>\n",
       "      <td>NaN</td>\n",
       "      <td>NaN</td>\n",
       "      <td>NaN</td>\n",
       "      <td>7-5 6-3 10-8</td>\n",
       "      <td>...</td>\n",
       "      <td>NaN</td>\n",
       "      <td>NaN</td>\n",
       "      <td>NaN</td>\n",
       "      <td>NaN</td>\n",
       "      <td>NaN</td>\n",
       "      <td>NaN</td>\n",
       "      <td>NaN</td>\n",
       "      <td>NaN</td>\n",
       "      <td>NaN</td>\n",
       "      <td>1.0</td>\n",
       "    </tr>\n",
       "    <tr>\n",
       "      <th>238.0</th>\n",
       "      <td>Torben Ulrich</td>\n",
       "      <td>US Open</td>\n",
       "      <td>Grass</td>\n",
       "      <td>NaN</td>\n",
       "      <td>G</td>\n",
       "      <td>1969-08-27</td>\n",
       "      <td>NaN</td>\n",
       "      <td>NaN</td>\n",
       "      <td>NaN</td>\n",
       "      <td>6-4 6-4 6-3</td>\n",
       "      <td>...</td>\n",
       "      <td>NaN</td>\n",
       "      <td>NaN</td>\n",
       "      <td>NaN</td>\n",
       "      <td>NaN</td>\n",
       "      <td>NaN</td>\n",
       "      <td>NaN</td>\n",
       "      <td>NaN</td>\n",
       "      <td>NaN</td>\n",
       "      <td>NaN</td>\n",
       "      <td>1.0</td>\n",
       "    </tr>\n",
       "    <tr>\n",
       "      <th rowspan=\"3\" valign=\"top\">1968-560</th>\n",
       "      <th>6.0</th>\n",
       "      <td>Torben Ulrich</td>\n",
       "      <td>US Open</td>\n",
       "      <td>Grass</td>\n",
       "      <td>96.0</td>\n",
       "      <td>G</td>\n",
       "      <td>1968-08-29</td>\n",
       "      <td>NaN</td>\n",
       "      <td>NaN</td>\n",
       "      <td>NaN</td>\n",
       "      <td>6-4 6-3 6-3</td>\n",
       "      <td>...</td>\n",
       "      <td>NaN</td>\n",
       "      <td>NaN</td>\n",
       "      <td>NaN</td>\n",
       "      <td>NaN</td>\n",
       "      <td>NaN</td>\n",
       "      <td>NaN</td>\n",
       "      <td>NaN</td>\n",
       "      <td>NaN</td>\n",
       "      <td>NaN</td>\n",
       "      <td>1.0</td>\n",
       "    </tr>\n",
       "    <tr>\n",
       "      <th>43.0</th>\n",
       "      <td>Torben Ulrich</td>\n",
       "      <td>US Open</td>\n",
       "      <td>Grass</td>\n",
       "      <td>96.0</td>\n",
       "      <td>G</td>\n",
       "      <td>1968-08-29</td>\n",
       "      <td>NaN</td>\n",
       "      <td>NaN</td>\n",
       "      <td>NaN</td>\n",
       "      <td>3-6 6-2 6-3 6-2</td>\n",
       "      <td>...</td>\n",
       "      <td>NaN</td>\n",
       "      <td>NaN</td>\n",
       "      <td>NaN</td>\n",
       "      <td>NaN</td>\n",
       "      <td>NaN</td>\n",
       "      <td>NaN</td>\n",
       "      <td>NaN</td>\n",
       "      <td>NaN</td>\n",
       "      <td>NaN</td>\n",
       "      <td>1.0</td>\n",
       "    </tr>\n",
       "    <tr>\n",
       "      <th>70.0</th>\n",
       "      <td>Torben Ulrich</td>\n",
       "      <td>US Open</td>\n",
       "      <td>Grass</td>\n",
       "      <td>96.0</td>\n",
       "      <td>G</td>\n",
       "      <td>1968-08-29</td>\n",
       "      <td>NaN</td>\n",
       "      <td>NaN</td>\n",
       "      <td>NaN</td>\n",
       "      <td>6-4 6-4 6-2</td>\n",
       "      <td>...</td>\n",
       "      <td>NaN</td>\n",
       "      <td>NaN</td>\n",
       "      <td>NaN</td>\n",
       "      <td>NaN</td>\n",
       "      <td>NaN</td>\n",
       "      <td>NaN</td>\n",
       "      <td>NaN</td>\n",
       "      <td>NaN</td>\n",
       "      <td>NaN</td>\n",
       "      <td>1.0</td>\n",
       "    </tr>\n",
       "  </tbody>\n",
       "</table>\n",
       "<p>5 rows × 48 columns</p>\n",
       "</div>"
      ],
      "text/plain": [
       "                                    player_name tournament_name surface  \\\n",
       "player_id tournament_id match_id                                          \n",
       "100011    1969-560      174.0     Torben Ulrich         US Open   Grass   \n",
       "                        238.0     Torben Ulrich         US Open   Grass   \n",
       "          1968-560      6.0       Torben Ulrich         US Open   Grass   \n",
       "                        43.0      Torben Ulrich         US Open   Grass   \n",
       "                        70.0      Torben Ulrich         US Open   Grass   \n",
       "\n",
       "                                  draw_size tournament_level tournament_date  \\\n",
       "player_id tournament_id match_id                                               \n",
       "100011    1969-560      174.0           NaN                G      1969-08-27   \n",
       "                        238.0           NaN                G      1969-08-27   \n",
       "          1968-560      6.0            96.0                G      1968-08-29   \n",
       "                        43.0           96.0                G      1968-08-29   \n",
       "                        70.0           96.0                G      1968-08-29   \n",
       "\n",
       "                                  seed entry  player_height            score  \\\n",
       "player_id tournament_id match_id                                               \n",
       "100011    1969-560      174.0      NaN   NaN            NaN     7-5 6-3 10-8   \n",
       "                        238.0      NaN   NaN            NaN      6-4 6-4 6-3   \n",
       "          1968-560      6.0        NaN   NaN            NaN      6-4 6-3 6-3   \n",
       "                        43.0       NaN   NaN            NaN  3-6 6-2 6-3 6-2   \n",
       "                        70.0       NaN   NaN            NaN      6-4 6-4 6-2   \n",
       "\n",
       "                                  ...  first_serve_return_points_won  \\\n",
       "player_id tournament_id match_id  ...                                  \n",
       "100011    1969-560      174.0     ...                            NaN   \n",
       "                        238.0     ...                            NaN   \n",
       "          1968-560      6.0       ...                            NaN   \n",
       "                        43.0      ...                            NaN   \n",
       "                        70.0      ...                            NaN   \n",
       "\n",
       "                                 first_serve_return_points_won_percentage  \\\n",
       "player_id tournament_id match_id                                            \n",
       "100011    1969-560      174.0                                         NaN   \n",
       "                        238.0                                         NaN   \n",
       "          1968-560      6.0                                           NaN   \n",
       "                        43.0                                          NaN   \n",
       "                        70.0                                          NaN   \n",
       "\n",
       "                                  second_serve_return_points_won  \\\n",
       "player_id tournament_id match_id                                   \n",
       "100011    1969-560      174.0                                NaN   \n",
       "                        238.0                                NaN   \n",
       "          1968-560      6.0                                  NaN   \n",
       "                        43.0                                 NaN   \n",
       "                        70.0                                 NaN   \n",
       "\n",
       "                                  second_serve_return_points_won_percentage  \\\n",
       "player_id tournament_id match_id                                              \n",
       "100011    1969-560      174.0                                           NaN   \n",
       "                        238.0                                           NaN   \n",
       "          1968-560      6.0                                             NaN   \n",
       "                        43.0                                            NaN   \n",
       "                        70.0                                            NaN   \n",
       "\n",
       "                                  break_points  break_points_won  \\\n",
       "player_id tournament_id match_id                                   \n",
       "100011    1969-560      174.0              NaN               NaN   \n",
       "                        238.0              NaN               NaN   \n",
       "          1968-560      6.0                NaN               NaN   \n",
       "                        43.0               NaN               NaN   \n",
       "                        70.0               NaN               NaN   \n",
       "\n",
       "                                  break_points_won_percentage  points_won  \\\n",
       "player_id tournament_id match_id                                            \n",
       "100011    1969-560      174.0                             NaN         NaN   \n",
       "                        238.0                             NaN         NaN   \n",
       "          1968-560      6.0                               NaN         NaN   \n",
       "                        43.0                              NaN         NaN   \n",
       "                        70.0                              NaN         NaN   \n",
       "\n",
       "                                  points_won_percentage  result_value  \n",
       "player_id tournament_id match_id                                       \n",
       "100011    1969-560      174.0                       NaN           1.0  \n",
       "                        238.0                       NaN           1.0  \n",
       "          1968-560      6.0                         NaN           1.0  \n",
       "                        43.0                        NaN           1.0  \n",
       "                        70.0                        NaN           1.0  \n",
       "\n",
       "[5 rows x 48 columns]"
      ]
     },
     "execution_count": 61,
     "metadata": {},
     "output_type": "execute_result"
    }
   ],
   "source": [
    "matches.reset_index(inplace=True)\n",
    "matches.set_index('player_id', inplace=True)\n",
    "top_100_matches = matches.loc[top_100]\n",
    "top_100_matches.reset_index(inplace=True)\n",
    "top_100_matches.set_index(['player_id', 'tournament_id', 'match_id'], inplace=True)\n",
    "top_100_matches.sort_index()\n",
    "top_100_matches.head()"
   ]
  },
  {
   "cell_type": "code",
   "execution_count": 63,
   "metadata": {},
   "outputs": [
    {
     "name": "stdout",
     "output_type": "stream",
     "text": [
      "<class 'pandas.core.frame.DataFrame'>\n",
      "MultiIndex: 295733 entries, (100011, 1969-560, 174.0) to (200282, 2017-560, 131.0)\n",
      "Data columns (total 48 columns):\n",
      "player_name                                  295730 non-null object\n",
      "tournament_name                              295730 non-null object\n",
      "surface                                      292670 non-null category\n",
      "draw_size                                    1143 non-null float64\n",
      "tournament_level                             295730 non-null category\n",
      "tournament_date                              295730 non-null datetime64[ns]\n",
      "seed                                         97561 non-null float64\n",
      "entry                                        28839 non-null object\n",
      "player_height                                272508 non-null float64\n",
      "score                                        295506 non-null object\n",
      "best_of                                      295730 non-null float64\n",
      "round_of                                     295730 non-null category\n",
      "minutes                                      154846 non-null float64\n",
      "aces                                         157374 non-null float64\n",
      "double_faults                                157374 non-null float64\n",
      "service_points                               157280 non-null float64\n",
      "first_serves                                 157280 non-null float64\n",
      "first_serves_won                             157280 non-null float64\n",
      "second_serves_won                            157280 non-null float64\n",
      "service_games                                157374 non-null float64\n",
      "break_points_saved                           157373 non-null float64\n",
      "break_points_faced                           157373 non-null float64\n",
      "player_rank                                  268518 non-null float64\n",
      "ranking_points                               171408 non-null float64\n",
      "opponent_id                                  295730 non-null float64\n",
      "opponent_rank                                265763 non-null float64\n",
      "opponent_ranking_points                      170901 non-null float64\n",
      "result                                       295730 non-null category\n",
      "first_serve_percentage                       157254 non-null float64\n",
      "break_points_save_percentage                 149940 non-null float64\n",
      "service_points_won                           157280 non-null float64\n",
      "service_points_won_percentage                157254 non-null float64\n",
      "points                                       157280 non-null float64\n",
      "return_points                                157280 non-null float64\n",
      "return_points_won                            157280 non-null float64\n",
      "return_points_won_percentage                 157246 non-null float64\n",
      "first_serves_won_percentage                  157252 non-null float64\n",
      "second_serves_won_percentage                 157232 non-null float64\n",
      "first_serve_return_points_won                157280 non-null float64\n",
      "first_serve_return_points_won_percentage     157244 non-null float64\n",
      "second_serve_return_points_won               157280 non-null float64\n",
      "second_serve_return_points_won_percentage    157223 non-null float64\n",
      "break_points                                 157373 non-null float64\n",
      "break_points_won                             157373 non-null float64\n",
      "break_points_won_percentage                  150557 non-null float64\n",
      "points_won                                   157280 non-null float64\n",
      "points_won_percentage                        157280 non-null float64\n",
      "result_value                                 295730 non-null float64\n",
      "dtypes: category(4), datetime64[ns](1), float64(39), object(4)\n",
      "memory usage: 102.2+ MB\n"
     ]
    }
   ],
   "source": [
    "top_100_matches.info()"
   ]
  },
  {
   "cell_type": "code",
   "execution_count": 62,
   "metadata": {},
   "outputs": [],
   "source": [
    "top_100_matches.to_csv('Resources/tennis_clean/atp_top_100_matches.csv')"
   ]
  }
 ],
 "metadata": {
  "kernelspec": {
   "display_name": "Python 3",
   "language": "python",
   "name": "python3"
  },
  "language_info": {
   "codemirror_mode": {
    "name": "ipython",
    "version": 3
   },
   "file_extension": ".py",
   "mimetype": "text/x-python",
   "name": "python",
   "nbconvert_exporter": "python",
   "pygments_lexer": "ipython3",
   "version": "3.7.3"
  }
 },
 "nbformat": 4,
 "nbformat_minor": 2
}
