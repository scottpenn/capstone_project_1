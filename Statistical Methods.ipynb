{
 "cells": [
  {
   "cell_type": "code",
   "execution_count": 1,
   "metadata": {},
   "outputs": [],
   "source": [
    "import numpy as np\n",
    "import numpy.random as npr\n",
    "import pandas as pd\n",
    "import matplotlib.pyplot as plt\n",
    "import seaborn as sns\n",
    "\n",
    "from scipy.stats import binom"
   ]
  },
  {
   "cell_type": "markdown",
   "metadata": {},
   "source": [
    "# Statistical Methods for Capstone 1: Tennis\n",
    "\n",
    "### Question 1: Are left-handed players more represented in the top 100?\n",
    "\n",
    "Here's a quick recap from the Data Storytelling report. There have been only 1097 top 100 players in the history of the Open Era. Of those players, 14% play with their left hand. In the population of all professional tennis players, only 8% play left-handed. Is this result significant, or is the sample size too small to give a definitive answer? Let's find out."
   ]
  },
  {
   "cell_type": "code",
   "execution_count": 2,
   "metadata": {},
   "outputs": [],
   "source": [
    "# Top 100 players\n",
    "players = pd.read_csv('Resources/tennis_clean/atp_top_100_players.csv', index_col='player_id',\n",
    "                      parse_dates=['birthdate'])\n",
    "\n",
    "\n",
    "# All players\n",
    "all_players = pd.read_csv('Resources/tennis_clean/atp_players.csv', index_col='player_id',\n",
    "                          parse_dates=['birthdate'])\n",
    "\n",
    "# Remove unknown values from both datasets\n",
    "players = players[(players.hand == 'L') | (players.hand == 'R')]\n",
    "all_players = all_players[(all_players.hand == 'L') | (all_players.hand == 'R')]"
   ]
  },
  {
   "cell_type": "markdown",
   "metadata": {},
   "source": [
    "Here are the numbers from the top 100 population. "
   ]
  },
  {
   "cell_type": "code",
   "execution_count": 3,
   "metadata": {},
   "outputs": [
    {
     "name": "stdout",
     "output_type": "stream",
     "text": [
      "hand\n",
      "L    153\n",
      "R    933\n",
      "dtype: int64\n"
     ]
    },
    {
     "data": {
      "text/plain": [
       "0.1408839779005525"
      ]
     },
     "execution_count": 3,
     "metadata": {},
     "output_type": "execute_result"
    }
   ],
   "source": [
    "handedness = players.groupby('hand').size()\n",
    "print(handedness)\n",
    "left_100 = handedness['L'] / handedness.sum()\n",
    "left_100"
   ]
  },
  {
   "cell_type": "markdown",
   "metadata": {},
   "source": [
    "Here are the numbers from the entire population."
   ]
  },
  {
   "cell_type": "code",
   "execution_count": 4,
   "metadata": {},
   "outputs": [
    {
     "name": "stdout",
     "output_type": "stream",
     "text": [
      "hand\n",
      "L     1366\n",
      "R    15238\n",
      "dtype: int64\n"
     ]
    },
    {
     "data": {
      "text/plain": [
       "0.08226933269091785"
      ]
     },
     "execution_count": 4,
     "metadata": {},
     "output_type": "execute_result"
    }
   ],
   "source": [
    "all_handedness = all_players.groupby('hand').size()\n",
    "print(all_handedness)\n",
    "left_all = all_handedness['L'] / all_handedness.sum()\n",
    "left_all"
   ]
  },
  {
   "cell_type": "markdown",
   "metadata": {},
   "source": [
    "The handedness of a player is either Left or Right. There is no mean or standard deviation that can be calculated from a categorical like this. However, as handedness is a special variable with only two possibilites, it can be simulated using the Binomial Distribution. The only requirements are the number of trials you wish to perform, and the probability of success. In my case, I'll define success as being left handed (I'm left handed, so I might be biased)"
   ]
  },
  {
   "cell_type": "markdown",
   "metadata": {},
   "source": [
    "To test the validity of the numbers and my approach, I'll use the scipy.stats.binom.cdf method to calculate the odds of getting below 8% of the population given an 8% success rate. I'll use the total number of players as the number of trials. As expected, there is around a 50% chance of getting below (or above) the population percentage."
   ]
  },
  {
   "cell_type": "code",
   "execution_count": 5,
   "metadata": {},
   "outputs": [
    {
     "data": {
      "text/plain": [
       "0.5072019954261486"
      ]
     },
     "execution_count": 5,
     "metadata": {},
     "output_type": "execute_result"
    }
   ],
   "source": [
    "# binom.cdf(num successes, num trials, prob success)\n",
    "\n",
    "binom.cdf(all_handedness['L'], all_handedness.sum(), left_all)"
   ]
  },
  {
   "cell_type": "markdown",
   "metadata": {},
   "source": [
    "Now for the real question. What is the likelihood that in a population equal in size to the population of top 100 players, greater than 14% turn up left handed? Given a probability of success at 8%, and a number of trials equal to the number of top 100 players, the odds are extremely low."
   ]
  },
  {
   "cell_type": "code",
   "execution_count": 6,
   "metadata": {},
   "outputs": [
    {
     "data": {
      "text/plain": [
       "4.04440925194649e-11"
      ]
     },
     "execution_count": 6,
     "metadata": {},
     "output_type": "execute_result"
    }
   ],
   "source": [
    "# binom.cdf(num successes, num trials, prob success)\n",
    "\n",
    "1 - binom.cdf(handedness['L'], handedness.sum(), left_all)"
   ]
  },
  {
   "cell_type": "markdown",
   "metadata": {},
   "source": [
    "How can we show this graphically? I could use scipy's binomial distribution to generate random samples, but I would prefer to work with the original dataset. First I'll write a function that can generate 10,000 samples from the population of all players. I could add a generic function parameter to apply to the samples, but for now all I want is the percentage of left handed players within the sample."
   ]
  },
  {
   "cell_type": "code",
   "execution_count": 7,
   "metadata": {},
   "outputs": [],
   "source": [
    "def handy_samples(data, size=1, n=1):\n",
    "    samples = np.empty(n)\n",
    "    for i in range(n):\n",
    "        sample = data.sample(size)\n",
    "        samples[i] = sample.groupby('hand').size()['L'] / size\n",
    "    return samples"
   ]
  },
  {
   "cell_type": "markdown",
   "metadata": {},
   "source": [
    "Here I take 10,000 samples from the population of all players, with a size equal to the population of top 100 players. Time to stand up and stretch."
   ]
  },
  {
   "cell_type": "code",
   "execution_count": 8,
   "metadata": {},
   "outputs": [],
   "source": [
    "samples = handy_samples(all_players, size=handedness.sum(), n=10_000)"
   ]
  },
  {
   "cell_type": "markdown",
   "metadata": {},
   "source": [
    "Here is the resulting distribution. It looks fairly normal to me."
   ]
  },
  {
   "cell_type": "code",
   "execution_count": 9,
   "metadata": {
    "scrolled": true
   },
   "outputs": [
    {
     "data": {
      "image/png": "[encoded data removed]",
      "text/plain": [
       "<Figure size 432x288 with 1 Axes>"
      ]
     },
     "metadata": {
      "needs_background": "light"
     },
     "output_type": "display_data"
    }
   ],
   "source": [
    "_ = plt.hist(samples, bins=30)\n",
    "_ = plt.xlabel('Proportion of Left Handed Players')\n",
    "_ = plt.ylabel('Count')\n",
    "_ = plt.title('Distribution of Proportion of Left Handed Players in 10,000 Samples')"
   ]
  },
  {
   "cell_type": "markdown",
   "metadata": {},
   "source": [
    "But that's not all! After adding some markers for the mean, 95% confidence interval, and the proportion in the top 100 population, I can only conclude that left handed players are significantly more represented in the top 100."
   ]
  },
  {
   "cell_type": "code",
   "execution_count": 10,
   "metadata": {},
   "outputs": [
    {
     "data": {
      "image/png": "[encoded data removed]",
      "text/plain": [
       "<Figure size 432x288 with 1 Axes>"
      ]
     },
     "metadata": {
      "needs_background": "light"
     },
     "output_type": "display_data"
    }
   ],
   "source": [
    "_ = plt.hist(samples, bins=30)\n",
    "_ = plt.xlabel('Proportion of Left Handed Players')\n",
    "_ = plt.ylabel('Count')\n",
    "_ = plt.title('Distribution of Proportion of Left Handed Players in 10,000 Samples')\n",
    "\n",
    "mean = np.mean(samples)\n",
    "_ = plt.axvline(mean, color='red', label='mean')\n",
    "\n",
    "confidence_interval = np.percentile(samples, [2.5, 97.5])\n",
    "\n",
    "_ = plt.axvline(confidence_interval[0], color='red', linestyle='--', label='95% confidence')\n",
    "_ = plt.axvline(confidence_interval[1], color='red', linestyle='--')\n",
    "\n",
    "_ = plt.axvline(left_100, color='green', linestyle='-.', label='top 100')\n",
    "_ = plt.axvline(mean - (left_100 - mean), color='white') # Centers the distribution\n",
    "\n",
    "_ = plt.legend(loc='upper left')"
   ]
  },
  {
   "cell_type": "markdown",
   "metadata": {},
   "source": [
    "### Question 2: How much does luck factor into a tennis match's result?\n",
    "\n",
    "This question came to me after watching a match between Rafael Nadal and Daniil Medvedev earlier this year. Nadal made a stunning comeback from the brink of defeat, saving a match point on the way. Had that point gone to Medvedev, the result of the match would have been flipped. Tennis is quite unlike other sports in this way. The player who wins more points does not necessarily win the match. "
   ]
  },
  {
   "cell_type": "markdown",
   "metadata": {},
   "source": [
    "Unfortunately, given that each match is an independent event, there is no easy way to generate a larger sample. Instead, I'll have to pull myself up by my bootstraps and generate bootstrap statistics. To accomplish this, I have written a set of functions designed to simulate a tennis match from the ground up. The only inputs required are the first serve percentage, first serve win percentage, and second serve win percentage for each player. The output is a tuple which contains the simulated result, the points won and lost by the players, and the total number of games played."
   ]
  },
  {
   "cell_type": "code",
   "execution_count": 11,
   "metadata": {},
   "outputs": [],
   "source": [
    "# To simulate a tennis match from scratch, first you must simulate the universe.\n",
    "# Or, in my case, I start from the simplest unit of a tennis match, the point.\n",
    "# first_serve is a bool which is true if the server successfully hits a first serve\n",
    "# fsw is the server's observed first service win percentage\n",
    "# ssw is the server's observed second service win percentage\n",
    "\n",
    "def simulate_point(first_serve, fsw, ssw):\n",
    "    return (fsw if first_serve else ssw) > npr.rand()"
   ]
  },
  {
   "cell_type": "code",
   "execution_count": 12,
   "metadata": {},
   "outputs": [
    {
     "name": "stdout",
     "output_type": "stream",
     "text": [
      "CPU times: user 164 µs, sys: 93 µs, total: 257 µs\n",
      "Wall time: 309 µs\n"
     ]
    },
    {
     "data": {
      "text/plain": [
       "False"
      ]
     },
     "execution_count": 12,
     "metadata": {},
     "output_type": "execute_result"
    }
   ],
   "source": [
    "%%time\n",
    "\n",
    "simulate_point(0.5 > npr.rand(), 0.5, 0.5)"
   ]
  },
  {
   "cell_type": "code",
   "execution_count": 13,
   "metadata": {},
   "outputs": [],
   "source": [
    "# The next smallest unit in a tennis match is the game. \n",
    "# In tennis, the players both start at 0.\n",
    "# After winning a point, a player goes from 0 --> 15 --> 30 --> 40 --> game won.\n",
    "# However, if the game is tied at 40-40, then the game is considered at deuce.\n",
    "# From deuce, whichever player wins 2 straight points wins the game. This state can last indefinitely.\n",
    "# fsp is the server's observed first serve percentage.\n",
    "# pw and pl are the points won and lost by the server.\n",
    "# From this point on, the functions will keep track of the total points won and lost by the server.\n",
    "def simulate_deuce(fsp, fsw, ssw, pw, pl):\n",
    "    # A deuce can theoretically last forever\n",
    "    while True:\n",
    "        points_won = 0\n",
    "        for _ in range(2):\n",
    "            points_won += simulate_point(fsp > npr.rand(), fsw, ssw)\n",
    "        if points_won == 2:\n",
    "            return (True, pw + 2, pl)\n",
    "        elif points_won == 0:\n",
    "            return (False, pw, pl + 2)\n",
    "        else:\n",
    "            pw += 1\n",
    "            pl += 1\n",
    "            \n",
    "\n",
    "# To simulate a game, I first simulate the minimum required points.\n",
    "# I then return any game deciding scores and continue the simulation as required.\n",
    "# By doing this I never simulate a point that would not be played in a real game.\n",
    "# fsp is the server's observed first serve percentage.\n",
    "def simulate_game(fsp, fsw, ssw):\n",
    "    points_won = 0\n",
    "     # 4 is the minimum number of points to decide a game.\n",
    "    for _ in range(4):\n",
    "        points_won += simulate_point(fsp > npr.rand(), fsw, ssw)\n",
    "    \n",
    "    # Game won after 40-0\n",
    "    if points_won == 4:\n",
    "        return (True, 4, 0)\n",
    "    # Game lost after 0-40\n",
    "    elif points_won == 0:\n",
    "        return (False, 0, 4)\n",
    "    # 30-30 is identical to Deuce\n",
    "    elif points_won == 2:\n",
    "        return simulate_deuce(fsp, fsw, ssw, 2, 2)\n",
    "    \n",
    "    # Scenarios remaining: 40-15 and 15-40\n",
    "    points_won += simulate_point(fsp > npr.rand(), fsw, ssw)\n",
    "\n",
    "    # Game won after 40-15\n",
    "    if points_won == 4:\n",
    "        return (True, 4, 1)\n",
    "    # Game lost after 15-40\n",
    "    elif points_won == 1:\n",
    "        return (False, 1, 4)\n",
    "        \n",
    "    # Scenarios remaining: 40-30 and 30-40\n",
    "    points_won += simulate_point(fsp > npr.rand(), fsw, ssw)\n",
    "    # Game won after 40-30\n",
    "    if points_won == 4:\n",
    "        return (True, 4, 2)\n",
    "    # Game lost after 30-40\n",
    "    elif points_won == 2:\n",
    "        return (False, 2, 4)\n",
    "    # Deuce\n",
    "    else:\n",
    "        return simulate_deuce(fsp, fsw, ssw, 3, 3)"
   ]
  },
  {
   "cell_type": "code",
   "execution_count": 14,
   "metadata": {},
   "outputs": [
    {
     "name": "stdout",
     "output_type": "stream",
     "text": [
      "CPU times: user 21 µs, sys: 0 ns, total: 21 µs\n",
      "Wall time: 24.1 µs\n"
     ]
    },
    {
     "data": {
      "text/plain": [
       "(True, 5, 3)"
      ]
     },
     "execution_count": 14,
     "metadata": {},
     "output_type": "execute_result"
    }
   ],
   "source": [
    "%%time\n",
    "\n",
    "# Games with long deuces may take longer.\n",
    "simulate_game(0.5, 0.5, 0.5)"
   ]
  },
  {
   "cell_type": "code",
   "execution_count": 15,
   "metadata": {},
   "outputs": [],
   "source": [
    "# Before I can simulate a set properly, I must be able to simulate the tiebreak.\n",
    "# When a set is tied at 6 games apiece, a tiebreak is played (There are exceptions to this at Grand Slam events)\n",
    "# A tiebreak is basically a long game, with 7 points as the minimum threshold for victory instead of 4.\n",
    "# However, the players switch serves on every odd point.\n",
    "\n",
    "# At 5-5 or 6-6 in a tiebreak, a deuce-like scenario is created.\n",
    "# Both players serve once each. In real match the order would matter but has no practical effect here.\n",
    "# *_(p/o) the p and o stand for player and opponent.\n",
    "def simulate_tiebreak_deuce(fsp_p, fsw_p, ssw_p, fsp_o, fsw_o, ssw_o, pw, pl):\n",
    "    # A tiebreak can theoretically last forever.\n",
    "    while True:\n",
    "        points_won = 0\n",
    "        \n",
    "        points_won += simulate_point(fsp_p > npr.rand(), fsw_p, ssw_p)\n",
    "        # When the opponent serves, the result of the simulated point is negated.\n",
    "        points_won += not simulate_point(fsp_o > npr.rand(), fsw_o, ssw_o)\n",
    "        \n",
    "        if points_won == 2:\n",
    "            return (True, pw + 2, pl)\n",
    "        elif points_won == 0:\n",
    "            return (False, pw, pl + 2) \n",
    "        else:\n",
    "            pw += 2\n",
    "            pl += 2\n",
    "\n",
    "# I have continued the \"unrolled loop\" approach, as despite being more verbose it performs well.\n",
    "# *_(p/o) the p and o stand for player and opponent. The player serves first.\n",
    "def simulate_tiebreak(fsp_p, fsw_p, ssw_p, fsp_o, fsw_o, ssw_o, pw, pl):\n",
    "    points_won = 0\n",
    "    \n",
    "    # 7 is the minimum number of points to decide a tiebreak.\n",
    "    # In the first 7 points, the player serves 3 times to the opponents 4\n",
    "    for _ in range(3):\n",
    "        points_won += simulate_point(fsp_p > npr.rand(), fsw_p, ssw_p)\n",
    "    # When the opponent serves, the result of the simulated point is negated.\n",
    "    for _ in range(4):\n",
    "        points_won += not simulate_point(fsp_o > npr.rand(), fsw_o, ssw_o)\n",
    "        \n",
    "    # Tiebreak won after 7-0\n",
    "    if points_won == 7:\n",
    "        return (True, pw + 7, pl)\n",
    "    # Tiebreak lost after 0-7\n",
    "    elif points_won == 0:\n",
    "        return (False, pw, pl + 7)\n",
    "    \n",
    "    # Scenarios remaining: 6-1, 5-2, 4-3, 3-4, 2-5, 1-6\n",
    "    # The player serves next.\n",
    "    points_won += simulate_point(fsp_p > npr.rand(), fsw_p, ssw_p)\n",
    "    \n",
    "    # Tiebreak won after 7-1\n",
    "    if points_won == 7:\n",
    "        return (True, pw + 7, pl + 1)\n",
    "    # Tiebreak lost after 1-7\n",
    "    elif points_won == 1:\n",
    "        return (False, pw + 1, pl + 7)\n",
    "    \n",
    "    # Scenarios remaining: 6-2, 5-3, 4-4, 3-5, 2-6\n",
    "    # The player serves next.\n",
    "    points_won += simulate_point(fsp_p > npr.rand(), fsw_p, ssw_p)\n",
    "    \n",
    "    # Tiebreak won after 7-2\n",
    "    if points_won == 7:\n",
    "        return (True, pw + 7, pl + 2)\n",
    "    # Tiebreak lost after 2-7\n",
    "    elif points_won == 2:\n",
    "        return (False, pw + 2, pl + 7)\n",
    "    \n",
    "    # Scenarios remaining: 6-3, 5-4, 4-5, 3-6\n",
    "    # The opponent serves next\n",
    "    points_won += not simulate_point(fsp_o > npr.rand(), fsw_o, ssw_o)\n",
    "    \n",
    "    # Tiebreak won after 7-3\n",
    "    if points_won == 7:\n",
    "        return (True, pw + 7, pl + 3)\n",
    "    # Tiebreak lost after 3-7\n",
    "    elif points_won == 3:\n",
    "        return (False, pw + 3, pl + 7)\n",
    "    # At 5-5, the tiebreak is in a state similar to deuce.\n",
    "    elif points_won == 5:\n",
    "        return simulate_tiebreak_deuce(fsp_p, fsw_p, ssw_p, fsp_o, fsw_o, ssw_o, pw + 5, pl + 5)\n",
    "    \n",
    "    # Scenarios remaining: 6-4, 4-6\n",
    "    # The opponent serves next\n",
    "    points_won += not simulate_point(fsp_o > npr.rand(), fsw_o, ssw_o)\n",
    "    \n",
    "    # Tiebreak won after 7-4\n",
    "    if points_won == 7:\n",
    "        return (True, pw + 7, pl + 4)\n",
    "    # Tiebreak lost after 4-7\n",
    "    elif points_won == 4:\n",
    "        return (False, pw + 4, pl + 7)\n",
    "    # Scenarios remaining: 6-5, 5-6\n",
    "    # The player serves next\n",
    "    points_won += simulate_point(fsp_p > npr.rand(), fsw_p, ssw_p)\n",
    "    \n",
    "    # Tiebreak won after 7-5\n",
    "    if points_won == 7:\n",
    "        return (True, pw + 7, pl + 5)\n",
    "    # Tiebreak lost after 5-7\n",
    "    elif points_won == 5:\n",
    "        return (False, pw + 5, pl + 7)\n",
    "    # Scenarios remaining: 6-6, which is a deuce situation\n",
    "    else:\n",
    "        return simulate_tiebreak_deuce(fsp_p, fsw_p, ssw_p, fsp_o, fsw_o, ssw_o, pw + 6, pw + 6)"
   ]
  },
  {
   "cell_type": "code",
   "execution_count": 16,
   "metadata": {},
   "outputs": [
    {
     "name": "stdout",
     "output_type": "stream",
     "text": [
      "CPU times: user 40 µs, sys: 1 µs, total: 41 µs\n",
      "Wall time: 45.1 µs\n"
     ]
    },
    {
     "data": {
      "text/plain": [
       "(False, 2, 7)"
      ]
     },
     "execution_count": 16,
     "metadata": {},
     "output_type": "execute_result"
    }
   ],
   "source": [
    "%%time\n",
    "\n",
    "simulate_tiebreak(.5, .5, .5, .5, .5, .5, 0, 0)"
   ]
  },
  {
   "cell_type": "code",
   "execution_count": 17,
   "metadata": {},
   "outputs": [],
   "source": [
    "# The biggest sub-unit of a tennis match is the set.\n",
    "# Each set acts like a tiebreak, with points replaced by games.\n",
    "# A player must win 6 games to win a set, and with two games or more than the opponent.\n",
    "# In the event of a tie at 6 games apiece, a tiebreak is played.\n",
    "# Scorelines of 7-5 are also possible, and can only occur from 5 games apiece.\n",
    "# The players switch serves each game. \n",
    "# In the tiebreak, the player who returned in the previous game serves first.\n",
    "def simulate_set(fsp_p, fsw_p, ssw_p, fsp_o, fsw_o, ssw_o):\n",
    "    games_won = 0\n",
    "    points_won = 0\n",
    "    points_lost = 0\n",
    "    # 6 is the minimum number of games to decide a set.\n",
    "    # In the first 6 games, each player serves 3 times.\n",
    "    for i in range(3):\n",
    "        (game_result, pw, pl) = simulate_game(fsp_p, fsw_p, ssw_p)\n",
    "        games_won += game_result\n",
    "        points_won += pw\n",
    "        points_lost += pl\n",
    "        \n",
    "        (game_result, pw, pl) = simulate_game(fsp_o, fsw_o, ssw_o)\n",
    "        games_won += not game_result\n",
    "        points_won += pl\n",
    "        points_lost += pw\n",
    "        \n",
    "    # Set won after 6-0\n",
    "    if games_won == 6:\n",
    "        return (True, points_won, points_lost, 6)\n",
    "    # Set lost after 0-6\n",
    "    elif games_won == 0:\n",
    "        return (False, points_won, points_lost, 6)\n",
    "    \n",
    "    # Scenarios remaining: 5-1, 4-2, 3-3, 2-4, 1-5\n",
    "    # The player serves next.\n",
    "    (game_result, pw, pl) = simulate_game(fsp_p, fsw_p, ssw_p)\n",
    "    games_won += game_result\n",
    "    points_won += pw\n",
    "    points_lost += pl\n",
    "    \n",
    "    # Set won after 6-1\n",
    "    if games_won == 6:\n",
    "        return (True, points_won, points_lost, 7)\n",
    "    # Set lost after 1-6\n",
    "    elif games_won == 1:\n",
    "        return (False, points_won, points_lost, 7)\n",
    "    \n",
    "    # Scenarios remaining: 5-2, 4-3, 3-4, 2-5\n",
    "    # The opponent serves next.\n",
    "    (game_result, pw, pl) = simulate_game(fsp_o, fsw_o, ssw_o)\n",
    "    games_won += not game_result\n",
    "    points_won += pl\n",
    "    points_lost += pw\n",
    "    \n",
    "    # Set won after 6-2\n",
    "    if games_won == 6:\n",
    "        return (True, points_won, points_lost, 8)\n",
    "    # Set lost after 2-6\n",
    "    elif games_won == 2:\n",
    "        return (False, points_won, points_lost, 8)\n",
    "    \n",
    "    # Scenarios remaining: 5-3, 4-4, 3-5\n",
    "    # The player serves next.\n",
    "    (game_result, pw, pl) = simulate_game(fsp_p, fsw_p, ssw_p)\n",
    "    games_won += game_result\n",
    "    points_won += pw\n",
    "    points_lost += pl\n",
    "    \n",
    "    # Set won after 6-3\n",
    "    if games_won == 6:\n",
    "        return (True, points_won, points_lost, 9)\n",
    "    # Set lost after 3-6\n",
    "    elif games_won == 3:\n",
    "        return (False, points_won, points_lost, 9)\n",
    "    \n",
    "    # Scenarios remaining: 5-4, 4-5\n",
    "    # The opponent serves next.\n",
    "    (game_result, pw, pl) = simulate_game(fsp_o, fsw_o, ssw_o)\n",
    "    games_won += not game_result\n",
    "    points_won += pl\n",
    "    points_lost += pw\n",
    "    \n",
    "    # Set won after 6-4\n",
    "    if games_won == 6:\n",
    "        return (True, points_won, points_lost, 10)\n",
    "    # Set lost after 4-6\n",
    "    elif games_won == 4:\n",
    "        return (False, points_won, points_lost, 10)\n",
    "    \n",
    "    # Scenarios remaining: 5-5\n",
    "    # Neither player can win on the next game, so 2 games are simulated\n",
    "    (game_result, pw, pl) = simulate_game(fsp_p, fsw_p, ssw_p)\n",
    "    games_won += game_result\n",
    "    points_won += pw\n",
    "    points_lost += pl\n",
    "    \n",
    "    (game_result, pw, pl) = simulate_game(fsp_o, fsw_o, ssw_o)\n",
    "    games_won += not game_result\n",
    "    points_won += pl\n",
    "    points_lost += pw\n",
    "    \n",
    "    # Set won after 7-5\n",
    "    if games_won == 7:\n",
    "        return (True, points_won, points_lost, 12)\n",
    "    # Set lost after 5-7\n",
    "    elif games_won == 5:\n",
    "        return (False, points_won, points_lost, 12)\n",
    "    # Tied at 6-6, so go to a tiebreak\n",
    "    else:\n",
    "        return (*simulate_tiebreak(fsp_p, fsw_p, ssw_p, fsp_o, fsw_o, ssw_o, points_won, points_lost), 13)"
   ]
  },
  {
   "cell_type": "code",
   "execution_count": 18,
   "metadata": {},
   "outputs": [
    {
     "name": "stdout",
     "output_type": "stream",
     "text": [
      "CPU times: user 181 µs, sys: 1 µs, total: 182 µs\n",
      "Wall time: 186 µs\n"
     ]
    },
    {
     "data": {
      "text/plain": [
       "(False, 35, 41, 12)"
      ]
     },
     "execution_count": 18,
     "metadata": {},
     "output_type": "execute_result"
    }
   ],
   "source": [
    "%%time\n",
    "\n",
    "simulate_set(.5, .5, .5, .5, .5, .5)"
   ]
  },
  {
   "cell_type": "code",
   "execution_count": 19,
   "metadata": {},
   "outputs": [],
   "source": [
    "# The end is finally in sight. \n",
    "# Depending on the tournament, matches may be best of 3 or 5 sets. \n",
    "# For now, I will focus only on simulating 3 set matches.\n",
    "def simulate_match(fsp_p, fsw_p, ssw_p, fsp_o, fsw_o, ssw_o):\n",
    "    sets_won = 0\n",
    "    points_won = 0\n",
    "    points_lost = 0\n",
    "    games_played = 0\n",
    "    \n",
    "    # Before each match, a coin is tossed to determine who serves first.\n",
    "    coin_toss = npr.rand() > 0.5\n",
    "    # First set\n",
    "    if coin_toss:\n",
    "        (set_result, pw, pl, games) = simulate_set(fsp_p, fsw_p, ssw_p, fsp_o, fsw_o, ssw_o)\n",
    "        sets_won += set_result\n",
    "        points_won += pw\n",
    "        points_lost += pl\n",
    "        games_played += games\n",
    "    else:\n",
    "        (set_result, pw, pl, games) = simulate_set(fsp_o, fsw_o, ssw_o, fsp_p, fsw_p, ssw_p)\n",
    "        sets_won += not set_result\n",
    "        points_won += pl\n",
    "        points_lost += pw\n",
    "        games_played += games\n",
    "        \n",
    "    # Second set\n",
    "    # The server is instead determined by the total games played in the previous sets.\n",
    "    # If total games is even, then the serve order stays the same.\n",
    "    if (games_played % 2 == 0 and coin_toss) or (games_played % 2 == 1 and not coin_toss):\n",
    "        (set_result, pw, pl, games) = simulate_set(fsp_p, fsw_p, ssw_p, fsp_o, fsw_o, ssw_o)\n",
    "        sets_won += set_result\n",
    "        points_won += pw\n",
    "        points_lost += pl\n",
    "        games_played += games\n",
    "    else:\n",
    "        (set_result, pw, pl, games) = simulate_set(fsp_o, fsw_o, ssw_o, fsp_p, fsw_p, ssw_p)\n",
    "        sets_won += not set_result\n",
    "        points_won += pl\n",
    "        points_lost += pw\n",
    "        games_played += games\n",
    "\n",
    "        \n",
    "    # If the score is 2-0 or 0-2, return with the results.\n",
    "    if sets_won == 2:\n",
    "        return (True, points_won, points_lost, games_played)\n",
    "    elif sets_won == 0:\n",
    "        return (False, points_won, points_lost, games_played)\n",
    "       \n",
    "    # Otherwise, simulate the deciding set              \n",
    "    if (games_played % 2 == 0 and coin_toss) or (games_played % 2 == 1 and not coin_toss):\n",
    "        (set_result, pw, pl, games) = simulate_set(fsp_p, fsw_p, ssw_p, fsp_o, fsw_o, ssw_o)\n",
    "        sets_won += set_result\n",
    "        points_won += pw\n",
    "        points_lost += pl\n",
    "        games_played += games\n",
    "    else:\n",
    "        (set_result, pw, pl, games) = simulate_set(fsp_o, fsw_o, ssw_o, fsp_p, fsw_p, ssw_p)\n",
    "        sets_won += not set_result\n",
    "        points_won += pl\n",
    "        points_lost += pw\n",
    "        games_played += games\n",
    "                \n",
    "    # Whether the score is 2-1 or 1-2, return with the results.\n",
    "    if sets_won == 2:\n",
    "        return (True, points_won, points_lost, games_played)\n",
    "    else:\n",
    "        return (False, points_won, points_lost, games_played)"
   ]
  },
  {
   "cell_type": "code",
   "execution_count": 20,
   "metadata": {},
   "outputs": [
    {
     "name": "stdout",
     "output_type": "stream",
     "text": [
      "CPU times: user 537 µs, sys: 27 µs, total: 564 µs\n",
      "Wall time: 1.03 ms\n"
     ]
    },
    {
     "data": {
      "text/plain": [
       "(True, 126, 122, 35)"
      ]
     },
     "execution_count": 20,
     "metadata": {},
     "output_type": "execute_result"
    }
   ],
   "source": [
    "%%time\n",
    "\n",
    "simulate_match(.5, .5, .5, .5, .5, .5)"
   ]
  },
  {
   "cell_type": "markdown",
   "metadata": {},
   "source": [
    "Phew. Now that all of that is out of the way, I can write a function to create a variable number of bootstrap samples to explore."
   ]
  },
  {
   "cell_type": "code",
   "execution_count": 21,
   "metadata": {},
   "outputs": [],
   "source": [
    "def bootstrap_match(fsp_p, fsw_p, ssw_p, fsp_o, fsw_o, ssw_o, n=1):\n",
    "    results = np.empty(n, dtype=object)\n",
    "    \n",
    "    for i in range(n):\n",
    "        results[i] = simulate_match(fsp_p, fsw_p, ssw_p, fsp_o, fsw_o, ssw_o)\n",
    "    \n",
    "    return results"
   ]
  },
  {
   "cell_type": "markdown",
   "metadata": {},
   "source": [
    "On my machine, I can simulate the results of 10,000 matches in just over 2 seconds. Not bad."
   ]
  },
  {
   "cell_type": "code",
   "execution_count": 22,
   "metadata": {},
   "outputs": [
    {
     "name": "stdout",
     "output_type": "stream",
     "text": [
      "CPU times: user 1.97 s, sys: 24.6 ms, total: 2 s\n",
      "Wall time: 2.29 s\n"
     ]
    },
    {
     "data": {
      "text/plain": [
       "array([(True, 93, 86, 23), (True, 94, 88, 25), (False, 69, 83, 16), ...,\n",
       "       (True, 91, 83, 27), (False, 70, 79, 21), (False, 67, 73, 22)],\n",
       "      dtype=object)"
      ]
     },
     "execution_count": 22,
     "metadata": {},
     "output_type": "execute_result"
    }
   ],
   "source": [
    "%%time\n",
    "\n",
    "bootstrap_match(.5, .5, .5, .5, .5, .5, 10000)"
   ]
  },
  {
   "cell_type": "markdown",
   "metadata": {},
   "source": [
    "It's finally time to look at the simulated matches between Nadal and Medvedev. I generated 10,000 bootstrapped samples for analysis. All results with a value of True represent a simulated match in which Nadal won."
   ]
  },
  {
   "cell_type": "code",
   "execution_count": 23,
   "metadata": {
    "scrolled": true
   },
   "outputs": [],
   "source": [
    "# .64, .72, .58 are Nadal's first serve percentage, first serve win percentage and second serve win percentage\n",
    "# from the match in question.\n",
    "# .6, .75, .52 are Medvedev's first serve percentage, first serve win percentage and second serve win percentage\n",
    "# from the match in question.\n",
    "npr.seed(90)\n",
    "bootstraps = pd.DataFrame.from_records(bootstrap_match(.64, .72, .58, .6, .75, .52, 10000),\n",
    "                            columns=['result', 'points_won', 'points_lost', 'games'])"
   ]
  },
  {
   "cell_type": "markdown",
   "metadata": {},
   "source": [
    "55% of the simulated matches resulted in a victory for Nadal. This result makes sense, as the statistics for both players are quite similar."
   ]
  },
  {
   "cell_type": "code",
   "execution_count": 24,
   "metadata": {},
   "outputs": [
    {
     "data": {
      "text/plain": [
       "0.5559"
      ]
     },
     "execution_count": 24,
     "metadata": {},
     "output_type": "execute_result"
    }
   ],
   "source": [
    "bootstraps.result.sum() / bootstraps.result.size"
   ]
  },
  {
   "cell_type": "markdown",
   "metadata": {},
   "source": [
    "To represent the simulations graphically, I plotted two separate histograms, one for the wins and one for the losses. The x-axis represents the point differential of the match, or the points won by Nadal subtracted by the points won by Medvedev. I also marked the 95% confidence intervals for both the wins and loss point differentials, and the actual point defferential for the match."
   ]
  },
  {
   "cell_type": "code",
   "execution_count": 25,
   "metadata": {},
   "outputs": [
    {
     "name": "stderr",
     "output_type": "stream",
     "text": [
      "/usr/local/anaconda3/lib/python3.7/site-packages/numpy/core/fromnumeric.py:2495: FutureWarning: Method .ptp is deprecated and will be removed in a future version. Use numpy.ptp instead.\n",
      "  return ptp(axis=axis, out=out, **kwargs)\n"
     ]
    },
    {
     "data": {
      "image/png": "[encoded data removed]",
      "text/plain": [
       "<Figure size 648x360 with 1 Axes>"
      ]
     },
     "metadata": {
      "needs_background": "light"
     },
     "output_type": "display_data"
    }
   ],
   "source": [
    "plt.rcParams['figure.figsize'] = [9, 5]\n",
    "\n",
    "bootstraps['points_diff'] = bootstraps.points_won - bootstraps.points_lost\n",
    "bootstraps['points_won_percentage'] = bootstraps.points_won / (bootstraps.points_won + bootstraps.points_lost)\n",
    "wins = bootstraps[bootstraps.result == True]\n",
    "losses = bootstraps[bootstraps.result == False]\n",
    "\n",
    "confidence_wins = np.percentile(wins.points_diff, [2.5, 97.5])\n",
    "confidence_losses = np.percentile(losses.points_diff, [2.5, 97.5])\n",
    "\n",
    "bins = np.arange(np.ptp(bootstraps.points_diff) + 1) - abs(bootstraps.points_diff.min()) - 0.5\n",
    "_ = plt.hist(wins.points_diff, bins=bins, color='blue', alpha=0.5)\n",
    "_ = plt.hist(losses.points_diff, bins=bins, color='red', alpha=0.5)\n",
    "\n",
    "\n",
    "_ = plt.axvline(108 - 103, linestyle='-', color='green', label='result')\n",
    "\n",
    "_ = plt.axvline(confidence_wins[0], linestyle='--', color='darkblue', label='wins')\n",
    "_ = plt.axvline(confidence_wins[1], linestyle='--', color='darkblue')\n",
    "\n",
    "_ = plt.axvline(confidence_losses[0], linestyle='--', color='darkred', label='losses')\n",
    "_ = plt.axvline(confidence_losses[1], linestyle='--', color='darkred')\n",
    "\n",
    "_ = plt.legend()"
   ]
  },
  {
   "cell_type": "markdown",
   "metadata": {},
   "source": [
    "A similar plot was made by substituting the point differential for points won percentage instead. In both cases, the match result fell between the confidence intervals for both a win and a loss. It was a close match, so it makes sense that it could have gone either way."
   ]
  },
  {
   "cell_type": "code",
   "execution_count": 26,
   "metadata": {},
   "outputs": [
    {
     "data": {
      "image/png": "[encoded data removed]",
      "text/plain": [
       "<Figure size 432x360 with 1 Axes>"
      ]
     },
     "metadata": {
      "needs_background": "light"
     },
     "output_type": "display_data"
    }
   ],
   "source": [
    "plt.rcParams['figure.figsize'] = [6, 5]\n",
    "\n",
    "confidence_wins = np.percentile(wins.points_won_percentage, [2.5, 97.5])\n",
    "confidence_losses = np.percentile(losses.points_won_percentage, [2.5, 97.5])\n",
    "\n",
    "_ = plt.hist(wins.points_won_percentage, bins=30, color='blue', alpha=0.5)\n",
    "_ = plt.hist(losses.points_won_percentage, bins=30, color='red', alpha=0.5)\n",
    "\n",
    "_ = plt.axvline(108/213, linestyle='-', color='green', label='result')\n",
    "\n",
    "_ = plt.axvline(confidence_wins[0], linestyle='--', color='darkblue', label='wins')\n",
    "_ = plt.axvline(confidence_wins[1], linestyle='--', color='darkblue')\n",
    "\n",
    "_ = plt.axvline(confidence_losses[0], linestyle='--', color='darkred', label='losses')\n",
    "_ = plt.axvline(confidence_losses[1], linestyle='--', color='darkred')\n",
    "\n",
    "plt.legend()\n",
    "plt.xlabel('Points Won Pct.')\n",
    "plt.ylabel('Frequency')\n",
    "_ = plt.title('Bootstrap Match Results Nadal vs Medvedev')"
   ]
  },
  {
   "cell_type": "markdown",
   "metadata": {},
   "source": [
    "I replicated the above plot using real match data instead of simulated matches. "
   ]
  },
  {
   "cell_type": "code",
   "execution_count": 27,
   "metadata": {},
   "outputs": [
    {
     "name": "stderr",
     "output_type": "stream",
     "text": [
      "/usr/local/anaconda3/lib/python3.7/site-packages/IPython/core/interactiveshell.py:3051: DtypeWarning: Columns (11) have mixed types. Specify dtype option on import or set low_memory=False.\n",
      "  interactivity=interactivity, compiler=compiler, result=result)\n"
     ]
    }
   ],
   "source": [
    "matches = pd.read_csv('Resources/tennis_clean/atp_top_100_matches.csv',\n",
    "                      index_col=['player_id', 'tournament_id', 'match_id'],\n",
    "                      parse_dates=['tournament_date'])\n",
    "matches['points_diff'] = matches.points_won - (matches.points - matches.points_won)"
   ]
  },
  {
   "cell_type": "markdown",
   "metadata": {},
   "source": [
    "Most matches end with a positive points differential for the winner, and a negative points differential for the loser. When the differental is close to zero, the odds are nearly equal for a win or a loss. However, there are a few matches where the expected result is flipped. A positive points differential that ends in a loss, or a negative points differential that results in a win."
   ]
  },
  {
   "cell_type": "code",
   "execution_count": 28,
   "metadata": {},
   "outputs": [
    {
     "data": {
      "image/png": "[encoded data removed]",
      "text/plain": [
       "<Figure size 432x288 with 1 Axes>"
      ]
     },
     "metadata": {
      "needs_background": "light"
     },
     "output_type": "display_data"
    }
   ],
   "source": [
    "plt.rcParams['figure.figsize'] = [6, 4]\n",
    "\n",
    "wins = matches[matches.result == 'W']\n",
    "losses = matches[matches.result == 'L']\n",
    "\n",
    "confidence_wins = np.nanpercentile(wins.points_diff, [2.5, 97.5])\n",
    "confidence_losses = np.nanpercentile(losses.points_diff, [2.5, 97.5])\n",
    "\n",
    "bins = np.arange(np.ptp(matches.points_diff) + 1) - abs(matches.points_diff.min()) - 0.5\n",
    "_ = plt.hist(wins.points_diff, bins=bins, color='blue', alpha=0.5)\n",
    "_ = plt.hist(losses.points_diff, bins=bins, color='red', alpha=0.5)\n",
    "\n",
    "_ = plt.axvline(confidence_wins[0], linestyle='-', color='darkblue', label='wins')\n",
    "_ = plt.axvline(confidence_wins[1], linestyle='-', color='darkblue')\n",
    "\n",
    "_ = plt.axvline(confidence_losses[0], linestyle='-', color='darkred', label='losses')\n",
    "_ = plt.axvline(confidence_losses[1], linestyle='-', color='darkred')\n",
    "\n",
    "_ = plt.legend()"
   ]
  },
  {
   "cell_type": "markdown",
   "metadata": {},
   "source": [
    "I decided to investigate these \"oddities.\" I extracted all matches where the points differential and match result didn't add up."
   ]
  },
  {
   "cell_type": "code",
   "execution_count": 29,
   "metadata": {
    "scrolled": true
   },
   "outputs": [
    {
     "data": {
      "image/png": "[encoded data removed]",
      "text/plain": [
       "<Figure size 432x288 with 1 Axes>"
      ]
     },
     "metadata": {
      "needs_background": "light"
     },
     "output_type": "display_data"
    }
   ],
   "source": [
    "odd_matches = matches[(matches.best_of == 3) &\n",
    "                      ((matches.points_diff < 0) & (matches.result == 'W')) | \n",
    "                      ((matches.points_diff > 0) & (matches.result == 'L'))]\n",
    "odd_matches[['points_diff', 'result']]\n",
    "\n",
    "bins = np.arange(np.ptp(odd_matches.points_diff) + 1) - abs(odd_matches.points_diff.min()) - 0.5\n",
    "_ = plt.hist(odd_matches.points_diff, bins=bins, color='green', alpha=0.5)"
   ]
  },
  {
   "cell_type": "markdown",
   "metadata": {},
   "source": [
    "Taking a look at the wins first, I sorted by points won percentage, and discarded any matches that ended in a player retiring or withdrawing early from a match. The remaining matches had eye-popping scores! The top row describes a match in which Andreas Seppi won only 37% of the points, but dominated his opponent in game score 12-4. How is that possible?"
   ]
  },
  {
   "cell_type": "code",
   "execution_count": 30,
   "metadata": {
    "scrolled": true
   },
   "outputs": [
    {
     "data": {
      "text/html": [
       "<div>\n",
       "<style scoped>\n",
       "    .dataframe tbody tr th:only-of-type {\n",
       "        vertical-align: middle;\n",
       "    }\n",
       "\n",
       "    .dataframe tbody tr th {\n",
       "        vertical-align: top;\n",
       "    }\n",
       "\n",
       "    .dataframe thead th {\n",
       "        text-align: right;\n",
       "    }\n",
       "</style>\n",
       "<table border=\"1\" class=\"dataframe\">\n",
       "  <thead>\n",
       "    <tr style=\"text-align: right;\">\n",
       "      <th></th>\n",
       "      <th></th>\n",
       "      <th></th>\n",
       "      <th>player_name</th>\n",
       "      <th>score</th>\n",
       "      <th>points_diff</th>\n",
       "      <th>points_won_percentage</th>\n",
       "    </tr>\n",
       "    <tr>\n",
       "      <th>player_id</th>\n",
       "      <th>tournament_id</th>\n",
       "      <th>match_id</th>\n",
       "      <th></th>\n",
       "      <th></th>\n",
       "      <th></th>\n",
       "      <th></th>\n",
       "    </tr>\n",
       "  </thead>\n",
       "  <tbody>\n",
       "    <tr>\n",
       "      <th>104312</th>\n",
       "      <th>2006-573</th>\n",
       "      <th>6.0</th>\n",
       "      <td>Andreas Seppi</td>\n",
       "      <td>6-2 6-2</td>\n",
       "      <td>-23.0</td>\n",
       "      <td>0.373626</td>\n",
       "    </tr>\n",
       "    <tr>\n",
       "      <th>100529</th>\n",
       "      <th>1991-375</th>\n",
       "      <th>20.0</th>\n",
       "      <td>Kevin Curren</td>\n",
       "      <td>6-1 6-2</td>\n",
       "      <td>-24.0</td>\n",
       "      <td>0.377551</td>\n",
       "    </tr>\n",
       "    <tr>\n",
       "      <th>105028</th>\n",
       "      <th>2008-315</th>\n",
       "      <th>3.0</th>\n",
       "      <td>Jesse Levine</td>\n",
       "      <td>6-3 6-1</td>\n",
       "      <td>-21.0</td>\n",
       "      <td>0.387097</td>\n",
       "    </tr>\n",
       "    <tr>\n",
       "      <th>105373</th>\n",
       "      <th>2015-339</th>\n",
       "      <th>16.0</th>\n",
       "      <td>Martin Klizan</td>\n",
       "      <td>1-6 7-6(6) 7-6(7)</td>\n",
       "      <td>-25.0</td>\n",
       "      <td>0.442922</td>\n",
       "    </tr>\n",
       "    <tr>\n",
       "      <th>104098</th>\n",
       "      <th>2011-440</th>\n",
       "      <th>29.0</th>\n",
       "      <td>Dmitry Tursunov</td>\n",
       "      <td>6-3 7-6(1)</td>\n",
       "      <td>-15.0</td>\n",
       "      <td>0.445255</td>\n",
       "    </tr>\n",
       "  </tbody>\n",
       "</table>\n",
       "</div>"
      ],
      "text/plain": [
       "                                      player_name              score  \\\n",
       "player_id tournament_id match_id                                       \n",
       "104312    2006-573      6.0         Andreas Seppi            6-2 6-2   \n",
       "100529    1991-375      20.0         Kevin Curren            6-1 6-2   \n",
       "105028    2008-315      3.0          Jesse Levine            6-3 6-1   \n",
       "105373    2015-339      16.0        Martin Klizan  1-6 7-6(6) 7-6(7)   \n",
       "104098    2011-440      29.0      Dmitry Tursunov         6-3 7-6(1)   \n",
       "\n",
       "                                  points_diff  points_won_percentage  \n",
       "player_id tournament_id match_id                                      \n",
       "104312    2006-573      6.0             -23.0               0.373626  \n",
       "100529    1991-375      20.0            -24.0               0.377551  \n",
       "105028    2008-315      3.0             -21.0               0.387097  \n",
       "105373    2015-339      16.0            -25.0               0.442922  \n",
       "104098    2011-440      29.0            -15.0               0.445255  "
      ]
     },
     "execution_count": 30,
     "metadata": {},
     "output_type": "execute_result"
    }
   ],
   "source": [
    "odd_wins = odd_matches[odd_matches.points_diff < 0]\n",
    "odd_losses = odd_matches[odd_matches.points_diff > 0]\n",
    "\n",
    "odd_wins = odd_wins[~((odd_wins.score.str.contains('RET')) | (odd_wins.score.str.contains('DEF')))]\n",
    "odd_wins.sort_values('points_won_percentage')[['player_name', 'score', 'points_diff', 'points_won_percentage']].head()"
   ]
  },
  {
   "cell_type": "markdown",
   "metadata": {},
   "source": [
    "Luckily I can use my bootstrap function to calculate the likelihood of a similar result. As expected, a win under such conditions is highly improbable! Our simulated Seppi wins the match only .1% of the time."
   ]
  },
  {
   "cell_type": "code",
   "execution_count": 31,
   "metadata": {},
   "outputs": [
    {
     "data": {
      "text/plain": [
       "0.0012"
      ]
     },
     "execution_count": 31,
     "metadata": {},
     "output_type": "execute_result"
    }
   ],
   "source": [
    "lucky_win = odd_wins.loc[104312 ,'2006-573', 6.0]\n",
    "\n",
    "fsp_p = lucky_win.first_serve_percentage\n",
    "fsw_p = lucky_win.first_serves_won_percentage \n",
    "ssw_p = lucky_win.second_serves_won_percentage\n",
    "fsp_o = (lucky_win.first_serve_return_points_won / lucky_win.first_serve_return_points_won_percentage) / lucky_win.return_points\n",
    "fsw_o = 1 - lucky_win.first_serve_return_points_won_percentage\n",
    "ssw_o = 1 - lucky_win.second_serve_return_points_won_percentage\n",
    "\n",
    "bootstraps = pd.DataFrame.from_records(bootstrap_match(fsp_p, fsw_p, ssw_p, fsp_o, fsw_o, ssw_o, 10000),\n",
    "                                       columns=['result', 'points_won', 'points_lost', 'games'])\n",
    "\n",
    "bootstraps.result.sum() / bootstraps.result.size"
   ]
  },
  {
   "cell_type": "markdown",
   "metadata": {},
   "source": [
    "After plotting the bootstrap samples, it can be seen that the result falls outside of the 95% confidence interval for the wins histogram. What a lucky win for Seppi!"
   ]
  },
  {
   "cell_type": "code",
   "execution_count": 32,
   "metadata": {
    "scrolled": true
   },
   "outputs": [
    {
     "data": {
      "image/png": "[encoded data removed]",
      "text/plain": [
       "<Figure size 432x360 with 1 Axes>"
      ]
     },
     "metadata": {
      "needs_background": "light"
     },
     "output_type": "display_data"
    }
   ],
   "source": [
    "plt.rcParams['figure.figsize'] = [6, 5]\n",
    "\n",
    "bootstraps['points_diff'] = bootstraps.points_won - bootstraps.points_lost\n",
    "bootstraps['points_won_percentage'] = bootstraps.points_won / (bootstraps.points_won + bootstraps.points_lost)\n",
    "wins = bootstraps[bootstraps.result == True]\n",
    "losses = bootstraps[bootstraps.result == False]\n",
    "\n",
    "confidence_wins = np.percentile(wins.points_diff, [2.5, 97.5])\n",
    "confidence_losses = np.percentile(losses.points_diff, [2.5, 97.5])\n",
    "\n",
    "bins = np.arange(np.ptp(bootstraps.points_diff) + 1) - abs(bootstraps.points_diff.min()) - 0.5\n",
    "_ = plt.hist(wins.points_diff, bins=bins, color='blue', alpha=0.5)\n",
    "_ = plt.hist(losses.points_diff, bins=bins, color='red', alpha=0.5)\n",
    "\n",
    "\n",
    "_ = plt.axvline(lucky_win.points_diff, linestyle='-.', color='blue', label='result')\n",
    "\n",
    "_ = plt.axvline(confidence_wins[0], linestyle='-', color='darkblue', label='wins')\n",
    "_ = plt.axvline(confidence_wins[1], linestyle='-', color='darkblue')\n",
    "\n",
    "_ = plt.axvline(confidence_losses[0], linestyle='-', color='darkred', label='losses')\n",
    "_ = plt.axvline(confidence_losses[1], linestyle='-', color='darkred')\n",
    "\n",
    "\n",
    "_ = plt.xlabel('Point Differential')\n",
    "_ = plt.ylabel('Frequency')\n",
    "_ = plt.title('Luckiest Win Bootstrap Analysis')\n",
    "_ = plt.legend()"
   ]
  },
  {
   "cell_type": "markdown",
   "metadata": {},
   "source": [
    "How about the other end of the spectrum? What is the unluckiest loss? Ignoring results where players retired or withdrew early, unfortunate losses pop up. The first row is the inverse of Andreas Seppi's match, so I'll take a look at the second result. The score is even more lopsided. Despite winning 62% of the points, Christo Van Rensburg lost by a gamescore of 3-12. "
   ]
  },
  {
   "cell_type": "code",
   "execution_count": 33,
   "metadata": {},
   "outputs": [
    {
     "data": {
      "text/html": [
       "<div>\n",
       "<style scoped>\n",
       "    .dataframe tbody tr th:only-of-type {\n",
       "        vertical-align: middle;\n",
       "    }\n",
       "\n",
       "    .dataframe tbody tr th {\n",
       "        vertical-align: top;\n",
       "    }\n",
       "\n",
       "    .dataframe thead th {\n",
       "        text-align: right;\n",
       "    }\n",
       "</style>\n",
       "<table border=\"1\" class=\"dataframe\">\n",
       "  <thead>\n",
       "    <tr style=\"text-align: right;\">\n",
       "      <th></th>\n",
       "      <th></th>\n",
       "      <th></th>\n",
       "      <th>player_name</th>\n",
       "      <th>score</th>\n",
       "      <th>points_diff</th>\n",
       "      <th>points_won_percentage</th>\n",
       "    </tr>\n",
       "    <tr>\n",
       "      <th>player_id</th>\n",
       "      <th>tournament_id</th>\n",
       "      <th>match_id</th>\n",
       "      <th></th>\n",
       "      <th></th>\n",
       "      <th></th>\n",
       "      <th></th>\n",
       "    </tr>\n",
       "  </thead>\n",
       "  <tbody>\n",
       "    <tr>\n",
       "      <th>103105</th>\n",
       "      <th>2006-573</th>\n",
       "      <th>6.0</th>\n",
       "      <td>Ruben Ramirez Hidalgo</td>\n",
       "      <td>6-2 6-2</td>\n",
       "      <td>23.0</td>\n",
       "      <td>0.626374</td>\n",
       "    </tr>\n",
       "    <tr>\n",
       "      <th>100870</th>\n",
       "      <th>1991-375</th>\n",
       "      <th>20.0</th>\n",
       "      <td>Christo Van Rensburg</td>\n",
       "      <td>6-1 6-2</td>\n",
       "      <td>24.0</td>\n",
       "      <td>0.622449</td>\n",
       "    </tr>\n",
       "    <tr>\n",
       "      <th>104545</th>\n",
       "      <th>2008-315</th>\n",
       "      <th>3.0</th>\n",
       "      <td>John Isner</td>\n",
       "      <td>6-3 6-1</td>\n",
       "      <td>21.0</td>\n",
       "      <td>0.612903</td>\n",
       "    </tr>\n",
       "    <tr>\n",
       "      <th>109739</th>\n",
       "      <th>2018-540</th>\n",
       "      <th>144.0</th>\n",
       "      <td>Maximilian Marterer</td>\n",
       "      <td>6-3 6-2 6-4</td>\n",
       "      <td>24.0</td>\n",
       "      <td>0.574074</td>\n",
       "    </tr>\n",
       "    <tr>\n",
       "      <th>105062</th>\n",
       "      <th>2016-540</th>\n",
       "      <th>184.0</th>\n",
       "      <td>Mikhail Kukushkin</td>\n",
       "      <td>W/O</td>\n",
       "      <td>21.0</td>\n",
       "      <td>0.566879</td>\n",
       "    </tr>\n",
       "  </tbody>\n",
       "</table>\n",
       "</div>"
      ],
      "text/plain": [
       "                                            player_name        score  \\\n",
       "player_id tournament_id match_id                                       \n",
       "103105    2006-573      6.0       Ruben Ramirez Hidalgo      6-2 6-2   \n",
       "100870    1991-375      20.0       Christo Van Rensburg      6-1 6-2   \n",
       "104545    2008-315      3.0                  John Isner      6-3 6-1   \n",
       "109739    2018-540      144.0       Maximilian Marterer  6-3 6-2 6-4   \n",
       "105062    2016-540      184.0         Mikhail Kukushkin          W/O   \n",
       "\n",
       "                                  points_diff  points_won_percentage  \n",
       "player_id tournament_id match_id                                      \n",
       "103105    2006-573      6.0              23.0               0.626374  \n",
       "100870    1991-375      20.0             24.0               0.622449  \n",
       "104545    2008-315      3.0              21.0               0.612903  \n",
       "109739    2018-540      144.0            24.0               0.574074  \n",
       "105062    2016-540      184.0            21.0               0.566879  "
      ]
     },
     "execution_count": 33,
     "metadata": {},
     "output_type": "execute_result"
    }
   ],
   "source": [
    "odd_losses = odd_losses[~((odd_losses.score.str.contains('RET')) | (odd_losses.score.str.contains('DEF')))]\n",
    "odd_losses.sort_values('points_won_percentage', ascending=False)[['player_name', 'score', 'points_diff', 'points_won_percentage']].head()"
   ]
  },
  {
   "cell_type": "markdown",
   "metadata": {},
   "source": [
    "I doubt that he would like to hear that my simulations predicted that he should have won 99.96% of the time. "
   ]
  },
  {
   "cell_type": "code",
   "execution_count": 34,
   "metadata": {},
   "outputs": [
    {
     "data": {
      "text/plain": [
       "0.9995"
      ]
     },
     "execution_count": 34,
     "metadata": {},
     "output_type": "execute_result"
    }
   ],
   "source": [
    "unlucky_loss = odd_losses.loc[100870, '1991-375', 20.0]\n",
    "\n",
    "fsp_p = unlucky_loss.first_serve_percentage\n",
    "fsw_p = unlucky_loss.first_serves_won_percentage \n",
    "ssw_p = unlucky_loss.second_serves_won_percentage\n",
    "fsp_o = (unlucky_loss.first_serve_return_points_won / unlucky_loss.first_serve_return_points_won_percentage) / unlucky_loss.return_points\n",
    "fsw_o = 1 - unlucky_loss.first_serve_return_points_won_percentage\n",
    "ssw_o = 1 - unlucky_loss.second_serve_return_points_won_percentage\n",
    "\n",
    "bootstraps = pd.DataFrame.from_records(bootstrap_match(fsp_p, fsw_p, ssw_p, fsp_o, fsw_o, ssw_o, 10000),\n",
    "                                       columns=['result', 'points_won', 'points_lost', 'games'])\n",
    "\n",
    "bootstraps.result.sum() / bootstraps.result.size"
   ]
  },
  {
   "cell_type": "markdown",
   "metadata": {},
   "source": [
    "Luckily his point differential falls squarely inside the middle of the mean... for the wins that is! I think that I can dub this the unluckiest loss in history."
   ]
  },
  {
   "cell_type": "code",
   "execution_count": 35,
   "metadata": {
    "scrolled": true
   },
   "outputs": [
    {
     "data": {
      "image/png": "[encoded data removed]",
      "text/plain": [
       "<Figure size 432x360 with 1 Axes>"
      ]
     },
     "metadata": {
      "needs_background": "light"
     },
     "output_type": "display_data"
    }
   ],
   "source": [
    "plt.rcParams['figure.figsize'] = [6, 5]\n",
    "\n",
    "bootstraps['points_diff'] = bootstraps.points_won - bootstraps.points_lost\n",
    "bootstraps['points_won_percentage'] = bootstraps.points_won / (bootstraps.points_won + bootstraps.points_lost)\n",
    "wins = bootstraps[bootstraps.result == True]\n",
    "losses = bootstraps[bootstraps.result == False]\n",
    "\n",
    "confidence_wins = np.percentile(wins.points_diff, [2.5, 97.5])\n",
    "confidence_losses = np.percentile(losses.points_diff, [2.5, 97.5])\n",
    "\n",
    "bins = np.arange(np.ptp(bootstraps.points_diff) + 1) - abs(bootstraps.points_diff.min()) - 0.5\n",
    "_ = plt.hist(wins.points_diff, bins=bins, color='blue', alpha=0.5)\n",
    "_ = plt.hist(losses.points_diff, bins=bins, color='red', alpha=0.5)\n",
    "\n",
    "\n",
    "_ = plt.axvline(unlucky_loss.points_diff, linestyle='-.', color='red', label='result')\n",
    "\n",
    "_ = plt.axvline(confidence_wins[0], linestyle='-', color='darkblue', label='wins')\n",
    "_ = plt.axvline(confidence_wins[1], linestyle='-', color='darkblue')\n",
    "\n",
    "_ = plt.axvline(confidence_losses[0], linestyle='-', color='darkred', label='losses')\n",
    "_ = plt.axvline(confidence_losses[1], linestyle='-', color='darkred')\n",
    "\n",
    "_ = plt.xlabel('Point Differential')\n",
    "_ = plt.ylabel('Frequency')\n",
    "_ = plt.title('Unluckiest Loss Bootstrap Analysis')\n",
    "_ = plt.legend()"
   ]
  },
  {
   "cell_type": "markdown",
   "metadata": {},
   "source": [
    "## Conclusions\n",
    "\n",
    "What can be drawn from these results? I think that they provide a good sense that tennis match outcomes are not the best predictor of player performance. Because of how tennis scoring works, a player can win a match despite losing more points than their opponent. While results are important, I would not use them as the primary guage for a player's future or current success."
   ]
  }
 ],
 "metadata": {
  "kernelspec": {
   "display_name": "Python 3",
   "language": "python",
   "name": "python3"
  },
  "language_info": {
   "codemirror_mode": {
    "name": "ipython",
    "version": 3
   },
   "file_extension": ".py",
   "mimetype": "text/x-python",
   "name": "python",
   "nbconvert_exporter": "python",
   "pygments_lexer": "ipython3",
   "version": "3.7.3"
  }
 },
 "nbformat": 4,
 "nbformat_minor": 2
}
