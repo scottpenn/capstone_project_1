{
 "cells": [
  {
   "cell_type": "code",
   "execution_count": 119,
   "metadata": {},
   "outputs": [],
   "source": [
    "import numpy as np\n",
    "import pandas as pd\n",
    "import matplotlib.pyplot as plt"
   ]
  },
  {
   "cell_type": "markdown",
   "metadata": {},
   "source": [
    "## Career Statistics"
   ]
  },
  {
   "cell_type": "markdown",
   "metadata": {},
   "source": [
    "To prepare for match prediction, I will work on the subset of features that can be calculated prior to the match, or are known prior to the match. To increase the number of available features, I will calculate career statistics, statistics from the year prior to each match, and statistics from a recent window of matches."
   ]
  },
  {
   "cell_type": "code",
   "execution_count": 120,
   "metadata": {},
   "outputs": [],
   "source": [
    "matches = pd.read_pickle('../Resources/tennis_clean/atp_top_100_matches.pkl')"
   ]
  },
  {
   "cell_type": "code",
   "execution_count": 121,
   "metadata": {},
   "outputs": [],
   "source": [
    "COLUMNS = ['aces', 'double_faults',\n",
    "           'points', 'service_points', 'return_points', \n",
    "           'first_serves', 'second_serves', 'first_serves_won', 'second_serves_won',\n",
    "           'break_points_faced', 'break_points_saved', \n",
    "           'opponent_break_points_faced', 'break_points_won',\n",
    "           'first_serve_return_points_won', 'second_serve_return_points_won', \n",
    "           'opponent_service_points', 'opponent_first_serves',\n",
    "           'service_points_won', 'return_points_won', 'points_won']"
   ]
  },
  {
   "cell_type": "code",
   "execution_count": 122,
   "metadata": {},
   "outputs": [],
   "source": [
    "matches = matches[['tournament_date', 'opponent_id', 'surface', 'result_value',\n",
    "                   'player_rank', 'player_ranking_points', 'player_age',\n",
    "                   'opponent_rank', 'opponent_ranking_points', 'opponent_age'] + COLUMNS].copy()\n",
    "matches.reset_index(inplace=True)"
   ]
  },
  {
   "cell_type": "code",
   "execution_count": 123,
   "metadata": {},
   "outputs": [],
   "source": [
    "CAREER_COLUMNS = ['career_aces', 'career_double_faults',\n",
    "           'career_points', 'career_service_points', 'career_return_points', \n",
    "           'career_first_serves', 'career_second_serves',\n",
    "           'career_first_serves_won', 'career_second_serves_won',\n",
    "           'career_break_points_faced', 'career_break_points_saved', \n",
    "           'career_opponent_break_points_faced', 'career_break_points_won',\n",
    "           'career_first_serve_return_points_won', 'career_second_serve_return_points_won', \n",
    "           'career_opponent_service_points', 'career_opponent_first_serves',\n",
    "           'career_service_points_won', 'career_return_points_won', 'career_points_won']\n",
    "\n",
    "EWMA_10_COLUMNS = ['ewma_10_aces', 'ewma_10_double_faults',\n",
    "           'ewma_10_points', 'ewma_10_service_points', 'ewma_10_return_points', \n",
    "           'ewma_10_first_serves', 'ewma_10_second_serves', \n",
    "           'ewma_10_first_serves_won', 'ewma_10_second_serves_won',\n",
    "           'ewma_10_break_points_faced', 'ewma_10_break_points_saved', \n",
    "           'ewma_10_opponent_break_points_faced', 'ewma_10_break_points_won',\n",
    "           'ewma_10_first_serve_return_points_won', 'ewma_10_second_serve_return_points_won', \n",
    "           'ewma_10_opponent_service_points', 'ewma_10_opponent_first_serves',\n",
    "           'ewma_10_service_points_won', 'ewma_10_return_points_won', 'ewma_10_points_won']\n",
    "\n",
    "EWMA_50_COLUMNS = ['ewma_50_aces', 'ewma_50_double_faults',\n",
    "           'ewma_50_points', 'ewma_50_service_points', 'ewma_50_return_points', \n",
    "           'ewma_50_first_serves', 'ewma_50_second_serves',\n",
    "           'ewma_50_first_serves_won', 'ewma_50_second_serves_won',\n",
    "           'ewma_50_break_points_faced', 'ewma_50_break_points_saved', \n",
    "           'ewma_50_opponent_break_points_faced', 'ewma_50_break_points_won',\n",
    "           'ewma_50_first_serve_return_points_won', 'ewma_50_second_serve_return_points_won', \n",
    "           'ewma_50_opponent_service_points', 'ewma_50_opponent_first_serves',\n",
    "           'ewma_50_service_points_won', 'ewma_50_return_points_won', 'ewma_50_points_won']"
   ]
  },
  {
   "cell_type": "code",
   "execution_count": 124,
   "metadata": {},
   "outputs": [],
   "source": [
    "matches.drop_duplicates(subset=['player_id', 'tournament_id', 'match_id'], inplace=True)\n",
    "matches.drop_duplicates(subset=['player_id', 'tournament_id', 'opponent_id'], inplace=True)\n",
    "matches.set_index(['player_id', 'tournament_id', 'match_id'], inplace=True)\n",
    "matches.sort_index(inplace=True)"
   ]
  },
  {
   "cell_type": "code",
   "execution_count": 125,
   "metadata": {
    "scrolled": true
   },
   "outputs": [],
   "source": [
    "expanding_sum = (matches.reset_index('player_id')\n",
    "                 .groupby('player_id')[COLUMNS]\n",
    "                 .expanding().sum().shift()).dropna()"
   ]
  },
  {
   "cell_type": "code",
   "execution_count": 126,
   "metadata": {},
   "outputs": [],
   "source": [
    "short_term_weighted_moving_average = (matches.reset_index('player_id')\n",
    "                 .groupby('player_id')[COLUMNS]\n",
    "                 .ewm(halflife=10).mean().shift()).dropna()"
   ]
  },
  {
   "cell_type": "code",
   "execution_count": 127,
   "metadata": {},
   "outputs": [],
   "source": [
    "long_term_weighted_moving_average = (matches.reset_index('player_id')\n",
    "                 .groupby('player_id')[COLUMNS]\n",
    "                 .ewm(halflife=50).mean().shift()).dropna()"
   ]
  },
  {
   "cell_type": "code",
   "execution_count": 128,
   "metadata": {},
   "outputs": [],
   "source": [
    "expanding_sum.columns = CAREER_COLUMNS\n",
    "short_term_weighted_moving_average.columns = EWMA_10_COLUMNS\n",
    "long_term_weighted_moving_average.columns = EWMA_50_COLUMNS"
   ]
  },
  {
   "cell_type": "code",
   "execution_count": 129,
   "metadata": {},
   "outputs": [],
   "source": [
    "matches = matches.merge(expanding_sum, left_index=True, right_index=True, how='left').dropna()\n",
    "matches = matches.merge(short_term_weighted_moving_average, left_index=True, right_index=True, how='left').dropna()\n",
    "matches = matches.merge(long_term_weighted_moving_average, left_index=True, right_index=True, how='left').dropna()"
   ]
  },
  {
   "cell_type": "code",
   "execution_count": 130,
   "metadata": {},
   "outputs": [],
   "source": [
    "matches['career_first_serve_percentage'] = matches.career_first_serves / matches.career_service_points\n",
    "\n",
    "matches['career_first_serves_won_percentage'] = matches.career_first_serves_won / matches.career_first_serves\n",
    "\n",
    "matches['career_second_serves_won_percentage'] = matches.career_second_serves_won / matches.career_second_serves\n",
    "\n",
    "matches['career_service_points_won_percentage'] = matches.career_service_points_won / matches.career_service_points\n",
    "\n",
    "matches['career_break_points_saved_percentage'] = (matches.career_break_points_saved / \n",
    "                                                   matches.career_break_points_faced)\n",
    "\n",
    "matches['career_break_points_won_percentage'] = (matches.career_break_points_won / \n",
    "                                                 matches.career_opponent_break_points_faced)\n",
    "\n",
    "matches['career_first_serve_return_points_won_percentage'] = (matches.career_first_serve_return_points_won / \n",
    "                                                              matches.career_opponent_first_serves)\n",
    "\n",
    "matches['career_second_serve_return_points_won_percentage'] = (matches.career_second_serve_return_points_won / \n",
    "                                                               (matches.career_opponent_service_points - \n",
    "                                                                matches.career_opponent_first_serves))\n",
    "\n",
    "matches['career_return_points_won_percentage'] = matches.career_return_points_won / matches.career_return_points\n",
    "\n",
    "matches['career_points_won_percentage'] = matches.career_points_won / matches.career_points\n",
    "\n",
    "matches['career_ace_rate'] = matches.career_aces / matches.career_service_points\n",
    "\n",
    "matches['career_double_fault_rate'] = matches.career_double_faults / matches.career_service_points"
   ]
  },
  {
   "cell_type": "code",
   "execution_count": 131,
   "metadata": {},
   "outputs": [],
   "source": [
    "matches['ewma_10_first_serve_percentage'] = matches.ewma_10_first_serves / matches.ewma_10_service_points\n",
    "\n",
    "matches['ewma_10_first_serves_won_percentage'] = matches.ewma_10_first_serves_won / matches.ewma_10_first_serves\n",
    "\n",
    "matches['ewma_10_second_serves_won_percentage'] = matches.ewma_10_second_serves_won / matches.ewma_10_second_serves\n",
    "\n",
    "matches['ewma_10_service_points_won_percentage'] = matches.ewma_10_service_points_won / matches.ewma_10_service_points\n",
    "\n",
    "matches['ewma_10_break_points_saved_percentage'] = (matches.ewma_10_break_points_saved / \n",
    "                                                   matches.ewma_10_break_points_faced)\n",
    "\n",
    "matches['ewma_10_break_points_won_percentage'] = (matches.ewma_10_break_points_won / \n",
    "                                                 matches.ewma_10_opponent_break_points_faced)\n",
    "\n",
    "matches['ewma_10_first_serve_return_points_won_percentage'] = (matches.ewma_10_first_serve_return_points_won / \n",
    "                                                              matches.ewma_10_opponent_first_serves)\n",
    "\n",
    "matches['ewma_10_second_serve_return_points_won_percentage'] = (matches.ewma_10_second_serve_return_points_won / \n",
    "                                                               (matches.ewma_10_opponent_service_points - \n",
    "                                                                matches.ewma_10_opponent_first_serves))\n",
    "\n",
    "matches['ewma_10_return_points_won_percentage'] = matches.ewma_10_return_points_won / matches.ewma_10_return_points\n",
    "\n",
    "matches['ewma_10_points_won_percentage'] = matches.ewma_10_points_won / matches.ewma_10_points\n",
    "\n",
    "matches['ewma_10_ace_rate'] = matches.ewma_10_aces / matches.ewma_10_service_points\n",
    "\n",
    "matches['ewma_10_double_fault_rate'] = matches.ewma_10_double_faults / matches.ewma_10_service_points"
   ]
  },
  {
   "cell_type": "code",
   "execution_count": 132,
   "metadata": {},
   "outputs": [],
   "source": [
    "matches['ewma_50_first_serve_percentage'] = matches.ewma_50_first_serves / matches.ewma_50_service_points\n",
    "\n",
    "matches['ewma_50_first_serves_won_percentage'] = matches.ewma_50_first_serves_won / matches.ewma_50_first_serves\n",
    "\n",
    "matches['ewma_50_second_serves_won_percentage'] = matches.ewma_50_second_serves_won / matches.ewma_50_second_serves\n",
    "\n",
    "matches['ewma_50_service_points_won_percentage'] = matches.ewma_50_service_points_won / matches.ewma_50_service_points\n",
    "\n",
    "matches['ewma_50_break_points_saved_percentage'] = (matches.ewma_50_break_points_saved / \n",
    "                                                   matches.ewma_50_break_points_faced)\n",
    "\n",
    "matches['ewma_50_break_points_won_percentage'] = (matches.ewma_50_break_points_won / \n",
    "                                                 matches.ewma_50_opponent_break_points_faced)\n",
    "\n",
    "matches['ewma_50_first_serve_return_points_won_percentage'] = (matches.ewma_50_first_serve_return_points_won / \n",
    "                                                              matches.ewma_50_opponent_first_serves)\n",
    "\n",
    "matches['ewma_50_second_serve_return_points_won_percentage'] = (matches.ewma_50_second_serve_return_points_won / \n",
    "                                                               (matches.ewma_50_opponent_service_points - \n",
    "                                                                matches.ewma_50_opponent_first_serves))\n",
    "\n",
    "matches['ewma_50_return_points_won_percentage'] = matches.ewma_50_return_points_won / matches.ewma_50_return_points\n",
    "\n",
    "matches['ewma_50_points_won_percentage'] = matches.ewma_50_points_won / matches.ewma_50_points\n",
    "\n",
    "matches['ewma_50_ace_rate'] = matches.ewma_50_aces / matches.ewma_50_service_points\n",
    "\n",
    "matches['ewma_50_double_fault_rate'] = matches.ewma_50_double_faults / matches.ewma_50_service_points"
   ]
  },
  {
   "cell_type": "code",
   "execution_count": 133,
   "metadata": {},
   "outputs": [],
   "source": [
    "CAREER_COLUMNS = ['career_first_serve_percentage',\n",
    "                   'career_first_serves_won_percentage',\n",
    "                   'career_second_serves_won_percentage',\n",
    "                   'career_service_points_won_percentage',\n",
    "                   'career_break_points_saved_percentage',\n",
    "                   'career_break_points_won_percentage',\n",
    "                   'career_first_serve_return_points_won_percentage',\n",
    "                   'career_second_serve_return_points_won_percentage',\n",
    "                   'career_return_points_won_percentage',\n",
    "                   'career_points_won_percentage',\n",
    "                   'career_ace_rate',\n",
    "                   'career_double_fault_rate']\n",
    "\n",
    "EWMA_10_COLUMNS = ['ewma_10_first_serve_percentage',\n",
    "                   'ewma_10_first_serves_won_percentage',\n",
    "                   'ewma_10_second_serves_won_percentage',\n",
    "                   'ewma_10_service_points_won_percentage',\n",
    "                   'ewma_10_break_points_saved_percentage',\n",
    "                   'ewma_10_break_points_won_percentage',\n",
    "                   'ewma_10_first_serve_return_points_won_percentage',\n",
    "                   'ewma_10_second_serve_return_points_won_percentage',\n",
    "                   'ewma_10_return_points_won_percentage',\n",
    "                   'ewma_10_points_won_percentage',\n",
    "                   'ewma_10_ace_rate',\n",
    "                   'ewma_10_double_fault_rate']\n",
    "\n",
    "EWMA_50_COLUMNS = ['ewma_50_first_serve_percentage',\n",
    "                   'ewma_50_first_serves_won_percentage',\n",
    "                   'ewma_50_second_serves_won_percentage',\n",
    "                   'ewma_50_service_points_won_percentage',\n",
    "                   'ewma_50_break_points_saved_percentage',\n",
    "                   'ewma_50_break_points_won_percentage',\n",
    "                   'ewma_50_first_serve_return_points_won_percentage',\n",
    "                   'ewma_50_second_serve_return_points_won_percentage',\n",
    "                   'ewma_50_return_points_won_percentage',\n",
    "                   'ewma_50_points_won_percentage',\n",
    "                   'ewma_50_ace_rate',\n",
    "                   'ewma_50_double_fault_rate']"
   ]
  },
  {
   "cell_type": "code",
   "execution_count": 134,
   "metadata": {},
   "outputs": [],
   "source": [
    "opponent_expanding_sum = matches.reset_index().set_index(['opponent_id', 'tournament_date', 'match_id'])[CAREER_COLUMNS]\n",
    "opponent_short_term_weighted_moving_average = matches.reset_index().set_index(['opponent_id', 'tournament_date', 'match_id'])[EWMA_10_COLUMNS]\n",
    "opponent_long_term_weighted_moving_average = matches.reset_index().set_index(['opponent_id', 'tournament_date', 'match_id'])[EWMA_50_COLUMNS]"
   ]
  },
  {
   "cell_type": "code",
   "execution_count": 135,
   "metadata": {},
   "outputs": [],
   "source": [
    "opponent_expanding_sum.sort_index(inplace=True)\n",
    "opponent_short_term_weighted_moving_average.sort_index(inplace=True)\n",
    "opponent_long_term_weighted_moving_average.sort_index(inplace=True)"
   ]
  },
  {
   "cell_type": "code",
   "execution_count": 136,
   "metadata": {},
   "outputs": [],
   "source": [
    "opponent_expanding_sum.rename_axis(['player_id', 'tournament_date', 'match_id'], inplace=True)\n",
    "opponent_short_term_weighted_moving_average.rename_axis(['player_id', 'tournament_date', 'match_id'], inplace=True)\n",
    "opponent_long_term_weighted_moving_average.rename_axis(['player_id', 'tournament_date', 'match_id'], inplace=True)"
   ]
  },
  {
   "cell_type": "code",
   "execution_count": 137,
   "metadata": {},
   "outputs": [],
   "source": [
    "matches.reset_index(inplace=True)\n",
    "matches.drop_duplicates(subset=['player_id', 'tournament_date', 'match_id'], inplace=True)\n",
    "matches.set_index(['player_id', 'tournament_date', 'match_id'], inplace=True)"
   ]
  },
  {
   "cell_type": "code",
   "execution_count": 138,
   "metadata": {},
   "outputs": [],
   "source": [
    "matches = matches.merge(opponent_expanding_sum, left_index=True, right_index=True, how='left',\n",
    "                        suffixes=[None, '_opponent']).dropna()\n",
    "matches = matches.merge(opponent_short_term_weighted_moving_average, left_index=True, right_index=True, how='left',\n",
    "                        suffixes=[None, '_opponent']).dropna()\n",
    "matches = matches.merge(opponent_long_term_weighted_moving_average, left_index=True, right_index=True, how='left',\n",
    "                        suffixes=[None, '_opponent']).dropna()"
   ]
  },
  {
   "cell_type": "code",
   "execution_count": 139,
   "metadata": {},
   "outputs": [],
   "source": [
    "matches['ranking_points_diff'] = matches.player_ranking_points - matches.opponent_ranking_points\n",
    "matches['rank_diff'] = matches.opponent_rank - matches.player_rank"
   ]
  },
  {
   "cell_type": "code",
   "execution_count": 140,
   "metadata": {},
   "outputs": [],
   "source": [
    "matches.to_pickle('../Resources/tennis_clean/atp_matches_full_feature.pkl')"
   ]
  },
  {
   "cell_type": "code",
   "execution_count": 111,
   "metadata": {},
   "outputs": [],
   "source": [
    "head_to_head = matches.reset_index().set_index(['player_id', 'opponent_id', 'tournament_date']).sort_index()"
   ]
  },
  {
   "cell_type": "code",
   "execution_count": 112,
   "metadata": {},
   "outputs": [],
   "source": [
    "head_to_head['result_value'] = head_to_head.result_value.apply(lambda x: -1 if x == 0 else x)"
   ]
  },
  {
   "cell_type": "code",
   "execution_count": 113,
   "metadata": {},
   "outputs": [],
   "source": [
    "head_to_head = head_to_head.groupby(['player_id', 'opponent_id']).result_value.cumsum()   \\\n",
    "            .groupby(['player_id', 'opponent_id']).shift()                 \\\n",
    "            .reset_index('tournament_date').fillna(0)"
   ]
  },
  {
   "cell_type": "code",
   "execution_count": 116,
   "metadata": {},
   "outputs": [
    {
     "ename": "NameError",
     "evalue": "name 'top_100' is not defined",
     "output_type": "error",
     "traceback": [
      "\u001b[0;31m---------------------------------------------------------------------------\u001b[0m",
      "\u001b[0;31mNameError\u001b[0m                                 Traceback (most recent call last)",
      "\u001b[0;32m<ipython-input-116-7ad78b518c68>\u001b[0m in \u001b[0;36m<module>\u001b[0;34m\u001b[0m\n\u001b[0;32m----> 1\u001b[0;31m \u001b[0mlen\u001b[0m\u001b[0;34m(\u001b[0m\u001b[0mset\u001b[0m\u001b[0;34m(\u001b[0m\u001b[0mtop_100\u001b[0m\u001b[0;34m)\u001b[0m\u001b[0;34m)\u001b[0m\u001b[0;34m\u001b[0m\u001b[0;34m\u001b[0m\u001b[0m\n\u001b[0m",
      "\u001b[0;31mNameError\u001b[0m: name 'top_100' is not defined"
     ]
    }
   ],
   "source": [
    "len(set(top_100))"
   ]
  },
  {
   "cell_type": "code",
   "execution_count": null,
   "metadata": {
    "scrolled": true
   },
   "outputs": [],
   "source": [
    "matches.reset_index(inplace=True)\n",
    "top_100_matches = matches[matches.player_id.isin(top_100)]\n",
    "matches.set_index('player_id', inplace=True)\n",
    "top_100_matches.reset_index(inplace=True)\n",
    "top_100_matches.set_index(['player_id', 'tournament_date', 'match_id'], inplace=True)\n",
    "top_100_matches.sort_index(inplace=True)"
   ]
  },
  {
   "cell_type": "code",
   "execution_count": null,
   "metadata": {},
   "outputs": [],
   "source": [
    "top_100_matches.reset_index(inplace=True)\n",
    "top_100_matches.set_index(['player_id', 'opponent_id', 'tournament_date'], inplace=True)\n",
    "head_to_head.reset_index(inplace=True)\n",
    "head_to_head.set_index(['player_id', 'opponent_id', 'tournament_date'], inplace=True)"
   ]
  },
  {
   "cell_type": "code",
   "execution_count": null,
   "metadata": {},
   "outputs": [],
   "source": [
    "top_100_matches['h2h'] = head_to_head"
   ]
  },
  {
   "cell_type": "code",
   "execution_count": null,
   "metadata": {},
   "outputs": [],
   "source": [
    "top_100_matches.reset_index(inplace=True)\n",
    "top_100_matches.set_index(['player_id', 'tournament_date', 'match_id'], inplace=True)"
   ]
  },
  {
   "cell_type": "code",
   "execution_count": null,
   "metadata": {},
   "outputs": [],
   "source": [
    "top_100_matches = top_100_matches.dropna(subset=['opponent_id'])"
   ]
  },
  {
   "cell_type": "code",
   "execution_count": null,
   "metadata": {},
   "outputs": [],
   "source": [
    "top_100_matches['age_diff'] = (players.loc[top_100_matches.index.get_level_values(0)].birthdate.values - \n",
    " players.loc[top_100_matches.opponent_id].birthdate.values)"
   ]
  },
  {
   "cell_type": "code",
   "execution_count": null,
   "metadata": {},
   "outputs": [],
   "source": [
    "top_100_matches['age_diff'] = top_100_matches.age_diff.dt.days"
   ]
  },
  {
   "cell_type": "code",
   "execution_count": null,
   "metadata": {},
   "outputs": [],
   "source": [
    "top_100_matches.to_csv('../Resources/tennis_clean/atp_top_100_matches.csv')"
   ]
  },
  {
   "cell_type": "code",
   "execution_count": null,
   "metadata": {},
   "outputs": [],
   "source": [
    "players.query(\"player_id == 105379\")"
   ]
  },
  {
   "cell_type": "code",
   "execution_count": null,
   "metadata": {},
   "outputs": [],
   "source": [
    "top_100_matches.career_first_serve_percentage.hist()"
   ]
  },
  {
   "cell_type": "code",
   "execution_count": 115,
   "metadata": {
    "scrolled": true
   },
   "outputs": [
    {
     "ename": "NameError",
     "evalue": "name 'players' is not defined",
     "output_type": "error",
     "traceback": [
      "\u001b[0;31m---------------------------------------------------------------------------\u001b[0m",
      "\u001b[0;31mNameError\u001b[0m                                 Traceback (most recent call last)",
      "\u001b[0;32m<ipython-input-115-d6a9869fd8f9>\u001b[0m in \u001b[0;36m<module>\u001b[0;34m\u001b[0m\n\u001b[0;32m----> 1\u001b[0;31m \u001b[0mplayers\u001b[0m\u001b[0;34m.\u001b[0m\u001b[0mquery\u001b[0m\u001b[0;34m(\u001b[0m\u001b[0;34m'name_last == \\\"Federer\\\"'\u001b[0m\u001b[0;34m)\u001b[0m\u001b[0;34m\u001b[0m\u001b[0;34m\u001b[0m\u001b[0m\n\u001b[0m",
      "\u001b[0;31mNameError\u001b[0m: name 'players' is not defined"
     ]
    }
   ],
   "source": [
    "players.query('name_last == \\\"Federer\\\"')"
   ]
  }
 ],
 "metadata": {
  "kernelspec": {
   "display_name": "Python 3",
   "language": "python",
   "name": "python3"
  },
  "language_info": {
   "codemirror_mode": {
    "name": "ipython",
    "version": 3
   },
   "file_extension": ".py",
   "mimetype": "text/x-python",
   "name": "python",
   "nbconvert_exporter": "python",
   "pygments_lexer": "ipython3",
   "version": "3.7.6"
  }
 },
 "nbformat": 4,
 "nbformat_minor": 2
}
