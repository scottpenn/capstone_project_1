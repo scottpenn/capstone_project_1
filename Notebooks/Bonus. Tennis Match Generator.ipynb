{
 "cells": [
  {
   "cell_type": "code",
   "execution_count": 1,
   "metadata": {},
   "outputs": [],
   "source": [
    "import numpy as np\n",
    "import numpy.random as npr\n",
    "import pandas as pd\n",
    "import matplotlib.pyplot as plt\n",
    "\n",
    "from tqdm import tqdm"
   ]
  },
  {
   "cell_type": "code",
   "execution_count": 2,
   "metadata": {},
   "outputs": [],
   "source": [
    "# To simulate a tennis match from scratch, first you must simulate the universe.\n",
    "# Or, in my case, I start from the simplest unit of a tennis match, the point.\n",
    "# fsp is the server's observed first service percentage\n",
    "# fsw is the server's observed first service win percentage\n",
    "# ssw is the server's observed second service win percentage\n",
    "\n",
    "def simulate_point(fsp, fsw, ssw):\n",
    "    return (fsw if fsp > npr.rand() else ssw) > npr.rand()"
   ]
  },
  {
   "cell_type": "code",
   "execution_count": 3,
   "metadata": {},
   "outputs": [
    {
     "name": "stdout",
     "output_type": "stream",
     "text": [
      "CPU times: user 15 µs, sys: 8 µs, total: 23 µs\n",
      "Wall time: 26 µs\n"
     ]
    },
    {
     "data": {
      "text/plain": [
       "False"
      ]
     },
     "execution_count": 3,
     "metadata": {},
     "output_type": "execute_result"
    }
   ],
   "source": [
    "%%time\n",
    "\n",
    "simulate_point(0.5, 0.5, 0.5)"
   ]
  },
  {
   "cell_type": "code",
   "execution_count": 4,
   "metadata": {},
   "outputs": [
    {
     "name": "stdout",
     "output_type": "stream",
     "text": [
      "CPU times: user 651 ms, sys: 8.61 ms, total: 659 ms\n",
      "Wall time: 662 ms\n"
     ]
    }
   ],
   "source": [
    "%%time\n",
    "\n",
    "points = [simulate_point(0.5, 0.5, 0.5) for _ in range(1000000)]"
   ]
  },
  {
   "cell_type": "code",
   "execution_count": 5,
   "metadata": {},
   "outputs": [
    {
     "data": {
      "text/plain": [
       "0.499492"
      ]
     },
     "execution_count": 5,
     "metadata": {},
     "output_type": "execute_result"
    }
   ],
   "source": [
    "sum(points) / len(points)"
   ]
  },
  {
   "cell_type": "code",
   "execution_count": 6,
   "metadata": {},
   "outputs": [
    {
     "data": {
      "image/png": "[encoded data removed]",
      "text/plain": [
       "<Figure size 432x288 with 1 Axes>"
      ]
     },
     "metadata": {
      "needs_background": "light"
     },
     "output_type": "display_data"
    }
   ],
   "source": [
    "def simulate_points(n):\n",
    "    return sum(simulate_point(0.5, 0.5, 0.5) for _ in range(n))\n",
    "\n",
    "_ = plt.hist([simulate_points(1000) for _ in range(10000)], bins=30)"
   ]
  },
  {
   "cell_type": "code",
   "execution_count": 7,
   "metadata": {},
   "outputs": [],
   "source": [
    "# The next smallest unit in a tennis match is the game. \n",
    "# In tennis, the players both start at 0.\n",
    "# After winning a point, a player goes from 0 --> 15 --> 30 --> 40 --> game won.\n",
    "# However, if the game is tied at 40-40, then the game is considered at deuce.\n",
    "# From deuce, whichever player wins 2 straight points wins the game. This state can last indefinitely.\n",
    "# fsp is the server's observed first serve percentage.\n",
    "# p is the number of points won and lost by the server.\n",
    "# From this point on, the functions will keep track of the total points won and lost by the server.\n",
    "def simulate_deuce(fsp, fsw, ssw, p):\n",
    "    # A deuce can theoretically last forever\n",
    "    while True:\n",
    "        points_won = 0\n",
    "        for _ in range(2):\n",
    "            points_won += simulate_point(fsp, fsw, ssw)\n",
    "        if points_won == 2:\n",
    "            return (True, p + 2, p)\n",
    "        elif points_won == 0:\n",
    "            return (False, p, p + 2)\n",
    "        else:\n",
    "            p += 1\n",
    "            \n",
    "\n",
    "# To simulate a game, I first simulate the minimum required points.\n",
    "# I then return any game deciding scores and continue the simulation as required.\n",
    "# By doing this I never simulate a point that would not be played in a real game.\n",
    "# fsp is the server's observed first serve percentage.\n",
    "def simulate_game(fsp, fsw, ssw):\n",
    "    points_won = 0\n",
    "    # 4 is the minimum number of points to decide a game.\n",
    "    for _ in range(4):\n",
    "        points_won += simulate_point(fsp, fsw, ssw)\n",
    "    \n",
    "    # Game won after 40-0\n",
    "    if points_won == 4:\n",
    "        return (True, 4, 0)\n",
    "    # Game lost after 0-40\n",
    "    elif points_won == 0:\n",
    "        return (False, 0, 4)\n",
    "    # 30-30 is identical to Deuce\n",
    "    elif points_won == 2:\n",
    "        return simulate_deuce(fsp, fsw, ssw, 2)\n",
    "    \n",
    "    # Scenarios remaining: 40-15 and 15-40\n",
    "    points_won += simulate_point(fsp, fsw, ssw)\n",
    "\n",
    "    # Game won after 40-15\n",
    "    if points_won == 4:\n",
    "        return (True, 4, 1)\n",
    "    # Game lost after 15-40\n",
    "    elif points_won == 1:\n",
    "        return (False, 1, 4)\n",
    "        \n",
    "    # Scenarios remaining: 40-30 and 30-40\n",
    "    points_won += simulate_point(fsp, fsw, ssw)\n",
    "    # Game won after 40-30\n",
    "    if points_won == 4:\n",
    "        return (True, 4, 2)\n",
    "    # Game lost after 30-40\n",
    "    elif points_won == 2:\n",
    "        return (False, 2, 4)\n",
    "    # Deuce\n",
    "    else:\n",
    "        return simulate_deuce(fsp, fsw, ssw, 3)"
   ]
  },
  {
   "cell_type": "code",
   "execution_count": 8,
   "metadata": {},
   "outputs": [
    {
     "name": "stdout",
     "output_type": "stream",
     "text": [
      "CPU times: user 15 µs, sys: 0 ns, total: 15 µs\n",
      "Wall time: 18.4 µs\n"
     ]
    },
    {
     "data": {
      "text/plain": [
       "(True, 4, 1)"
      ]
     },
     "execution_count": 8,
     "metadata": {},
     "output_type": "execute_result"
    }
   ],
   "source": [
    "%%time\n",
    "\n",
    "# Games with long deuces may take longer.\n",
    "simulate_game(0.5, 0.5, 0.5)"
   ]
  },
  {
   "cell_type": "code",
   "execution_count": 9,
   "metadata": {},
   "outputs": [],
   "source": [
    "# Before I can simulate a set properly, I must be able to simulate the tiebreak.\n",
    "# When a set is tied at 6 games apiece, a tiebreak is played (There are exceptions to this at Grand Slam events)\n",
    "# A tiebreak is basically a long game, with 7 points as the minimum threshold for victory instead of 4.\n",
    "# However, the players switch serves on every odd point.\n",
    "\n",
    "# At 5-5 or 6-6 in a tiebreak, a deuce-like scenario is created.\n",
    "# Both players serve once each. In real match the order would matter but has no practical effect here.\n",
    "# *_(p/o) the p and o stand for player and opponent.\n",
    "def simulate_tiebreak_deuce(fsp_p, fsw_p, ssw_p, fsp_o, fsw_o, ssw_o, pw, pl, tbp):\n",
    "    # A tiebreak can theoretically last forever.\n",
    "    while True:\n",
    "        points_won = 0\n",
    "        \n",
    "        points_won += simulate_point(fsp_p, fsw_p, ssw_p)\n",
    "        # When the opponent serves, the result of the simulated point is negated.\n",
    "        points_won += not simulate_point(fsp_o, fsw_o, ssw_o)\n",
    "        \n",
    "        if points_won == 2:\n",
    "            return (True, pw + 2, pl, 13, f'7-6({tbp})')\n",
    "        elif points_won == 0:\n",
    "            return (False, pw, pl + 2, 13, f'6-7({tbp})') \n",
    "        else:\n",
    "            pw += 1\n",
    "            pl += 1\n",
    "            tbp += 1\n",
    "            \n",
    "\n",
    "# I have continued the \"unrolled loop\" approach, as despite being more verbose it performs well.\n",
    "# *_(p/o) the p and o stand for player and opponent. The player serves first.\n",
    "def simulate_tiebreak(fsp_p, fsw_p, ssw_p, fsp_o, fsw_o, ssw_o, pw, pl):\n",
    "    points_won = 0\n",
    "    \n",
    "    # 7 is the minimum number of points to decide a tiebreak.\n",
    "    # In the first 7 points, the player serves 3 times to the opponents 4\n",
    "    for _ in range(3):\n",
    "        points_won += simulate_point(fsp_p, fsw_p, ssw_p)\n",
    "    # When the opponent serves, the result of the simulated point is negated.\n",
    "    for _ in range(4):\n",
    "        points_won += not simulate_point(fsp_o, fsw_o, ssw_o)\n",
    "        \n",
    "    # Tiebreak won after 7-0\n",
    "    if points_won == 7:\n",
    "        return (True, pw + 7, pl, 13, '7-6(0)')\n",
    "    # Tiebreak lost after 0-7\n",
    "    elif points_won == 0:\n",
    "        return (False, pw, pl + 7, 13, '6-7(0)')\n",
    "    \n",
    "    # Scenarios remaining: 6-1, 5-2, 4-3, 3-4, 2-5, 1-6\n",
    "    # The player serves next.\n",
    "    points_won += simulate_point(fsp_p, fsw_p, ssw_p)\n",
    "    \n",
    "    # Tiebreak won after 7-1\n",
    "    if points_won == 7:\n",
    "        return (True, pw + 7, pl + 1, 13, '7-6(1)')\n",
    "    # Tiebreak lost after 1-7\n",
    "    elif points_won == 1:\n",
    "        return (False, pw + 1, pl + 7, 13, '6-7(1)')\n",
    "    \n",
    "    # Scenarios remaining: 6-2, 5-3, 4-4, 3-5, 2-6\n",
    "    # The player serves next.\n",
    "    points_won += simulate_point(fsp_p, fsw_p, ssw_p)\n",
    "    \n",
    "    # Tiebreak won after 7-2\n",
    "    if points_won == 7:\n",
    "        return (True, pw + 7, pl + 2, 13, '7-6(2)')\n",
    "    # Tiebreak lost after 2-7\n",
    "    elif points_won == 2:\n",
    "        return (False, pw + 2, pl + 7, 13, '6-7(2)')\n",
    "    \n",
    "    # Scenarios remaining: 6-3, 5-4, 4-5, 3-6\n",
    "    # The opponent serves next\n",
    "    points_won += not simulate_point(fsp_o, fsw_o, ssw_o)\n",
    "    \n",
    "    # Tiebreak won after 7-3\n",
    "    if points_won == 7:\n",
    "        return (True, pw + 7, pl + 3, 13, '7-6(3)')\n",
    "    # Tiebreak lost after 3-7\n",
    "    elif points_won == 3:\n",
    "        return (False, pw + 3, pl + 7, 13, '6-7(3)')\n",
    "    # At 5-5, the tiebreak is in a state similar to deuce.\n",
    "    elif points_won == 5:\n",
    "        return simulate_tiebreak_deuce(fsp_p, fsw_p, ssw_p, fsp_o, fsw_o, ssw_o, pw + 5, pl + 5, 5)\n",
    "    \n",
    "    # Scenarios remaining: 6-4, 4-6\n",
    "    # The opponent serves next\n",
    "    points_won += not simulate_point(fsp_o, fsw_o, ssw_o)\n",
    "    \n",
    "    # Tiebreak won after 7-4\n",
    "    if points_won == 7:\n",
    "        return (True, pw + 7, pl + 4, 13, '7-6(4)')\n",
    "    # Tiebreak lost after 4-7\n",
    "    elif points_won == 4:\n",
    "        return (False, pw + 4, pl + 7, 13, '6-7(4)')\n",
    "    # Scenarios remaining: 6-5, 5-6\n",
    "    # The player serves next\n",
    "    points_won += simulate_point(fsp_p, fsw_p, ssw_p)\n",
    "    \n",
    "    # Tiebreak won after 7-5\n",
    "    if points_won == 7:\n",
    "        return (True, pw + 7, pl + 5, 13, '7-6(5)')\n",
    "    # Tiebreak lost after 5-7\n",
    "    elif points_won == 5:\n",
    "        return (False, pw + 5, pl + 7, 13, '6-7(5)')\n",
    "    # Scenarios remaining: 6-6, which is a deuce situation\n",
    "    else:\n",
    "        return simulate_tiebreak_deuce(fsp_p, fsw_p, ssw_p, fsp_o, fsw_o, ssw_o, pw + 6, pw + 6, 6)"
   ]
  },
  {
   "cell_type": "code",
   "execution_count": 10,
   "metadata": {},
   "outputs": [
    {
     "name": "stdout",
     "output_type": "stream",
     "text": [
      "CPU times: user 36 µs, sys: 3 µs, total: 39 µs\n",
      "Wall time: 49.1 µs\n"
     ]
    },
    {
     "data": {
      "text/plain": [
       "(True, 8, 6, 13, '7-6(6)')"
      ]
     },
     "execution_count": 10,
     "metadata": {},
     "output_type": "execute_result"
    }
   ],
   "source": [
    "%%time\n",
    "\n",
    "simulate_tiebreak(.5, .5, .5, .5, .5, .5, 0, 0)"
   ]
  },
  {
   "cell_type": "code",
   "execution_count": 11,
   "metadata": {},
   "outputs": [],
   "source": [
    "def simulate_games_deuce(fsp_p, fsw_p, ssw_p, fsp_o, fsw_o, ssw_o):\n",
    "    # A games deuce can theoretically last forever.\n",
    "    games_played = 10\n",
    "    points_won = 0\n",
    "    points_lost = 0\n",
    "    g = 5\n",
    "    while True:\n",
    "        games_won = 0\n",
    "        \n",
    "        (game_result, pw, pl) = simulate_game(fsp_p, fsw_p, ssw_p)\n",
    "        games_won += game_result\n",
    "        points_won += pw\n",
    "        points_lost += pl\n",
    "    \n",
    "        (game_result, pw, pl) = simulate_game(fsp_o, fsw_o, ssw_o)\n",
    "        games_won += not game_result\n",
    "        points_won += pl\n",
    "        points_lost += pw\n",
    "        \n",
    "        games_played += 2\n",
    "        \n",
    "        if games_won == 2:\n",
    "            return (True, points_won, points_lost, games_played, f'{g + 2}-{g}')\n",
    "        elif games_won == 0:\n",
    "            return (False, points_won, points_lost, games_played, f'{g}-{g + 2}')\n",
    "        else:\n",
    "            g += 1"
   ]
  },
  {
   "cell_type": "code",
   "execution_count": 12,
   "metadata": {},
   "outputs": [],
   "source": [
    "# The biggest sub-unit of a tennis match is the set.\n",
    "# Each set acts like a tiebreak, with points replaced by games.\n",
    "# A player must win 6 games to win a set, and with two games or more than the opponent.\n",
    "# In the event of a tie at 6 games apiece, a tiebreak is played.\n",
    "# Scorelines of 7-5 are also possible, and can only occur from 5 games apiece.\n",
    "# The players switch serves each game. \n",
    "# In the tiebreak, the player who returned in the previous game serves first.\n",
    "def simulate_set(fsp_p, fsw_p, ssw_p, fsp_o, fsw_o, ssw_o, tb=True):\n",
    "    games_won = 0\n",
    "    points_won = 0\n",
    "    points_lost = 0\n",
    "    # 6 is the minimum number of games to decide a set.\n",
    "    # In the first 6 games, each player serves 3 times.\n",
    "    for i in range(3):\n",
    "        (game_result, pw, pl) = simulate_game(fsp_p, fsw_p, ssw_p)\n",
    "        games_won += game_result\n",
    "        points_won += pw\n",
    "        points_lost += pl\n",
    "        \n",
    "        (game_result, pw, pl) = simulate_game(fsp_o, fsw_o, ssw_o)\n",
    "        games_won += not game_result\n",
    "        points_won += pl\n",
    "        points_lost += pw\n",
    "        \n",
    "    # Set won after 6-0\n",
    "    if games_won == 6:\n",
    "        return (True, points_won, points_lost, 6, '6-0')\n",
    "    # Set lost after 0-6\n",
    "    elif games_won == 0:\n",
    "        return (False, points_won, points_lost, 6, '0-6')\n",
    "    \n",
    "    # Scenarios remaining: 5-1, 4-2, 3-3, 2-4, 1-5\n",
    "    # The player serves next.\n",
    "    (game_result, pw, pl) = simulate_game(fsp_p, fsw_p, ssw_p)\n",
    "    games_won += game_result\n",
    "    points_won += pw\n",
    "    points_lost += pl\n",
    "    \n",
    "    # Set won after 6-1\n",
    "    if games_won == 6:\n",
    "        return (True, points_won, points_lost, 7, '6-1')\n",
    "    # Set lost after 1-6\n",
    "    elif games_won == 1:\n",
    "        return (False, points_won, points_lost, 7, '1-6')\n",
    "    \n",
    "    # Scenarios remaining: 5-2, 4-3, 3-4, 2-5\n",
    "    # The opponent serves next.\n",
    "    (game_result, pw, pl) = simulate_game(fsp_o, fsw_o, ssw_o)\n",
    "    games_won += not game_result\n",
    "    points_won += pl\n",
    "    points_lost += pw\n",
    "    \n",
    "    # Set won after 6-2\n",
    "    if games_won == 6:\n",
    "        return (True, points_won, points_lost, 8, '6-2')\n",
    "    # Set lost after 2-6\n",
    "    elif games_won == 2:\n",
    "        return (False, points_won, points_lost, 8, '2-6')\n",
    "    \n",
    "    # Scenarios remaining: 5-3, 4-4, 3-5\n",
    "    # The player serves next.\n",
    "    (game_result, pw, pl) = simulate_game(fsp_p, fsw_p, ssw_p)\n",
    "    games_won += game_result\n",
    "    points_won += pw\n",
    "    points_lost += pl\n",
    "    \n",
    "    # Set won after 6-3\n",
    "    if games_won == 6:\n",
    "        return (True, points_won, points_lost, 9, '6-3')\n",
    "    # Set lost after 3-6\n",
    "    elif games_won == 3:\n",
    "        return (False, points_won, points_lost, 9, '3-6')\n",
    "    \n",
    "    # Scenarios remaining: 5-4, 4-5\n",
    "    # The opponent serves next.\n",
    "    (game_result, pw, pl) = simulate_game(fsp_o, fsw_o, ssw_o)\n",
    "    games_won += not game_result\n",
    "    points_won += pl\n",
    "    points_lost += pw\n",
    "    \n",
    "    # Set won after 6-4\n",
    "    if games_won == 6:\n",
    "        return (True, points_won, points_lost, 10, '6-4')\n",
    "    # Set lost after 4-6\n",
    "    elif games_won == 4:\n",
    "        return (False, points_won, points_lost, 10, '4-6')\n",
    "    \n",
    "    \n",
    "    \n",
    "    # Scenarios remaining: 5-5\n",
    "    # If this is the 5th set, and there is not finel set tiebreaker,\n",
    "    # then the match continues until one player has a 2 game advantage.\n",
    "    if not tb:\n",
    "        (result, pw, pl, gp, score) = simulate_games_deuce(fsp_p, fsw_p, ssw_p, fsp_o, fsw_o, ssw_o)\n",
    "        return (result, points_won + pw, points_lost + pl, gp, score)\n",
    "    \n",
    "    \n",
    "    # Neither player can win on the next game, so 2 games are simulated\n",
    "    (game_result, pw, pl) = simulate_game(fsp_p, fsw_p, ssw_p)\n",
    "    games_won += game_result\n",
    "    points_won += pw\n",
    "    points_lost += pl\n",
    "    \n",
    "    (game_result, pw, pl) = simulate_game(fsp_o, fsw_o, ssw_o)\n",
    "    games_won += not game_result\n",
    "    points_won += pl\n",
    "    points_lost += pw\n",
    "    \n",
    "    # Set won after 7-5\n",
    "    if games_won == 7:\n",
    "        return (True, points_won, points_lost, 12, '7-5')\n",
    "    # Set lost after 5-7\n",
    "    elif games_won == 5:\n",
    "        return (False, points_won, points_lost, 12, '5-7')\n",
    "    # Tied at 6-6, so go to a tiebreak\n",
    "    else:\n",
    "        return simulate_tiebreak(fsp_p, fsw_p, ssw_p, fsp_o, fsw_o, ssw_o, points_won, points_lost)"
   ]
  },
  {
   "cell_type": "code",
   "execution_count": 13,
   "metadata": {},
   "outputs": [
    {
     "name": "stdout",
     "output_type": "stream",
     "text": [
      "CPU times: user 117 µs, sys: 10 µs, total: 127 µs\n",
      "Wall time: 141 µs\n"
     ]
    },
    {
     "data": {
      "text/plain": [
       "(True, 40, 30, 9, '6-3')"
      ]
     },
     "execution_count": 13,
     "metadata": {},
     "output_type": "execute_result"
    }
   ],
   "source": [
    "%%time\n",
    "\n",
    "simulate_set(.5, .5, .5, .5, .5, .5)"
   ]
  },
  {
   "cell_type": "code",
   "execution_count": 14,
   "metadata": {},
   "outputs": [],
   "source": [
    "def generate_sets(fsp_p, fsw_p, ssw_p, fsp_o, fsw_o, ssw_o, n=1):\n",
    "    results = np.empty(n, dtype=object)\n",
    "    \n",
    "    for i in range(n):\n",
    "        results[i] = list(simulate_set(fsp_p, fsw_p, ssw_p, fsp_o, fsw_o, ssw_o))\n",
    "    \n",
    "    return pd.DataFrame.from_records(results,\n",
    "                                     columns=['result', 'points_won', 'points_lost', 'games_played', 'score'])"
   ]
  },
  {
   "cell_type": "code",
   "execution_count": 15,
   "metadata": {},
   "outputs": [
    {
     "name": "stdout",
     "output_type": "stream",
     "text": [
      "CPU times: user 51.8 s, sys: 230 ms, total: 52.1 s\n",
      "Wall time: 52.3 s\n"
     ]
    }
   ],
   "source": [
    "%%time\n",
    "\n",
    "data_set = generate_sets(.5, .5, .5, .5, .5, .5, 1000000)"
   ]
  },
  {
   "cell_type": "code",
   "execution_count": 16,
   "metadata": {
    "scrolled": false
   },
   "outputs": [
    {
     "data": {
      "text/plain": [
       "True     500162\n",
       "False    499838\n",
       "Name: result, dtype: int64"
      ]
     },
     "execution_count": 16,
     "metadata": {},
     "output_type": "execute_result"
    }
   ],
   "source": [
    "data_set.result.value_counts()"
   ]
  },
  {
   "cell_type": "code",
   "execution_count": 17,
   "metadata": {
    "scrolled": true
   },
   "outputs": [
    {
     "data": {
      "image/png": "[encoded data removed]",
      "text/plain": [
       "<Figure size 432x288 with 1 Axes>"
      ]
     },
     "metadata": {
      "needs_background": "light"
     },
     "output_type": "display_data"
    }
   ],
   "source": [
    "_ = plt.hist(data_set.points_won - data_set.points_lost, bins=100)"
   ]
  },
  {
   "cell_type": "code",
   "execution_count": 18,
   "metadata": {
    "scrolled": false
   },
   "outputs": [
    {
     "data": {
      "image/png": "[encoded data removed]",
      "text/plain": [
       "<Figure size 432x288 with 1 Axes>"
      ]
     },
     "metadata": {
      "needs_background": "light"
     },
     "output_type": "display_data"
    }
   ],
   "source": [
    "_ = plt.hist(data_set.games_played, bins=20)"
   ]
  },
  {
   "cell_type": "code",
   "execution_count": 19,
   "metadata": {},
   "outputs": [
    {
     "data": {
      "text/plain": [
       "False    245981\n",
       "True     245655\n",
       "Name: result, dtype: int64"
      ]
     },
     "execution_count": 19,
     "metadata": {},
     "output_type": "execute_result"
    }
   ],
   "source": [
    "data_set[data_set.games_played > 9].result.value_counts()"
   ]
  },
  {
   "cell_type": "code",
   "execution_count": 20,
   "metadata": {
    "scrolled": false
   },
   "outputs": [
    {
     "data": {
      "text/plain": [
       "4-6       123391\n",
       "6-4       122860\n",
       "3-6       109287\n",
       "6-3       109129\n",
       "6-2        82457\n",
       "2-6        82091\n",
       "7-5        61445\n",
       "5-7        61066\n",
       "6-1        47283\n",
       "1-6        46972\n",
       "6-0        15638\n",
       "0-6        15507\n",
       "6-7(5)     14007\n",
       "7-6(5)     13811\n",
       "Name: score, dtype: int64"
      ]
     },
     "execution_count": 20,
     "metadata": {},
     "output_type": "execute_result"
    }
   ],
   "source": [
    "data_set.score.astype('category').value_counts().nlargest(14)"
   ]
  },
  {
   "cell_type": "code",
   "execution_count": 21,
   "metadata": {},
   "outputs": [],
   "source": [
    "def bootstrap_sample(params, n=100):\n",
    "    wins = generate_sets(*params, n).result.sum()\n",
    "    losses = n - wins\n",
    "    return wins - losses"
   ]
  },
  {
   "cell_type": "code",
   "execution_count": 22,
   "metadata": {},
   "outputs": [
    {
     "name": "stdout",
     "output_type": "stream",
     "text": [
      "CPU times: user 1min 3s, sys: 343 ms, total: 1min 3s\n",
      "Wall time: 1min 4s\n"
     ]
    }
   ],
   "source": [
    "%%time\n",
    "\n",
    "bs_samples_50 = [bootstrap_sample((.5, .5, .5, .5, .5, .5)) for _ in range(10000)]"
   ]
  },
  {
   "cell_type": "code",
   "execution_count": 23,
   "metadata": {},
   "outputs": [
    {
     "data": {
      "image/png": "[encoded data removed]",
      "text/plain": [
       "<Figure size 432x288 with 1 Axes>"
      ]
     },
     "metadata": {
      "needs_background": "light"
     },
     "output_type": "display_data"
    }
   ],
   "source": [
    "_ = plt.hist(bs_samples_50, bins=10)"
   ]
  },
  {
   "cell_type": "code",
   "execution_count": 24,
   "metadata": {
    "scrolled": true
   },
   "outputs": [
    {
     "data": {
      "image/png": "[encoded data removed]",
      "text/plain": [
       "<Figure size 432x288 with 1 Axes>"
      ]
     },
     "metadata": {
      "needs_background": "light"
     },
     "output_type": "display_data"
    }
   ],
   "source": [
    "_ = plt.hist(bs_samples_50, bins=range(min(bs_samples_50), max(bs_samples_50)))"
   ]
  },
  {
   "cell_type": "code",
   "execution_count": 25,
   "metadata": {},
   "outputs": [],
   "source": [
    "bs_samples_75 = [bootstrap_sample((.5, .75, .75, .5, .75, .75)) for _ in range(10000)]"
   ]
  },
  {
   "cell_type": "code",
   "execution_count": 26,
   "metadata": {
    "scrolled": true
   },
   "outputs": [
    {
     "data": {
      "image/png": "[encoded data removed]",
      "text/plain": [
       "<Figure size 432x288 with 1 Axes>"
      ]
     },
     "metadata": {
      "needs_background": "light"
     },
     "output_type": "display_data"
    }
   ],
   "source": [
    "_ = plt.hist(bs_samples_75, bins=range(min(bs_samples_75), max(bs_samples_75)))"
   ]
  },
  {
   "cell_type": "code",
   "execution_count": 27,
   "metadata": {},
   "outputs": [
    {
     "data": {
      "image/png": "[encoded data removed]",
      "text/plain": [
       "<Figure size 432x288 with 1 Axes>"
      ]
     },
     "metadata": {
      "needs_background": "light"
     },
     "output_type": "display_data"
    }
   ],
   "source": [
    "_ = plt.hist(bs_samples_50, bins=range(min(bs_samples_50), max(bs_samples_50)), color='b', alpha=0.5)\n",
    "_ = plt.hist(bs_samples_75, bins=range(min(bs_samples_75), max(bs_samples_75)), color='g', alpha=0.5)"
   ]
  },
  {
   "cell_type": "code",
   "execution_count": 28,
   "metadata": {
    "scrolled": true
   },
   "outputs": [
    {
     "data": {
      "text/plain": [
       "0.4489"
      ]
     },
     "execution_count": 28,
     "metadata": {},
     "output_type": "execute_result"
    }
   ],
   "source": [
    "len(list(filter(lambda x: x > 0, bs_samples_50))) / len(bs_samples_50)"
   ]
  },
  {
   "cell_type": "code",
   "execution_count": 29,
   "metadata": {},
   "outputs": [
    {
     "data": {
      "text/plain": [
       "0.4561"
      ]
     },
     "execution_count": 29,
     "metadata": {},
     "output_type": "execute_result"
    }
   ],
   "source": [
    "len(list(filter(lambda x: x > 0, bs_samples_75))) / len(bs_samples_50)"
   ]
  },
  {
   "cell_type": "code",
   "execution_count": 30,
   "metadata": {},
   "outputs": [],
   "source": [
    "def reverse_score(score):\n",
    "    get_tb = score.split('(')\n",
    "    tb = f'({get_tb[1].split(\")\")[0]})' if len(get_tb) == 2 else ''\n",
    "    \n",
    "    get_sets = score.split('-')\n",
    "        \n",
    "    return f'{get_sets[1].split(\"(\")[0]}-{get_sets[0]}{tb}'"
   ]
  },
  {
   "cell_type": "code",
   "execution_count": 31,
   "metadata": {},
   "outputs": [],
   "source": [
    "# The end is finally in sight. \n",
    "# Depending on the tournament, matches may be best of 3 or 5 sets. \n",
    "# For now, I will focus only on simulating 5 set matches.\n",
    "def simulate_match(fsp_p, fsw_p, ssw_p, fsp_o, fsw_o, ssw_o):\n",
    "    sets_won = 0\n",
    "    points_won = 0\n",
    "    points_lost = 0\n",
    "    games_played = 0\n",
    "    final_score = []\n",
    "    \n",
    "    # Before each match, a coin is tossed to determine who serves first.\n",
    "    coin_toss = npr.rand() > 0.5\n",
    "    # First set\n",
    "    if coin_toss:\n",
    "        (set_result, pw, pl, games, score) = simulate_set(fsp_p, fsw_p, ssw_p, fsp_o, fsw_o, ssw_o)\n",
    "        sets_won += set_result\n",
    "        points_won += pw\n",
    "        points_lost += pl\n",
    "        games_played += games\n",
    "        final_score.append(score)\n",
    "    else:\n",
    "        (set_result, pw, pl, games, score) = simulate_set(fsp_o, fsw_o, ssw_o, fsp_p, fsw_p, ssw_p)\n",
    "        sets_won += not set_result\n",
    "        points_won += pl\n",
    "        points_lost += pw\n",
    "        games_played += games\n",
    "        final_score.append(reverse_score(score))\n",
    "                \n",
    "    # Second set\n",
    "    # The server is instead determined by the total games played in the previous sets.\n",
    "    # If total games is even, then the serve order stays the same.\n",
    "    if (games_played % 2 == 0 and coin_toss) or (games_played % 2 == 1 and not coin_toss):\n",
    "        (set_result, pw, pl, games, score) = simulate_set(fsp_p, fsw_p, ssw_p, fsp_o, fsw_o, ssw_o)\n",
    "        sets_won += set_result\n",
    "        points_won += pw\n",
    "        points_lost += pl\n",
    "        games_played += games\n",
    "        final_score.append(score)\n",
    "    else:\n",
    "        (set_result, pw, pl, games, score) = simulate_set(fsp_o, fsw_o, ssw_o, fsp_p, fsw_p, ssw_p)\n",
    "        sets_won += not set_result\n",
    "        points_won += pl\n",
    "        points_lost += pw\n",
    "        games_played += games\n",
    "        final_score.append(reverse_score(score))\n",
    "        \n",
    "    # Third set\n",
    "    if (games_played % 2 == 0 and coin_toss) or (games_played % 2 == 1 and not coin_toss):\n",
    "        (set_result, pw, pl, games, score) = simulate_set(fsp_p, fsw_p, ssw_p, fsp_o, fsw_o, ssw_o)\n",
    "        sets_won += set_result\n",
    "        points_won += pw\n",
    "        points_lost += pl\n",
    "        games_played += games\n",
    "        final_score.append(score)\n",
    "    else:\n",
    "        (set_result, pw, pl, games, score) = simulate_set(fsp_o, fsw_o, ssw_o, fsp_p, fsw_p, ssw_p)\n",
    "        sets_won += not set_result\n",
    "        points_won += pl\n",
    "        points_lost += pw\n",
    "        games_played += games\n",
    "        final_score.append(reverse_score(score))\n",
    "        \n",
    "    # If the score is 3-0 or 0-3, return with the results.\n",
    "    if sets_won == 3:\n",
    "        return [True, coin_toss, points_won, points_lost, games_played, 3, \" \".join(final_score)]\n",
    "    elif sets_won == 0:\n",
    "        return [False, coin_toss, points_won, points_lost, games_played, 3, \" \".join(final_score)]\n",
    "       \n",
    "    # Otherwise, simulate the next set              \n",
    "    if (games_played % 2 == 0 and coin_toss) or (games_played % 2 == 1 and not coin_toss):\n",
    "        (set_result, pw, pl, games, score) = simulate_set(fsp_p, fsw_p, ssw_p, fsp_o, fsw_o, ssw_o)\n",
    "        sets_won += set_result\n",
    "        points_won += pw\n",
    "        points_lost += pl\n",
    "        games_played += games\n",
    "        final_score.append(score)\n",
    "    else:\n",
    "        (set_result, pw, pl, games, score) = simulate_set(fsp_o, fsw_o, ssw_o, fsp_p, fsw_p, ssw_p)\n",
    "        sets_won += not set_result\n",
    "        points_won += pl\n",
    "        points_lost += pw\n",
    "        games_played += games\n",
    "        final_score.append(reverse_score(score))\n",
    "                \n",
    "    # If the score is 3-1 or 1-3, return with the results.\n",
    "    if sets_won == 3:\n",
    "        return np.array([True, coin_toss, points_won, points_lost, games_played, 4, \" \".join(final_score)])\n",
    "    elif sets_won == 1:\n",
    "        return np.array([False, coin_toss, points_won, points_lost, games_played, 4, \" \".join(final_score)])\n",
    "        \n",
    "    # Otherwise, simulate the deciding set              \n",
    "    if (games_played % 2 == 0 and coin_toss) or (games_played % 2 == 1 and not coin_toss):\n",
    "        (set_result, pw, pl, games, score) = simulate_set(fsp_p, fsw_p, ssw_p, fsp_o, fsw_o, ssw_o, tb=False)\n",
    "        sets_won += set_result\n",
    "        points_won += pw\n",
    "        points_lost += pl\n",
    "        games_played += games\n",
    "        final_score.append(score)\n",
    "    else:\n",
    "        (set_result, pw, pl, games, score) = simulate_set(fsp_o, fsw_o, ssw_o, fsp_p, fsw_p, ssw_p, tb=False)\n",
    "        sets_won += not set_result\n",
    "        points_won += pl\n",
    "        points_lost += pw\n",
    "        games_played += games\n",
    "        final_score.append(reverse_score(score))\n",
    "                        \n",
    "    # Whether the score is 3-2 or 2-3, return with the results.\n",
    "    if sets_won == 3:\n",
    "        return np.array([True, coin_toss, points_won, points_lost, games_played, 5, \" \".join(final_score)])\n",
    "    else:\n",
    "        return np.array([False, coin_toss, points_won, points_lost, games_played, 5, \" \".join(final_score)])"
   ]
  },
  {
   "cell_type": "code",
   "execution_count": 32,
   "metadata": {},
   "outputs": [
    {
     "name": "stdout",
     "output_type": "stream",
     "text": [
      "CPU times: user 271 µs, sys: 1 µs, total: 272 µs\n",
      "Wall time: 279 µs\n"
     ]
    },
    {
     "data": {
      "text/plain": [
       "[False, True, 109, 123, 38, 3, '6-7(4) 5-7 6-7(5)']"
      ]
     },
     "execution_count": 32,
     "metadata": {},
     "output_type": "execute_result"
    }
   ],
   "source": [
    "%%time\n",
    "\n",
    "simulate_match(.735, .809, .631, .671, .866, .627)"
   ]
  },
  {
   "cell_type": "markdown",
   "metadata": {},
   "source": [
    "Phew. Now that all of that is out of the way, I can write a function to create a variable number of bootstrap samples to explore."
   ]
  },
  {
   "cell_type": "code",
   "execution_count": 33,
   "metadata": {},
   "outputs": [],
   "source": [
    "def bootstrap_match(fsp_p, fsw_p, ssw_p, fsp_o, fsw_o, ssw_o, n=1):\n",
    "    results = np.empty(n, dtype=object)\n",
    "    \n",
    "    for i in range(n):\n",
    "        results[i] = simulate_match(fsp_p, fsw_p, ssw_p, fsp_o, fsw_o, ssw_o)\n",
    "    \n",
    "    return results"
   ]
  },
  {
   "cell_type": "markdown",
   "metadata": {},
   "source": [
    "On my machine, I can simulate the results of 10,000 matches in just over 2 seconds. Not bad."
   ]
  },
  {
   "cell_type": "code",
   "execution_count": 34,
   "metadata": {},
   "outputs": [
    {
     "name": "stdout",
     "output_type": "stream",
     "text": [
      "CPU times: user 25.5 s, sys: 118 ms, total: 25.6 s\n",
      "Wall time: 25.7 s\n"
     ]
    },
    {
     "data": {
      "text/html": [
       "<div>\n",
       "<style scoped>\n",
       "    .dataframe tbody tr th:only-of-type {\n",
       "        vertical-align: middle;\n",
       "    }\n",
       "\n",
       "    .dataframe tbody tr th {\n",
       "        vertical-align: top;\n",
       "    }\n",
       "\n",
       "    .dataframe thead th {\n",
       "        text-align: right;\n",
       "    }\n",
       "</style>\n",
       "<table border=\"1\" class=\"dataframe\">\n",
       "  <thead>\n",
       "    <tr style=\"text-align: right;\">\n",
       "      <th></th>\n",
       "      <th>1</th>\n",
       "      <th>hi</th>\n",
       "      <th>3</th>\n",
       "      <th>4</th>\n",
       "      <th>5</th>\n",
       "      <th>6</th>\n",
       "      <th>7</th>\n",
       "    </tr>\n",
       "  </thead>\n",
       "  <tbody>\n",
       "    <tr>\n",
       "      <th>0</th>\n",
       "      <td>False</td>\n",
       "      <td>True</td>\n",
       "      <td>539</td>\n",
       "      <td>553</td>\n",
       "      <td>209</td>\n",
       "      <td>5</td>\n",
       "      <td>7-6(5) 6-7(5) 4-6 7-6(5) 79-81</td>\n",
       "    </tr>\n",
       "    <tr>\n",
       "      <th>1</th>\n",
       "      <td>True</td>\n",
       "      <td>True</td>\n",
       "      <td>109</td>\n",
       "      <td>101</td>\n",
       "      <td>35</td>\n",
       "      <td>3</td>\n",
       "      <td>6-3 7-6(8) 7-6(5)</td>\n",
       "    </tr>\n",
       "    <tr>\n",
       "      <th>2</th>\n",
       "      <td>True</td>\n",
       "      <td>True</td>\n",
       "      <td>124</td>\n",
       "      <td>130</td>\n",
       "      <td>45</td>\n",
       "      <td>4</td>\n",
       "      <td>7-6(6) 3-6 6-4 7-6(5)</td>\n",
       "    </tr>\n",
       "    <tr>\n",
       "      <th>3</th>\n",
       "      <td>False</td>\n",
       "      <td>True</td>\n",
       "      <td>159</td>\n",
       "      <td>164</td>\n",
       "      <td>58</td>\n",
       "      <td>5</td>\n",
       "      <td>7-6(3) 6-7(2) 6-7(3) 6-3 4-6</td>\n",
       "    </tr>\n",
       "    <tr>\n",
       "      <th>4</th>\n",
       "      <td>False</td>\n",
       "      <td>True</td>\n",
       "      <td>184</td>\n",
       "      <td>184</td>\n",
       "      <td>67</td>\n",
       "      <td>5</td>\n",
       "      <td>6-3 6-7(2) 6-7(1) 6-4 10-12</td>\n",
       "    </tr>\n",
       "    <tr>\n",
       "      <th>...</th>\n",
       "      <td>...</td>\n",
       "      <td>...</td>\n",
       "      <td>...</td>\n",
       "      <td>...</td>\n",
       "      <td>...</td>\n",
       "      <td>...</td>\n",
       "      <td>...</td>\n",
       "    </tr>\n",
       "    <tr>\n",
       "      <th>99995</th>\n",
       "      <td>True</td>\n",
       "      <td>True</td>\n",
       "      <td>123</td>\n",
       "      <td>122</td>\n",
       "      <td>39</td>\n",
       "      <td>3</td>\n",
       "      <td>7-6(5) 7-6(6) 7-6(18)</td>\n",
       "    </tr>\n",
       "    <tr>\n",
       "      <th>99996</th>\n",
       "      <td>True</td>\n",
       "      <td>True</td>\n",
       "      <td>124</td>\n",
       "      <td>124</td>\n",
       "      <td>45</td>\n",
       "      <td>4</td>\n",
       "      <td>4-6 6-3 7-6(5) 7-6(5)</td>\n",
       "    </tr>\n",
       "    <tr>\n",
       "      <th>99997</th>\n",
       "      <td>False</td>\n",
       "      <td>False</td>\n",
       "      <td>109</td>\n",
       "      <td>110</td>\n",
       "      <td>36</td>\n",
       "      <td>3</td>\n",
       "      <td>4-6 6-7(9) 6-7(5)</td>\n",
       "    </tr>\n",
       "    <tr>\n",
       "      <th>99998</th>\n",
       "      <td>False</td>\n",
       "      <td>False</td>\n",
       "      <td>122</td>\n",
       "      <td>134</td>\n",
       "      <td>49</td>\n",
       "      <td>5</td>\n",
       "      <td>5-7 6-4 3-6 6-3 3-6</td>\n",
       "    </tr>\n",
       "    <tr>\n",
       "      <th>99999</th>\n",
       "      <td>False</td>\n",
       "      <td>False</td>\n",
       "      <td>259</td>\n",
       "      <td>282</td>\n",
       "      <td>101</td>\n",
       "      <td>5</td>\n",
       "      <td>7-6(5) 6-7(3) 7-6(4) 4-6 25-27</td>\n",
       "    </tr>\n",
       "  </tbody>\n",
       "</table>\n",
       "<p>100000 rows × 7 columns</p>\n",
       "</div>"
      ],
      "text/plain": [
       "           1     hi    3    4    5  6                               7\n",
       "0      False   True  539  553  209  5  7-6(5) 6-7(5) 4-6 7-6(5) 79-81\n",
       "1       True   True  109  101   35  3               6-3 7-6(8) 7-6(5)\n",
       "2       True   True  124  130   45  4           7-6(6) 3-6 6-4 7-6(5)\n",
       "3      False   True  159  164   58  5    7-6(3) 6-7(2) 6-7(3) 6-3 4-6\n",
       "4      False   True  184  184   67  5     6-3 6-7(2) 6-7(1) 6-4 10-12\n",
       "...      ...    ...  ...  ...  ... ..                             ...\n",
       "99995   True   True  123  122   39  3           7-6(5) 7-6(6) 7-6(18)\n",
       "99996   True   True  124  124   45  4           4-6 6-3 7-6(5) 7-6(5)\n",
       "99997  False  False  109  110   36  3               4-6 6-7(9) 6-7(5)\n",
       "99998  False  False  122  134   49  5             5-7 6-4 3-6 6-3 3-6\n",
       "99999  False  False  259  282  101  5  7-6(5) 6-7(3) 7-6(4) 4-6 25-27\n",
       "\n",
       "[100000 rows x 7 columns]"
      ]
     },
     "execution_count": 34,
     "metadata": {},
     "output_type": "execute_result"
    }
   ],
   "source": [
    "%%time\n",
    "\n",
    "pd.DataFrame.from_records(bootstrap_match(.735, .809, .631, .671, .866, .627, 100000),\n",
    "                          columns=['result', 'first_serve', 'points_won', 'points_lost', 'games', 'sets', 'score'])\n"
   ]
  },
  {
   "cell_type": "markdown",
   "metadata": {},
   "source": [
    "It's finally time to look at the simulated matches between Nadal and Medvedev. I generated 10,000 bootstrapped samples for analysis. All results with a value of True represent a simulated match in which Nadal won."
   ]
  },
  {
   "cell_type": "markdown",
   "metadata": {},
   "source": [
    "55% of the simulated matches resulted in a victory for Nadal. This result makes sense, as the statistics for both players are quite similar."
   ]
  },
  {
   "cell_type": "code",
   "execution_count": 35,
   "metadata": {},
   "outputs": [
    {
     "ename": "NameError",
     "evalue": "name 'bootstraps' is not defined",
     "output_type": "error",
     "traceback": [
      "\u001b[0;31m---------------------------------------------------------------------------\u001b[0m",
      "\u001b[0;31mNameError\u001b[0m                                 Traceback (most recent call last)",
      "\u001b[0;32m<ipython-input-35-15651333c320>\u001b[0m in \u001b[0;36m<module>\u001b[0;34m\u001b[0m\n\u001b[0;32m----> 1\u001b[0;31m \u001b[0mbootstraps\u001b[0m\u001b[0;34m.\u001b[0m\u001b[0mresult\u001b[0m\u001b[0;34m.\u001b[0m\u001b[0msum\u001b[0m\u001b[0;34m(\u001b[0m\u001b[0;34m)\u001b[0m \u001b[0;34m/\u001b[0m \u001b[0mbootstraps\u001b[0m\u001b[0;34m.\u001b[0m\u001b[0mresult\u001b[0m\u001b[0;34m.\u001b[0m\u001b[0msize\u001b[0m\u001b[0;34m\u001b[0m\u001b[0;34m\u001b[0m\u001b[0m\n\u001b[0m",
      "\u001b[0;31mNameError\u001b[0m: name 'bootstraps' is not defined"
     ]
    }
   ],
   "source": [
    "bootstraps.result.sum() / bootstraps.result.size"
   ]
  },
  {
   "cell_type": "markdown",
   "metadata": {},
   "source": [
    "To represent the simulations graphically, I plotted two separate histograms, one for the wins and one for the losses. The x-axis represents the point differential of the match, or the points won by Nadal subtracted by the points won by Medvedev. I also marked the 95% confidence intervals for both the wins and loss point differentials, and the actual point defferential for the match."
   ]
  },
  {
   "cell_type": "code",
   "execution_count": null,
   "metadata": {},
   "outputs": [],
   "source": [
    "plt.rcParams['figure.figsize'] = [9, 5]\n",
    "\n",
    "bootstraps['points_diff'] = bootstraps.points_won - bootstraps.points_lost\n",
    "bootstraps['points_won_percentage'] = bootstraps.points_won / (bootstraps.points_won + bootstraps.points_lost)\n",
    "wins = bootstraps[bootstraps.result == True]\n",
    "losses = bootstraps[bootstraps.result == False]\n",
    "\n",
    "confidence_wins = np.percentile(wins.points_diff, [2.5, 97.5])\n",
    "confidence_losses = np.percentile(losses.points_diff, [2.5, 97.5])\n",
    "\n",
    "bins = np.arange(np.ptp(bootstraps.points_diff) + 1) - abs(bootstraps.points_diff.min()) - 0.5\n",
    "_ = plt.hist(wins.points_diff, bins=bins, color='blue', alpha=0.5)\n",
    "_ = plt.hist(losses.points_diff, bins=bins, color='red', alpha=0.5)\n",
    "\n",
    "\n",
    "_ = plt.axvline(478 - 502, linestyle='-', color='green', label='result')\n",
    "\n",
    "_ = plt.axvline(confidence_wins[0], linestyle='--', color='darkblue', label='wins')\n",
    "_ = plt.axvline(confidence_wins[1], linestyle='--', color='darkblue')\n",
    "\n",
    "_ = plt.axvline(confidence_losses[0], linestyle='--', color='darkred', label='losses')\n",
    "_ = plt.axvline(confidence_losses[1], linestyle='--', color='darkred')\n",
    "\n",
    "_ = plt.legend()"
   ]
  },
  {
   "cell_type": "code",
   "execution_count": null,
   "metadata": {},
   "outputs": [],
   "source": [
    "plt.rcParams['figure.figsize'] = [6, 5]\n",
    "\n",
    "confidence_wins = np.percentile(wins.points_won_percentage, [2.5, 97.5])\n",
    "confidence_losses = np.percentile(losses.points_won_percentage, [2.5, 97.5])\n",
    "\n",
    "_ = plt.hist(wins.points_won_percentage, bins=30, color='blue', alpha=0.5)\n",
    "_ = plt.hist(losses.points_won_percentage, bins=30, color='red', alpha=0.5)\n",
    "\n",
    "_ = plt.axvline(478/(478 + 502) , linestyle='-', color='green', label='result')\n",
    "\n",
    "_ = plt.axvline(confidence_wins[0], linestyle='--', color='darkblue', label='wins')\n",
    "_ = plt.axvline(confidence_wins[1], linestyle='--', color='darkblue')\n",
    "\n",
    "_ = plt.axvline(confidence_losses[0], linestyle='--', color='darkred', label='losses')\n",
    "_ = plt.axvline(confidence_losses[1], linestyle='--', color='darkred')\n",
    "\n",
    "plt.legend()\n",
    "plt.xlabel('Points Won Pct.')\n",
    "plt.ylabel('Frequency')\n",
    "_ = plt.title('Bootstrap Match Results Nadal vs Medvedev')"
   ]
  }
 ],
 "metadata": {
  "kernelspec": {
   "display_name": "Python 3",
   "language": "python",
   "name": "python3"
  },
  "language_info": {
   "codemirror_mode": {
    "name": "ipython",
    "version": 3
   },
   "file_extension": ".py",
   "mimetype": "text/x-python",
   "name": "python",
   "nbconvert_exporter": "python",
   "pygments_lexer": "ipython3",
   "version": "3.7.6"
  }
 },
 "nbformat": 4,
 "nbformat_minor": 2
}
