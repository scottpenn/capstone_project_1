{
 "cells": [
  {
   "cell_type": "code",
   "execution_count": 1,
   "metadata": {},
   "outputs": [],
   "source": [
    "import glob\n",
    "import numpy as np\n",
    "import pandas as pd\n",
    "import matplotlib.pyplot as plt"
   ]
  },
  {
   "cell_type": "markdown",
   "metadata": {},
   "source": [
    "## Ranking Data"
   ]
  },
  {
   "cell_type": "code",
   "execution_count": 2,
   "metadata": {},
   "outputs": [],
   "source": [
    "players = pd.read_pickle('../Resources/tennis_clean/atp_players.pkl')"
   ]
  },
  {
   "cell_type": "code",
   "execution_count": 3,
   "metadata": {},
   "outputs": [],
   "source": [
    "ranking_files = glob.glob('../Resources/tennis_atp-master/atp_rankings_[0-9]*')"
   ]
  },
  {
   "cell_type": "code",
   "execution_count": 4,
   "metadata": {},
   "outputs": [],
   "source": [
    "rankings_list = [pd.read_csv(ranking_file, parse_dates=['ranking_date']) for ranking_file in ranking_files]"
   ]
  },
  {
   "cell_type": "code",
   "execution_count": 5,
   "metadata": {
    "scrolled": false
   },
   "outputs": [
    {
     "name": "stdout",
     "output_type": "stream",
     "text": [
      "<class 'pandas.core.frame.DataFrame'>\n",
      "Int64Index: 2920823 entries, 101736 to 100368\n",
      "Data columns (total 3 columns):\n",
      " #   Column          Dtype         \n",
      "---  ------          -----         \n",
      " 0   ranking_date    datetime64[ns]\n",
      " 1   player_rank     Int64         \n",
      " 2   ranking_points  Int64         \n",
      "dtypes: Int64(2), datetime64[ns](1)\n",
      "memory usage: 94.7 MB\n"
     ]
    },
    {
     "data": {
      "text/html": [
       "<div>\n",
       "<style scoped>\n",
       "    .dataframe tbody tr th:only-of-type {\n",
       "        vertical-align: middle;\n",
       "    }\n",
       "\n",
       "    .dataframe tbody tr th {\n",
       "        vertical-align: top;\n",
       "    }\n",
       "\n",
       "    .dataframe thead th {\n",
       "        text-align: right;\n",
       "    }\n",
       "</style>\n",
       "<table border=\"1\" class=\"dataframe\">\n",
       "  <thead>\n",
       "    <tr style=\"text-align: right;\">\n",
       "      <th></th>\n",
       "      <th>ranking_date</th>\n",
       "      <th>player_rank</th>\n",
       "      <th>ranking_points</th>\n",
       "    </tr>\n",
       "    <tr>\n",
       "      <th>player_id</th>\n",
       "      <th></th>\n",
       "      <th></th>\n",
       "      <th></th>\n",
       "    </tr>\n",
       "  </thead>\n",
       "  <tbody>\n",
       "    <tr>\n",
       "      <th>101736</th>\n",
       "      <td>2000-01-10</td>\n",
       "      <td>1</td>\n",
       "      <td>4135</td>\n",
       "    </tr>\n",
       "    <tr>\n",
       "      <th>102338</th>\n",
       "      <td>2000-01-10</td>\n",
       "      <td>2</td>\n",
       "      <td>2915</td>\n",
       "    </tr>\n",
       "    <tr>\n",
       "      <th>101948</th>\n",
       "      <td>2000-01-10</td>\n",
       "      <td>3</td>\n",
       "      <td>2419</td>\n",
       "    </tr>\n",
       "    <tr>\n",
       "      <th>103017</th>\n",
       "      <td>2000-01-10</td>\n",
       "      <td>4</td>\n",
       "      <td>2184</td>\n",
       "    </tr>\n",
       "    <tr>\n",
       "      <th>102856</th>\n",
       "      <td>2000-01-10</td>\n",
       "      <td>5</td>\n",
       "      <td>2169</td>\n",
       "    </tr>\n",
       "  </tbody>\n",
       "</table>\n",
       "</div>"
      ],
      "text/plain": [
       "          ranking_date  player_rank  ranking_points\n",
       "player_id                                          \n",
       "101736      2000-01-10            1            4135\n",
       "102338      2000-01-10            2            2915\n",
       "101948      2000-01-10            3            2419\n",
       "103017      2000-01-10            4            2184\n",
       "102856      2000-01-10            5            2169"
      ]
     },
     "execution_count": 5,
     "metadata": {},
     "output_type": "execute_result"
    }
   ],
   "source": [
    "rankings = pd.concat(rankings_list)\n",
    "\n",
    "# 'rank' is a pandas function, so take care not to name any columns as such.\n",
    "rankings.columns = ['ranking_date', 'player_rank', 'player_id', 'ranking_points']\n",
    "\n",
    "rankings.player_rank = rankings.player_rank.astype('Int64')\n",
    "rankings.ranking_points = rankings.ranking_points.astype('Int64')\n",
    "\n",
    "rankings.set_index('player_id', inplace=True)\n",
    "\n",
    "rankings.info()\n",
    "rankings.head()"
   ]
  },
  {
   "cell_type": "code",
   "execution_count": 6,
   "metadata": {},
   "outputs": [
    {
     "data": {
      "text/plain": [
       "False    1661437\n",
       "True     1259386\n",
       "dtype: int64"
      ]
     },
     "execution_count": 6,
     "metadata": {},
     "output_type": "execute_result"
    }
   ],
   "source": [
    "rankings.duplicated().value_counts()"
   ]
  },
  {
   "cell_type": "code",
   "execution_count": 7,
   "metadata": {},
   "outputs": [
    {
     "name": "stdout",
     "output_type": "stream",
     "text": [
      "<class 'pandas.core.frame.DataFrame'>\n",
      "MultiIndex: 2920823 entries, (100001, Timestamp('1977-07-04 00:00:00')) to (209939, Timestamp('2020-12-28 00:00:00'))\n",
      "Data columns (total 3 columns):\n",
      " #   Column          Dtype          \n",
      "---  ------          -----          \n",
      " 0   player_rank     Int64          \n",
      " 1   ranking_points  Int64          \n",
      " 2   player_age      timedelta64[ns]\n",
      "dtypes: Int64(2), timedelta64[ns](1)\n",
      "memory usage: 84.3 MB\n"
     ]
    }
   ],
   "source": [
    "rankings['player_age'] = rankings.ranking_date - players.loc[rankings.index].birthdate\n",
    "\n",
    "rankings.reset_index(inplace=True)\n",
    "rankings.set_index(['player_id', 'ranking_date'], inplace=True)\n",
    "rankings.sort_index(inplace=True)\n",
    "\n",
    "rankings.info()"
   ]
  },
  {
   "cell_type": "code",
   "execution_count": 8,
   "metadata": {},
   "outputs": [
    {
     "data": {
      "text/html": [
       "<div>\n",
       "<style scoped>\n",
       "    .dataframe tbody tr th:only-of-type {\n",
       "        vertical-align: middle;\n",
       "    }\n",
       "\n",
       "    .dataframe tbody tr th {\n",
       "        vertical-align: top;\n",
       "    }\n",
       "\n",
       "    .dataframe thead th {\n",
       "        text-align: right;\n",
       "    }\n",
       "</style>\n",
       "<table border=\"1\" class=\"dataframe\">\n",
       "  <thead>\n",
       "    <tr style=\"text-align: right;\">\n",
       "      <th></th>\n",
       "      <th>ranking_date</th>\n",
       "      <th>player_rank</th>\n",
       "      <th>ranking_points</th>\n",
       "      <th>player_age</th>\n",
       "      <th>best_rank</th>\n",
       "    </tr>\n",
       "    <tr>\n",
       "      <th>player_id</th>\n",
       "      <th></th>\n",
       "      <th></th>\n",
       "      <th></th>\n",
       "      <th></th>\n",
       "      <th></th>\n",
       "    </tr>\n",
       "  </thead>\n",
       "  <tbody>\n",
       "    <tr>\n",
       "      <th>100001</th>\n",
       "      <td>1977-07-04</td>\n",
       "      <td>366</td>\n",
       "      <td>&lt;NA&gt;</td>\n",
       "      <td>23235 days</td>\n",
       "      <td>366</td>\n",
       "    </tr>\n",
       "    <tr>\n",
       "      <th>100001</th>\n",
       "      <td>1978-01-02</td>\n",
       "      <td>414</td>\n",
       "      <td>&lt;NA&gt;</td>\n",
       "      <td>23417 days</td>\n",
       "      <td>366</td>\n",
       "    </tr>\n",
       "    <tr>\n",
       "      <th>100001</th>\n",
       "      <td>1978-01-16</td>\n",
       "      <td>397</td>\n",
       "      <td>&lt;NA&gt;</td>\n",
       "      <td>23431 days</td>\n",
       "      <td>366</td>\n",
       "    </tr>\n",
       "    <tr>\n",
       "      <th>100002</th>\n",
       "      <td>1975-03-10</td>\n",
       "      <td>355</td>\n",
       "      <td>&lt;NA&gt;</td>\n",
       "      <td>19621 days</td>\n",
       "      <td>355</td>\n",
       "    </tr>\n",
       "    <tr>\n",
       "      <th>100002</th>\n",
       "      <td>1975-04-14</td>\n",
       "      <td>383</td>\n",
       "      <td>&lt;NA&gt;</td>\n",
       "      <td>19656 days</td>\n",
       "      <td>355</td>\n",
       "    </tr>\n",
       "  </tbody>\n",
       "</table>\n",
       "</div>"
      ],
      "text/plain": [
       "          ranking_date  player_rank  ranking_points player_age  best_rank\n",
       "player_id                                                                \n",
       "100001      1977-07-04          366            <NA> 23235 days        366\n",
       "100001      1978-01-02          414            <NA> 23417 days        366\n",
       "100001      1978-01-16          397            <NA> 23431 days        366\n",
       "100002      1975-03-10          355            <NA> 19621 days        355\n",
       "100002      1975-04-14          383            <NA> 19656 days        355"
      ]
     },
     "execution_count": 8,
     "metadata": {},
     "output_type": "execute_result"
    }
   ],
   "source": [
    "rankings['best_rank'] = (rankings.reset_index()\n",
    "                                .groupby('player_id')\n",
    "                                .player_rank.cummin()\n",
    "                                .astype('Int64')\n",
    "                                .values)\n",
    "\n",
    "rankings.reset_index('ranking_date', inplace=True)\n",
    "rankings.head()"
   ]
  },
  {
   "cell_type": "code",
   "execution_count": 10,
   "metadata": {},
   "outputs": [],
   "source": [
    "rankings.to_pickle('../Resources/tennis_clean/atp_rankings.pkl')"
   ]
  }
 ],
 "metadata": {
  "kernelspec": {
   "display_name": "Python 3",
   "language": "python",
   "name": "python3"
  },
  "language_info": {
   "codemirror_mode": {
    "name": "ipython",
    "version": 3
   },
   "file_extension": ".py",
   "mimetype": "text/x-python",
   "name": "python",
   "nbconvert_exporter": "python",
   "pygments_lexer": "ipython3",
   "version": "3.7.6"
  }
 },
 "nbformat": 4,
 "nbformat_minor": 2
}
