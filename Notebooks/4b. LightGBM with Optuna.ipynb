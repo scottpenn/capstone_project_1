{
 "cells": [
  {
   "cell_type": "code",
   "execution_count": 1,
   "metadata": {},
   "outputs": [],
   "source": [
    "import numpy as np\n",
    "import pandas as pd\n",
    "import matplotlib.pyplot as plt\n",
    "import lightgbm as lgbm\n",
    "import seaborn as sns\n",
    "import optuna\n",
    "\n",
    "from sklearn.model_selection import train_test_split, cross_val_score\n",
    "from sklearn.metrics import log_loss, roc_auc_score, roc_curve, accuracy_score\n",
    "from sklearn.preprocessing import QuantileTransformer"
   ]
  },
  {
   "cell_type": "code",
   "execution_count": 2,
   "metadata": {},
   "outputs": [],
   "source": [
    "matches = pd.read_pickle('../Resources/tennis_clean/atp_matches_full_feature.pkl').reset_index()"
   ]
  },
  {
   "cell_type": "code",
   "execution_count": 3,
   "metadata": {},
   "outputs": [],
   "source": [
    "CAREER_COLUMNS = ['career_first_serve_percentage',\n",
    "                  'career_first_serves_won_percentage',\n",
    "                  'career_second_serves_won_percentage',\n",
    "                  'career_service_points_won_percentage',\n",
    "                  'career_break_points_saved_percentage',\n",
    "                  'career_break_points_won_percentage',\n",
    "                  'career_first_serve_return_points_won_percentage',\n",
    "                  'career_second_serve_return_points_won_percentage',\n",
    "                  'career_return_points_won_percentage',\n",
    "                  'career_points_won_percentage',\n",
    "                  'career_ace_rate',\n",
    "                  'career_double_fault_rate']\n",
    "\n",
    "\n",
    "CAREER_COLUMNS += [column + '_opponent' for column in CAREER_COLUMNS]"
   ]
  },
  {
   "cell_type": "code",
   "execution_count": 4,
   "metadata": {},
   "outputs": [],
   "source": [
    "EWMA_10_COLUMNS = ['ewma_10_first_serve_percentage',\n",
    "                   'ewma_10_first_serves_won_percentage',\n",
    "                   'ewma_10_second_serves_won_percentage',\n",
    "                   'ewma_10_service_points_won_percentage',\n",
    "                   'ewma_10_break_points_saved_percentage',\n",
    "                   'ewma_10_break_points_won_percentage',\n",
    "                   'ewma_10_first_serve_return_points_won_percentage',\n",
    "                   'ewma_10_second_serve_return_points_won_percentage',\n",
    "                   'ewma_10_return_points_won_percentage',\n",
    "                   'ewma_10_points_won_percentage',\n",
    "                   'ewma_10_ace_rate',\n",
    "                   'ewma_10_double_fault_rate']\n",
    "\n",
    "EWMA_10_COLUMNS += [column + '_opponent' for column in EWMA_10_COLUMNS]"
   ]
  },
  {
   "cell_type": "code",
   "execution_count": 5,
   "metadata": {},
   "outputs": [],
   "source": [
    "EWMA_50_COLUMNS = ['ewma_50_first_serve_percentage',\n",
    "                   'ewma_50_first_serves_won_percentage',\n",
    "                   'ewma_50_second_serves_won_percentage',\n",
    "                   'ewma_50_service_points_won_percentage',\n",
    "                   'ewma_50_break_points_saved_percentage',\n",
    "                   'ewma_50_break_points_won_percentage',\n",
    "                   'ewma_50_first_serve_return_points_won_percentage',\n",
    "                   'ewma_50_second_serve_return_points_won_percentage',\n",
    "                   'ewma_50_return_points_won_percentage',\n",
    "                   'ewma_50_points_won_percentage',\n",
    "                   'ewma_50_ace_rate',\n",
    "                   'ewma_50_double_fault_rate']\n",
    "\n",
    "EWMA_50_COLUMNS += [column + '_opponent' for column in EWMA_50_COLUMNS]"
   ]
  },
  {
   "cell_type": "code",
   "execution_count": 6,
   "metadata": {},
   "outputs": [],
   "source": [
    "OTHER_COLUMNS = ['ranking_points_diff', 'rank_diff', 'player_age', 'opponent_age', 'result_value']"
   ]
  },
  {
   "cell_type": "code",
   "execution_count": 7,
   "metadata": {},
   "outputs": [],
   "source": [
    "COLUMNS = CAREER_COLUMNS + EWMA_10_COLUMNS + EWMA_50_COLUMNS + OTHER_COLUMNS"
   ]
  },
  {
   "cell_type": "code",
   "execution_count": 8,
   "metadata": {},
   "outputs": [],
   "source": [
    "train = matches[(matches['tournament_date'] > '2009') & (matches['tournament_date'] < '2021')][COLUMNS]\n",
    "test = matches[matches['tournament_date'] > '2021'][COLUMNS]"
   ]
  },
  {
   "cell_type": "code",
   "execution_count": 9,
   "metadata": {},
   "outputs": [],
   "source": [
    "X_train = train.drop('result_value', axis=1)\n",
    "y_train = train['result_value']\n",
    "\n",
    "X_test = test.drop('result_value', axis=1)\n",
    "y_test = test['result_value']"
   ]
  },
  {
   "cell_type": "code",
   "execution_count": 11,
   "metadata": {},
   "outputs": [],
   "source": [
    "def objective_lgbm(trial):\n",
    "    params = {\n",
    "        'objective': 'binary',\n",
    "        'num_threads': -1,\n",
    "        'num_trees': 1000,\n",
    "        'learning_rate': trial.suggest_float('learning_rate', 0.005, 0.1),\n",
    "        'lambda_l1': trial.suggest_float('lambda_l1', 0.0, 10.0),\n",
    "        'lambda_l2': trial.suggest_float('lambda_l2', 0.0, 10.0),\n",
    "        'num_leaves': trial.suggest_int('num_leaves', 10, 50),\n",
    "        'max_depth': trial.suggest_int('max_depth', 4, 8),\n",
    "        'feature_fraction': trial.suggest_float('feature_fraction', 0.4, 1.0),\n",
    "        'subsample': trial.suggest_float('subsample', 0.4, 1.0),\n",
    "        'subsample_freq': 1,\n",
    "        'min_data_in_leaf': trial.suggest_int('min_data_in_leaf', 1, 50)\n",
    "    }\n",
    "    \n",
    "    lgb = lgbm.LGBMClassifier(**params)\n",
    "    \n",
    "    score = cross_val_score(lgb, X_train, y_train, scoring='accuracy', n_jobs=-1, cv=5)\n",
    "    log_loss = score.mean()\n",
    "    return log_loss"
   ]
  },
  {
   "cell_type": "code",
   "execution_count": 12,
   "metadata": {
    "scrolled": false
   },
   "outputs": [
    {
     "name": "stderr",
     "output_type": "stream",
     "text": [
      "\u001b[32m[I 2021-08-31 08:56:41,804]\u001b[0m A new study created in memory with name: no-name-604cfc88-c355-4088-902e-bd516022a794\u001b[0m\n",
      "\u001b[32m[I 2021-08-31 08:56:59,308]\u001b[0m Trial 0 finished with value: 0.6480934877747793 and parameters: {'learning_rate': 0.02760598546051073, 'lambda_l1': 7.836230301318764, 'lambda_l2': 8.006366355587524, 'num_leaves': 20, 'max_depth': 7, 'feature_fraction': 0.7147775616299628, 'subsample': 0.6172524399711191, 'min_data_in_leaf': 32}. Best is trial 0 with value: 0.6480934877747793.\u001b[0m\n",
      "\u001b[32m[I 2021-08-31 08:57:10,867]\u001b[0m Trial 1 finished with value: 0.653830817457836 and parameters: {'learning_rate': 0.019622500789360765, 'lambda_l1': 2.4656365410114054, 'lambda_l2': 0.06801867332228206, 'num_leaves': 11, 'max_depth': 7, 'feature_fraction': 0.6343505595728025, 'subsample': 0.6559104486493712, 'min_data_in_leaf': 33}. Best is trial 1 with value: 0.653830817457836.\u001b[0m\n",
      "\u001b[32m[I 2021-08-31 08:57:30,833]\u001b[0m Trial 2 finished with value: 0.6316563214807747 and parameters: {'learning_rate': 0.053232235175356676, 'lambda_l1': 8.299107152393901, 'lambda_l2': 1.1044810919138648, 'num_leaves': 46, 'max_depth': 8, 'feature_fraction': 0.4411891991264344, 'subsample': 0.784948668107109, 'min_data_in_leaf': 36}. Best is trial 1 with value: 0.653830817457836.\u001b[0m\n",
      "\u001b[32m[I 2021-08-31 08:57:42,943]\u001b[0m Trial 3 finished with value: 0.6573857829070366 and parameters: {'learning_rate': 0.010593246533449147, 'lambda_l1': 9.122456896527098, 'lambda_l2': 3.545037434315088, 'num_leaves': 14, 'max_depth': 8, 'feature_fraction': 0.4684140391012777, 'subsample': 0.7402912638048176, 'min_data_in_leaf': 46}. Best is trial 3 with value: 0.6573857829070366.\u001b[0m\n",
      "\u001b[32m[I 2021-08-31 08:57:55,536]\u001b[0m Trial 4 finished with value: 0.6307586820662126 and parameters: {'learning_rate': 0.09021989740032259, 'lambda_l1': 2.108388256004722, 'lambda_l2': 2.297827486645975, 'num_leaves': 14, 'max_depth': 8, 'feature_fraction': 0.597443232201892, 'subsample': 0.4905837564462958, 'min_data_in_leaf': 35}. Best is trial 3 with value: 0.6573857829070366.\u001b[0m\n",
      "\u001b[32m[I 2021-08-31 08:58:16,376]\u001b[0m Trial 5 finished with value: 0.6289460407306561 and parameters: {'learning_rate': 0.06963721639092398, 'lambda_l1': 8.815149977586312, 'lambda_l2': 1.879158598118833, 'num_leaves': 39, 'max_depth': 7, 'feature_fraction': 0.5580730900533348, 'subsample': 0.4758541789135596, 'min_data_in_leaf': 28}. Best is trial 3 with value: 0.6573857829070366.\u001b[0m\n",
      "\u001b[32m[I 2021-08-31 08:58:32,524]\u001b[0m Trial 6 finished with value: 0.649923807523949 and parameters: {'learning_rate': 0.026547064954113044, 'lambda_l1': 9.372359201671372, 'lambda_l2': 0.7636150590674473, 'num_leaves': 20, 'max_depth': 6, 'feature_fraction': 0.7032805521152456, 'subsample': 0.46791707494021334, 'min_data_in_leaf': 46}. Best is trial 3 with value: 0.6573857829070366.\u001b[0m\n",
      "\u001b[32m[I 2021-08-31 08:58:46,286]\u001b[0m Trial 7 finished with value: 0.6600080138218684 and parameters: {'learning_rate': 0.00733053302350452, 'lambda_l1': 4.63568608300516, 'lambda_l2': 5.402696728127141, 'num_leaves': 12, 'max_depth': 8, 'feature_fraction': 0.6030626929828297, 'subsample': 0.8426472972873712, 'min_data_in_leaf': 31}. Best is trial 7 with value: 0.6600080138218684.\u001b[0m\n",
      "\u001b[32m[I 2021-08-31 08:59:05,198]\u001b[0m Trial 8 finished with value: 0.6285587849838168 and parameters: {'learning_rate': 0.09883759389924056, 'lambda_l1': 6.689115372347601, 'lambda_l2': 6.658303603105244, 'num_leaves': 21, 'max_depth': 6, 'feature_fraction': 0.9839724582777655, 'subsample': 0.9169671520427799, 'min_data_in_leaf': 48}. Best is trial 7 with value: 0.6600080138218684.\u001b[0m\n",
      "\u001b[32m[I 2021-08-31 08:59:18,270]\u001b[0m Trial 9 finished with value: 0.6583890111996838 and parameters: {'learning_rate': 0.01014370729386107, 'lambda_l1': 0.35524298464887694, 'lambda_l2': 7.962349839309511, 'num_leaves': 40, 'max_depth': 4, 'feature_fraction': 0.7324588710763359, 'subsample': 0.9561682326434379, 'min_data_in_leaf': 1}. Best is trial 7 with value: 0.6600080138218684.\u001b[0m\n",
      "\u001b[32m[I 2021-08-31 08:59:32,656]\u001b[0m Trial 10 finished with value: 0.6453305744106201 and parameters: {'learning_rate': 0.044078130997928, 'lambda_l1': 4.933357713137397, 'lambda_l2': 5.153457411067168, 'num_leaves': 30, 'max_depth': 4, 'feature_fraction': 0.861985833854709, 'subsample': 0.8392098689666516, 'min_data_in_leaf': 15}. Best is trial 7 with value: 0.6600080138218684.\u001b[0m\n",
      "\u001b[32m[I 2021-08-31 08:59:47,025]\u001b[0m Trial 11 finished with value: 0.6604128922339949 and parameters: {'learning_rate': 0.006610877500201659, 'lambda_l1': 0.0640898088244885, 'lambda_l2': 9.84587189388063, 'num_leaves': 35, 'max_depth': 4, 'feature_fraction': 0.8175198176560494, 'subsample': 0.9705178005276276, 'min_data_in_leaf': 2}. Best is trial 11 with value: 0.6604128922339949.\u001b[0m\n",
      "\u001b[32m[I 2021-08-31 09:00:05,209]\u001b[0m Trial 12 finished with value: 0.6392589096277824 and parameters: {'learning_rate': 0.039974732463511506, 'lambda_l1': 4.726789605683046, 'lambda_l2': 5.647880191029608, 'num_leaves': 30, 'max_depth': 5, 'feature_fraction': 0.8354322239295136, 'subsample': 0.9845635566544076, 'min_data_in_leaf': 16}. Best is trial 11 with value: 0.6604128922339949.\u001b[0m\n",
      "\u001b[32m[I 2021-08-31 09:00:23,910]\u001b[0m Trial 13 finished with value: 0.6570514803271126 and parameters: {'learning_rate': 0.00851858604783441, 'lambda_l1': 0.04520214234212003, 'lambda_l2': 9.340452328421339, 'num_leaves': 36, 'max_depth': 5, 'feature_fraction': 0.8188859404332836, 'subsample': 0.847560356706727, 'min_data_in_leaf': 2}. Best is trial 11 with value: 0.6604128922339949.\u001b[0m\n",
      "\u001b[32m[I 2021-08-31 09:00:44,105]\u001b[0m Trial 14 finished with value: 0.6318849995656277 and parameters: {'learning_rate': 0.0649904271421189, 'lambda_l1': 3.2088284880031557, 'lambda_l2': 9.70082539681888, 'num_leaves': 49, 'max_depth': 5, 'feature_fraction': 0.9573103319333118, 'subsample': 0.8721092075414589, 'min_data_in_leaf': 18}. Best is trial 11 with value: 0.6604128922339949.\u001b[0m\n",
      "\u001b[32m[I 2021-08-31 09:00:55,332]\u001b[0m Trial 15 finished with value: 0.6496598330058893 and parameters: {'learning_rate': 0.031947525320020466, 'lambda_l1': 6.492202427517165, 'lambda_l2': 3.6984838966686393, 'num_leaves': 26, 'max_depth': 4, 'feature_fraction': 0.5220956640443577, 'subsample': 0.9843371057576188, 'min_data_in_leaf': 9}. Best is trial 11 with value: 0.6604128922339949.\u001b[0m\n",
      "\u001b[32m[I 2021-08-31 09:01:16,877]\u001b[0m Trial 16 finished with value: 0.6596385030769204 and parameters: {'learning_rate': 0.0051317626281684875, 'lambda_l1': 1.1659247134680921, 'lambda_l2': 6.79852227536047, 'num_leaves': 36, 'max_depth': 6, 'feature_fraction': 0.780714418863931, 'subsample': 0.7830883382443824, 'min_data_in_leaf': 24}. Best is trial 11 with value: 0.6604128922339949.\u001b[0m\n",
      "\u001b[32m[I 2021-08-31 09:01:37,200]\u001b[0m Trial 17 finished with value: 0.6479000163063853 and parameters: {'learning_rate': 0.02039638967108799, 'lambda_l1': 3.5808276817772406, 'lambda_l2': 3.6334994914256886, 'num_leaves': 25, 'max_depth': 7, 'feature_fraction': 0.8969906680183273, 'subsample': 0.8970149460045126, 'min_data_in_leaf': 23}. Best is trial 11 with value: 0.6604128922339949.\u001b[0m\n",
      "\u001b[32m[I 2021-08-31 09:01:52,082]\u001b[0m Trial 18 finished with value: 0.6383437667874082 and parameters: {'learning_rate': 0.055218376602273425, 'lambda_l1': 6.4997939500515685, 'lambda_l2': 8.555967143654541, 'num_leaves': 33, 'max_depth': 5, 'feature_fraction': 0.6549920599192708, 'subsample': 0.6934342586327482, 'min_data_in_leaf': 39}. Best is trial 11 with value: 0.6604128922339949.\u001b[0m\n",
      "\u001b[32m[I 2021-08-31 09:02:15,021]\u001b[0m Trial 19 finished with value: 0.6477767629517686 and parameters: {'learning_rate': 0.01826368960305256, 'lambda_l1': 4.054517115746083, 'lambda_l2': 6.3290277883181085, 'num_leaves': 44, 'max_depth': 6, 'feature_fraction': 0.7729818178139319, 'subsample': 0.9249177944919489, 'min_data_in_leaf': 10}. Best is trial 11 with value: 0.6604128922339949.\u001b[0m\n",
      "\u001b[32m[I 2021-08-31 09:02:33,647]\u001b[0m Trial 20 finished with value: 0.6416875436404865 and parameters: {'learning_rate': 0.03708250926031506, 'lambda_l1': 1.4853513047732818, 'lambda_l2': 4.3060560138209585, 'num_leaves': 24, 'max_depth': 8, 'feature_fraction': 0.9117511251784884, 'subsample': 0.8166907182063969, 'min_data_in_leaf': 40}. Best is trial 11 with value: 0.6604128922339949.\u001b[0m\n"
     ]
    },
    {
     "name": "stderr",
     "output_type": "stream",
     "text": [
      "\u001b[32m[I 2021-08-31 09:02:54,942]\u001b[0m Trial 21 finished with value: 0.6591457714972127 and parameters: {'learning_rate': 0.005218513867905072, 'lambda_l1': 1.1464443879000368, 'lambda_l2': 6.995326024498544, 'num_leaves': 35, 'max_depth': 6, 'feature_fraction': 0.7569202235588247, 'subsample': 0.7624541666531933, 'min_data_in_leaf': 24}. Best is trial 11 with value: 0.6604128922339949.\u001b[0m\n",
      "\u001b[32m[I 2021-08-31 09:03:05,893]\u001b[0m Trial 22 finished with value: 0.6555027113043513 and parameters: {'learning_rate': 0.016199362326721048, 'lambda_l1': 1.2565379651005473, 'lambda_l2': 7.3353601019372885, 'num_leaves': 40, 'max_depth': 4, 'feature_fraction': 0.7932000955354658, 'subsample': 0.5774365321325475, 'min_data_in_leaf': 29}. Best is trial 11 with value: 0.6604128922339949.\u001b[0m\n",
      "\u001b[32m[I 2021-08-31 09:03:26,473]\u001b[0m Trial 23 finished with value: 0.6578786043034921 and parameters: {'learning_rate': 0.006097736455735607, 'lambda_l1': 0.6549514346299254, 'lambda_l2': 5.814729107275474, 'num_leaves': 32, 'max_depth': 7, 'feature_fraction': 0.6478214351766094, 'subsample': 0.8150250058804381, 'min_data_in_leaf': 20}. Best is trial 11 with value: 0.6604128922339949.\u001b[0m\n",
      "\u001b[32m[I 2021-08-31 09:03:39,697]\u001b[0m Trial 24 finished with value: 0.6530037058699735 and parameters: {'learning_rate': 0.015701546077166232, 'lambda_l1': 2.6086805499240975, 'lambda_l2': 4.554920743440603, 'num_leaves': 43, 'max_depth': 5, 'feature_fraction': 0.5135560000409578, 'subsample': 0.7379555194175635, 'min_data_in_leaf': 8}. Best is trial 11 with value: 0.6604128922339949.\u001b[0m\n",
      "\u001b[32m[I 2021-08-31 09:03:58,034]\u001b[0m Trial 25 finished with value: 0.6467737142926164 and parameters: {'learning_rate': 0.025232030592811226, 'lambda_l1': 5.801107990122982, 'lambda_l2': 9.218026768575852, 'num_leaves': 37, 'max_depth': 6, 'feature_fraction': 0.6729268049347864, 'subsample': 0.40212202703755245, 'min_data_in_leaf': 13}. Best is trial 11 with value: 0.6604128922339949.\u001b[0m\n",
      "\u001b[32m[I 2021-08-31 09:04:15,060]\u001b[0m Trial 26 finished with value: 0.6526517279735653 and parameters: {'learning_rate': 0.013368364893805043, 'lambda_l1': 1.8933577833578545, 'lambda_l2': 8.50747191990508, 'num_leaves': 29, 'max_depth': 6, 'feature_fraction': 0.5962992338858637, 'subsample': 0.8891678953296285, 'min_data_in_leaf': 6}. Best is trial 11 with value: 0.6604128922339949.\u001b[0m\n",
      "\u001b[32m[I 2021-08-31 09:04:32,380]\u001b[0m Trial 27 finished with value: 0.6316913964692417 and parameters: {'learning_rate': 0.07691538764707684, 'lambda_l1': 3.1152887325811185, 'lambda_l2': 7.368908487031354, 'num_leaves': 34, 'max_depth': 5, 'feature_fraction': 0.8482445745127906, 'subsample': 0.7034586352995884, 'min_data_in_leaf': 28}. Best is trial 11 with value: 0.6604128922339949.\u001b[0m\n",
      "\u001b[32m[I 2021-08-31 09:04:48,146]\u001b[0m Trial 28 finished with value: 0.6459113140143704 and parameters: {'learning_rate': 0.03454972548405985, 'lambda_l1': 0.8278713966972364, 'lambda_l2': 6.130020514766611, 'num_leaves': 16, 'max_depth': 7, 'feature_fraction': 0.901117770425791, 'subsample': 0.9364198531378123, 'min_data_in_leaf': 42}. Best is trial 11 with value: 0.6604128922339949.\u001b[0m\n",
      "\u001b[32m[I 2021-08-31 09:05:16,036]\u001b[0m Trial 29 finished with value: 0.6417403837621851 and parameters: {'learning_rate': 0.02505683141441014, 'lambda_l1': 4.056433151969054, 'lambda_l2': 7.8425937324742625, 'num_leaves': 50, 'max_depth': 8, 'feature_fraction': 0.730217898783305, 'subsample': 0.6037895216565516, 'min_data_in_leaf': 21}. Best is trial 11 with value: 0.6604128922339949.\u001b[0m\n",
      "\u001b[32m[I 2021-08-31 09:05:27,273]\u001b[0m Trial 30 finished with value: 0.6432186745123143 and parameters: {'learning_rate': 0.048697999896459794, 'lambda_l1': 1.5728282258910298, 'lambda_l2': 5.165042422125067, 'num_leaves': 26, 'max_depth': 4, 'feature_fraction': 0.7041012060819388, 'subsample': 0.7851271979454976, 'min_data_in_leaf': 32}. Best is trial 11 with value: 0.6604128922339949.\u001b[0m\n",
      "\u001b[32m[I 2021-08-31 09:05:47,796]\u001b[0m Trial 31 finished with value: 0.6564354922956588 and parameters: {'learning_rate': 0.007111811805086285, 'lambda_l1': 0.9862268148432882, 'lambda_l2': 6.788694566069168, 'num_leaves': 36, 'max_depth': 6, 'feature_fraction': 0.7708644888366009, 'subsample': 0.7520209574003648, 'min_data_in_leaf': 27}. Best is trial 11 with value: 0.6604128922339949.\u001b[0m\n",
      "\u001b[32m[I 2021-08-31 09:06:11,493]\u001b[0m Trial 32 finished with value: 0.6572098148644548 and parameters: {'learning_rate': 0.00615607418634746, 'lambda_l1': 2.2939638611435993, 'lambda_l2': 7.27530193694078, 'num_leaves': 38, 'max_depth': 7, 'feature_fraction': 0.7518504303809471, 'subsample': 0.6787049865309074, 'min_data_in_leaf': 23}. Best is trial 11 with value: 0.6604128922339949.\u001b[0m\n",
      "\u001b[32m[I 2021-08-31 09:06:37,762]\u001b[0m Trial 33 finished with value: 0.6451544422201895 and parameters: {'learning_rate': 0.022623185166904085, 'lambda_l1': 7.580532014732293, 'lambda_l2': 8.65275456995588, 'num_leaves': 42, 'max_depth': 7, 'feature_fraction': 0.8040544438557427, 'subsample': 0.7818692470280063, 'min_data_in_leaf': 31}. Best is trial 11 with value: 0.6604128922339949.\u001b[0m\n",
      "\u001b[32m[I 2021-08-31 09:06:54,937]\u001b[0m Trial 34 finished with value: 0.6520181513452459 and parameters: {'learning_rate': 0.013468592307577389, 'lambda_l1': 0.15770332268724463, 'lambda_l2': 5.5002058397281415, 'num_leaves': 34, 'max_depth': 6, 'feature_fraction': 0.6202458028868738, 'subsample': 0.8562430318797385, 'min_data_in_leaf': 24}. Best is trial 11 with value: 0.6604128922339949.\u001b[0m\n",
      "\u001b[32m[I 2021-08-31 09:07:12,893]\u001b[0m Trial 35 finished with value: 0.6429370587461923 and parameters: {'learning_rate': 0.030593814830277438, 'lambda_l1': 2.641492909659953, 'lambda_l2': 2.9450350317416514, 'num_leaves': 29, 'max_depth': 8, 'feature_fraction': 0.6749317829122727, 'subsample': 0.6489689137019059, 'min_data_in_leaf': 37}. Best is trial 11 with value: 0.6604128922339949.\u001b[0m\n",
      "\u001b[32m[I 2021-08-31 09:07:26,520]\u001b[0m Trial 36 finished with value: 0.6540596085879057 and parameters: {'learning_rate': 0.01948104125812643, 'lambda_l1': 1.7530945092762968, 'lambda_l2': 4.308431414201289, 'num_leaves': 11, 'max_depth': 6, 'feature_fraction': 0.8608505974217977, 'subsample': 0.7305178136867199, 'min_data_in_leaf': 33}. Best is trial 11 with value: 0.6604128922339949.\u001b[0m\n",
      "\u001b[32m[I 2021-08-31 09:07:41,524]\u001b[0m Trial 37 finished with value: 0.6609407870703528 and parameters: {'learning_rate': 0.005497190794448875, 'lambda_l1': 5.548581319433226, 'lambda_l2': 9.946701963149021, 'num_leaves': 46, 'max_depth': 5, 'feature_fraction': 0.5743908342984643, 'subsample': 0.7767547115723579, 'min_data_in_leaf': 4}. Best is trial 37 with value: 0.6609407870703528.\u001b[0m\n",
      "\u001b[32m[I 2021-08-31 09:07:54,032]\u001b[0m Trial 38 finished with value: 0.6551507442478954 and parameters: {'learning_rate': 0.01242677546855546, 'lambda_l1': 5.728878321314191, 'lambda_l2': 9.910850744999221, 'num_leaves': 47, 'max_depth': 5, 'feature_fraction': 0.4570823321007243, 'subsample': 0.8221009379300671, 'min_data_in_leaf': 5}. Best is trial 37 with value: 0.6609407870703528.\u001b[0m\n",
      "\u001b[32m[I 2021-08-31 09:08:03,622]\u001b[0m Trial 39 finished with value: 0.6586177620670736 and parameters: {'learning_rate': 0.011007836725630153, 'lambda_l1': 5.625209646854817, 'lambda_l2': 9.074524707566827, 'num_leaves': 45, 'max_depth': 4, 'feature_fraction': 0.40666872195724374, 'subsample': 0.999270412271232, 'min_data_in_leaf': 3}. Best is trial 37 with value: 0.6609407870703528.\u001b[0m\n",
      "\u001b[32m[I 2021-08-31 09:08:16,776]\u001b[0m Trial 40 finished with value: 0.6491142829843876 and parameters: {'learning_rate': 0.028574001398472042, 'lambda_l1': 4.346903566551255, 'lambda_l2': 9.84030685853772, 'num_leaves': 17, 'max_depth': 5, 'feature_fraction': 0.5852162558945752, 'subsample': 0.7968800957998277, 'min_data_in_leaf': 12}. Best is trial 37 with value: 0.6609407870703528.\u001b[0m\n",
      "\u001b[32m[I 2021-08-31 09:08:34,235]\u001b[0m Trial 41 finished with value: 0.6593920768930467 and parameters: {'learning_rate': 0.005537986462842315, 'lambda_l1': 7.851056256185412, 'lambda_l2': 6.765777184687416, 'num_leaves': 41, 'max_depth': 6, 'feature_fraction': 0.5133338584851199, 'subsample': 0.7765203366359636, 'min_data_in_leaf': 5}. Best is trial 37 with value: 0.6609407870703528.\u001b[0m\n"
     ]
    },
    {
     "name": "stderr",
     "output_type": "stream",
     "text": [
      "\u001b[32m[I 2021-08-31 09:08:47,712]\u001b[0m Trial 42 finished with value: 0.6616975365279292 and parameters: {'learning_rate': 0.005030883557043383, 'lambda_l1': 8.095865647115192, 'lambda_l2': 8.035458772624818, 'num_leaves': 41, 'max_depth': 5, 'feature_fraction': 0.5254380762858255, 'subsample': 0.7681359049840146, 'min_data_in_leaf': 5}. Best is trial 42 with value: 0.6616975365279292.\u001b[0m\n",
      "\u001b[32m[I 2021-08-31 09:08:58,750]\u001b[0m Trial 43 finished with value: 0.6588464757689126 and parameters: {'learning_rate': 0.011129422288297296, 'lambda_l1': 9.91308392381202, 'lambda_l2': 8.007844720920748, 'num_leaves': 47, 'max_depth': 4, 'feature_fraction': 0.5608579656637575, 'subsample': 0.7104545477984587, 'min_data_in_leaf': 1}. Best is trial 42 with value: 0.6616975365279292.\u001b[0m\n",
      "\u001b[32m[I 2021-08-31 09:09:12,496]\u001b[0m Trial 44 finished with value: 0.65342603660528 and parameters: {'learning_rate': 0.01666569425172844, 'lambda_l1': 8.356668670597681, 'lambda_l2': 9.00258288281231, 'num_leaves': 39, 'max_depth': 5, 'feature_fraction': 0.5481332276725784, 'subsample': 0.6526178690969993, 'min_data_in_leaf': 7}. Best is trial 42 with value: 0.6616975365279292.\u001b[0m\n",
      "\u001b[32m[I 2021-08-31 09:09:22,665]\u001b[0m Trial 45 finished with value: 0.6598672585900041 and parameters: {'learning_rate': 0.010820185306923, 'lambda_l1': 7.184894781123954, 'lambda_l2': 8.161079595350811, 'num_leaves': 10, 'max_depth': 4, 'feature_fraction': 0.48589755907585, 'subsample': 0.9572900410221274, 'min_data_in_leaf': 3}. Best is trial 42 with value: 0.6616975365279292.\u001b[0m\n",
      "\u001b[32m[I 2021-08-31 09:09:32,701]\u001b[0m Trial 46 finished with value: 0.6552914917369367 and parameters: {'learning_rate': 0.022118834613817008, 'lambda_l1': 8.642383547239643, 'lambda_l2': 8.21561745449894, 'num_leaves': 10, 'max_depth': 4, 'feature_fraction': 0.4706670536705268, 'subsample': 0.95617896205754, 'min_data_in_leaf': 4}. Best is trial 42 with value: 0.6616975365279292.\u001b[0m\n",
      "\u001b[32m[I 2021-08-31 09:09:43,468]\u001b[0m Trial 47 finished with value: 0.6590049233514716 and parameters: {'learning_rate': 0.010997557332994472, 'lambda_l1': 7.101397946654497, 'lambda_l2': 9.528816903388263, 'num_leaves': 13, 'max_depth': 4, 'feature_fraction': 0.48377290368064046, 'subsample': 0.953531875217821, 'min_data_in_leaf': 11}. Best is trial 42 with value: 0.6616975365279292.\u001b[0m\n",
      "\u001b[32m[I 2021-08-31 09:09:53,693]\u001b[0m Trial 48 finished with value: 0.6600432390211027 and parameters: {'learning_rate': 0.009885593034746233, 'lambda_l1': 7.2214487334812185, 'lambda_l2': 8.790344101252963, 'num_leaves': 22, 'max_depth': 4, 'feature_fraction': 0.4368717937666031, 'subsample': 0.8970120910431026, 'min_data_in_leaf': 1}. Best is trial 42 with value: 0.6616975365279292.\u001b[0m\n",
      "\u001b[32m[I 2021-08-31 09:10:05,011]\u001b[0m Trial 49 finished with value: 0.6309698938908042 and parameters: {'learning_rate': 0.09497737714489662, 'lambda_l1': 5.221737725466998, 'lambda_l2': 8.854711218387347, 'num_leaves': 22, 'max_depth': 5, 'feature_fraction': 0.40275910074753557, 'subsample': 0.8808734914221379, 'min_data_in_leaf': 1}. Best is trial 42 with value: 0.6616975365279292.\u001b[0m\n",
      "\u001b[32m[I 2021-08-31 09:10:14,604]\u001b[0m Trial 50 finished with value: 0.6390829942363974 and parameters: {'learning_rate': 0.07968117866346751, 'lambda_l1': 9.416942379102238, 'lambda_l2': 1.6654309502879592, 'num_leaves': 18, 'max_depth': 4, 'feature_fraction': 0.4237658614827001, 'subsample': 0.8593321387765596, 'min_data_in_leaf': 14}. Best is trial 42 with value: 0.6616975365279292.\u001b[0m\n",
      "\u001b[32m[I 2021-08-31 09:10:25,453]\u001b[0m Trial 51 finished with value: 0.6604304328253577 and parameters: {'learning_rate': 0.0090460749082673, 'lambda_l1': 6.97068884962644, 'lambda_l2': 7.688313916756011, 'num_leaves': 15, 'max_depth': 4, 'feature_fraction': 0.4922941641131001, 'subsample': 0.91128234368648, 'min_data_in_leaf': 3}. Best is trial 42 with value: 0.6616975365279292.\u001b[0m\n",
      "\u001b[32m[I 2021-08-31 09:10:36,462]\u001b[0m Trial 52 finished with value: 0.6566114278183838 and parameters: {'learning_rate': 0.014611363504982215, 'lambda_l1': 6.158320906247798, 'lambda_l2': 9.438063330362828, 'num_leaves': 14, 'max_depth': 4, 'feature_fraction': 0.5353097932051439, 'subsample': 0.896525147870987, 'min_data_in_leaf': 7}. Best is trial 42 with value: 0.6616975365279292.\u001b[0m\n",
      "\u001b[32m[I 2021-08-31 09:10:48,660]\u001b[0m Trial 53 finished with value: 0.6594448999805346 and parameters: {'learning_rate': 0.009234991894613576, 'lambda_l1': 7.912629795880621, 'lambda_l2': 0.18141331980499587, 'num_leaves': 19, 'max_depth': 4, 'feature_fraction': 0.5779627197471555, 'subsample': 0.9194318224611462, 'min_data_in_leaf': 9}. Best is trial 42 with value: 0.6616975365279292.\u001b[0m\n",
      "\u001b[32m[I 2021-08-31 09:10:59,132]\u001b[0m Trial 54 finished with value: 0.6547811142634725 and parameters: {'learning_rate': 0.01803469906857925, 'lambda_l1': 7.083778105723622, 'lambda_l2': 7.722583595027302, 'num_leaves': 12, 'max_depth': 5, 'feature_fraction': 0.4466339045675741, 'subsample': 0.8283882741505801, 'min_data_in_leaf': 3}. Best is trial 42 with value: 0.6616975365279292.\u001b[0m\n",
      "\u001b[32m[I 2021-08-31 09:11:10,538]\u001b[0m Trial 55 finished with value: 0.6444153371078047 and parameters: {'learning_rate': 0.06038348803215436, 'lambda_l1': 7.431521728436326, 'lambda_l2': 9.9491098203184, 'num_leaves': 22, 'max_depth': 4, 'feature_fraction': 0.5039289078522285, 'subsample': 0.9060241896782367, 'min_data_in_leaf': 1}. Best is trial 42 with value: 0.6616975365279292.\u001b[0m\n",
      "\u001b[32m[I 2021-08-31 09:11:20,089]\u001b[0m Trial 56 finished with value: 0.6608351749637984 and parameters: {'learning_rate': 0.00842999681554006, 'lambda_l1': 6.699146346676237, 'lambda_l2': 8.500403110583319, 'num_leaves': 14, 'max_depth': 4, 'feature_fraction': 0.42895151124852793, 'subsample': 0.848878211519734, 'min_data_in_leaf': 17}. Best is trial 42 with value: 0.6616975365279292.\u001b[0m\n",
      "\u001b[32m[I 2021-08-31 09:11:29,781]\u001b[0m Trial 57 finished with value: 0.6543235536832377 and parameters: {'learning_rate': 0.02086968514001105, 'lambda_l1': 6.799255686176485, 'lambda_l2': 8.334937131742105, 'num_leaves': 20, 'max_depth': 4, 'feature_fraction': 0.4322053836177331, 'subsample': 0.8675444711103792, 'min_data_in_leaf': 5}. Best is trial 42 with value: 0.6616975365279292.\u001b[0m\n",
      "\u001b[32m[I 2021-08-31 09:11:40,273]\u001b[0m Trial 58 finished with value: 0.6613103613064496 and parameters: {'learning_rate': 0.008517584841586543, 'lambda_l1': 8.262435732191054, 'lambda_l2': 8.769267699848795, 'num_leaves': 15, 'max_depth': 4, 'feature_fraction': 0.4843557598937282, 'subsample': 0.9425540932496312, 'min_data_in_leaf': 17}. Best is trial 42 with value: 0.6616975365279292.\u001b[0m\n",
      "\u001b[32m[I 2021-08-31 09:11:51,156]\u001b[0m Trial 59 finished with value: 0.6560131151034139 and parameters: {'learning_rate': 0.015017936474526313, 'lambda_l1': 8.2305497695715, 'lambda_l2': 9.386799446849574, 'num_leaves': 16, 'max_depth': 4, 'feature_fraction': 0.4964456974751522, 'subsample': 0.9686616931533144, 'min_data_in_leaf': 17}. Best is trial 42 with value: 0.6616975365279292.\u001b[0m\n",
      "\u001b[32m[I 2021-08-31 09:12:05,232]\u001b[0m Trial 60 finished with value: 0.6584241326450894 and parameters: {'learning_rate': 0.007991599595339429, 'lambda_l1': 9.034856226877883, 'lambda_l2': 7.528979853087895, 'num_leaves': 48, 'max_depth': 5, 'feature_fraction': 0.5392129218497337, 'subsample': 0.9351809176434439, 'min_data_in_leaf': 19}. Best is trial 42 with value: 0.6616975365279292.\u001b[0m\n",
      "\u001b[32m[I 2021-08-31 09:12:15,693]\u001b[0m Trial 61 finished with value: 0.6603952122718171 and parameters: {'learning_rate': 0.009096650289768388, 'lambda_l1': 6.186209912812086, 'lambda_l2': 8.795460459291114, 'num_leaves': 14, 'max_depth': 4, 'feature_fraction': 0.46181534438307037, 'subsample': 0.9314196661826817, 'min_data_in_leaf': 9}. Best is trial 42 with value: 0.6616975365279292.\u001b[0m\n",
      "\u001b[32m[I 2021-08-31 09:12:26,642]\u001b[0m Trial 62 finished with value: 0.6630878920365529 and parameters: {'learning_rate': 0.00525183006449468, 'lambda_l1': 6.202993277707203, 'lambda_l2': 9.146651353459728, 'num_leaves': 15, 'max_depth': 4, 'feature_fraction': 0.46853860449820206, 'subsample': 0.9868627629547556, 'min_data_in_leaf': 11}. Best is trial 62 with value: 0.6630878920365529.\u001b[0m\n",
      "\u001b[32m[I 2021-08-31 09:12:38,193]\u001b[0m Trial 63 finished with value: 0.6627183085090683 and parameters: {'learning_rate': 0.005142988934505782, 'lambda_l1': 5.355726030071661, 'lambda_l2': 9.586249873899376, 'num_leaves': 14, 'max_depth': 4, 'feature_fraction': 0.5267727430884716, 'subsample': 0.9857991835970563, 'min_data_in_leaf': 16}. Best is trial 62 with value: 0.6630878920365529.\u001b[0m\n"
     ]
    },
    {
     "name": "stderr",
     "output_type": "stream",
     "text": [
      "\u001b[32m[I 2021-08-31 09:12:49,065]\u001b[0m Trial 64 finished with value: 0.662841518503876 and parameters: {'learning_rate': 0.005028651352273082, 'lambda_l1': 5.276293990386554, 'lambda_l2': 9.194957193381985, 'num_leaves': 15, 'max_depth': 4, 'feature_fraction': 0.5274711818746765, 'subsample': 0.9727211892034757, 'min_data_in_leaf': 15}. Best is trial 62 with value: 0.6630878920365529.\u001b[0m\n",
      "\u001b[32m[I 2021-08-31 09:12:59,982]\u001b[0m Trial 65 finished with value: 0.6624719334278266 and parameters: {'learning_rate': 0.0054480492010563234, 'lambda_l1': 5.313405400469158, 'lambda_l2': 9.16347646457041, 'num_leaves': 18, 'max_depth': 4, 'feature_fraction': 0.4705928141160549, 'subsample': 0.9974613157505053, 'min_data_in_leaf': 15}. Best is trial 62 with value: 0.6630878920365529.\u001b[0m\n",
      "\u001b[32m[I 2021-08-31 09:13:14,358]\u001b[0m Trial 66 finished with value: 0.6620319660901515 and parameters: {'learning_rate': 0.0051141904602171676, 'lambda_l1': 5.135131827096218, 'lambda_l2': 9.560318750105655, 'num_leaves': 18, 'max_depth': 5, 'feature_fraction': 0.5262753209688579, 'subsample': 0.9949123976667383, 'min_data_in_leaf': 15}. Best is trial 62 with value: 0.6630878920365529.\u001b[0m\n",
      "\u001b[32m[I 2021-08-31 09:13:25,816]\u001b[0m Trial 67 finished with value: 0.6562947200295838 and parameters: {'learning_rate': 0.013599043918802026, 'lambda_l1': 4.831452587537466, 'lambda_l2': 9.152797919589165, 'num_leaves': 18, 'max_depth': 4, 'feature_fraction': 0.5238109347871814, 'subsample': 0.9943364927861096, 'min_data_in_leaf': 15}. Best is trial 62 with value: 0.6630878920365529.\u001b[0m\n",
      "\u001b[32m[I 2021-08-31 09:13:36,427]\u001b[0m Trial 68 finished with value: 0.6548339652251233 and parameters: {'learning_rate': 0.017478596636394932, 'lambda_l1': 5.204184615553814, 'lambda_l2': 9.628222051703164, 'num_leaves': 16, 'max_depth': 4, 'feature_fraction': 0.4723846107730889, 'subsample': 0.9843582631748063, 'min_data_in_leaf': 13}. Best is trial 62 with value: 0.6630878920365529.\u001b[0m\n",
      "\u001b[32m[I 2021-08-31 09:13:49,663]\u001b[0m Trial 69 finished with value: 0.662718313154762 and parameters: {'learning_rate': 0.005115305061311739, 'lambda_l1': 4.477203943069926, 'lambda_l2': 9.28571352836717, 'num_leaves': 12, 'max_depth': 5, 'feature_fraction': 0.6180564106570512, 'subsample': 0.9713931964485841, 'min_data_in_leaf': 21}. Best is trial 62 with value: 0.6630878920365529.\u001b[0m\n",
      "\u001b[32m[I 2021-08-31 09:14:02,682]\u001b[0m Trial 70 finished with value: 0.6623839315980428 and parameters: {'learning_rate': 0.005557948077319484, 'lambda_l1': 4.349076316965964, 'lambda_l2': 9.25977300811058, 'num_leaves': 12, 'max_depth': 5, 'feature_fraction': 0.5596692677337904, 'subsample': 0.9778222460876076, 'min_data_in_leaf': 20}. Best is trial 62 with value: 0.6630878920365529.\u001b[0m\n",
      "\u001b[32m[I 2021-08-31 09:14:16,157]\u001b[0m Trial 71 finished with value: 0.662507127655769 and parameters: {'learning_rate': 0.005067251346565077, 'lambda_l1': 4.410002069194982, 'lambda_l2': 9.233986322171866, 'num_leaves': 13, 'max_depth': 5, 'feature_fraction': 0.6146252554769958, 'subsample': 0.9719681489084965, 'min_data_in_leaf': 20}. Best is trial 62 with value: 0.6630878920365529.\u001b[0m\n",
      "\u001b[32m[I 2021-08-31 09:14:28,493]\u001b[0m Trial 72 finished with value: 0.656523504965395 and parameters: {'learning_rate': 0.013927930224989934, 'lambda_l1': 4.463999597174344, 'lambda_l2': 9.285766908078768, 'num_leaves': 13, 'max_depth': 5, 'feature_fraction': 0.618090037444762, 'subsample': 0.9742554600645831, 'min_data_in_leaf': 21}. Best is trial 62 with value: 0.6630878920365529.\u001b[0m\n",
      "\u001b[32m[I 2021-08-31 09:14:40,467]\u001b[0m Trial 73 finished with value: 0.6573506568159375 and parameters: {'learning_rate': 0.0122481010282595, 'lambda_l1': 3.7723154711695295, 'lambda_l2': 9.613637082773053, 'num_leaves': 12, 'max_depth': 5, 'feature_fraction': 0.6047863361067027, 'subsample': 0.9731792908859297, 'min_data_in_leaf': 20}. Best is trial 62 with value: 0.6630878920365529.\u001b[0m\n",
      "\u001b[32m[I 2021-08-31 09:14:50,834]\u001b[0m Trial 74 finished with value: 0.6489030603198436 and parameters: {'learning_rate': 0.04285492808141171, 'lambda_l1': 5.2773623745918945, 'lambda_l2': 9.072673123544527, 'num_leaves': 12, 'max_depth': 5, 'feature_fraction': 0.556679370332933, 'subsample': 0.9875960415767752, 'min_data_in_leaf': 15}. Best is trial 62 with value: 0.6630878920365529.\u001b[0m\n",
      "\u001b[32m[I 2021-08-31 09:15:05,430]\u001b[0m Trial 75 finished with value: 0.6616271960775477 and parameters: {'learning_rate': 0.005179247696858507, 'lambda_l1': 4.640122027231514, 'lambda_l2': 8.438084244239313, 'num_leaves': 17, 'max_depth': 5, 'feature_fraction': 0.6452986739703256, 'subsample': 0.9489769947684183, 'min_data_in_leaf': 22}. Best is trial 62 with value: 0.6630878920365529.\u001b[0m\n",
      "\u001b[32m[I 2021-08-31 09:15:17,985]\u001b[0m Trial 76 finished with value: 0.6606064240964087 and parameters: {'learning_rate': 0.00783957529492574, 'lambda_l1': 6.104574356082722, 'lambda_l2': 9.582898370092286, 'num_leaves': 11, 'max_depth': 5, 'feature_fraction': 0.569233166995186, 'subsample': 0.9985901604549193, 'min_data_in_leaf': 19}. Best is trial 62 with value: 0.6630878920365529.\u001b[0m\n",
      "\u001b[32m[I 2021-08-31 09:15:32,489]\u001b[0m Trial 77 finished with value: 0.6534788689841555 and parameters: {'learning_rate': 0.016186172213949915, 'lambda_l1': 4.115425093438888, 'lambda_l2': 9.260165810496371, 'num_leaves': 19, 'max_depth': 5, 'feature_fraction': 0.5921278104692467, 'subsample': 0.9715012273522742, 'min_data_in_leaf': 11}. Best is trial 62 with value: 0.6630878920365529.\u001b[0m\n",
      "\u001b[32m[I 2021-08-31 09:15:44,051]\u001b[0m Trial 78 finished with value: 0.6521589329027085 and parameters: {'learning_rate': 0.023407539946395457, 'lambda_l1': 3.2228839636575817, 'lambda_l2': 8.990672060761842, 'num_leaves': 15, 'max_depth': 5, 'feature_fraction': 0.5442678142890147, 'subsample': 0.5422669959709856, 'min_data_in_leaf': 18}. Best is trial 62 with value: 0.6630878920365529.\u001b[0m\n",
      "\u001b[32m[I 2021-08-31 09:15:55,137]\u001b[0m Trial 79 finished with value: 0.6576674079645466 and parameters: {'learning_rate': 0.012664325111322842, 'lambda_l1': 4.982543222559684, 'lambda_l2': 9.724163333668912, 'num_leaves': 17, 'max_depth': 4, 'feature_fraction': 0.6101959836157915, 'subsample': 0.9628879753527443, 'min_data_in_leaf': 25}. Best is trial 62 with value: 0.6630878920365529.\u001b[0m\n",
      "\u001b[32m[I 2021-08-31 09:16:07,699]\u001b[0m Trial 80 finished with value: 0.652563727692346 and parameters: {'learning_rate': 0.018872330920034208, 'lambda_l1': 3.717386360461572, 'lambda_l2': 8.617940857973332, 'num_leaves': 13, 'max_depth': 5, 'feature_fraction': 0.6694057349767837, 'subsample': 0.977997037932177, 'min_data_in_leaf': 16}. Best is trial 62 with value: 0.6630878920365529.\u001b[0m\n",
      "\u001b[32m[I 2021-08-31 09:16:20,040]\u001b[0m Trial 81 finished with value: 0.6617855584890531 and parameters: {'learning_rate': 0.0050821889207194795, 'lambda_l1': 4.386530342390595, 'lambda_l2': 9.368262681429172, 'num_leaves': 11, 'max_depth': 5, 'feature_fraction': 0.5205239557667405, 'subsample': 0.9416960821266875, 'min_data_in_leaf': 14}. Best is trial 62 with value: 0.6630878920365529.\u001b[0m\n",
      "\u001b[32m[I 2021-08-31 09:16:31,791]\u001b[0m Trial 82 finished with value: 0.6614335666555634 and parameters: {'learning_rate': 0.00714048606200389, 'lambda_l1': 4.353306442136204, 'lambda_l2': 9.377801047084123, 'num_leaves': 11, 'max_depth': 5, 'feature_fraction': 0.5117923350532618, 'subsample': 0.9259318903258812, 'min_data_in_leaf': 14}. Best is trial 62 with value: 0.6630878920365529.\u001b[0m\n",
      "\u001b[32m[I 2021-08-31 09:16:43,472]\u001b[0m Trial 83 finished with value: 0.6575442010668681 and parameters: {'learning_rate': 0.011280741122900352, 'lambda_l1': 5.993760688032857, 'lambda_l2': 9.073447107836028, 'num_leaves': 10, 'max_depth': 5, 'feature_fraction': 0.6366726532071946, 'subsample': 0.945662676310867, 'min_data_in_leaf': 13}. Best is trial 62 with value: 0.6630878920365529.\u001b[0m\n",
      "\u001b[32m[I 2021-08-31 09:16:56,586]\u001b[0m Trial 84 finished with value: 0.6627183178004559 and parameters: {'learning_rate': 0.005201871588672089, 'lambda_l1': 5.52703077397436, 'lambda_l2': 9.994042918687427, 'num_leaves': 13, 'max_depth': 5, 'feature_fraction': 0.5552895384154616, 'subsample': 0.9893132911274464, 'min_data_in_leaf': 19}. Best is trial 62 with value: 0.6630878920365529.\u001b[0m\n"
     ]
    },
    {
     "name": "stderr",
     "output_type": "stream",
     "text": [
      "\u001b[32m[I 2021-08-31 09:17:08,712]\u001b[0m Trial 85 finished with value: 0.6597968809740719 and parameters: {'learning_rate': 0.008619333311129879, 'lambda_l1': 5.456848153831531, 'lambda_l2': 9.827330881568418, 'num_leaves': 13, 'max_depth': 5, 'feature_fraction': 0.5621370149437812, 'subsample': 0.9879255116798292, 'min_data_in_leaf': 22}. Best is trial 62 with value: 0.6630878920365529.\u001b[0m\n",
      "\u001b[32m[I 2021-08-31 09:17:22,309]\u001b[0m Trial 86 finished with value: 0.6594977137766348 and parameters: {'learning_rate': 0.007360620750343117, 'lambda_l1': 4.941164012216847, 'lambda_l2': 9.734678867076461, 'num_leaves': 15, 'max_depth': 6, 'feature_fraction': 0.5346691347224354, 'subsample': 0.995704725402928, 'min_data_in_leaf': 19}. Best is trial 62 with value: 0.6630878920365529.\u001b[0m\n",
      "\u001b[32m[I 2021-08-31 09:17:34,306]\u001b[0m Trial 87 finished with value: 0.6588641402454445 and parameters: {'learning_rate': 0.010984481406515173, 'lambda_l1': 5.391222940926068, 'lambda_l2': 9.969732838593698, 'num_leaves': 18, 'max_depth': 4, 'feature_fraction': 0.5479608842615944, 'subsample': 0.9652052819573154, 'min_data_in_leaf': 26}. Best is trial 62 with value: 0.6630878920365529.\u001b[0m\n",
      "\u001b[32m[I 2021-08-31 09:17:48,294]\u001b[0m Trial 88 finished with value: 0.6541828278741011 and parameters: {'learning_rate': 0.014273297937977783, 'lambda_l1': 5.929821944468335, 'lambda_l2': 8.818860176034836, 'num_leaves': 16, 'max_depth': 6, 'feature_fraction': 0.6275776128140853, 'subsample': 0.9996655492577929, 'min_data_in_leaf': 16}. Best is trial 62 with value: 0.6630878920365529.\u001b[0m\n",
      "\u001b[32m[I 2021-08-31 09:18:00,384]\u001b[0m Trial 89 finished with value: 0.6626831049897385 and parameters: {'learning_rate': 0.005095934956470061, 'lambda_l1': 6.367129892842628, 'lambda_l2': 8.276336597954053, 'num_leaves': 13, 'max_depth': 4, 'feature_fraction': 0.5810075893322422, 'subsample': 0.9201999365413466, 'min_data_in_leaf': 21}. Best is trial 62 with value: 0.6630878920365529.\u001b[0m\n",
      "\u001b[32m[I 2021-08-31 09:18:12,364]\u001b[0m Trial 90 finished with value: 0.6588993205363052 and parameters: {'learning_rate': 0.01018324276113643, 'lambda_l1': 6.415241608151316, 'lambda_l2': 8.451117152146512, 'num_leaves': 14, 'max_depth': 4, 'feature_fraction': 0.5944327116787606, 'subsample': 0.9142755702319071, 'min_data_in_leaf': 21}. Best is trial 62 with value: 0.6630878920365529.\u001b[0m\n",
      "\u001b[32m[I 2021-08-31 09:18:24,177]\u001b[0m Trial 91 finished with value: 0.6617151545475226 and parameters: {'learning_rate': 0.00691609884868952, 'lambda_l1': 5.695189442796926, 'lambda_l2': 9.52226200952547, 'num_leaves': 12, 'max_depth': 4, 'feature_fraction': 0.5845733596751957, 'subsample': 0.9553247868662106, 'min_data_in_leaf': 18}. Best is trial 62 with value: 0.6630878920365529.\u001b[0m\n",
      "\u001b[32m[I 2021-08-31 09:18:34,368]\u001b[0m Trial 92 finished with value: 0.6624191072432096 and parameters: {'learning_rate': 0.006085650526372576, 'lambda_l1': 5.114510196153839, 'lambda_l2': 8.965212331016899, 'num_leaves': 13, 'max_depth': 4, 'feature_fraction': 0.4533344200304844, 'subsample': 0.9811706919979778, 'min_data_in_leaf': 23}. Best is trial 62 with value: 0.6630878920365529.\u001b[0m\n",
      "\u001b[32m[I 2021-08-31 09:18:44,080]\u001b[0m Trial 93 finished with value: 0.6579313840311707 and parameters: {'learning_rate': 0.012366413107317502, 'lambda_l1': 4.677586185625591, 'lambda_l2': 8.95222878401948, 'num_leaves': 13, 'max_depth': 4, 'feature_fraction': 0.45133874250820166, 'subsample': 0.983134492655115, 'min_data_in_leaf': 22}. Best is trial 62 with value: 0.6630878920365529.\u001b[0m\n",
      "\u001b[32m[I 2021-08-31 09:18:54,640]\u001b[0m Trial 94 finished with value: 0.6621022941520162 and parameters: {'learning_rate': 0.007098585125861146, 'lambda_l1': 6.356733740260522, 'lambda_l2': 8.190728866395345, 'num_leaves': 10, 'max_depth': 4, 'feature_fraction': 0.47393018672541665, 'subsample': 0.9619243885966556, 'min_data_in_leaf': 24}. Best is trial 62 with value: 0.6630878920365529.\u001b[0m\n",
      "\u001b[32m[I 2021-08-31 09:19:05,462]\u001b[0m Trial 95 finished with value: 0.659691292095987 and parameters: {'learning_rate': 0.009359724119986654, 'lambda_l1': 5.546141753167305, 'lambda_l2': 9.251651955090912, 'num_leaves': 14, 'max_depth': 4, 'feature_fraction': 0.5062370957669777, 'subsample': 0.9253001535525824, 'min_data_in_leaf': 20}. Best is trial 62 with value: 0.6630878920365529.\u001b[0m\n",
      "\u001b[32m[I 2021-08-31 09:19:14,632]\u001b[0m Trial 96 finished with value: 0.6488326269555855 and parameters: {'learning_rate': 0.04888768952388485, 'lambda_l1': 4.163121575969995, 'lambda_l2': 8.642391089499656, 'num_leaves': 12, 'max_depth': 4, 'feature_fraction': 0.4192752624790348, 'subsample': 0.9767170858346429, 'min_data_in_leaf': 26}. Best is trial 62 with value: 0.6630878920365529.\u001b[0m\n",
      "\u001b[32m[I 2021-08-31 09:19:26,693]\u001b[0m Trial 97 finished with value: 0.6627535104798337 and parameters: {'learning_rate': 0.005027736573298221, 'lambda_l1': 5.863537729430156, 'lambda_l2': 9.136012022645993, 'num_leaves': 15, 'max_depth': 4, 'feature_fraction': 0.5595843667540388, 'subsample': 0.9432967647785366, 'min_data_in_leaf': 23}. Best is trial 62 with value: 0.6630878920365529.\u001b[0m\n",
      "\u001b[32m[I 2021-08-31 09:19:38,262]\u001b[0m Trial 98 finished with value: 0.654957167477108 and parameters: {'learning_rate': 0.015689564576422434, 'lambda_l1': 5.908241677155011, 'lambda_l2': 3.3697929882075686, 'num_leaves': 15, 'max_depth': 4, 'feature_fraction': 0.5722375563592871, 'subsample': 0.9420494367824807, 'min_data_in_leaf': 28}. Best is trial 62 with value: 0.6630878920365529.\u001b[0m\n",
      "\u001b[32m[I 2021-08-31 09:19:48,641]\u001b[0m Trial 99 finished with value: 0.6385549910005167 and parameters: {'learning_rate': 0.07532790515767679, 'lambda_l1': 5.061581619041073, 'lambda_l2': 8.29228819835706, 'num_leaves': 16, 'max_depth': 4, 'feature_fraction': 0.4971828917603495, 'subsample': 0.8825514209283282, 'min_data_in_leaf': 25}. Best is trial 62 with value: 0.6630878920365529.\u001b[0m\n"
     ]
    },
    {
     "name": "stdout",
     "output_type": "stream",
     "text": [
      "FrozenTrial(number=62, values=[0.6630878920365529], datetime_start=datetime.datetime(2021, 8, 31, 9, 12, 15, 694776), datetime_complete=datetime.datetime(2021, 8, 31, 9, 12, 26, 642561), params={'learning_rate': 0.00525183006449468, 'lambda_l1': 6.202993277707203, 'lambda_l2': 9.146651353459728, 'num_leaves': 15, 'max_depth': 4, 'feature_fraction': 0.46853860449820206, 'subsample': 0.9868627629547556, 'min_data_in_leaf': 11}, distributions={'learning_rate': UniformDistribution(high=0.1, low=0.005), 'lambda_l1': UniformDistribution(high=10.0, low=0.0), 'lambda_l2': UniformDistribution(high=10.0, low=0.0), 'num_leaves': IntUniformDistribution(high=50, low=10, step=1), 'max_depth': IntUniformDistribution(high=8, low=4, step=1), 'feature_fraction': UniformDistribution(high=1.0, low=0.4), 'subsample': UniformDistribution(high=1.0, low=0.4), 'min_data_in_leaf': IntUniformDistribution(high=50, low=1, step=1)}, user_attrs={}, system_attrs={}, intermediate_values={}, trial_id=62, state=TrialState.COMPLETE, value=None) {'learning_rate': 0.00525183006449468, 'lambda_l1': 6.202993277707203, 'lambda_l2': 9.146651353459728, 'num_leaves': 15, 'max_depth': 4, 'feature_fraction': 0.46853860449820206, 'subsample': 0.9868627629547556, 'min_data_in_leaf': 11}\n"
     ]
    }
   ],
   "source": [
    "study = optuna.create_study(direction=\"maximize\")\n",
    "study.optimize(objective_lgbm, n_trials=100)\n",
    "print(study.best_trial, study.best_params)"
   ]
  },
  {
   "cell_type": "code",
   "execution_count": 47,
   "metadata": {
    "scrolled": true
   },
   "outputs": [
    {
     "name": "stderr",
     "output_type": "stream",
     "text": [
      "/usr/local/anaconda3/lib/python3.7/site-packages/lightgbm/engine.py:148: UserWarning: Found `num_trees` in params. Will use it instead of argument\n",
      "  _log_warning(\"Found `{}` in params. Will use it instead of argument\".format(alias))\n"
     ]
    },
    {
     "name": "stdout",
     "output_type": "stream",
     "text": [
      "[LightGBM] [Warning] min_data_in_leaf is set=11, min_child_samples=20 will be ignored. Current value: min_data_in_leaf=11\n",
      "[LightGBM] [Warning] num_iterations is set=500, num_trees=500 will be ignored. Current value: num_iterations=500\n",
      "[LightGBM] [Warning] num_threads is set=-1, n_jobs=-1 will be ignored. Current value: num_threads=-1\n",
      "[LightGBM] [Warning] lambda_l1 is set=6.2, reg_alpha=0.0 will be ignored. Current value: lambda_l1=6.2\n",
      "[LightGBM] [Warning] feature_fraction is set=0.5, colsample_bytree=1.0 will be ignored. Current value: feature_fraction=0.5\n",
      "[LightGBM] [Warning] lambda_l2 is set=9.15, reg_lambda=0.0 will be ignored. Current value: lambda_l2=9.15\n"
     ]
    }
   ],
   "source": [
    "best_params_lgb = {\n",
    "    'objective': 'binary',\n",
    "    'metric': ['binary', 'auc'],\n",
    "    'num_threads': -1,\n",
    "    'num_trees': 500,\n",
    "    'learning_rate': 0.03,\n",
    "    'lambda_l1': 6.2,\n",
    "    'lambda_l2': 9.15,\n",
    "    'num_leaves': 15,\n",
    "    'max_depth': 4,\n",
    "    'feature_fraction': 0.5,\n",
    "    'min_data_in_leaf': 11\n",
    "}\n",
    "\n",
    "lgb = lgbm.LGBMClassifier(**best_params_lgb).fit(X_train, y_train)"
   ]
  },
  {
   "cell_type": "code",
   "execution_count": 48,
   "metadata": {},
   "outputs": [
    {
     "data": {
      "image/png": "[encoded data removed]",
      "text/plain": [
       "<Figure size 432x288 with 1 Axes>"
      ]
     },
     "metadata": {
      "needs_background": "light"
     },
     "output_type": "display_data"
    },
    {
     "name": "stdout",
     "output_type": "stream",
     "text": [
      "Train AUC: 0.7645790573434164\n",
      "Test AUC: 0.7129958897960329\n",
      "Favorite AUC: 0.6311162079510704\n",
      "\n",
      "Test Accuracy: 0.6517584097859327\n",
      "Test Accuracy: 0.6311162079510704\n"
     ]
    }
   ],
   "source": [
    "y_pred_train = lgb.predict_proba(X_train)[:, 1]\n",
    "fpr_train, tpr_train, _ = roc_curve(y_train, y_pred_train)\n",
    "\n",
    "y_pred_test = lgb.predict_proba(X_test)[:, 1]\n",
    "fpr, tpr, _ = roc_curve(y_test, y_pred_test)\n",
    "\n",
    "\n",
    "plt.plot([0, 1], [0, 1], 'k--', label='Coin Flip')\n",
    "plt.plot(fpr_train, tpr_train, label='Training Data')\n",
    "plt.plot(fpr, tpr, label='Testing Data')\n",
    "plt.xlabel('False positive rate')\n",
    "plt.ylabel('True positive rate')\n",
    "plt.title('ROC curve')\n",
    "\n",
    "\n",
    "higher_ranked = test.dropna(subset=COLUMNS).ranking_points_diff > 0\n",
    "fpr_naive, tpr_naive, _ = roc_curve(y_test, higher_ranked.values)\n",
    "plt.plot(fpr_naive, tpr_naive, label='Favorites')\n",
    "\n",
    "\n",
    "plt.legend()\n",
    "plt.show()\n",
    "\n",
    "print(f'Train AUC: {roc_auc_score(y_train, y_pred_train)}')\n",
    "print(f'Test AUC: {roc_auc_score(y_test, y_pred_test)}')\n",
    "print(f'Favorite AUC: {roc_auc_score(y_test, higher_ranked)}')\n",
    "\n",
    "print(f'\\nTest Accuracy: {accuracy_score(y_test, lgb.predict(X_test))}')\n",
    "print(f'Test Accuracy: {accuracy_score(y_test, higher_ranked)}')"
   ]
  }
 ],
 "metadata": {
  "kernelspec": {
   "display_name": "Python 3",
   "language": "python",
   "name": "python3"
  },
  "language_info": {
   "codemirror_mode": {
    "name": "ipython",
    "version": 3
   },
   "file_extension": ".py",
   "mimetype": "text/x-python",
   "name": "python",
   "nbconvert_exporter": "python",
   "pygments_lexer": "ipython3",
   "version": "3.7.6"
  }
 },
 "nbformat": 4,
 "nbformat_minor": 2
}
