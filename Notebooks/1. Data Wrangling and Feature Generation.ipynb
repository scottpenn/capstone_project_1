{
 "cells": [
  {
   "cell_type": "code",
   "execution_count": 1,
   "metadata": {},
   "outputs": [],
   "source": [
    "import glob\n",
    "import numpy as np\n",
    "import pandas as pd\n",
    "import matplotlib.pyplot as plt"
   ]
  },
  {
   "cell_type": "markdown",
   "metadata": {},
   "source": [
    "## Player Data"
   ]
  },
  {
   "cell_type": "code",
   "execution_count": 2,
   "metadata": {},
   "outputs": [
    {
     "name": "stdout",
     "output_type": "stream",
     "text": [
      "<class 'pandas.core.frame.DataFrame'>\n",
      "Int64Index: 55005 entries, 100001 to 209970\n",
      "Data columns (total 5 columns):\n",
      " #   Column      Non-Null Count  Dtype         \n",
      "---  ------      --------------  -----         \n",
      " 0   name_first  54828 non-null  object        \n",
      " 1   name_last   54963 non-null  object        \n",
      " 2   hand        49227 non-null  object        \n",
      " 3   birthdate   43474 non-null  datetime64[ns]\n",
      " 4   country     54950 non-null  object        \n",
      "dtypes: datetime64[ns](1), object(4)\n",
      "memory usage: 2.5+ MB\n"
     ]
    },
    {
     "data": {
      "text/html": [
       "<div>\n",
       "<style scoped>\n",
       "    .dataframe tbody tr th:only-of-type {\n",
       "        vertical-align: middle;\n",
       "    }\n",
       "\n",
       "    .dataframe tbody tr th {\n",
       "        vertical-align: top;\n",
       "    }\n",
       "\n",
       "    .dataframe thead th {\n",
       "        text-align: right;\n",
       "    }\n",
       "</style>\n",
       "<table border=\"1\" class=\"dataframe\">\n",
       "  <thead>\n",
       "    <tr style=\"text-align: right;\">\n",
       "      <th></th>\n",
       "      <th>name_first</th>\n",
       "      <th>name_last</th>\n",
       "      <th>hand</th>\n",
       "      <th>birthdate</th>\n",
       "      <th>country</th>\n",
       "    </tr>\n",
       "    <tr>\n",
       "      <th>player_id</th>\n",
       "      <th></th>\n",
       "      <th></th>\n",
       "      <th></th>\n",
       "      <th></th>\n",
       "      <th></th>\n",
       "    </tr>\n",
       "  </thead>\n",
       "  <tbody>\n",
       "    <tr>\n",
       "      <th>100001</th>\n",
       "      <td>Gardnar</td>\n",
       "      <td>Mulloy</td>\n",
       "      <td>R</td>\n",
       "      <td>1913-11-22</td>\n",
       "      <td>USA</td>\n",
       "    </tr>\n",
       "    <tr>\n",
       "      <th>100002</th>\n",
       "      <td>Pancho</td>\n",
       "      <td>Segura</td>\n",
       "      <td>R</td>\n",
       "      <td>1921-06-20</td>\n",
       "      <td>ECU</td>\n",
       "    </tr>\n",
       "    <tr>\n",
       "      <th>100003</th>\n",
       "      <td>Frank</td>\n",
       "      <td>Sedgman</td>\n",
       "      <td>R</td>\n",
       "      <td>1927-10-02</td>\n",
       "      <td>AUS</td>\n",
       "    </tr>\n",
       "    <tr>\n",
       "      <th>100004</th>\n",
       "      <td>Giuseppe</td>\n",
       "      <td>Merlo</td>\n",
       "      <td>R</td>\n",
       "      <td>1927-10-11</td>\n",
       "      <td>ITA</td>\n",
       "    </tr>\n",
       "    <tr>\n",
       "      <th>100005</th>\n",
       "      <td>Richard Pancho</td>\n",
       "      <td>Gonzales</td>\n",
       "      <td>R</td>\n",
       "      <td>1928-05-09</td>\n",
       "      <td>USA</td>\n",
       "    </tr>\n",
       "  </tbody>\n",
       "</table>\n",
       "</div>"
      ],
      "text/plain": [
       "               name_first name_last hand  birthdate country\n",
       "player_id                                                  \n",
       "100001            Gardnar    Mulloy    R 1913-11-22     USA\n",
       "100002             Pancho    Segura    R 1921-06-20     ECU\n",
       "100003              Frank   Sedgman    R 1927-10-02     AUS\n",
       "100004           Giuseppe     Merlo    R 1927-10-11     ITA\n",
       "100005     Richard Pancho  Gonzales    R 1928-05-09     USA"
      ]
     },
     "execution_count": 2,
     "metadata": {},
     "output_type": "execute_result"
    }
   ],
   "source": [
    "players = pd.read_csv('../Resources/tennis_atp-master/atp_players.csv', \n",
    "                      header=None,\n",
    "                      names=['player_id', 'name_first', 'name_last', 'hand', 'birthdate', 'country'],\n",
    "                      index_col='player_id')\n",
    "\n",
    "# The format for birthdate is non-standard, and cannot be converted using parse_dates.\n",
    "players['birthdate'] = pd.to_datetime(players.birthdate, format='%Y%m%d', errors='coerce')\n",
    "\n",
    "players.info()\n",
    "players.head()"
   ]
  },
  {
   "cell_type": "code",
   "execution_count": 3,
   "metadata": {},
   "outputs": [
    {
     "data": {
      "text/plain": [
       "U      32578\n",
       "R      15276\n",
       "NaN     5778\n",
       "L       1372\n",
       "A          1\n",
       "Name: hand, dtype: int64"
      ]
     },
     "execution_count": 3,
     "metadata": {},
     "output_type": "execute_result"
    }
   ],
   "source": [
    "# L = Left handed\n",
    "# R = Right handed\n",
    "# A = Ambidextrous\n",
    "# U = Unknown\n",
    "\n",
    "players.hand.value_counts(dropna=False)"
   ]
  },
  {
   "cell_type": "code",
   "execution_count": 4,
   "metadata": {},
   "outputs": [],
   "source": [
    "# NaN values can be safely converted to U, which represents an unknown value.\n",
    "\n",
    "players.hand.fillna('U', inplace=True)\n",
    "players.hand = players.hand.astype('category')"
   ]
  },
  {
   "cell_type": "code",
   "execution_count": 5,
   "metadata": {},
   "outputs": [],
   "source": [
    "#players.to_csv('../Resources/tennis_clean/atp_players.csv')"
   ]
  },
  {
   "cell_type": "markdown",
   "metadata": {},
   "source": [
    "## Ranking Data"
   ]
  },
  {
   "cell_type": "code",
   "execution_count": 6,
   "metadata": {},
   "outputs": [],
   "source": [
    "ranking_files = glob.glob('../Resources/tennis_atp-master/atp_rankings_[0-9]*')"
   ]
  },
  {
   "cell_type": "code",
   "execution_count": 7,
   "metadata": {},
   "outputs": [],
   "source": [
    "rankings_list = [pd.read_csv(ranking_file, parse_dates=['ranking_date']) for ranking_file in ranking_files]\n",
    "rankings_current = pd.read_csv('../Resources/tennis_atp-master/atp_rankings_current.csv',\n",
    "                               names=['ranking_date', 'rank', 'player', 'points'], parse_dates=['ranking_date'])\n",
    "rankings_list.append(rankings_current)"
   ]
  },
  {
   "cell_type": "code",
   "execution_count": 8,
   "metadata": {
    "scrolled": false
   },
   "outputs": [
    {
     "name": "stdout",
     "output_type": "stream",
     "text": [
      "<class 'pandas.core.frame.DataFrame'>\n",
      "Int64Index: 2908309 entries, 101736 to 108705\n",
      "Data columns (total 3 columns):\n",
      " #   Column        Dtype         \n",
      "---  ------        -----         \n",
      " 0   ranking_date  datetime64[ns]\n",
      " 1   player_rank   Int64         \n",
      " 2   points        Int64         \n",
      "dtypes: Int64(2), datetime64[ns](1)\n",
      "memory usage: 94.3 MB\n"
     ]
    },
    {
     "data": {
      "text/html": [
       "<div>\n",
       "<style scoped>\n",
       "    .dataframe tbody tr th:only-of-type {\n",
       "        vertical-align: middle;\n",
       "    }\n",
       "\n",
       "    .dataframe tbody tr th {\n",
       "        vertical-align: top;\n",
       "    }\n",
       "\n",
       "    .dataframe thead th {\n",
       "        text-align: right;\n",
       "    }\n",
       "</style>\n",
       "<table border=\"1\" class=\"dataframe\">\n",
       "  <thead>\n",
       "    <tr style=\"text-align: right;\">\n",
       "      <th></th>\n",
       "      <th>ranking_date</th>\n",
       "      <th>player_rank</th>\n",
       "      <th>points</th>\n",
       "    </tr>\n",
       "    <tr>\n",
       "      <th>player_id</th>\n",
       "      <th></th>\n",
       "      <th></th>\n",
       "      <th></th>\n",
       "    </tr>\n",
       "  </thead>\n",
       "  <tbody>\n",
       "    <tr>\n",
       "      <th>101736</th>\n",
       "      <td>2000-01-10</td>\n",
       "      <td>1</td>\n",
       "      <td>4135</td>\n",
       "    </tr>\n",
       "    <tr>\n",
       "      <th>102338</th>\n",
       "      <td>2000-01-10</td>\n",
       "      <td>2</td>\n",
       "      <td>2915</td>\n",
       "    </tr>\n",
       "    <tr>\n",
       "      <th>101948</th>\n",
       "      <td>2000-01-10</td>\n",
       "      <td>3</td>\n",
       "      <td>2419</td>\n",
       "    </tr>\n",
       "    <tr>\n",
       "      <th>103017</th>\n",
       "      <td>2000-01-10</td>\n",
       "      <td>4</td>\n",
       "      <td>2184</td>\n",
       "    </tr>\n",
       "    <tr>\n",
       "      <th>102856</th>\n",
       "      <td>2000-01-10</td>\n",
       "      <td>5</td>\n",
       "      <td>2169</td>\n",
       "    </tr>\n",
       "  </tbody>\n",
       "</table>\n",
       "</div>"
      ],
      "text/plain": [
       "          ranking_date  player_rank  points\n",
       "player_id                                  \n",
       "101736      2000-01-10            1    4135\n",
       "102338      2000-01-10            2    2915\n",
       "101948      2000-01-10            3    2419\n",
       "103017      2000-01-10            4    2184\n",
       "102856      2000-01-10            5    2169"
      ]
     },
     "execution_count": 8,
     "metadata": {},
     "output_type": "execute_result"
    }
   ],
   "source": [
    "rankings = pd.concat(rankings_list)\n",
    "\n",
    "# 'rank' is a pandas function, so take care not to name any columns as such.\n",
    "rankings.columns = ['ranking_date', 'player_rank', 'player_id', 'points']\n",
    "\n",
    "rankings.player_rank = rankings.player_rank.astype('Int64')\n",
    "rankings.points = rankings.points.astype('Int64')\n",
    "\n",
    "rankings.set_index('player_id', inplace=True)\n",
    "\n",
    "rankings.info()\n",
    "rankings.head()"
   ]
  },
  {
   "cell_type": "code",
   "execution_count": 9,
   "metadata": {},
   "outputs": [
    {
     "data": {
      "text/plain": [
       "False    1644678\n",
       "True     1263631\n",
       "dtype: int64"
      ]
     },
     "execution_count": 9,
     "metadata": {},
     "output_type": "execute_result"
    }
   ],
   "source": [
    "rankings.duplicated().value_counts()"
   ]
  },
  {
   "cell_type": "code",
   "execution_count": 10,
   "metadata": {},
   "outputs": [
    {
     "name": "stdout",
     "output_type": "stream",
     "text": [
      "<class 'pandas.core.frame.DataFrame'>\n",
      "MultiIndex: 2908309 entries, (100001, Timestamp('1977-07-04 00:00:00')) to (209955, Timestamp('2021-03-01 00:00:00'))\n",
      "Data columns (total 3 columns):\n",
      " #   Column       Dtype          \n",
      "---  ------       -----          \n",
      " 0   player_rank  Int64          \n",
      " 1   points       Int64          \n",
      " 2   player_age   timedelta64[ns]\n",
      "dtypes: Int64(2), timedelta64[ns](1)\n",
      "memory usage: 83.3 MB\n"
     ]
    },
    {
     "data": {
      "text/html": [
       "<div>\n",
       "<style scoped>\n",
       "    .dataframe tbody tr th:only-of-type {\n",
       "        vertical-align: middle;\n",
       "    }\n",
       "\n",
       "    .dataframe tbody tr th {\n",
       "        vertical-align: top;\n",
       "    }\n",
       "\n",
       "    .dataframe thead th {\n",
       "        text-align: right;\n",
       "    }\n",
       "</style>\n",
       "<table border=\"1\" class=\"dataframe\">\n",
       "  <thead>\n",
       "    <tr style=\"text-align: right;\">\n",
       "      <th></th>\n",
       "      <th></th>\n",
       "      <th>player_rank</th>\n",
       "      <th>points</th>\n",
       "      <th>player_age</th>\n",
       "    </tr>\n",
       "    <tr>\n",
       "      <th>player_id</th>\n",
       "      <th>ranking_date</th>\n",
       "      <th></th>\n",
       "      <th></th>\n",
       "      <th></th>\n",
       "    </tr>\n",
       "  </thead>\n",
       "  <tbody>\n",
       "    <tr>\n",
       "      <th rowspan=\"3\" valign=\"top\">100001</th>\n",
       "      <th>1977-07-04</th>\n",
       "      <td>366</td>\n",
       "      <td>&lt;NA&gt;</td>\n",
       "      <td>23235 days</td>\n",
       "    </tr>\n",
       "    <tr>\n",
       "      <th>1978-01-02</th>\n",
       "      <td>414</td>\n",
       "      <td>&lt;NA&gt;</td>\n",
       "      <td>23417 days</td>\n",
       "    </tr>\n",
       "    <tr>\n",
       "      <th>1978-01-16</th>\n",
       "      <td>397</td>\n",
       "      <td>&lt;NA&gt;</td>\n",
       "      <td>23431 days</td>\n",
       "    </tr>\n",
       "    <tr>\n",
       "      <th rowspan=\"2\" valign=\"top\">100002</th>\n",
       "      <th>1975-03-10</th>\n",
       "      <td>355</td>\n",
       "      <td>&lt;NA&gt;</td>\n",
       "      <td>19621 days</td>\n",
       "    </tr>\n",
       "    <tr>\n",
       "      <th>1975-04-14</th>\n",
       "      <td>383</td>\n",
       "      <td>&lt;NA&gt;</td>\n",
       "      <td>19656 days</td>\n",
       "    </tr>\n",
       "  </tbody>\n",
       "</table>\n",
       "</div>"
      ],
      "text/plain": [
       "                        player_rank  points player_age\n",
       "player_id ranking_date                                \n",
       "100001    1977-07-04            366    <NA> 23235 days\n",
       "          1978-01-02            414    <NA> 23417 days\n",
       "          1978-01-16            397    <NA> 23431 days\n",
       "100002    1975-03-10            355    <NA> 19621 days\n",
       "          1975-04-14            383    <NA> 19656 days"
      ]
     },
     "execution_count": 10,
     "metadata": {},
     "output_type": "execute_result"
    }
   ],
   "source": [
    "rankings['player_age'] = rankings.ranking_date - players.loc[rankings.index].birthdate\n",
    "\n",
    "rankings.reset_index(inplace=True)\n",
    "rankings.set_index(['player_id', 'ranking_date'], inplace=True)\n",
    "rankings.sort_index(inplace=True)\n",
    "\n",
    "rankings.info()\n",
    "rankings.head()"
   ]
  },
  {
   "cell_type": "code",
   "execution_count": 11,
   "metadata": {},
   "outputs": [
    {
     "name": "stdout",
     "output_type": "stream",
     "text": [
      "<class 'pandas.core.frame.DataFrame'>\n",
      "MultiIndex: 2908309 entries, (100001, Timestamp('1977-07-04 00:00:00')) to (209955, Timestamp('2021-03-01 00:00:00'))\n",
      "Data columns (total 4 columns):\n",
      " #   Column       Dtype          \n",
      "---  ------       -----          \n",
      " 0   player_rank  Int64          \n",
      " 1   points       Int64          \n",
      " 2   player_age   timedelta64[ns]\n",
      " 3   best_rank    Int64          \n",
      "dtypes: Int64(3), timedelta64[ns](1)\n",
      "memory usage: 108.3 MB\n"
     ]
    },
    {
     "data": {
      "text/html": [
       "<div>\n",
       "<style scoped>\n",
       "    .dataframe tbody tr th:only-of-type {\n",
       "        vertical-align: middle;\n",
       "    }\n",
       "\n",
       "    .dataframe tbody tr th {\n",
       "        vertical-align: top;\n",
       "    }\n",
       "\n",
       "    .dataframe thead th {\n",
       "        text-align: right;\n",
       "    }\n",
       "</style>\n",
       "<table border=\"1\" class=\"dataframe\">\n",
       "  <thead>\n",
       "    <tr style=\"text-align: right;\">\n",
       "      <th></th>\n",
       "      <th></th>\n",
       "      <th>player_rank</th>\n",
       "      <th>points</th>\n",
       "      <th>player_age</th>\n",
       "      <th>best_rank</th>\n",
       "    </tr>\n",
       "    <tr>\n",
       "      <th>player_id</th>\n",
       "      <th>ranking_date</th>\n",
       "      <th></th>\n",
       "      <th></th>\n",
       "      <th></th>\n",
       "      <th></th>\n",
       "    </tr>\n",
       "  </thead>\n",
       "  <tbody>\n",
       "    <tr>\n",
       "      <th rowspan=\"3\" valign=\"top\">100001</th>\n",
       "      <th>1977-07-04</th>\n",
       "      <td>366</td>\n",
       "      <td>&lt;NA&gt;</td>\n",
       "      <td>23235 days</td>\n",
       "      <td>366</td>\n",
       "    </tr>\n",
       "    <tr>\n",
       "      <th>1978-01-02</th>\n",
       "      <td>414</td>\n",
       "      <td>&lt;NA&gt;</td>\n",
       "      <td>23417 days</td>\n",
       "      <td>366</td>\n",
       "    </tr>\n",
       "    <tr>\n",
       "      <th>1978-01-16</th>\n",
       "      <td>397</td>\n",
       "      <td>&lt;NA&gt;</td>\n",
       "      <td>23431 days</td>\n",
       "      <td>366</td>\n",
       "    </tr>\n",
       "    <tr>\n",
       "      <th rowspan=\"2\" valign=\"top\">100002</th>\n",
       "      <th>1975-03-10</th>\n",
       "      <td>355</td>\n",
       "      <td>&lt;NA&gt;</td>\n",
       "      <td>19621 days</td>\n",
       "      <td>355</td>\n",
       "    </tr>\n",
       "    <tr>\n",
       "      <th>1975-04-14</th>\n",
       "      <td>383</td>\n",
       "      <td>&lt;NA&gt;</td>\n",
       "      <td>19656 days</td>\n",
       "      <td>355</td>\n",
       "    </tr>\n",
       "  </tbody>\n",
       "</table>\n",
       "</div>"
      ],
      "text/plain": [
       "                        player_rank  points player_age  best_rank\n",
       "player_id ranking_date                                           \n",
       "100001    1977-07-04            366    <NA> 23235 days        366\n",
       "          1978-01-02            414    <NA> 23417 days        366\n",
       "          1978-01-16            397    <NA> 23431 days        366\n",
       "100002    1975-03-10            355    <NA> 19621 days        355\n",
       "          1975-04-14            383    <NA> 19656 days        355"
      ]
     },
     "execution_count": 11,
     "metadata": {},
     "output_type": "execute_result"
    }
   ],
   "source": [
    "rankings['best_rank'] = (rankings.reset_index()\n",
    "                                .groupby('player_id')\n",
    "                                .player_rank.cummin()\n",
    "                                .astype('Int64')\n",
    "                                .values)\n",
    "\n",
    "rankings.info()\n",
    "rankings.head()"
   ]
  },
  {
   "cell_type": "code",
   "execution_count": 12,
   "metadata": {},
   "outputs": [],
   "source": [
    "#rankings.to_csv('../Resources/tennis_clean/atp_rankings.csv')"
   ]
  },
  {
   "cell_type": "markdown",
   "metadata": {},
   "source": [
    "## Top 100 Data"
   ]
  },
  {
   "cell_type": "code",
   "execution_count": 13,
   "metadata": {},
   "outputs": [],
   "source": [
    "top_rankings = rankings.groupby('player_id').filter(lambda x: x.player_rank.min() <= 100)"
   ]
  },
  {
   "cell_type": "code",
   "execution_count": 14,
   "metadata": {},
   "outputs": [
    {
     "data": {
      "text/plain": [
       "1106"
      ]
     },
     "execution_count": 14,
     "metadata": {},
     "output_type": "execute_result"
    }
   ],
   "source": [
    "top_rankings.reset_index('ranking_date').index.unique().size"
   ]
  },
  {
   "cell_type": "code",
   "execution_count": 15,
   "metadata": {},
   "outputs": [
    {
     "name": "stdout",
     "output_type": "stream",
     "text": [
      "<class 'pandas.core.frame.DataFrame'>\n",
      "Int64Index: 550853 entries, 100011 to 206173\n",
      "Data columns (total 5 columns):\n",
      " #   Column        Non-Null Count   Dtype          \n",
      "---  ------        --------------   -----          \n",
      " 0   ranking_date  550853 non-null  datetime64[ns] \n",
      " 1   player_rank   550853 non-null  Int64          \n",
      " 2   points        452310 non-null  Int64          \n",
      " 3   player_age    550369 non-null  timedelta64[ns]\n",
      " 4   best_rank     550853 non-null  Int64          \n",
      "dtypes: Int64(3), datetime64[ns](1), timedelta64[ns](1)\n",
      "memory usage: 26.8 MB\n"
     ]
    },
    {
     "data": {
      "text/html": [
       "<div>\n",
       "<style scoped>\n",
       "    .dataframe tbody tr th:only-of-type {\n",
       "        vertical-align: middle;\n",
       "    }\n",
       "\n",
       "    .dataframe tbody tr th {\n",
       "        vertical-align: top;\n",
       "    }\n",
       "\n",
       "    .dataframe thead th {\n",
       "        text-align: right;\n",
       "    }\n",
       "</style>\n",
       "<table border=\"1\" class=\"dataframe\">\n",
       "  <thead>\n",
       "    <tr style=\"text-align: right;\">\n",
       "      <th></th>\n",
       "      <th>ranking_date</th>\n",
       "      <th>player_rank</th>\n",
       "      <th>points</th>\n",
       "      <th>player_age</th>\n",
       "      <th>best_rank</th>\n",
       "    </tr>\n",
       "    <tr>\n",
       "      <th>player_id</th>\n",
       "      <th></th>\n",
       "      <th></th>\n",
       "      <th></th>\n",
       "      <th></th>\n",
       "      <th></th>\n",
       "    </tr>\n",
       "  </thead>\n",
       "  <tbody>\n",
       "    <tr>\n",
       "      <th>100011</th>\n",
       "      <td>1973-08-27</td>\n",
       "      <td>114</td>\n",
       "      <td>&lt;NA&gt;</td>\n",
       "      <td>14937 days</td>\n",
       "      <td>114</td>\n",
       "    </tr>\n",
       "    <tr>\n",
       "      <th>100011</th>\n",
       "      <td>1973-09-17</td>\n",
       "      <td>114</td>\n",
       "      <td>&lt;NA&gt;</td>\n",
       "      <td>14958 days</td>\n",
       "      <td>114</td>\n",
       "    </tr>\n",
       "    <tr>\n",
       "      <th>100011</th>\n",
       "      <td>1973-10-01</td>\n",
       "      <td>101</td>\n",
       "      <td>&lt;NA&gt;</td>\n",
       "      <td>14972 days</td>\n",
       "      <td>101</td>\n",
       "    </tr>\n",
       "    <tr>\n",
       "      <th>100011</th>\n",
       "      <td>1973-10-15</td>\n",
       "      <td>96</td>\n",
       "      <td>&lt;NA&gt;</td>\n",
       "      <td>14986 days</td>\n",
       "      <td>96</td>\n",
       "    </tr>\n",
       "    <tr>\n",
       "      <th>100011</th>\n",
       "      <td>1973-11-05</td>\n",
       "      <td>102</td>\n",
       "      <td>&lt;NA&gt;</td>\n",
       "      <td>15007 days</td>\n",
       "      <td>96</td>\n",
       "    </tr>\n",
       "  </tbody>\n",
       "</table>\n",
       "</div>"
      ],
      "text/plain": [
       "          ranking_date  player_rank  points player_age  best_rank\n",
       "player_id                                                        \n",
       "100011      1973-08-27          114    <NA> 14937 days        114\n",
       "100011      1973-09-17          114    <NA> 14958 days        114\n",
       "100011      1973-10-01          101    <NA> 14972 days        101\n",
       "100011      1973-10-15           96    <NA> 14986 days         96\n",
       "100011      1973-11-05          102    <NA> 15007 days         96"
      ]
     },
     "execution_count": 15,
     "metadata": {},
     "output_type": "execute_result"
    }
   ],
   "source": [
    "top_rankings = top_rankings.reset_index('ranking_date')\n",
    "top_rankings.info()\n",
    "top_rankings.head()"
   ]
  },
  {
   "cell_type": "code",
   "execution_count": 16,
   "metadata": {},
   "outputs": [],
   "source": [
    "top_100 = top_rankings.index.unique()"
   ]
  },
  {
   "cell_type": "code",
   "execution_count": 17,
   "metadata": {
    "scrolled": true
   },
   "outputs": [
    {
     "data": {
      "text/html": [
       "<div>\n",
       "<style scoped>\n",
       "    .dataframe tbody tr th:only-of-type {\n",
       "        vertical-align: middle;\n",
       "    }\n",
       "\n",
       "    .dataframe tbody tr th {\n",
       "        vertical-align: top;\n",
       "    }\n",
       "\n",
       "    .dataframe thead th {\n",
       "        text-align: right;\n",
       "    }\n",
       "</style>\n",
       "<table border=\"1\" class=\"dataframe\">\n",
       "  <thead>\n",
       "    <tr style=\"text-align: right;\">\n",
       "      <th></th>\n",
       "      <th>name_first</th>\n",
       "      <th>name_last</th>\n",
       "      <th>hand</th>\n",
       "      <th>birthdate</th>\n",
       "      <th>country</th>\n",
       "    </tr>\n",
       "    <tr>\n",
       "      <th>player_id</th>\n",
       "      <th></th>\n",
       "      <th></th>\n",
       "      <th></th>\n",
       "      <th></th>\n",
       "      <th></th>\n",
       "    </tr>\n",
       "  </thead>\n",
       "  <tbody>\n",
       "    <tr>\n",
       "      <th>100011</th>\n",
       "      <td>Torben</td>\n",
       "      <td>Ulrich</td>\n",
       "      <td>L</td>\n",
       "      <td>1932-10-04</td>\n",
       "      <td>DEN</td>\n",
       "    </tr>\n",
       "    <tr>\n",
       "      <th>100016</th>\n",
       "      <td>Ken</td>\n",
       "      <td>Rosewall</td>\n",
       "      <td>R</td>\n",
       "      <td>1934-11-02</td>\n",
       "      <td>AUS</td>\n",
       "    </tr>\n",
       "    <tr>\n",
       "      <th>100022</th>\n",
       "      <td>Roy</td>\n",
       "      <td>Emerson</td>\n",
       "      <td>R</td>\n",
       "      <td>1936-11-03</td>\n",
       "      <td>AUS</td>\n",
       "    </tr>\n",
       "    <tr>\n",
       "      <th>100025</th>\n",
       "      <td>Barry</td>\n",
       "      <td>Phillips Moore</td>\n",
       "      <td>R</td>\n",
       "      <td>1937-07-09</td>\n",
       "      <td>AUS</td>\n",
       "    </tr>\n",
       "    <tr>\n",
       "      <th>100026</th>\n",
       "      <td>Andres</td>\n",
       "      <td>Gimeno</td>\n",
       "      <td>R</td>\n",
       "      <td>1937-08-03</td>\n",
       "      <td>ESP</td>\n",
       "    </tr>\n",
       "  </tbody>\n",
       "</table>\n",
       "</div>"
      ],
      "text/plain": [
       "          name_first       name_last hand  birthdate country\n",
       "player_id                                                   \n",
       "100011        Torben          Ulrich    L 1932-10-04     DEN\n",
       "100016           Ken        Rosewall    R 1934-11-02     AUS\n",
       "100022           Roy         Emerson    R 1936-11-03     AUS\n",
       "100025         Barry  Phillips Moore    R 1937-07-09     AUS\n",
       "100026        Andres          Gimeno    R 1937-08-03     ESP"
      ]
     },
     "execution_count": 17,
     "metadata": {},
     "output_type": "execute_result"
    }
   ],
   "source": [
    "top_100_players = players.loc[top_100]\n",
    "top_100_players.head()"
   ]
  },
  {
   "cell_type": "code",
   "execution_count": 18,
   "metadata": {},
   "outputs": [],
   "source": [
    "#top_rankings.to_csv('../Resources/tennis_clean/atp_top_100_rankings.csv')"
   ]
  },
  {
   "cell_type": "code",
   "execution_count": 19,
   "metadata": {},
   "outputs": [],
   "source": [
    "#top_100_players.to_csv('../Resources/tennis_clean/atp_top_100_players.csv')"
   ]
  },
  {
   "cell_type": "markdown",
   "metadata": {},
   "source": [
    "## Match Data"
   ]
  },
  {
   "cell_type": "code",
   "execution_count": 20,
   "metadata": {},
   "outputs": [],
   "source": [
    "# I don't want any of the challenger or future match data, which is why I specify the first digit of the year.\n",
    "matches_files = glob.glob('../Resources/tennis_atp-master/atp_matches_[12]*')"
   ]
  },
  {
   "cell_type": "code",
   "execution_count": 21,
   "metadata": {},
   "outputs": [],
   "source": [
    "matches_list = [pd.read_csv(matches_file, parse_dates=['tourney_date']) for matches_file in matches_files]"
   ]
  },
  {
   "cell_type": "code",
   "execution_count": 22,
   "metadata": {},
   "outputs": [],
   "source": [
    "matches = pd.concat(matches_list, sort=False)"
   ]
  },
  {
   "cell_type": "code",
   "execution_count": 23,
   "metadata": {},
   "outputs": [
    {
     "data": {
      "text/plain": [
       "Index(['tourney_id', 'tourney_name', 'surface', 'draw_size', 'tourney_level',\n",
       "       'tourney_date', 'match_num', 'winner_id', 'winner_seed', 'winner_entry',\n",
       "       'winner_name', 'winner_hand', 'winner_ht', 'winner_ioc', 'winner_age',\n",
       "       'loser_id', 'loser_seed', 'loser_entry', 'loser_name', 'loser_hand',\n",
       "       'loser_ht', 'loser_ioc', 'loser_age', 'score', 'best_of', 'round',\n",
       "       'minutes', 'w_ace', 'w_df', 'w_svpt', 'w_1stIn', 'w_1stWon', 'w_2ndWon',\n",
       "       'w_SvGms', 'w_bpSaved', 'w_bpFaced', 'l_ace', 'l_df', 'l_svpt',\n",
       "       'l_1stIn', 'l_1stWon', 'l_2ndWon', 'l_SvGms', 'l_bpSaved', 'l_bpFaced',\n",
       "       'winner_rank', 'winner_rank_points', 'loser_rank', 'loser_rank_points'],\n",
       "      dtype='object')"
      ]
     },
     "execution_count": 23,
     "metadata": {},
     "output_type": "execute_result"
    }
   ],
   "source": [
    "matches.columns"
   ]
  },
  {
   "cell_type": "code",
   "execution_count": 24,
   "metadata": {
    "scrolled": true
   },
   "outputs": [],
   "source": [
    "matches_winners = matches[['tourney_id', 'match_num', 'tourney_name',\n",
    "                           'surface', 'draw_size', 'tourney_level', 'tourney_date',\n",
    "                           'winner_id', 'winner_name', 'loser_id', 'loser_name',\n",
    "                           'winner_seed', 'winner_entry', 'loser_seed', 'loser_entry',\n",
    "                           'score', 'best_of', 'round', 'minutes',\n",
    "                           'w_ace', 'w_df', 'w_svpt', 'l_ace', 'l_df', 'l_svpt',\n",
    "                           'w_1stIn', 'w_1stWon', 'w_2ndWon', 'l_1stIn', 'l_1stWon', 'l_2ndWon',\n",
    "                           'w_SvGms', 'w_bpSaved', 'w_bpFaced', 'l_SvGms', 'l_bpSaved', 'l_bpFaced',\n",
    "                           'winner_rank', 'winner_rank_points', 'loser_rank', 'loser_rank_points',\n",
    "                           'winner_ht', 'loser_ht']].copy()"
   ]
  },
  {
   "cell_type": "code",
   "execution_count": 25,
   "metadata": {},
   "outputs": [],
   "source": [
    "matches_losers = matches[['tourney_id', 'match_num', 'tourney_name',\n",
    "                           'surface', 'draw_size', 'tourney_level', 'tourney_date',\n",
    "                           'loser_id', 'loser_name', 'winner_id', 'winner_name',\n",
    "                           'loser_seed', 'loser_entry', 'winner_seed', 'winner_entry',\n",
    "                           'score', 'best_of', 'round', 'minutes',\n",
    "                           'l_ace', 'l_df', 'l_svpt', 'w_ace', 'w_df', 'w_svpt',\n",
    "                           'l_1stIn', 'l_1stWon', 'l_2ndWon', 'w_1stIn', 'w_1stWon', 'w_2ndWon',\n",
    "                           'l_SvGms', 'l_bpSaved', 'l_bpFaced', 'w_SvGms', 'w_bpSaved', 'w_bpFaced',\n",
    "                           'loser_rank', 'loser_rank_points', 'winner_rank', 'winner_rank_points',\n",
    "                           'loser_ht', 'winner_ht']].copy()"
   ]
  },
  {
   "cell_type": "code",
   "execution_count": 26,
   "metadata": {},
   "outputs": [],
   "source": [
    "renamed_columns = (['tournament_id', 'match_id', 'tournament_name',\n",
    "                    'surface', 'draw_size', 'tournament_level', 'tournament_date',\n",
    "                    'player_id', 'player_name', 'opponent_id', 'opponent_name',\n",
    "                    'player_seed', 'player_entry', 'opponent_seed', 'opponent_entry',\n",
    "                    'score', 'best_of', 'round_of', 'minutes',\n",
    "                    'aces', 'double_faults', 'service_points',\n",
    "                    'opponent_aces', 'opponent_double_faults', 'opponent_service_points',\n",
    "                    'first_serves', 'first_serves_won', 'second_serves_won',\n",
    "                    'opponent_first_serves', 'opponent_first_serves_won', 'opponent_second_serves_won',\n",
    "                    'service_games', 'break_points_saved', 'break_points_faced',\n",
    "                    'opponent_service_games', 'opponent_break_points_saved', 'opponent_break_points_faced',\n",
    "                    'player_rank', 'player_ranking_points', 'opponent_rank', 'opponent_ranking_points',\n",
    "                    'player_height', 'opponent_height'])\n",
    "\n",
    "matches_winners.columns = renamed_columns\n",
    "matches_losers.columns = renamed_columns"
   ]
  },
  {
   "cell_type": "code",
   "execution_count": 27,
   "metadata": {},
   "outputs": [],
   "source": [
    "matches_winners['result'] = 'W'\n",
    "matches_losers['result'] = 'L'"
   ]
  },
  {
   "cell_type": "code",
   "execution_count": 28,
   "metadata": {
    "scrolled": false
   },
   "outputs": [],
   "source": [
    "matches = pd.concat([matches_winners, matches_losers])\n",
    "matches.set_index(['player_id', 'tournament_id', 'match_id'], inplace=True)"
   ]
  },
  {
   "cell_type": "markdown",
   "metadata": {},
   "source": [
    "## Data Cleaning"
   ]
  },
  {
   "cell_type": "code",
   "execution_count": 29,
   "metadata": {
    "scrolled": false
   },
   "outputs": [
    {
     "name": "stderr",
     "output_type": "stream",
     "text": [
      "/usr/local/anaconda3/lib/python3.7/site-packages/IPython/core/interactiveshell.py:2858: PerformanceWarning: indexing past lexsort depth may impact performance.\n",
      "  raw_cell, store_history, silent, shell_futures)\n",
      "/usr/local/anaconda3/lib/python3.7/site-packages/IPython/core/async_helpers.py:68: PerformanceWarning: indexing past lexsort depth may impact performance.\n",
      "  coro.send(None)\n"
     ]
    }
   ],
   "source": [
    "# Corrections to errant data here\n",
    "# 1. 1991 Tokyo Outdoor tournament has an impossible value for Jim Courier's break point values.\n",
    "#    Fix: An analysis of the score shows that the values are offset by 4. These are corrected.\n",
    "# Courier\n",
    "matches.loc[(101793, '1991-329', 54), 'break_points_faced'] = 4.\n",
    "matches.loc[(101793, '1991-329', 54), 'break_points_saved'] = 0.\n",
    "# Courier\n",
    "matches.loc[(100656, '1991-329', 54), 'opponent_break_points_faced'] = 4.\n",
    "matches.loc[(100656, '1991-329', 54), 'opponent_break_points_saved'] = 0.\n",
    "# 2. 1991 Tokyo Outdoor tournament has an impossible value for Ivan Lendl's break point values.\n",
    "#    Fix: The score has too many possibilities to narrow it down, so I will set the break points to NaN to avoid\n",
    "#    propogating the errors any farther down the pipeline.\n",
    "# Lendl\n",
    "matches.loc[(100656, '1991-329', 55), 'break_points_faced'] = np.nan\n",
    "matches.loc[(100656, '1991-329', 55), 'break_points_saved'] = np.nan\n",
    "# Edberg\n",
    "matches.loc[(101222, '1991-329', 55), 'opponent_break_points_faced'] = np.nan\n",
    "matches.loc[(101222, '1991-329', 55), 'opponent_break_points_saved'] = np.nan\n",
    "\n",
    "# Lendl must have distracted stat taker, as these are the only two individual instances of mistakes in the dataset."
   ]
  },
  {
   "cell_type": "code",
   "execution_count": 30,
   "metadata": {},
   "outputs": [],
   "source": [
    "# 3. The 2003 Madrid Masters has many instances where the service points won column \n",
    "#    exceeds the total service points played. All instances of service points\n",
    "#    played and won are set to NaN for this tournament.\n",
    "# 'service_points', 'first_serves', 'first_serves_won', 'second_serves_won'\n",
    "\n",
    "madrid_2003_matches = matches.query('tournament_id == \\'2003-1536\\'').index\n",
    "matches.loc[madrid_2003_matches, 'service_points'] = np.nan\n",
    "matches.loc[madrid_2003_matches, 'first_serves'] = np.nan\n",
    "matches.loc[madrid_2003_matches, 'first_serves_won'] = np.nan\n",
    "matches.loc[madrid_2003_matches, 'second_serves_won'] = np.nan\n",
    "matches.loc[madrid_2003_matches, 'opponent_service_points'] = np.nan\n",
    "matches.loc[madrid_2003_matches, 'opponent_first_serves'] = np.nan\n",
    "matches.loc[madrid_2003_matches, 'opponent_first_serves_won'] = np.nan\n",
    "matches.loc[madrid_2003_matches, 'opponent_second_serves_won'] = np.nan"
   ]
  },
  {
   "cell_type": "code",
   "execution_count": 31,
   "metadata": {},
   "outputs": [],
   "source": [
    "long_long_matches = matches.query('tournament_id == \\'2016-M001\\' and match_id == 294 \\\n",
    "                                or tournament_id == \\'2017-0308\\' and match_id == 297').index\n",
    "matches.loc[long_long_matches, 'minutes'] = np.nan"
   ]
  },
  {
   "cell_type": "markdown",
   "metadata": {},
   "source": [
    "## Feature Generation"
   ]
  },
  {
   "cell_type": "code",
   "execution_count": 32,
   "metadata": {
    "scrolled": true
   },
   "outputs": [
    {
     "data": {
      "text/plain": [
       "(0.5989499144863037, 0.5981308411214953, 0.0, 1.0)"
      ]
     },
     "execution_count": 32,
     "metadata": {},
     "output_type": "execute_result"
    },
    {
     "data": {
      "image/png": "[encoded data removed]",
      "text/plain": [
       "<Figure size 432x288 with 1 Axes>"
      ]
     },
     "metadata": {
      "needs_background": "light"
     },
     "output_type": "display_data"
    }
   ],
   "source": [
    "matches['first_serve_percentage'] = matches.first_serves / matches.service_points\n",
    "matches['opponent_first_serve_percentage'] = matches.opponent_first_serves / matches.opponent_service_points\n",
    "\n",
    "matches.first_serve_percentage.plot(kind='hist', bins=30)\n",
    "\n",
    "(matches.first_serve_percentage.mean(), matches.first_serve_percentage.median(),\n",
    " matches.first_serve_percentage.min(), matches.first_serve_percentage.max())"
   ]
  },
  {
   "cell_type": "code",
   "execution_count": 33,
   "metadata": {},
   "outputs": [
    {
     "data": {
      "text/plain": [
       "(0.7103110356134068, 0.7142857142857143, 0.0, 1.0)"
      ]
     },
     "execution_count": 33,
     "metadata": {},
     "output_type": "execute_result"
    },
    {
     "data": {
      "image/png": "[encoded data removed]",
      "text/plain": [
       "<Figure size 432x288 with 1 Axes>"
      ]
     },
     "metadata": {
      "needs_background": "light"
     },
     "output_type": "display_data"
    }
   ],
   "source": [
    "matches['first_serves_won_percentage'] = matches.first_serves_won / matches.first_serves\n",
    "matches['opponent_first_serves_won_percentage'] = matches.opponent_first_serves_won / matches.opponent_first_serves\n",
    "\n",
    "matches.first_serves_won_percentage.plot(kind='hist', bins=30)\n",
    "\n",
    "(matches.first_serves_won_percentage.mean(), matches.first_serves_won_percentage.median(),\n",
    "matches.first_serves_won_percentage.min(), matches.first_serves_won_percentage.max())"
   ]
  },
  {
   "cell_type": "code",
   "execution_count": 34,
   "metadata": {},
   "outputs": [],
   "source": [
    "matches['second_serves'] = (matches.service_points - matches.first_serves)\n",
    "matches['opponent_second_serves'] = (matches.opponent_service_points - matches.opponent_first_serves)"
   ]
  },
  {
   "cell_type": "code",
   "execution_count": 35,
   "metadata": {},
   "outputs": [
    {
     "data": {
      "text/plain": [
       "(0.5050139335937774, 0.5, 0.0, 1.0)"
      ]
     },
     "execution_count": 35,
     "metadata": {},
     "output_type": "execute_result"
    },
    {
     "data": {
      "image/png": "[encoded data removed]",
      "text/plain": [
       "<Figure size 432x288 with 1 Axes>"
      ]
     },
     "metadata": {
      "needs_background": "light"
     },
     "output_type": "display_data"
    }
   ],
   "source": [
    "matches['second_serves_won_percentage'] = matches.second_serves_won / matches.second_serves\n",
    "matches['opponent_second_serves_won_percentage'] = (matches.opponent_second_serves_won / \n",
    "                                                    matches.opponent_second_serves)\n",
    "\n",
    "matches.second_serves_won_percentage.plot(kind='hist', bins=30)\n",
    "\n",
    "(matches.second_serves_won_percentage.mean(), matches.second_serves_won_percentage.median(),\n",
    "matches.second_serves_won_percentage.min(), matches.second_serves_won_percentage.max())"
   ]
  },
  {
   "cell_type": "code",
   "execution_count": 36,
   "metadata": {
    "scrolled": false
   },
   "outputs": [
    {
     "data": {
      "text/plain": [
       "(0.5777339791379498, 0.6, 0.0, 1.0)"
      ]
     },
     "execution_count": 36,
     "metadata": {},
     "output_type": "execute_result"
    },
    {
     "data": {
      "image/png": "[encoded data removed]",
      "text/plain": [
       "<Figure size 432x288 with 1 Axes>"
      ]
     },
     "metadata": {
      "needs_background": "light"
     },
     "output_type": "display_data"
    }
   ],
   "source": [
    "matches['break_points_saved_percentage'] = (matches.break_points_saved / matches.break_points_faced)\n",
    "matches['opponent_break_points_saved_percentage'] = (matches.opponent_break_points_saved / \n",
    "                                                    matches.opponent_break_points_faced)\n",
    "\n",
    "matches.break_points_saved_percentage.plot(kind='hist', bins=30)\n",
    "\n",
    "# Initially two data points resulted in a negative percentage, and were corrected. \n",
    "(matches.break_points_saved_percentage.mean(), matches.break_points_saved_percentage.median(),\n",
    " matches.break_points_saved_percentage.min(), matches.break_points_saved_percentage.max())"
   ]
  },
  {
   "cell_type": "code",
   "execution_count": 37,
   "metadata": {},
   "outputs": [
    {
     "data": {
      "text/plain": [
       "(0.42226602086208453, 0.4, 0.0, 1.0)"
      ]
     },
     "execution_count": 37,
     "metadata": {},
     "output_type": "execute_result"
    },
    {
     "data": {
      "image/png": "[encoded data removed]",
      "text/plain": [
       "<Figure size 432x288 with 1 Axes>"
      ]
     },
     "metadata": {
      "needs_background": "light"
     },
     "output_type": "display_data"
    }
   ],
   "source": [
    "matches['break_points_won'] = matches.opponent_break_points_faced - matches.opponent_break_points_saved\n",
    "matches['opponent_break_points_won'] = matches.break_points_faced - matches.break_points_saved\n",
    "\n",
    "matches['break_points_won_percentage'] = (matches.break_points_won / \n",
    "                                          matches.opponent_break_points_faced)\n",
    "matches['opponent_break_points_won_percentage'] = (matches.opponent_break_points_won / \n",
    "                                                   matches.break_points_faced)\n",
    "\n",
    "matches.break_points_won_percentage.plot(kind='hist', bins=30)\n",
    "\n",
    "# Initially two data points resulted in a negative percentage, and were corrected. \n",
    "(matches.break_points_won_percentage.mean(), matches.break_points_won_percentage.median(),\n",
    " matches.break_points_won_percentage.min(), matches.break_points_won_percentage.max())"
   ]
  },
  {
   "cell_type": "code",
   "execution_count": 38,
   "metadata": {},
   "outputs": [
    {
     "data": {
      "text/plain": [
       "(0.6264663910599169, 0.6285714285714286, 0.0, 1.0)"
      ]
     },
     "execution_count": 38,
     "metadata": {},
     "output_type": "execute_result"
    },
    {
     "data": {
      "image/png": "[encoded data removed]",
      "text/plain": [
       "<Figure size 432x288 with 1 Axes>"
      ]
     },
     "metadata": {
      "needs_background": "light"
     },
     "output_type": "display_data"
    }
   ],
   "source": [
    "matches['service_points_won'] = matches.first_serves_won + matches.second_serves_won\n",
    "matches['service_points_won_percentage'] = matches.service_points_won / matches.service_points\n",
    "\n",
    "matches['opponent_service_points_won'] = (matches.opponent_first_serves_won + \n",
    "                                          matches.opponent_second_serves_won)\n",
    "matches['opponent_service_points_won_percentage'] = (matches.opponent_service_points_won / \n",
    "                                                     matches.opponent_service_points)\n",
    "\n",
    "matches.service_points_won_percentage.plot(kind='hist', bins=30)\n",
    "\n",
    "(matches.service_points_won_percentage.mean(), matches.service_points_won_percentage.median(),\n",
    " matches.service_points_won_percentage.min(), matches.service_points_won_percentage.max())"
   ]
  },
  {
   "cell_type": "code",
   "execution_count": 39,
   "metadata": {},
   "outputs": [
    {
     "data": {
      "text/plain": [
       "(158.91444984635143, 148.0, 1.0, 980.0)"
      ]
     },
     "execution_count": 39,
     "metadata": {},
     "output_type": "execute_result"
    },
    {
     "data": {
      "image/png": "[encoded data removed]",
      "text/plain": [
       "<Figure size 432x288 with 1 Axes>"
      ]
     },
     "metadata": {
      "needs_background": "light"
     },
     "output_type": "display_data"
    }
   ],
   "source": [
    "matches['points'] = matches.service_points + matches.opponent_service_points\n",
    "\n",
    "matches.points.plot(kind='hist', bins=100)\n",
    "\n",
    "matches.points.mean(), matches.points.median(), matches.points.min(), matches.points.max() "
   ]
  },
  {
   "cell_type": "code",
   "execution_count": 40,
   "metadata": {},
   "outputs": [
    {
     "data": {
      "text/plain": [
       "(79.45722492317572, 74.0, 0.0, 491.0)"
      ]
     },
     "execution_count": 40,
     "metadata": {},
     "output_type": "execute_result"
    },
    {
     "data": {
      "image/png": "[encoded data removed]",
      "text/plain": [
       "<Figure size 432x288 with 1 Axes>"
      ]
     },
     "metadata": {
      "needs_background": "light"
     },
     "output_type": "display_data"
    }
   ],
   "source": [
    "matches['return_points'] = matches.points - matches.service_points\n",
    "matches['opponent_return_points'] = matches.points - matches.opponent_service_points\n",
    "\n",
    "matches.return_points.plot(kind='hist', bins=100)\n",
    "\n",
    "(matches.return_points.mean(), matches.return_points.median(),\n",
    "matches.return_points.min(), matches.return_points.max())"
   ]
  },
  {
   "cell_type": "code",
   "execution_count": 41,
   "metadata": {},
   "outputs": [
    {
     "data": {
      "text/plain": [
       "(0.37353360894043813, 0.37142857142857144, 0.0, 1.0)"
      ]
     },
     "execution_count": 41,
     "metadata": {},
     "output_type": "execute_result"
    },
    {
     "data": {
      "image/png": "[encoded data removed]",
      "text/plain": [
       "<Figure size 432x288 with 1 Axes>"
      ]
     },
     "metadata": {
      "needs_background": "light"
     },
     "output_type": "display_data"
    }
   ],
   "source": [
    "matches['return_points_won'] = matches.return_points - matches.opponent_service_points_won\n",
    "matches['return_points_won_percentage'] = matches.return_points_won / matches.return_points\n",
    "\n",
    "matches['opponent_return_points_won'] = matches.opponent_return_points - matches.service_points_won\n",
    "matches['opponent_return_points_won_percentage'] = (matches.opponent_return_points_won / \n",
    "                                                    matches.opponent_return_points)\n",
    "\n",
    "matches.return_points_won_percentage.plot(kind='hist', bins=30)\n",
    "\n",
    "(matches.return_points_won_percentage.mean(), matches.return_points_won_percentage.median(),\n",
    "matches.return_points_won_percentage.min(), matches.return_points_won_percentage.max())"
   ]
  },
  {
   "cell_type": "code",
   "execution_count": 42,
   "metadata": {},
   "outputs": [
    {
     "data": {
      "text/plain": [
       "(0.28968896438700814, 0.28968896438700814, 0.0, 1.0)"
      ]
     },
     "execution_count": 42,
     "metadata": {},
     "output_type": "execute_result"
    },
    {
     "data": {
      "image/png": "[encoded data removed]",
      "text/plain": [
       "<Figure size 432x288 with 1 Axes>"
      ]
     },
     "metadata": {
      "needs_background": "light"
     },
     "output_type": "display_data"
    }
   ],
   "source": [
    "matches['first_serve_return_points_won'] = (matches.opponent_first_serves - \n",
    "                                            matches.opponent_first_serves_won)\n",
    "matches['first_serve_return_points_won_percentage'] = (matches.first_serve_return_points_won / \n",
    "                                                       matches.opponent_first_serves)\n",
    "\n",
    "matches['opponent_first_serve_return_points_won'] = (matches.first_serves - matches.first_serves_won)\n",
    "matches['opponent_first_serve_return_points_won_percentage'] = (matches.opponent_first_serve_return_points_won / \n",
    "                                                                matches.first_serves)\n",
    "\n",
    "\n",
    "matches.first_serve_return_points_won_percentage.plot(kind='hist', bins=30)\n",
    "\n",
    "(matches.first_serve_return_points_won_percentage.mean(), matches.first_serve_return_points_won_percentage.mean(),\n",
    "matches.first_serve_return_points_won_percentage.min(), matches.first_serve_return_points_won_percentage.max())"
   ]
  },
  {
   "cell_type": "code",
   "execution_count": 43,
   "metadata": {},
   "outputs": [
    {
     "data": {
      "text/plain": [
       "(0.49498606640587633, 0.0, 1.0)"
      ]
     },
     "execution_count": 43,
     "metadata": {},
     "output_type": "execute_result"
    },
    {
     "data": {
      "image/png": "[encoded data removed]",
      "text/plain": [
       "<Figure size 432x288 with 1 Axes>"
      ]
     },
     "metadata": {
      "needs_background": "light"
     },
     "output_type": "display_data"
    }
   ],
   "source": [
    "matches['second_serve_return_points_won'] = (matches.opponent_service_points - \n",
    "                                             matches.opponent_first_serves - \n",
    "                                             matches.opponent_second_serves_won)\n",
    "matches['second_serve_return_points_won_percentage'] = (matches.second_serve_return_points_won / \n",
    "                                                        (matches.opponent_service_points - \n",
    "                                                         matches.opponent_first_serves))\n",
    "\n",
    "matches['opponent_second_serve_return_points_won'] = (matches.service_points - \n",
    "                                                      matches.first_serves - \n",
    "                                                      matches.second_serves_won)\n",
    "# loooong variable name alert\n",
    "matches['opponent_second_serve_return_points_won_percentage'] = (matches.opponent_second_serve_return_points_won / \n",
    "                                                                 (matches.service_points - \n",
    "                                                                  matches.first_serves))\n",
    "\n",
    "\n",
    "matches.second_serve_return_points_won_percentage.plot(kind='hist', bins=30)\n",
    "matches.second_serve_return_points_won_percentage.mean(), matches.second_serve_return_points_won_percentage.min(), matches.second_serve_return_points_won_percentage.max()"
   ]
  },
  {
   "cell_type": "code",
   "execution_count": 44,
   "metadata": {
    "scrolled": true
   },
   "outputs": [
    {
     "data": {
      "text/plain": [
       "(0.4999999999997953, 0.0, 1.0)"
      ]
     },
     "execution_count": 44,
     "metadata": {},
     "output_type": "execute_result"
    },
    {
     "data": {
      "image/png": "[encoded data removed]",
      "text/plain": [
       "<Figure size 432x288 with 1 Axes>"
      ]
     },
     "metadata": {
      "needs_background": "light"
     },
     "output_type": "display_data"
    }
   ],
   "source": [
    "matches['points_won'] = matches.service_points_won + matches.return_points_won\n",
    "matches['points_won_percentage'] = matches.points_won / matches.points\n",
    "\n",
    "matches['opponent_points_won'] = matches.opponent_service_points_won + matches.opponent_return_points_won\n",
    "matches['opponent_points_won_percentage'] = matches.opponent_points_won / matches.points\n",
    "\n",
    "matches.points_won_percentage.plot(kind='hist', bins=30)\n",
    "\n",
    "# I don't know what I expected.gif\n",
    "matches.points_won_percentage.mean(), matches.points_won_percentage.min(), matches.points_won_percentage.max()"
   ]
  },
  {
   "cell_type": "code",
   "execution_count": 45,
   "metadata": {
    "scrolled": true
   },
   "outputs": [
    {
     "data": {
      "text/plain": [
       "(0.0718519064893086, 0.05813953488372093, 0.0, 0.75)"
      ]
     },
     "execution_count": 45,
     "metadata": {},
     "output_type": "execute_result"
    },
    {
     "data": {
      "image/png": "[encoded data removed]",
      "text/plain": [
       "<Figure size 432x288 with 1 Axes>"
      ]
     },
     "metadata": {
      "needs_background": "light"
     },
     "output_type": "display_data"
    }
   ],
   "source": [
    "matches['ace_rate'] = matches.aces / matches.service_points\n",
    "matches['opponent_ace_rate'] = matches.opponent_aces / matches.opponent_service_points\n",
    "\n",
    "matches.ace_rate.plot(kind='hist', bins=30)\n",
    "\n",
    "(matches.ace_rate.mean(), matches.ace_rate.median(),\n",
    " matches.ace_rate.min(), matches.ace_rate.max())"
   ]
  },
  {
   "cell_type": "code",
   "execution_count": 46,
   "metadata": {
    "scrolled": true
   },
   "outputs": [
    {
     "data": {
      "text/plain": [
       "(0.039488617437303884, 0.034782608695652174, 0.0, 0.6666666666666666)"
      ]
     },
     "execution_count": 46,
     "metadata": {},
     "output_type": "execute_result"
    },
    {
     "data": {
      "image/png": "[encoded data removed]",
      "text/plain": [
       "<Figure size 432x288 with 1 Axes>"
      ]
     },
     "metadata": {
      "needs_background": "light"
     },
     "output_type": "display_data"
    }
   ],
   "source": [
    "matches['double_fault_rate'] = matches.double_faults / matches.service_points\n",
    "matches['opponent_double_fault_rate'] = matches.opponent_double_faults / matches.opponent_service_points\n",
    "\n",
    "matches.ace_rate.plot(kind='hist', bins=30)\n",
    "\n",
    "(matches.double_fault_rate.mean(), matches.double_fault_rate.median(),\n",
    " matches.double_fault_rate.min(), matches.double_fault_rate.max())"
   ]
  },
  {
   "cell_type": "code",
   "execution_count": 47,
   "metadata": {
    "scrolled": false
   },
   "outputs": [
    {
     "data": {
      "text/plain": [
       "(0.03650695316640892, 0.03225806451612903, 0.0, 0.25)"
      ]
     },
     "execution_count": 47,
     "metadata": {},
     "output_type": "execute_result"
    },
    {
     "data": {
      "image/png": "[encoded data removed]",
      "text/plain": [
       "<Figure size 432x288 with 1 Axes>"
      ]
     },
     "metadata": {
      "needs_background": "light"
     },
     "output_type": "display_data"
    }
   ],
   "source": [
    "matches['break_rate'] = matches.break_points_won / matches.return_points\n",
    "matches['opponent_break_rate'] = matches.opponent_break_points_won / matches.opponent_return_points\n",
    "\n",
    "matches.break_rate.plot(kind='hist', bins=30)\n",
    "\n",
    "# Initially two data points resulted in a negative percentage, and were corrected. \n",
    "(matches.break_rate.mean(), matches.break_rate.median(),\n",
    " matches.break_rate.min(), matches.break_rate.max())"
   ]
  },
  {
   "cell_type": "code",
   "execution_count": 48,
   "metadata": {},
   "outputs": [
    {
     "data": {
      "text/plain": [
       "(1.5823857361644726, 1.5425531914893618, 0.15384615384615385, 122.0)"
      ]
     },
     "execution_count": 48,
     "metadata": {},
     "output_type": "execute_result"
    },
    {
     "data": {
      "image/png": "[encoded data removed]",
      "text/plain": [
       "<Figure size 432x288 with 1 Axes>"
      ]
     },
     "metadata": {
      "needs_background": "light"
     },
     "output_type": "display_data"
    }
   ],
   "source": [
    "matches['points_per_minute'] = matches.points / matches.minutes\n",
    "\n",
    "matches.points_per_minute.plot(kind='hist', bins=1000)\n",
    "plt.xlim(0,3)\n",
    "\n",
    "# Initially two data points resulted in a negative percentage, and were corrected. \n",
    "(matches.points_per_minute.mean(), matches.points_per_minute.median(),\n",
    " matches.points_per_minute.min(), matches.points_per_minute.max())"
   ]
  },
  {
   "cell_type": "code",
   "execution_count": 49,
   "metadata": {},
   "outputs": [
    {
     "data": {
      "text/plain": [
       "Index(['tournament_name', 'surface', 'draw_size', 'tournament_level',\n",
       "       'tournament_date', 'player_name', 'opponent_id', 'opponent_name',\n",
       "       'player_seed', 'player_entry', 'opponent_seed', 'opponent_entry',\n",
       "       'score', 'best_of', 'round_of', 'minutes', 'aces', 'double_faults',\n",
       "       'service_points', 'opponent_aces', 'opponent_double_faults',\n",
       "       'opponent_service_points', 'first_serves', 'first_serves_won',\n",
       "       'second_serves_won', 'opponent_first_serves',\n",
       "       'opponent_first_serves_won', 'opponent_second_serves_won',\n",
       "       'service_games', 'break_points_saved', 'break_points_faced',\n",
       "       'opponent_service_games', 'opponent_break_points_saved',\n",
       "       'opponent_break_points_faced', 'player_rank', 'player_ranking_points',\n",
       "       'opponent_rank', 'opponent_ranking_points', 'player_height',\n",
       "       'opponent_height', 'result', 'first_serve_percentage',\n",
       "       'opponent_first_serve_percentage', 'first_serves_won_percentage',\n",
       "       'opponent_first_serves_won_percentage', 'second_serves',\n",
       "       'opponent_second_serves', 'second_serves_won_percentage',\n",
       "       'opponent_second_serves_won_percentage',\n",
       "       'break_points_saved_percentage',\n",
       "       'opponent_break_points_saved_percentage', 'break_points_won',\n",
       "       'opponent_break_points_won', 'break_points_won_percentage',\n",
       "       'opponent_break_points_won_percentage', 'service_points_won',\n",
       "       'service_points_won_percentage', 'opponent_service_points_won',\n",
       "       'opponent_service_points_won_percentage', 'points', 'return_points',\n",
       "       'opponent_return_points', 'return_points_won',\n",
       "       'return_points_won_percentage', 'opponent_return_points_won',\n",
       "       'opponent_return_points_won_percentage',\n",
       "       'first_serve_return_points_won',\n",
       "       'first_serve_return_points_won_percentage',\n",
       "       'opponent_first_serve_return_points_won',\n",
       "       'opponent_first_serve_return_points_won_percentage',\n",
       "       'second_serve_return_points_won',\n",
       "       'second_serve_return_points_won_percentage',\n",
       "       'opponent_second_serve_return_points_won',\n",
       "       'opponent_second_serve_return_points_won_percentage', 'points_won',\n",
       "       'points_won_percentage', 'opponent_points_won',\n",
       "       'opponent_points_won_percentage', 'ace_rate', 'opponent_ace_rate',\n",
       "       'double_fault_rate', 'opponent_double_fault_rate', 'break_rate',\n",
       "       'opponent_break_rate', 'points_per_minute'],\n",
       "      dtype='object')"
      ]
     },
     "execution_count": 49,
     "metadata": {},
     "output_type": "execute_result"
    }
   ],
   "source": [
    "matches.columns"
   ]
  },
  {
   "cell_type": "code",
   "execution_count": 54,
   "metadata": {
    "scrolled": true
   },
   "outputs": [
    {
     "data": {
      "text/html": [
       "<div>\n",
       "<style scoped>\n",
       "    .dataframe tbody tr th:only-of-type {\n",
       "        vertical-align: middle;\n",
       "    }\n",
       "\n",
       "    .dataframe tbody tr th {\n",
       "        vertical-align: top;\n",
       "    }\n",
       "\n",
       "    .dataframe thead th {\n",
       "        text-align: right;\n",
       "    }\n",
       "</style>\n",
       "<table border=\"1\" class=\"dataframe\">\n",
       "  <thead>\n",
       "    <tr style=\"text-align: right;\">\n",
       "      <th></th>\n",
       "      <th></th>\n",
       "      <th></th>\n",
       "      <th>player_name</th>\n",
       "      <th>opponent_name</th>\n",
       "      <th>tournament_name</th>\n",
       "      <th>surface</th>\n",
       "      <th>draw_size</th>\n",
       "      <th>tournament_level</th>\n",
       "      <th>tournament_date</th>\n",
       "      <th>player_height</th>\n",
       "      <th>score</th>\n",
       "      <th>best_of</th>\n",
       "      <th>...</th>\n",
       "      <th>second_serves_won_percentage</th>\n",
       "      <th>first_serve_return_points_won</th>\n",
       "      <th>first_serve_return_points_won_percentage</th>\n",
       "      <th>second_serve_return_points_won</th>\n",
       "      <th>second_serve_return_points_won_percentage</th>\n",
       "      <th>break_points_faced</th>\n",
       "      <th>break_points_won</th>\n",
       "      <th>break_points_won_percentage</th>\n",
       "      <th>points_won</th>\n",
       "      <th>points_won_percentage</th>\n",
       "    </tr>\n",
       "    <tr>\n",
       "      <th>player_id</th>\n",
       "      <th>tournament_id</th>\n",
       "      <th>match_id</th>\n",
       "      <th></th>\n",
       "      <th></th>\n",
       "      <th></th>\n",
       "      <th></th>\n",
       "      <th></th>\n",
       "      <th></th>\n",
       "      <th></th>\n",
       "      <th></th>\n",
       "      <th></th>\n",
       "      <th></th>\n",
       "      <th></th>\n",
       "      <th></th>\n",
       "      <th></th>\n",
       "      <th></th>\n",
       "      <th></th>\n",
       "      <th></th>\n",
       "      <th></th>\n",
       "      <th></th>\n",
       "      <th></th>\n",
       "      <th></th>\n",
       "      <th></th>\n",
       "    </tr>\n",
       "  </thead>\n",
       "  <tbody>\n",
       "    <tr>\n",
       "      <th>105453</th>\n",
       "      <th>2019-M020</th>\n",
       "      <th>300</th>\n",
       "      <td>Kei Nishikori</td>\n",
       "      <td>Daniil Medvedev</td>\n",
       "      <td>Brisbane</td>\n",
       "      <td>Hard</td>\n",
       "      <td>32</td>\n",
       "      <td>A</td>\n",
       "      <td>2018-12-31</td>\n",
       "      <td>178.0</td>\n",
       "      <td>6-4 3-6 6-2</td>\n",
       "      <td>3</td>\n",
       "      <td>...</td>\n",
       "      <td>0.515152</td>\n",
       "      <td>20.0</td>\n",
       "      <td>0.370370</td>\n",
       "      <td>26.0</td>\n",
       "      <td>0.565217</td>\n",
       "      <td>6.0</td>\n",
       "      <td>5.0</td>\n",
       "      <td>0.333333</td>\n",
       "      <td>94.0</td>\n",
       "      <td>0.531073</td>\n",
       "    </tr>\n",
       "    <tr>\n",
       "      <th>106421</th>\n",
       "      <th>2019-M020</th>\n",
       "      <th>299</th>\n",
       "      <td>Daniil Medvedev</td>\n",
       "      <td>Jo-Wilfried Tsonga</td>\n",
       "      <td>Brisbane</td>\n",
       "      <td>Hard</td>\n",
       "      <td>32</td>\n",
       "      <td>A</td>\n",
       "      <td>2018-12-31</td>\n",
       "      <td>NaN</td>\n",
       "      <td>7-6(6) 6-2</td>\n",
       "      <td>3</td>\n",
       "      <td>...</td>\n",
       "      <td>0.736842</td>\n",
       "      <td>16.0</td>\n",
       "      <td>0.307692</td>\n",
       "      <td>18.0</td>\n",
       "      <td>0.720000</td>\n",
       "      <td>1.0</td>\n",
       "      <td>3.0</td>\n",
       "      <td>0.230769</td>\n",
       "      <td>76.0</td>\n",
       "      <td>0.589147</td>\n",
       "    </tr>\n",
       "    <tr>\n",
       "      <th>105453</th>\n",
       "      <th>2019-M020</th>\n",
       "      <th>298</th>\n",
       "      <td>Kei Nishikori</td>\n",
       "      <td>Jeremy Chardy</td>\n",
       "      <td>Brisbane</td>\n",
       "      <td>Hard</td>\n",
       "      <td>32</td>\n",
       "      <td>A</td>\n",
       "      <td>2018-12-31</td>\n",
       "      <td>178.0</td>\n",
       "      <td>6-2 6-2</td>\n",
       "      <td>3</td>\n",
       "      <td>...</td>\n",
       "      <td>0.642857</td>\n",
       "      <td>12.0</td>\n",
       "      <td>0.444444</td>\n",
       "      <td>13.0</td>\n",
       "      <td>0.684211</td>\n",
       "      <td>2.0</td>\n",
       "      <td>4.0</td>\n",
       "      <td>0.800000</td>\n",
       "      <td>60.0</td>\n",
       "      <td>0.645161</td>\n",
       "    </tr>\n",
       "    <tr>\n",
       "      <th>104542</th>\n",
       "      <th>2019-M020</th>\n",
       "      <th>297</th>\n",
       "      <td>Jo-Wilfried Tsonga</td>\n",
       "      <td>Alex De Minaur</td>\n",
       "      <td>Brisbane</td>\n",
       "      <td>Hard</td>\n",
       "      <td>32</td>\n",
       "      <td>A</td>\n",
       "      <td>2018-12-31</td>\n",
       "      <td>188.0</td>\n",
       "      <td>6-4 7-6(2)</td>\n",
       "      <td>3</td>\n",
       "      <td>...</td>\n",
       "      <td>0.600000</td>\n",
       "      <td>22.0</td>\n",
       "      <td>0.366667</td>\n",
       "      <td>12.0</td>\n",
       "      <td>0.571429</td>\n",
       "      <td>5.0</td>\n",
       "      <td>2.0</td>\n",
       "      <td>0.333333</td>\n",
       "      <td>83.0</td>\n",
       "      <td>0.557047</td>\n",
       "    </tr>\n",
       "    <tr>\n",
       "      <th>106421</th>\n",
       "      <th>2019-M020</th>\n",
       "      <th>296</th>\n",
       "      <td>Daniil Medvedev</td>\n",
       "      <td>Milos Raonic</td>\n",
       "      <td>Brisbane</td>\n",
       "      <td>Hard</td>\n",
       "      <td>32</td>\n",
       "      <td>A</td>\n",
       "      <td>2018-12-31</td>\n",
       "      <td>NaN</td>\n",
       "      <td>6-7(2) 6-3 6-4</td>\n",
       "      <td>3</td>\n",
       "      <td>...</td>\n",
       "      <td>0.675676</td>\n",
       "      <td>10.0</td>\n",
       "      <td>0.178571</td>\n",
       "      <td>19.0</td>\n",
       "      <td>0.500000</td>\n",
       "      <td>8.0</td>\n",
       "      <td>2.0</td>\n",
       "      <td>0.500000</td>\n",
       "      <td>102.0</td>\n",
       "      <td>0.512563</td>\n",
       "    </tr>\n",
       "    <tr>\n",
       "      <th>...</th>\n",
       "      <th>...</th>\n",
       "      <th>...</th>\n",
       "      <td>...</td>\n",
       "      <td>...</td>\n",
       "      <td>...</td>\n",
       "      <td>...</td>\n",
       "      <td>...</td>\n",
       "      <td>...</td>\n",
       "      <td>...</td>\n",
       "      <td>...</td>\n",
       "      <td>...</td>\n",
       "      <td>...</td>\n",
       "      <td>...</td>\n",
       "      <td>...</td>\n",
       "      <td>...</td>\n",
       "      <td>...</td>\n",
       "      <td>...</td>\n",
       "      <td>...</td>\n",
       "      <td>...</td>\n",
       "      <td>...</td>\n",
       "      <td>...</td>\n",
       "      <td>...</td>\n",
       "      <td>...</td>\n",
       "    </tr>\n",
       "    <tr>\n",
       "      <th>105453</th>\n",
       "      <th>2014-605</th>\n",
       "      <th>514</th>\n",
       "      <td>Kei Nishikori</td>\n",
       "      <td>Novak Djokovic</td>\n",
       "      <td>Tour Finals</td>\n",
       "      <td>Hard</td>\n",
       "      <td>8</td>\n",
       "      <td>F</td>\n",
       "      <td>2014-11-09</td>\n",
       "      <td>178.0</td>\n",
       "      <td>6-1 3-6 6-0</td>\n",
       "      <td>3</td>\n",
       "      <td>...</td>\n",
       "      <td>0.172414</td>\n",
       "      <td>6.0</td>\n",
       "      <td>0.176471</td>\n",
       "      <td>11.0</td>\n",
       "      <td>0.458333</td>\n",
       "      <td>9.0</td>\n",
       "      <td>2.0</td>\n",
       "      <td>0.500000</td>\n",
       "      <td>51.0</td>\n",
       "      <td>0.408000</td>\n",
       "    </tr>\n",
       "    <tr>\n",
       "      <th>103819</th>\n",
       "      <th>2014-605</th>\n",
       "      <th>515</th>\n",
       "      <td>Roger Federer</td>\n",
       "      <td>Novak Djokovic</td>\n",
       "      <td>Tour Finals</td>\n",
       "      <td>Hard</td>\n",
       "      <td>8</td>\n",
       "      <td>F</td>\n",
       "      <td>2014-11-09</td>\n",
       "      <td>185.0</td>\n",
       "      <td>W/O</td>\n",
       "      <td>3</td>\n",
       "      <td>...</td>\n",
       "      <td>NaN</td>\n",
       "      <td>NaN</td>\n",
       "      <td>NaN</td>\n",
       "      <td>NaN</td>\n",
       "      <td>NaN</td>\n",
       "      <td>NaN</td>\n",
       "      <td>NaN</td>\n",
       "      <td>NaN</td>\n",
       "      <td>NaN</td>\n",
       "      <td>NaN</td>\n",
       "    </tr>\n",
       "    <tr>\n",
       "      <th>104542</th>\n",
       "      <th>2014-D015</th>\n",
       "      <th>1</th>\n",
       "      <td>Jo-Wilfried Tsonga</td>\n",
       "      <td>Stan Wawrinka</td>\n",
       "      <td>Davis Cup WG F: FRA vs SUI</td>\n",
       "      <td>Clay</td>\n",
       "      <td>4</td>\n",
       "      <td>D</td>\n",
       "      <td>2014-11-21</td>\n",
       "      <td>188.0</td>\n",
       "      <td>6-1 3-6 6-3 6-2</td>\n",
       "      <td>5</td>\n",
       "      <td>...</td>\n",
       "      <td>NaN</td>\n",
       "      <td>NaN</td>\n",
       "      <td>NaN</td>\n",
       "      <td>NaN</td>\n",
       "      <td>NaN</td>\n",
       "      <td>NaN</td>\n",
       "      <td>NaN</td>\n",
       "      <td>NaN</td>\n",
       "      <td>NaN</td>\n",
       "      <td>NaN</td>\n",
       "    </tr>\n",
       "    <tr>\n",
       "      <th>103819</th>\n",
       "      <th>2014-D015</th>\n",
       "      <th>2</th>\n",
       "      <td>Roger Federer</td>\n",
       "      <td>Gael Monfils</td>\n",
       "      <td>Davis Cup WG F: FRA vs SUI</td>\n",
       "      <td>Clay</td>\n",
       "      <td>4</td>\n",
       "      <td>D</td>\n",
       "      <td>2014-11-21</td>\n",
       "      <td>185.0</td>\n",
       "      <td>6-1 6-4 6-3</td>\n",
       "      <td>5</td>\n",
       "      <td>...</td>\n",
       "      <td>NaN</td>\n",
       "      <td>NaN</td>\n",
       "      <td>NaN</td>\n",
       "      <td>NaN</td>\n",
       "      <td>NaN</td>\n",
       "      <td>NaN</td>\n",
       "      <td>NaN</td>\n",
       "      <td>NaN</td>\n",
       "      <td>NaN</td>\n",
       "      <td>NaN</td>\n",
       "    </tr>\n",
       "    <tr>\n",
       "      <th>104755</th>\n",
       "      <th>2014-D015</th>\n",
       "      <th>4</th>\n",
       "      <td>Richard Gasquet</td>\n",
       "      <td>Roger Federer</td>\n",
       "      <td>Davis Cup WG F: FRA vs SUI</td>\n",
       "      <td>Clay</td>\n",
       "      <td>4</td>\n",
       "      <td>D</td>\n",
       "      <td>2014-11-21</td>\n",
       "      <td>185.0</td>\n",
       "      <td>6-4 6-2 6-2</td>\n",
       "      <td>5</td>\n",
       "      <td>...</td>\n",
       "      <td>NaN</td>\n",
       "      <td>NaN</td>\n",
       "      <td>NaN</td>\n",
       "      <td>NaN</td>\n",
       "      <td>NaN</td>\n",
       "      <td>NaN</td>\n",
       "      <td>NaN</td>\n",
       "      <td>NaN</td>\n",
       "      <td>NaN</td>\n",
       "      <td>NaN</td>\n",
       "    </tr>\n",
       "  </tbody>\n",
       "</table>\n",
       "<p>355876 rows × 47 columns</p>\n",
       "</div>"
      ],
      "text/plain": [
       "                                         player_name       opponent_name  \\\n",
       "player_id tournament_id match_id                                           \n",
       "105453    2019-M020     300            Kei Nishikori     Daniil Medvedev   \n",
       "106421    2019-M020     299          Daniil Medvedev  Jo-Wilfried Tsonga   \n",
       "105453    2019-M020     298            Kei Nishikori       Jeremy Chardy   \n",
       "104542    2019-M020     297       Jo-Wilfried Tsonga      Alex De Minaur   \n",
       "106421    2019-M020     296          Daniil Medvedev        Milos Raonic   \n",
       "...                                              ...                 ...   \n",
       "105453    2014-605      514            Kei Nishikori      Novak Djokovic   \n",
       "103819    2014-605      515            Roger Federer      Novak Djokovic   \n",
       "104542    2014-D015     1         Jo-Wilfried Tsonga       Stan Wawrinka   \n",
       "103819    2014-D015     2              Roger Federer        Gael Monfils   \n",
       "104755    2014-D015     4            Richard Gasquet       Roger Federer   \n",
       "\n",
       "                                             tournament_name surface  \\\n",
       "player_id tournament_id match_id                                       \n",
       "105453    2019-M020     300                         Brisbane    Hard   \n",
       "106421    2019-M020     299                         Brisbane    Hard   \n",
       "105453    2019-M020     298                         Brisbane    Hard   \n",
       "104542    2019-M020     297                         Brisbane    Hard   \n",
       "106421    2019-M020     296                         Brisbane    Hard   \n",
       "...                                                      ...     ...   \n",
       "105453    2014-605      514                      Tour Finals    Hard   \n",
       "103819    2014-605      515                      Tour Finals    Hard   \n",
       "104542    2014-D015     1         Davis Cup WG F: FRA vs SUI    Clay   \n",
       "103819    2014-D015     2         Davis Cup WG F: FRA vs SUI    Clay   \n",
       "104755    2014-D015     4         Davis Cup WG F: FRA vs SUI    Clay   \n",
       "\n",
       "                                  draw_size tournament_level tournament_date  \\\n",
       "player_id tournament_id match_id                                               \n",
       "105453    2019-M020     300              32                A      2018-12-31   \n",
       "106421    2019-M020     299              32                A      2018-12-31   \n",
       "105453    2019-M020     298              32                A      2018-12-31   \n",
       "104542    2019-M020     297              32                A      2018-12-31   \n",
       "106421    2019-M020     296              32                A      2018-12-31   \n",
       "...                                     ...              ...             ...   \n",
       "105453    2014-605      514               8                F      2014-11-09   \n",
       "103819    2014-605      515               8                F      2014-11-09   \n",
       "104542    2014-D015     1                 4                D      2014-11-21   \n",
       "103819    2014-D015     2                 4                D      2014-11-21   \n",
       "104755    2014-D015     4                 4                D      2014-11-21   \n",
       "\n",
       "                                  player_height            score  best_of  \\\n",
       "player_id tournament_id match_id                                            \n",
       "105453    2019-M020     300               178.0      6-4 3-6 6-2        3   \n",
       "106421    2019-M020     299                 NaN       7-6(6) 6-2        3   \n",
       "105453    2019-M020     298               178.0          6-2 6-2        3   \n",
       "104542    2019-M020     297               188.0       6-4 7-6(2)        3   \n",
       "106421    2019-M020     296                 NaN   6-7(2) 6-3 6-4        3   \n",
       "...                                         ...              ...      ...   \n",
       "105453    2014-605      514               178.0      6-1 3-6 6-0        3   \n",
       "103819    2014-605      515               185.0              W/O        3   \n",
       "104542    2014-D015     1                 188.0  6-1 3-6 6-3 6-2        5   \n",
       "103819    2014-D015     2                 185.0      6-1 6-4 6-3        5   \n",
       "104755    2014-D015     4                 185.0      6-4 6-2 6-2        5   \n",
       "\n",
       "                                  ... second_serves_won_percentage  \\\n",
       "player_id tournament_id match_id  ...                                \n",
       "105453    2019-M020     300       ...                     0.515152   \n",
       "106421    2019-M020     299       ...                     0.736842   \n",
       "105453    2019-M020     298       ...                     0.642857   \n",
       "104542    2019-M020     297       ...                     0.600000   \n",
       "106421    2019-M020     296       ...                     0.675676   \n",
       "...                               ...                          ...   \n",
       "105453    2014-605      514       ...                     0.172414   \n",
       "103819    2014-605      515       ...                          NaN   \n",
       "104542    2014-D015     1         ...                          NaN   \n",
       "103819    2014-D015     2         ...                          NaN   \n",
       "104755    2014-D015     4         ...                          NaN   \n",
       "\n",
       "                                  first_serve_return_points_won  \\\n",
       "player_id tournament_id match_id                                  \n",
       "105453    2019-M020     300                                20.0   \n",
       "106421    2019-M020     299                                16.0   \n",
       "105453    2019-M020     298                                12.0   \n",
       "104542    2019-M020     297                                22.0   \n",
       "106421    2019-M020     296                                10.0   \n",
       "...                                                         ...   \n",
       "105453    2014-605      514                                 6.0   \n",
       "103819    2014-605      515                                 NaN   \n",
       "104542    2014-D015     1                                   NaN   \n",
       "103819    2014-D015     2                                   NaN   \n",
       "104755    2014-D015     4                                   NaN   \n",
       "\n",
       "                                  first_serve_return_points_won_percentage  \\\n",
       "player_id tournament_id match_id                                             \n",
       "105453    2019-M020     300                                       0.370370   \n",
       "106421    2019-M020     299                                       0.307692   \n",
       "105453    2019-M020     298                                       0.444444   \n",
       "104542    2019-M020     297                                       0.366667   \n",
       "106421    2019-M020     296                                       0.178571   \n",
       "...                                                                    ...   \n",
       "105453    2014-605      514                                       0.176471   \n",
       "103819    2014-605      515                                            NaN   \n",
       "104542    2014-D015     1                                              NaN   \n",
       "103819    2014-D015     2                                              NaN   \n",
       "104755    2014-D015     4                                              NaN   \n",
       "\n",
       "                                  second_serve_return_points_won  \\\n",
       "player_id tournament_id match_id                                   \n",
       "105453    2019-M020     300                                 26.0   \n",
       "106421    2019-M020     299                                 18.0   \n",
       "105453    2019-M020     298                                 13.0   \n",
       "104542    2019-M020     297                                 12.0   \n",
       "106421    2019-M020     296                                 19.0   \n",
       "...                                                          ...   \n",
       "105453    2014-605      514                                 11.0   \n",
       "103819    2014-605      515                                  NaN   \n",
       "104542    2014-D015     1                                    NaN   \n",
       "103819    2014-D015     2                                    NaN   \n",
       "104755    2014-D015     4                                    NaN   \n",
       "\n",
       "                                  second_serve_return_points_won_percentage  \\\n",
       "player_id tournament_id match_id                                              \n",
       "105453    2019-M020     300                                        0.565217   \n",
       "106421    2019-M020     299                                        0.720000   \n",
       "105453    2019-M020     298                                        0.684211   \n",
       "104542    2019-M020     297                                        0.571429   \n",
       "106421    2019-M020     296                                        0.500000   \n",
       "...                                                                     ...   \n",
       "105453    2014-605      514                                        0.458333   \n",
       "103819    2014-605      515                                             NaN   \n",
       "104542    2014-D015     1                                               NaN   \n",
       "103819    2014-D015     2                                               NaN   \n",
       "104755    2014-D015     4                                               NaN   \n",
       "\n",
       "                                  break_points_faced  break_points_won  \\\n",
       "player_id tournament_id match_id                                         \n",
       "105453    2019-M020     300                      6.0               5.0   \n",
       "106421    2019-M020     299                      1.0               3.0   \n",
       "105453    2019-M020     298                      2.0               4.0   \n",
       "104542    2019-M020     297                      5.0               2.0   \n",
       "106421    2019-M020     296                      8.0               2.0   \n",
       "...                                              ...               ...   \n",
       "105453    2014-605      514                      9.0               2.0   \n",
       "103819    2014-605      515                      NaN               NaN   \n",
       "104542    2014-D015     1                        NaN               NaN   \n",
       "103819    2014-D015     2                        NaN               NaN   \n",
       "104755    2014-D015     4                        NaN               NaN   \n",
       "\n",
       "                                  break_points_won_percentage  points_won  \\\n",
       "player_id tournament_id match_id                                            \n",
       "105453    2019-M020     300                          0.333333        94.0   \n",
       "106421    2019-M020     299                          0.230769        76.0   \n",
       "105453    2019-M020     298                          0.800000        60.0   \n",
       "104542    2019-M020     297                          0.333333        83.0   \n",
       "106421    2019-M020     296                          0.500000       102.0   \n",
       "...                                                       ...         ...   \n",
       "105453    2014-605      514                          0.500000        51.0   \n",
       "103819    2014-605      515                               NaN         NaN   \n",
       "104542    2014-D015     1                                 NaN         NaN   \n",
       "103819    2014-D015     2                                 NaN         NaN   \n",
       "104755    2014-D015     4                                 NaN         NaN   \n",
       "\n",
       "                                  points_won_percentage  \n",
       "player_id tournament_id match_id                         \n",
       "105453    2019-M020     300                    0.531073  \n",
       "106421    2019-M020     299                    0.589147  \n",
       "105453    2019-M020     298                    0.645161  \n",
       "104542    2019-M020     297                    0.557047  \n",
       "106421    2019-M020     296                    0.512563  \n",
       "...                                                 ...  \n",
       "105453    2014-605      514                    0.408000  \n",
       "103819    2014-605      515                         NaN  \n",
       "104542    2014-D015     1                           NaN  \n",
       "103819    2014-D015     2                           NaN  \n",
       "104755    2014-D015     4                           NaN  \n",
       "\n",
       "[355876 rows x 47 columns]"
      ]
     },
     "execution_count": 54,
     "metadata": {},
     "output_type": "execute_result"
    }
   ],
   "source": [
    "matches[['player_name', 'opponent_name', 'tournament_name', 'surface', 'draw_size', 'tournament_level',\n",
    "       'tournament_date', 'player_height', 'score', 'best_of',\n",
    "       'round_of', 'minutes', 'aces', 'double_faults', 'service_points',\n",
    "       'first_serves', 'first_serves_won', 'second_serves_won',\n",
    "       'service_games', 'break_points_saved', 'break_points_faced',\n",
    "       'player_rank', 'player_ranking_points', 'opponent_id', 'opponent_rank',\n",
    "       'opponent_ranking_points', 'opponent_height', 'result', 'first_serve_percentage',\n",
    "       'break_points_saved_percentage', 'service_points_won',\n",
    "       'service_points_won_percentage', 'points', 'return_points',\n",
    "       'return_points_won', 'return_points_won_percentage',\n",
    "       'first_serves_won_percentage', 'second_serves_won_percentage',\n",
    "       'first_serve_return_points_won',\n",
    "       'first_serve_return_points_won_percentage',\n",
    "       'second_serve_return_points_won',\n",
    "       'second_serve_return_points_won_percentage', 'break_points_faced',\n",
    "       'break_points_won', 'break_points_won_percentage', 'points_won',\n",
    "       'points_won_percentage']]"
   ]
  },
  {
   "cell_type": "code",
   "execution_count": 55,
   "metadata": {
    "scrolled": true
   },
   "outputs": [],
   "source": [
    "matches.result = matches.result.astype('category')\n",
    "matches.surface = matches.surface.astype('category')\n",
    "matches.tournament_level = matches.tournament_level.astype('category')\n",
    "matches.round_of = matches.round_of.astype('category')\n",
    "matches.result = matches.result.astype('category')"
   ]
  },
  {
   "cell_type": "code",
   "execution_count": 56,
   "metadata": {
    "scrolled": true
   },
   "outputs": [
    {
     "name": "stdout",
     "output_type": "stream",
     "text": [
      "<class 'pandas.core.frame.DataFrame'>\n",
      "MultiIndex: 355876 entries, (105453, '2019-M020', 300) to (104755, '2014-D015', 4)\n",
      "Data columns (total 85 columns):\n",
      " #   Column                                              Non-Null Count   Dtype         \n",
      "---  ------                                              --------------   -----         \n",
      " 0   tournament_name                                     355876 non-null  object        \n",
      " 1   surface                                             350602 non-null  category      \n",
      " 2   draw_size                                           355876 non-null  int64         \n",
      " 3   tournament_level                                    355876 non-null  category      \n",
      " 4   tournament_date                                     355876 non-null  datetime64[ns]\n",
      " 5   player_name                                         355876 non-null  object        \n",
      " 6   opponent_id                                         355876 non-null  int64         \n",
      " 7   opponent_name                                       355876 non-null  object        \n",
      " 8   player_seed                                         101475 non-null  object        \n",
      " 9   player_entry                                        41624 non-null   object        \n",
      " 10  opponent_seed                                       101475 non-null  object        \n",
      " 11  opponent_entry                                      41624 non-null   object        \n",
      " 12  score                                               355854 non-null  object        \n",
      " 13  best_of                                             355876 non-null  int64         \n",
      " 14  round_of                                            355876 non-null  category      \n",
      " 15  minutes                                             169192 non-null  float64       \n",
      " 16  aces                                                174424 non-null  float64       \n",
      " 17  double_faults                                       174424 non-null  float64       \n",
      " 18  service_points                                      174424 non-null  float64       \n",
      " 19  opponent_aces                                       174424 non-null  float64       \n",
      " 20  opponent_double_faults                              174424 non-null  float64       \n",
      " 21  opponent_service_points                             174424 non-null  float64       \n",
      " 22  first_serves                                        174424 non-null  float64       \n",
      " 23  first_serves_won                                    174424 non-null  float64       \n",
      " 24  second_serves_won                                   174424 non-null  float64       \n",
      " 25  opponent_first_serves                               174424 non-null  float64       \n",
      " 26  opponent_first_serves_won                           174424 non-null  float64       \n",
      " 27  opponent_second_serves_won                          174424 non-null  float64       \n",
      " 28  service_games                                       174424 non-null  float64       \n",
      " 29  break_points_saved                                  174423 non-null  float64       \n",
      " 30  break_points_faced                                  174423 non-null  float64       \n",
      " 31  opponent_service_games                              174424 non-null  float64       \n",
      " 32  opponent_break_points_saved                         174423 non-null  float64       \n",
      " 33  opponent_break_points_faced                         174423 non-null  float64       \n",
      " 34  player_rank                                         270431 non-null  float64       \n",
      " 35  player_ranking_points                               208895 non-null  float64       \n",
      " 36  opponent_rank                                       270431 non-null  float64       \n",
      " 37  opponent_ranking_points                             208895 non-null  float64       \n",
      " 38  player_height                                       298096 non-null  float64       \n",
      " 39  opponent_height                                     298096 non-null  float64       \n",
      " 40  result                                              355876 non-null  category      \n",
      " 41  first_serve_percentage                              174388 non-null  float64       \n",
      " 42  opponent_first_serve_percentage                     174388 non-null  float64       \n",
      " 43  first_serves_won_percentage                         174386 non-null  float64       \n",
      " 44  opponent_first_serves_won_percentage                174386 non-null  float64       \n",
      " 45  second_serves                                       174424 non-null  float64       \n",
      " 46  opponent_second_serves                              174424 non-null  float64       \n",
      " 47  second_serves_won_percentage                        174362 non-null  float64       \n",
      " 48  opponent_second_serves_won_percentage               174362 non-null  float64       \n",
      " 49  break_points_saved_percentage                       166444 non-null  float64       \n",
      " 50  opponent_break_points_saved_percentage              166444 non-null  float64       \n",
      " 51  break_points_won                                    174423 non-null  float64       \n",
      " 52  opponent_break_points_won                           174423 non-null  float64       \n",
      " 53  break_points_won_percentage                         166444 non-null  float64       \n",
      " 54  opponent_break_points_won_percentage                166444 non-null  float64       \n",
      " 55  service_points_won                                  174424 non-null  float64       \n",
      " 56  service_points_won_percentage                       174388 non-null  float64       \n",
      " 57  opponent_service_points_won                         174424 non-null  float64       \n",
      " 58  opponent_service_points_won_percentage              174388 non-null  float64       \n",
      " 59  points                                              174424 non-null  float64       \n",
      " 60  return_points                                       174424 non-null  float64       \n",
      " 61  opponent_return_points                              174424 non-null  float64       \n",
      " 62  return_points_won                                   174424 non-null  float64       \n",
      " 63  return_points_won_percentage                        174388 non-null  float64       \n",
      " 64  opponent_return_points_won                          174424 non-null  float64       \n",
      " 65  opponent_return_points_won_percentage               174388 non-null  float64       \n",
      " 66  first_serve_return_points_won                       174424 non-null  float64       \n",
      " 67  first_serve_return_points_won_percentage            174386 non-null  float64       \n",
      " 68  opponent_first_serve_return_points_won              174424 non-null  float64       \n",
      " 69  opponent_first_serve_return_points_won_percentage   174386 non-null  float64       \n",
      " 70  second_serve_return_points_won                      174424 non-null  float64       \n",
      " 71  second_serve_return_points_won_percentage           174362 non-null  float64       \n",
      " 72  opponent_second_serve_return_points_won             174424 non-null  float64       \n",
      " 73  opponent_second_serve_return_points_won_percentage  174362 non-null  float64       \n",
      " 74  points_won                                          174424 non-null  float64       \n",
      " 75  points_won_percentage                               174424 non-null  float64       \n",
      " 76  opponent_points_won                                 174424 non-null  float64       \n",
      " 77  opponent_points_won_percentage                      174424 non-null  float64       \n",
      " 78  ace_rate                                            174388 non-null  float64       \n",
      " 79  opponent_ace_rate                                   174388 non-null  float64       \n",
      " 80  double_fault_rate                                   174388 non-null  float64       \n",
      " 81  opponent_double_fault_rate                          174388 non-null  float64       \n",
      " 82  break_rate                                          174387 non-null  float64       \n",
      " 83  opponent_break_rate                                 174387 non-null  float64       \n",
      " 84  points_per_minute                                   169140 non-null  float64       \n",
      "dtypes: category(4), datetime64[ns](1), float64(69), int64(3), object(8)\n",
      "memory usage: 234.1+ MB\n"
     ]
    }
   ],
   "source": [
    "matches.info()"
   ]
  },
  {
   "cell_type": "code",
   "execution_count": 57,
   "metadata": {},
   "outputs": [
    {
     "data": {
      "text/plain": [
       "<matplotlib.axes._subplots.AxesSubplot at 0x7fd536f90950>"
      ]
     },
     "execution_count": 57,
     "metadata": {},
     "output_type": "execute_result"
    },
    {
     "data": {
      "image/png": "[encoded data removed]",
      "text/plain": [
       "<Figure size 432x288 with 1 Axes>"
      ]
     },
     "metadata": {
      "needs_background": "light"
     },
     "output_type": "display_data"
    }
   ],
   "source": [
    "import seaborn as sns\n",
    "\n",
    "sns.regplot(matches.player_height, matches.service_points_won_percentage)"
   ]
  },
  {
   "cell_type": "code",
   "execution_count": 58,
   "metadata": {},
   "outputs": [],
   "source": [
    "matches['result_value'] = [1 if result == 'W' else 0 for result in matches.result]"
   ]
  },
  {
   "cell_type": "code",
   "execution_count": 59,
   "metadata": {},
   "outputs": [
    {
     "data": {
      "text/plain": [
       "<matplotlib.axes._subplots.AxesSubplot at 0x7fd59ced7650>"
      ]
     },
     "execution_count": 59,
     "metadata": {},
     "output_type": "execute_result"
    },
    {
     "data": {
      "image/png": "[encoded data removed]",
      "text/plain": [
       "<Figure size 432x288 with 1 Axes>"
      ]
     },
     "metadata": {
      "needs_background": "light"
     },
     "output_type": "display_data"
    }
   ],
   "source": [
    "sns.regplot(matches.minutes, matches.aces)"
   ]
  },
  {
   "cell_type": "code",
   "execution_count": 63,
   "metadata": {},
   "outputs": [],
   "source": [
    "COLUMNS = ['aces', 'double_faults',\n",
    "       'first_serve_percentage', 'break_points_saved_percentage', 'service_points_won_percentage', \n",
    "       'return_points_won_percentage',\n",
    "       'first_serves_won_percentage', 'second_serves_won_percentage',\n",
    "       'first_serve_return_points_won_percentage',\n",
    "       'second_serve_return_points_won_percentage', \n",
    "       'break_points_won_percentage',\n",
    "       'points_won_percentage']\n",
    "\n",
    "CAREER_COLUMNS = ['career_aces', 'career_double_faults',\n",
    "       'career_first_serve_percentage', 'career_break_points_saved_percentage', 'career_service_points_won_percentage', \n",
    "       'career_return_points_won_percentage',\n",
    "       'career_first_serves_won_percentage', 'career_second_serves_won_percentage',\n",
    "       'career_first_serve_return_points_won_percentage',\n",
    "       'career_second_serve_return_points_won_percentage', \n",
    "       'career_break_points_won_percentage',\n",
    "       'career_points_won_percentage']\n",
    "\n",
    "RECENT_COLUMNS = ['recent_aces', 'recent_double_faults',\n",
    "       'recent_first_serve_percentage', 'recent_break_points_saved_percentage', 'recent_service_points_won_percentage', \n",
    "       'recent_return_points_won_percentage',\n",
    "       'recent_first_serves_won_percentage', 'recent_second_serves_won_percentage',\n",
    "       'recent_first_serve_return_points_won_percentage',\n",
    "       'recent_second_serve_return_points_won_percentage', \n",
    "       'recent_break_points_won_percentage',\n",
    "       'recent_points_won_percentage']\n",
    "\n",
    "PAST_YEAR_COLUMNS = ['past_year_aces', 'past_year_double_faults',\n",
    "       'past_year_first_serve_percentage', 'past_year_break_points_saved_percentage', 'past_year_service_points_won_percentage', \n",
    "       'past_year_return_points_won_percentage',\n",
    "       'past_year_first_serves_won_percentage', 'past_year_second_serves_won_percentage',\n",
    "       'past_year_first_serve_return_points_won_percentage',\n",
    "       'past_year_second_serve_return_points_won_percentage', \n",
    "       'past_year_break_points_won_percentage',\n",
    "       'past_year_points_won_percentage']"
   ]
  },
  {
   "cell_type": "code",
   "execution_count": 64,
   "metadata": {},
   "outputs": [],
   "source": [
    "matches.reset_index(inplace=True)\n",
    "matches.drop_duplicates(subset=['player_id', 'tournament_date', 'match_id'], inplace=True)\n",
    "matches.drop_duplicates(subset=['player_id', 'tournament_date', 'opponent_id'], inplace=True)\n",
    "matches.set_index(['player_id', 'tournament_date', 'match_id'], inplace=True)\n",
    "matches.sort_index(inplace=True)"
   ]
  },
  {
   "cell_type": "code",
   "execution_count": 65,
   "metadata": {},
   "outputs": [],
   "source": [
    "expanding_mean = matches.reset_index('player_id').groupby('player_id')[COLUMNS].expanding().mean().dropna()"
   ]
  },
  {
   "cell_type": "code",
   "execution_count": 66,
   "metadata": {},
   "outputs": [],
   "source": [
    "past_year_mean = matches.shift().reset_index(['player_id', 'match_id']).groupby('player_id')[COLUMNS].rolling('365D').mean().bfill()"
   ]
  },
  {
   "cell_type": "code",
   "execution_count": 67,
   "metadata": {},
   "outputs": [],
   "source": [
    "rolling_mean = matches.shift().reset_index('player_id').groupby('player_id')[COLUMNS].rolling(10).mean().bfill().dropna()"
   ]
  },
  {
   "cell_type": "code",
   "execution_count": 68,
   "metadata": {},
   "outputs": [],
   "source": [
    "expanding_mean.columns = CAREER_COLUMNS\n",
    "rolling_mean.columns = RECENT_COLUMNS"
   ]
  },
  {
   "cell_type": "code",
   "execution_count": 69,
   "metadata": {},
   "outputs": [],
   "source": [
    "matches = matches.merge(expanding_mean, left_index=True, right_index=True, how='left')\n",
    "matches = matches.merge(rolling_mean, left_index=True, right_index=True, how='left')\n",
    "for i, column in enumerate(past_year_mean.columns):\n",
    "    matches[PAST_YEAR_COLUMNS[i]] = past_year_mean[past_year_mean.columns[i]].values"
   ]
  },
  {
   "cell_type": "code",
   "execution_count": 70,
   "metadata": {},
   "outputs": [],
   "source": [
    "opponent_expanding_mean = matches.reset_index().set_index(['opponent_id', 'tournament_date', 'match_id'])[CAREER_COLUMNS]\n",
    "opponent_rolling_mean = matches.reset_index().set_index(['opponent_id', 'tournament_date', 'match_id'])[RECENT_COLUMNS]\n",
    "opponent_past_year_mean = matches.reset_index().set_index(['opponent_id', 'tournament_date', 'match_id'])[PAST_YEAR_COLUMNS]"
   ]
  },
  {
   "cell_type": "code",
   "execution_count": 71,
   "metadata": {},
   "outputs": [],
   "source": [
    "opponent_expanding_mean.sort_index(inplace=True)\n",
    "opponent_rolling_mean.sort_index(inplace=True)\n",
    "opponent_past_year_mean.sort_index(inplace=True)"
   ]
  },
  {
   "cell_type": "code",
   "execution_count": 72,
   "metadata": {},
   "outputs": [],
   "source": [
    "opponent_expanding_mean.rename_axis(['player_id', 'tournament_date', 'match_id'], inplace=True)\n",
    "opponent_rolling_mean.rename_axis(['player_id', 'tournament_date', 'match_id'], inplace=True)\n",
    "opponent_past_year_mean.rename_axis(['player_id', 'tournament_date', 'match_id'], inplace=True)"
   ]
  },
  {
   "cell_type": "code",
   "execution_count": 73,
   "metadata": {},
   "outputs": [],
   "source": [
    "matches.reset_index(inplace=True)\n",
    "matches.drop_duplicates(subset=['player_id', 'tournament_date', 'match_id'], inplace=True)\n",
    "matches.set_index(['player_id', 'tournament_date', 'match_id'], inplace=True)"
   ]
  },
  {
   "cell_type": "code",
   "execution_count": 74,
   "metadata": {
    "scrolled": true
   },
   "outputs": [],
   "source": [
    "opponent_expanding_mean = opponent_expanding_mean[~opponent_expanding_mean.index.duplicated()]\n",
    "opponent_rolling_mean = opponent_rolling_mean[~opponent_rolling_mean.index.duplicated()]\n",
    "opponent_past_year_mean = opponent_past_year_mean[~opponent_past_year_mean.index.duplicated()]"
   ]
  },
  {
   "cell_type": "code",
   "execution_count": 75,
   "metadata": {},
   "outputs": [],
   "source": [
    "matches[CAREER_COLUMNS] = matches[CAREER_COLUMNS] - opponent_expanding_mean[CAREER_COLUMNS]"
   ]
  },
  {
   "cell_type": "code",
   "execution_count": 76,
   "metadata": {},
   "outputs": [],
   "source": [
    "matches[RECENT_COLUMNS] = matches[RECENT_COLUMNS] - opponent_rolling_mean[RECENT_COLUMNS]"
   ]
  },
  {
   "cell_type": "code",
   "execution_count": 77,
   "metadata": {},
   "outputs": [],
   "source": [
    "matches[PAST_YEAR_COLUMNS] = matches[PAST_YEAR_COLUMNS] - opponent_past_year_mean[PAST_YEAR_COLUMNS]"
   ]
  },
  {
   "cell_type": "code",
   "execution_count": 78,
   "metadata": {},
   "outputs": [],
   "source": [
    "head_to_head = matches.reset_index().set_index(['player_id', 'opponent_id', 'tournament_date']).sort_index()"
   ]
  },
  {
   "cell_type": "code",
   "execution_count": 79,
   "metadata": {},
   "outputs": [],
   "source": [
    "head_to_head['result_value'] = head_to_head.result_value.apply(lambda x: -1 if x == 0 else x)"
   ]
  },
  {
   "cell_type": "code",
   "execution_count": 80,
   "metadata": {},
   "outputs": [],
   "source": [
    "head_to_head = head_to_head.groupby(['player_id', 'opponent_id']).result_value.cumsum()   \\\n",
    "            .groupby(['player_id', 'opponent_id']).shift()                 \\\n",
    "            .reset_index('tournament_date').fillna(0)"
   ]
  },
  {
   "cell_type": "code",
   "execution_count": 83,
   "metadata": {},
   "outputs": [],
   "source": [
    "winrate = matches.reset_index().set_index(['player_id', 'tournament_date', 'match_id']).sort_index()"
   ]
  },
  {
   "cell_type": "code",
   "execution_count": 84,
   "metadata": {},
   "outputs": [],
   "source": [
    "num_matches = winrate.groupby(['player_id', 'surface']).result_value.expanding().count()"
   ]
  },
  {
   "cell_type": "code",
   "execution_count": 85,
   "metadata": {},
   "outputs": [],
   "source": [
    "wins = (winrate.groupby(['player_id', 'surface']).result_value.expanding().sum())"
   ]
  },
  {
   "cell_type": "code",
   "execution_count": 86,
   "metadata": {},
   "outputs": [],
   "source": [
    "winrates = (wins / num_matches).groupby(['player_id', 'surface']).shift().reset_index(level=2).result_value"
   ]
  },
  {
   "cell_type": "code",
   "execution_count": 87,
   "metadata": {},
   "outputs": [],
   "source": [
    "matches = matches.reset_index().set_index(['player_id', 'tournament_date', 'match_id'])"
   ]
  },
  {
   "cell_type": "code",
   "execution_count": 88,
   "metadata": {},
   "outputs": [],
   "source": [
    "matches['winrate'] = winrates.reset_index().set_index(['player_id', 'tournament_date', 'match_id']).result_value"
   ]
  },
  {
   "cell_type": "code",
   "execution_count": 89,
   "metadata": {},
   "outputs": [],
   "source": [
    "opponent_winrates = winrates.reset_index() \\\n",
    "                            .set_index(['player_id', 'tournament_date', 'match_id']) \\\n",
    "                            .rename_axis(index={'player_id': 'opponent_id'})"
   ]
  },
  {
   "cell_type": "code",
   "execution_count": 90,
   "metadata": {},
   "outputs": [],
   "source": [
    "matches.reset_index(inplace=True)\n",
    "matches.set_index(['opponent_id', 'tournament_date', 'match_id'], inplace=True)\n",
    "matches = matches[~matches.index.duplicated()]\n",
    "matches['winrate'] = (matches.winrate - opponent_winrates.result_value).fillna(0)"
   ]
  },
  {
   "cell_type": "code",
   "execution_count": 91,
   "metadata": {},
   "outputs": [
    {
     "data": {
      "text/plain": [
       "1106"
      ]
     },
     "execution_count": 91,
     "metadata": {},
     "output_type": "execute_result"
    }
   ],
   "source": [
    "len(set(top_100))"
   ]
  },
  {
   "cell_type": "code",
   "execution_count": 92,
   "metadata": {
    "scrolled": true
   },
   "outputs": [
    {
     "data": {
      "text/html": [
       "<div>\n",
       "<style scoped>\n",
       "    .dataframe tbody tr th:only-of-type {\n",
       "        vertical-align: middle;\n",
       "    }\n",
       "\n",
       "    .dataframe tbody tr th {\n",
       "        vertical-align: top;\n",
       "    }\n",
       "\n",
       "    .dataframe thead th {\n",
       "        text-align: right;\n",
       "    }\n",
       "</style>\n",
       "<table border=\"1\" class=\"dataframe\">\n",
       "  <thead>\n",
       "    <tr style=\"text-align: right;\">\n",
       "      <th></th>\n",
       "      <th></th>\n",
       "      <th></th>\n",
       "      <th>index</th>\n",
       "      <th>opponent_id</th>\n",
       "      <th>tournament_id</th>\n",
       "      <th>tournament_name</th>\n",
       "      <th>surface</th>\n",
       "      <th>draw_size</th>\n",
       "      <th>tournament_level</th>\n",
       "      <th>player_name</th>\n",
       "      <th>opponent_name</th>\n",
       "      <th>player_seed</th>\n",
       "      <th>...</th>\n",
       "      <th>past_year_break_points_saved_percentage</th>\n",
       "      <th>past_year_service_points_won_percentage</th>\n",
       "      <th>past_year_return_points_won_percentage</th>\n",
       "      <th>past_year_first_serves_won_percentage</th>\n",
       "      <th>past_year_second_serves_won_percentage</th>\n",
       "      <th>past_year_first_serve_return_points_won_percentage</th>\n",
       "      <th>past_year_second_serve_return_points_won_percentage</th>\n",
       "      <th>past_year_break_points_won_percentage</th>\n",
       "      <th>past_year_points_won_percentage</th>\n",
       "      <th>winrate</th>\n",
       "    </tr>\n",
       "    <tr>\n",
       "      <th>player_id</th>\n",
       "      <th>tournament_date</th>\n",
       "      <th>match_id</th>\n",
       "      <th></th>\n",
       "      <th></th>\n",
       "      <th></th>\n",
       "      <th></th>\n",
       "      <th></th>\n",
       "      <th></th>\n",
       "      <th></th>\n",
       "      <th></th>\n",
       "      <th></th>\n",
       "      <th></th>\n",
       "      <th></th>\n",
       "      <th></th>\n",
       "      <th></th>\n",
       "      <th></th>\n",
       "      <th></th>\n",
       "      <th></th>\n",
       "      <th></th>\n",
       "      <th></th>\n",
       "      <th></th>\n",
       "      <th></th>\n",
       "      <th></th>\n",
       "    </tr>\n",
       "  </thead>\n",
       "  <tbody>\n",
       "    <tr>\n",
       "      <th rowspan=\"5\" valign=\"top\">100011</th>\n",
       "      <th rowspan=\"2\" valign=\"top\">1968-02-08</th>\n",
       "      <th>4</th>\n",
       "      <td>382</td>\n",
       "      <td>100186</td>\n",
       "      <td>1968-401</td>\n",
       "      <td>Philadelphia WCT</td>\n",
       "      <td>Carpet</td>\n",
       "      <td>16</td>\n",
       "      <td>A</td>\n",
       "      <td>Torben Ulrich</td>\n",
       "      <td>Jeff Borowiak</td>\n",
       "      <td>NaN</td>\n",
       "      <td>...</td>\n",
       "      <td>0.000000</td>\n",
       "      <td>0.000000</td>\n",
       "      <td>0.000000</td>\n",
       "      <td>0.000000</td>\n",
       "      <td>0.000000</td>\n",
       "      <td>0.000000</td>\n",
       "      <td>0.000000</td>\n",
       "      <td>0.000000</td>\n",
       "      <td>0.000000</td>\n",
       "      <td>0.000000</td>\n",
       "    </tr>\n",
       "    <tr>\n",
       "      <th>8</th>\n",
       "      <td>383</td>\n",
       "      <td>100028</td>\n",
       "      <td>1968-401</td>\n",
       "      <td>Philadelphia WCT</td>\n",
       "      <td>Carpet</td>\n",
       "      <td>16</td>\n",
       "      <td>A</td>\n",
       "      <td>Torben Ulrich</td>\n",
       "      <td>Manuel Santana</td>\n",
       "      <td>NaN</td>\n",
       "      <td>...</td>\n",
       "      <td>0.000000</td>\n",
       "      <td>0.000000</td>\n",
       "      <td>0.000000</td>\n",
       "      <td>0.000000</td>\n",
       "      <td>0.000000</td>\n",
       "      <td>0.000000</td>\n",
       "      <td>0.000000</td>\n",
       "      <td>0.000000</td>\n",
       "      <td>0.000000</td>\n",
       "      <td>0.000000</td>\n",
       "    </tr>\n",
       "    <tr>\n",
       "      <th rowspan=\"2\" valign=\"top\">1968-04-28</th>\n",
       "      <th>1</th>\n",
       "      <td>384</td>\n",
       "      <td>100119</td>\n",
       "      <td>1968-D013</td>\n",
       "      <td>Davis Cup EUR R1: ROU vs DEN</td>\n",
       "      <td>Clay</td>\n",
       "      <td>4</td>\n",
       "      <td>D</td>\n",
       "      <td>Torben Ulrich</td>\n",
       "      <td>Ilie Nastase</td>\n",
       "      <td>NaN</td>\n",
       "      <td>...</td>\n",
       "      <td>0.000000</td>\n",
       "      <td>0.000000</td>\n",
       "      <td>0.000000</td>\n",
       "      <td>0.000000</td>\n",
       "      <td>0.000000</td>\n",
       "      <td>0.000000</td>\n",
       "      <td>0.000000</td>\n",
       "      <td>0.000000</td>\n",
       "      <td>0.000000</td>\n",
       "      <td>0.000000</td>\n",
       "    </tr>\n",
       "    <tr>\n",
       "      <th>4</th>\n",
       "      <td>385</td>\n",
       "      <td>100035</td>\n",
       "      <td>1968-D013</td>\n",
       "      <td>Davis Cup EUR R1: ROU vs DEN</td>\n",
       "      <td>Clay</td>\n",
       "      <td>4</td>\n",
       "      <td>D</td>\n",
       "      <td>Torben Ulrich</td>\n",
       "      <td>Ion Tiriac</td>\n",
       "      <td>NaN</td>\n",
       "      <td>...</td>\n",
       "      <td>0.000000</td>\n",
       "      <td>0.000000</td>\n",
       "      <td>0.000000</td>\n",
       "      <td>0.000000</td>\n",
       "      <td>0.000000</td>\n",
       "      <td>0.000000</td>\n",
       "      <td>0.000000</td>\n",
       "      <td>0.000000</td>\n",
       "      <td>0.000000</td>\n",
       "      <td>-1.000000</td>\n",
       "    </tr>\n",
       "    <tr>\n",
       "      <th>1968-05-27</th>\n",
       "      <th>69</th>\n",
       "      <td>386</td>\n",
       "      <td>109765</td>\n",
       "      <td>1968-520</td>\n",
       "      <td>Roland Garros</td>\n",
       "      <td>Clay</td>\n",
       "      <td>128</td>\n",
       "      <td>G</td>\n",
       "      <td>Torben Ulrich</td>\n",
       "      <td>Marco Gilardelli</td>\n",
       "      <td>NaN</td>\n",
       "      <td>...</td>\n",
       "      <td>-0.083333</td>\n",
       "      <td>0.259503</td>\n",
       "      <td>0.063959</td>\n",
       "      <td>0.285106</td>\n",
       "      <td>0.165775</td>\n",
       "      <td>-0.015607</td>\n",
       "      <td>0.064935</td>\n",
       "      <td>-0.166667</td>\n",
       "      <td>0.154284</td>\n",
       "      <td>0.000000</td>\n",
       "    </tr>\n",
       "    <tr>\n",
       "      <th>...</th>\n",
       "      <th>...</th>\n",
       "      <th>...</th>\n",
       "      <td>...</td>\n",
       "      <td>...</td>\n",
       "      <td>...</td>\n",
       "      <td>...</td>\n",
       "      <td>...</td>\n",
       "      <td>...</td>\n",
       "      <td>...</td>\n",
       "      <td>...</td>\n",
       "      <td>...</td>\n",
       "      <td>...</td>\n",
       "      <td>...</td>\n",
       "      <td>...</td>\n",
       "      <td>...</td>\n",
       "      <td>...</td>\n",
       "      <td>...</td>\n",
       "      <td>...</td>\n",
       "      <td>...</td>\n",
       "      <td>...</td>\n",
       "      <td>...</td>\n",
       "      <td>...</td>\n",
       "      <td>...</td>\n",
       "    </tr>\n",
       "    <tr>\n",
       "      <th rowspan=\"5\" valign=\"top\">206173</th>\n",
       "      <th rowspan=\"3\" valign=\"top\">2021-02-01</th>\n",
       "      <th>295</th>\n",
       "      <td>354997</td>\n",
       "      <td>200175</td>\n",
       "      <td>2021-8998</td>\n",
       "      <td>Great Ocean Road Open</td>\n",
       "      <td>Hard</td>\n",
       "      <td>64</td>\n",
       "      <td>A</td>\n",
       "      <td>Jannik Sinner</td>\n",
       "      <td>Miomir Kecmanovic</td>\n",
       "      <td>4</td>\n",
       "      <td>...</td>\n",
       "      <td>0.022252</td>\n",
       "      <td>0.021810</td>\n",
       "      <td>0.016454</td>\n",
       "      <td>0.014124</td>\n",
       "      <td>0.011024</td>\n",
       "      <td>0.026823</td>\n",
       "      <td>0.006608</td>\n",
       "      <td>0.091130</td>\n",
       "      <td>0.023437</td>\n",
       "      <td>0.085630</td>\n",
       "    </tr>\n",
       "    <tr>\n",
       "      <th>298</th>\n",
       "      <td>354998</td>\n",
       "      <td>111575</td>\n",
       "      <td>2021-8998</td>\n",
       "      <td>Great Ocean Road Open</td>\n",
       "      <td>Hard</td>\n",
       "      <td>64</td>\n",
       "      <td>A</td>\n",
       "      <td>Jannik Sinner</td>\n",
       "      <td>Karen Khachanov</td>\n",
       "      <td>4</td>\n",
       "      <td>...</td>\n",
       "      <td>0.063303</td>\n",
       "      <td>-0.006709</td>\n",
       "      <td>0.031447</td>\n",
       "      <td>-0.001834</td>\n",
       "      <td>0.005312</td>\n",
       "      <td>0.051919</td>\n",
       "      <td>-0.014429</td>\n",
       "      <td>0.080626</td>\n",
       "      <td>0.018366</td>\n",
       "      <td>0.082317</td>\n",
       "    </tr>\n",
       "    <tr>\n",
       "      <th>300</th>\n",
       "      <td>354999</td>\n",
       "      <td>105882</td>\n",
       "      <td>2021-8998</td>\n",
       "      <td>Great Ocean Road Open</td>\n",
       "      <td>Hard</td>\n",
       "      <td>64</td>\n",
       "      <td>A</td>\n",
       "      <td>Jannik Sinner</td>\n",
       "      <td>Stefano Travaglia</td>\n",
       "      <td>4</td>\n",
       "      <td>...</td>\n",
       "      <td>0.091495</td>\n",
       "      <td>0.020844</td>\n",
       "      <td>0.049602</td>\n",
       "      <td>-0.017450</td>\n",
       "      <td>0.052751</td>\n",
       "      <td>0.053575</td>\n",
       "      <td>0.019121</td>\n",
       "      <td>0.106642</td>\n",
       "      <td>0.037196</td>\n",
       "      <td>0.198864</td>\n",
       "    </tr>\n",
       "    <tr>\n",
       "      <th>2021-02-08</th>\n",
       "      <th>124</th>\n",
       "      <td>355000</td>\n",
       "      <td>133430</td>\n",
       "      <td>2021-580</td>\n",
       "      <td>Australian Open</td>\n",
       "      <td>Hard</td>\n",
       "      <td>128</td>\n",
       "      <td>G</td>\n",
       "      <td>Jannik Sinner</td>\n",
       "      <td>Denis Shapovalov</td>\n",
       "      <td>NaN</td>\n",
       "      <td>...</td>\n",
       "      <td>-0.002687</td>\n",
       "      <td>-0.016640</td>\n",
       "      <td>0.044018</td>\n",
       "      <td>-0.048904</td>\n",
       "      <td>0.029030</td>\n",
       "      <td>0.043942</td>\n",
       "      <td>0.027158</td>\n",
       "      <td>0.147831</td>\n",
       "      <td>0.019530</td>\n",
       "      <td>0.071716</td>\n",
       "    </tr>\n",
       "    <tr>\n",
       "      <th>2021-02-22</th>\n",
       "      <th>277</th>\n",
       "      <td>355001</td>\n",
       "      <td>105379</td>\n",
       "      <td>2021-0375</td>\n",
       "      <td>Montpellier</td>\n",
       "      <td>Hard</td>\n",
       "      <td>32</td>\n",
       "      <td>A</td>\n",
       "      <td>Jannik Sinner</td>\n",
       "      <td>Aljaz Bedene</td>\n",
       "      <td>5</td>\n",
       "      <td>...</td>\n",
       "      <td>0.129088</td>\n",
       "      <td>0.007168</td>\n",
       "      <td>0.086980</td>\n",
       "      <td>-0.068741</td>\n",
       "      <td>0.086411</td>\n",
       "      <td>0.096144</td>\n",
       "      <td>0.066884</td>\n",
       "      <td>0.187474</td>\n",
       "      <td>0.050454</td>\n",
       "      <td>0.172571</td>\n",
       "    </tr>\n",
       "  </tbody>\n",
       "</table>\n",
       "<p>309444 rows × 124 columns</p>\n",
       "</div>"
      ],
      "text/plain": [
       "                                     index  opponent_id tournament_id  \\\n",
       "player_id tournament_date match_id                                      \n",
       "100011    1968-02-08      4            382       100186      1968-401   \n",
       "                          8            383       100028      1968-401   \n",
       "          1968-04-28      1            384       100119     1968-D013   \n",
       "                          4            385       100035     1968-D013   \n",
       "          1968-05-27      69           386       109765      1968-520   \n",
       "...                                    ...          ...           ...   \n",
       "206173    2021-02-01      295       354997       200175     2021-8998   \n",
       "                          298       354998       111575     2021-8998   \n",
       "                          300       354999       105882     2021-8998   \n",
       "          2021-02-08      124       355000       133430      2021-580   \n",
       "          2021-02-22      277       355001       105379     2021-0375   \n",
       "\n",
       "                                                 tournament_name surface  \\\n",
       "player_id tournament_date match_id                                         \n",
       "100011    1968-02-08      4                     Philadelphia WCT  Carpet   \n",
       "                          8                     Philadelphia WCT  Carpet   \n",
       "          1968-04-28      1         Davis Cup EUR R1: ROU vs DEN    Clay   \n",
       "                          4         Davis Cup EUR R1: ROU vs DEN    Clay   \n",
       "          1968-05-27      69                       Roland Garros    Clay   \n",
       "...                                                          ...     ...   \n",
       "206173    2021-02-01      295              Great Ocean Road Open    Hard   \n",
       "                          298              Great Ocean Road Open    Hard   \n",
       "                          300              Great Ocean Road Open    Hard   \n",
       "          2021-02-08      124                    Australian Open    Hard   \n",
       "          2021-02-22      277                        Montpellier    Hard   \n",
       "\n",
       "                                    draw_size tournament_level    player_name  \\\n",
       "player_id tournament_date match_id                                              \n",
       "100011    1968-02-08      4                16                A  Torben Ulrich   \n",
       "                          8                16                A  Torben Ulrich   \n",
       "          1968-04-28      1                 4                D  Torben Ulrich   \n",
       "                          4                 4                D  Torben Ulrich   \n",
       "          1968-05-27      69              128                G  Torben Ulrich   \n",
       "...                                       ...              ...            ...   \n",
       "206173    2021-02-01      295              64                A  Jannik Sinner   \n",
       "                          298              64                A  Jannik Sinner   \n",
       "                          300              64                A  Jannik Sinner   \n",
       "          2021-02-08      124             128                G  Jannik Sinner   \n",
       "          2021-02-22      277              32                A  Jannik Sinner   \n",
       "\n",
       "                                        opponent_name player_seed  ...  \\\n",
       "player_id tournament_date match_id                                 ...   \n",
       "100011    1968-02-08      4             Jeff Borowiak         NaN  ...   \n",
       "                          8            Manuel Santana         NaN  ...   \n",
       "          1968-04-28      1              Ilie Nastase         NaN  ...   \n",
       "                          4                Ion Tiriac         NaN  ...   \n",
       "          1968-05-27      69         Marco Gilardelli         NaN  ...   \n",
       "...                                               ...         ...  ...   \n",
       "206173    2021-02-01      295       Miomir Kecmanovic           4  ...   \n",
       "                          298         Karen Khachanov           4  ...   \n",
       "                          300       Stefano Travaglia           4  ...   \n",
       "          2021-02-08      124        Denis Shapovalov         NaN  ...   \n",
       "          2021-02-22      277            Aljaz Bedene           5  ...   \n",
       "\n",
       "                                   past_year_break_points_saved_percentage  \\\n",
       "player_id tournament_date match_id                                           \n",
       "100011    1968-02-08      4                                       0.000000   \n",
       "                          8                                       0.000000   \n",
       "          1968-04-28      1                                       0.000000   \n",
       "                          4                                       0.000000   \n",
       "          1968-05-27      69                                     -0.083333   \n",
       "...                                                                    ...   \n",
       "206173    2021-02-01      295                                     0.022252   \n",
       "                          298                                     0.063303   \n",
       "                          300                                     0.091495   \n",
       "          2021-02-08      124                                    -0.002687   \n",
       "          2021-02-22      277                                     0.129088   \n",
       "\n",
       "                                   past_year_service_points_won_percentage  \\\n",
       "player_id tournament_date match_id                                           \n",
       "100011    1968-02-08      4                                       0.000000   \n",
       "                          8                                       0.000000   \n",
       "          1968-04-28      1                                       0.000000   \n",
       "                          4                                       0.000000   \n",
       "          1968-05-27      69                                      0.259503   \n",
       "...                                                                    ...   \n",
       "206173    2021-02-01      295                                     0.021810   \n",
       "                          298                                    -0.006709   \n",
       "                          300                                     0.020844   \n",
       "          2021-02-08      124                                    -0.016640   \n",
       "          2021-02-22      277                                     0.007168   \n",
       "\n",
       "                                   past_year_return_points_won_percentage  \\\n",
       "player_id tournament_date match_id                                          \n",
       "100011    1968-02-08      4                                      0.000000   \n",
       "                          8                                      0.000000   \n",
       "          1968-04-28      1                                      0.000000   \n",
       "                          4                                      0.000000   \n",
       "          1968-05-27      69                                     0.063959   \n",
       "...                                                                   ...   \n",
       "206173    2021-02-01      295                                    0.016454   \n",
       "                          298                                    0.031447   \n",
       "                          300                                    0.049602   \n",
       "          2021-02-08      124                                    0.044018   \n",
       "          2021-02-22      277                                    0.086980   \n",
       "\n",
       "                                   past_year_first_serves_won_percentage  \\\n",
       "player_id tournament_date match_id                                         \n",
       "100011    1968-02-08      4                                     0.000000   \n",
       "                          8                                     0.000000   \n",
       "          1968-04-28      1                                     0.000000   \n",
       "                          4                                     0.000000   \n",
       "          1968-05-27      69                                    0.285106   \n",
       "...                                                                  ...   \n",
       "206173    2021-02-01      295                                   0.014124   \n",
       "                          298                                  -0.001834   \n",
       "                          300                                  -0.017450   \n",
       "          2021-02-08      124                                  -0.048904   \n",
       "          2021-02-22      277                                  -0.068741   \n",
       "\n",
       "                                    past_year_second_serves_won_percentage  \\\n",
       "player_id tournament_date match_id                                           \n",
       "100011    1968-02-08      4                                       0.000000   \n",
       "                          8                                       0.000000   \n",
       "          1968-04-28      1                                       0.000000   \n",
       "                          4                                       0.000000   \n",
       "          1968-05-27      69                                      0.165775   \n",
       "...                                                                    ...   \n",
       "206173    2021-02-01      295                                     0.011024   \n",
       "                          298                                     0.005312   \n",
       "                          300                                     0.052751   \n",
       "          2021-02-08      124                                     0.029030   \n",
       "          2021-02-22      277                                     0.086411   \n",
       "\n",
       "                                   past_year_first_serve_return_points_won_percentage  \\\n",
       "player_id tournament_date match_id                                                      \n",
       "100011    1968-02-08      4                                                  0.000000   \n",
       "                          8                                                  0.000000   \n",
       "          1968-04-28      1                                                  0.000000   \n",
       "                          4                                                  0.000000   \n",
       "          1968-05-27      69                                                -0.015607   \n",
       "...                                                                               ...   \n",
       "206173    2021-02-01      295                                                0.026823   \n",
       "                          298                                                0.051919   \n",
       "                          300                                                0.053575   \n",
       "          2021-02-08      124                                                0.043942   \n",
       "          2021-02-22      277                                                0.096144   \n",
       "\n",
       "                                    past_year_second_serve_return_points_won_percentage  \\\n",
       "player_id tournament_date match_id                                                        \n",
       "100011    1968-02-08      4                                                  0.000000     \n",
       "                          8                                                  0.000000     \n",
       "          1968-04-28      1                                                  0.000000     \n",
       "                          4                                                  0.000000     \n",
       "          1968-05-27      69                                                 0.064935     \n",
       "...                                                                               ...     \n",
       "206173    2021-02-01      295                                                0.006608     \n",
       "                          298                                               -0.014429     \n",
       "                          300                                                0.019121     \n",
       "          2021-02-08      124                                                0.027158     \n",
       "          2021-02-22      277                                                0.066884     \n",
       "\n",
       "                                    past_year_break_points_won_percentage  \\\n",
       "player_id tournament_date match_id                                          \n",
       "100011    1968-02-08      4                                      0.000000   \n",
       "                          8                                      0.000000   \n",
       "          1968-04-28      1                                      0.000000   \n",
       "                          4                                      0.000000   \n",
       "          1968-05-27      69                                    -0.166667   \n",
       "...                                                                   ...   \n",
       "206173    2021-02-01      295                                    0.091130   \n",
       "                          298                                    0.080626   \n",
       "                          300                                    0.106642   \n",
       "          2021-02-08      124                                    0.147831   \n",
       "          2021-02-22      277                                    0.187474   \n",
       "\n",
       "                                    past_year_points_won_percentage   winrate  \n",
       "player_id tournament_date match_id                                             \n",
       "100011    1968-02-08      4                                0.000000  0.000000  \n",
       "                          8                                0.000000  0.000000  \n",
       "          1968-04-28      1                                0.000000  0.000000  \n",
       "                          4                                0.000000 -1.000000  \n",
       "          1968-05-27      69                               0.154284  0.000000  \n",
       "...                                                             ...       ...  \n",
       "206173    2021-02-01      295                              0.023437  0.085630  \n",
       "                          298                              0.018366  0.082317  \n",
       "                          300                              0.037196  0.198864  \n",
       "          2021-02-08      124                              0.019530  0.071716  \n",
       "          2021-02-22      277                              0.050454  0.172571  \n",
       "\n",
       "[309444 rows x 124 columns]"
      ]
     },
     "execution_count": 92,
     "metadata": {},
     "output_type": "execute_result"
    }
   ],
   "source": [
    "matches.reset_index(inplace=True)\n",
    "top_100_matches = matches[matches.player_id.isin(top_100)]\n",
    "matches.set_index('player_id', inplace=True)\n",
    "top_100_matches.reset_index(inplace=True)\n",
    "top_100_matches.set_index(['player_id', 'tournament_date', 'match_id'], inplace=True)\n",
    "top_100_matches.sort_index(inplace=True)"
   ]
  },
  {
   "cell_type": "code",
   "execution_count": 93,
   "metadata": {},
   "outputs": [],
   "source": [
    "top_100_matches.reset_index(inplace=True)\n",
    "top_100_matches.set_index(['player_id', 'opponent_id', 'tournament_date'], inplace=True)\n",
    "head_to_head.reset_index(inplace=True)\n",
    "head_to_head.set_index(['player_id', 'opponent_id', 'tournament_date'], inplace=True)"
   ]
  },
  {
   "cell_type": "code",
   "execution_count": 94,
   "metadata": {},
   "outputs": [
    {
     "name": "stderr",
     "output_type": "stream",
     "text": [
      "/usr/local/anaconda3/lib/python3.7/site-packages/ipykernel_launcher.py:1: SettingWithCopyWarning: \n",
      "A value is trying to be set on a copy of a slice from a DataFrame.\n",
      "Try using .loc[row_indexer,col_indexer] = value instead\n",
      "\n",
      "See the caveats in the documentation: https://pandas.pydata.org/pandas-docs/stable/user_guide/indexing.html#returning-a-view-versus-a-copy\n",
      "  \"\"\"Entry point for launching an IPython kernel.\n"
     ]
    }
   ],
   "source": [
    "top_100_matches['h2h'] = head_to_head"
   ]
  },
  {
   "cell_type": "code",
   "execution_count": 95,
   "metadata": {},
   "outputs": [],
   "source": [
    "top_100_matches.reset_index(inplace=True)\n",
    "top_100_matches.set_index(['player_id', 'tournament_date', 'match_id'], inplace=True)"
   ]
  },
  {
   "cell_type": "code",
   "execution_count": 96,
   "metadata": {},
   "outputs": [],
   "source": [
    "top_100_matches = top_100_matches.dropna(subset=['opponent_id'])"
   ]
  },
  {
   "cell_type": "code",
   "execution_count": 97,
   "metadata": {},
   "outputs": [],
   "source": [
    "top_100_matches['age_diff'] = (players.loc[top_100_matches.index.get_level_values(0)].birthdate.values - \n",
    " players.loc[top_100_matches.opponent_id].birthdate.values)"
   ]
  },
  {
   "cell_type": "code",
   "execution_count": 98,
   "metadata": {},
   "outputs": [],
   "source": [
    "top_100_matches['age_diff'] = top_100_matches.age_diff.dt.days"
   ]
  },
  {
   "cell_type": "code",
   "execution_count": null,
   "metadata": {},
   "outputs": [],
   "source": [
    "top_100_matches.to_csv('../Resources/tennis_clean/atp_top_100_matches.csv')"
   ]
  },
  {
   "cell_type": "code",
   "execution_count": null,
   "metadata": {},
   "outputs": [],
   "source": [
    "players.query(\"player_id == 105379\")"
   ]
  },
  {
   "cell_type": "code",
   "execution_count": null,
   "metadata": {},
   "outputs": [],
   "source": [
    "top_100_matches.query('player_name == \\'Grigor Dimitrov\\' and opponent_id == 200282')"
   ]
  }
 ],
 "metadata": {
  "kernelspec": {
   "display_name": "Python 3",
   "language": "python",
   "name": "python3"
  },
  "language_info": {
   "codemirror_mode": {
    "name": "ipython",
    "version": 3
   },
   "file_extension": ".py",
   "mimetype": "text/x-python",
   "name": "python",
   "nbconvert_exporter": "python",
   "pygments_lexer": "ipython3",
   "version": "3.7.6"
  }
 },
 "nbformat": 4,
 "nbformat_minor": 2
}
